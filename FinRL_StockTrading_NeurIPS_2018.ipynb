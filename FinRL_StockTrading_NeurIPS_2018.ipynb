{
 "cells": [
  {
   "cell_type": "markdown",
   "metadata": {
    "colab_type": "text",
    "id": "view-in-github",
    "pycharm": {
     "name": "#%% md\n"
    }
   },
   "source": [
    "\n",
    "<a href=\"https://colab.research.google.com/github/AI4Finance-Foundation/FinRL/blob/master/FinRL_StockTrading_NeurIPS_2018.ipynb\" target=\"_parent\"><img src=\"https://colab.research.google.com/assets/colab-badge.svg\" alt=\"Open In Colab\"/></a>"
   ]
  },
  {
   "cell_type": "markdown",
   "metadata": {
    "id": "gXaoZs2lh1hi",
    "pycharm": {
     "name": "#%% md\n"
    }
   },
   "source": [
    "# Deep Reinforcement Learning for Stock Trading from Scratch: Multiple Stock Trading\n",
    "\n",
    "* **Pytorch Version** \n",
    "\n"
   ]
  },
  {
   "cell_type": "markdown",
   "metadata": {
    "id": "lGunVt8oLCVS",
    "pycharm": {
     "name": "#%% md\n"
    }
   },
   "source": [
    "# Content"
   ]
  },
  {
   "cell_type": "markdown",
   "metadata": {
    "id": "HOzAKQ-SLGX6",
    "pycharm": {
     "name": "#%% md\n"
    }
   },
   "source": [
    "* [1. Problem Definition](#0)\n",
    "* [2. Getting Started - Load Python packages](#1)\n",
    "    * [2.1. Install Packages](#1.1)    \n",
    "    * [2.2. Check Additional Packages](#1.2)\n",
    "    * [2.3. Import Packages](#1.3)\n",
    "    * [2.4. Create Folders](#1.4)\n",
    "* [3. Download Data](#2)\n",
    "* [4. Preprocess Data](#3)        \n",
    "    * [4.1. Technical Indicators](#3.1)\n",
    "    * [4.2. Perform Feature Engineering](#3.2)\n",
    "* [5.Build Environment](#4)  \n",
    "    * [5.1. Training & Trade Data Split](#4.1)\n",
    "    * [5.2. User-defined Environment](#4.2)   \n",
    "    * [5.3. Initialize Environment](#4.3)    \n",
    "* [6.Implement DRL Algorithms](#5)  \n",
    "* [7.Backtesting Performance](#6)  \n",
    "    * [7.1. BackTestStats](#6.1)\n",
    "    * [7.2. BackTestPlot](#6.2)   \n",
    "    * [7.3. Baseline Stats](#6.3)   \n",
    "    * [7.3. Compare to Stock Market Index](#6.4)   \n",
    "* [RLlib Section](#7)            "
   ]
  },
  {
   "cell_type": "markdown",
   "metadata": {
    "id": "sApkDlD9LIZv",
    "pycharm": {
     "name": "#%% md\n"
    }
   },
   "source": [
    "<a id='0'></a>\n",
    "# Part 1. Problem Definition"
   ]
  },
  {
   "cell_type": "markdown",
   "metadata": {
    "id": "HjLD2TZSLKZ-",
    "pycharm": {
     "name": "#%% md\n"
    }
   },
   "source": [
    "This problem is to design an automated trading solution for single stock trading. We model the stock trading process as a Markov Decision Process (MDP). We then formulate our trading goal as a maximization problem.\n",
    "\n",
    "The algorithm is trained using Deep Reinforcement Learning (DRL) algorithms and the components of the reinforcement learning environment are:\n",
    "\n",
    "\n",
    "* Action: The action space describes the allowed actions that the agent interacts with the\n",
    "environment. Normally, a ∈ A includes three actions: a ∈ {−1, 0, 1}, where −1, 0, 1 represent\n",
    "selling, holding, and buying one stock. Also, an action can be carried upon multiple shares. We use\n",
    "an action space {−k, ..., −1, 0, 1, ..., k}, where k denotes the number of shares. For example, \"Buy\n",
    "10 shares of AAPL\" or \"Sell 10 shares of AAPL\" are 10 or −10, respectively\n",
    "\n",
    "* Reward function: r(s, a, s′) is the incentive mechanism for an agent to learn a better action. The change of the portfolio value when action a is taken at state s and arriving at new state s',  i.e., r(s, a, s′) = v′ − v, where v′ and v represent the portfolio\n",
    "values at state s′ and s, respectively\n",
    "\n",
    "* State: The state space describes the observations that the agent receives from the environment. Just as a human trader needs to analyze various information before executing a trade, so\n",
    "our trading agent observes many different features to better learn in an interactive environment.\n",
    "\n",
    "* Environment: Dow 30 consituents\n",
    "\n",
    "\n",
    "The data of the single stock that we will be using for this case study is obtained from Yahoo Finance API. The data contains Open-High-Low-Close price and volume.\n"
   ]
  },
  {
   "cell_type": "markdown",
   "metadata": {
    "id": "Ffsre789LY08",
    "pycharm": {
     "name": "#%% md\n"
    }
   },
   "source": [
    "<a id='1'></a>\n",
    "# Part 2. Getting Started- Load Python Packages"
   ]
  },
  {
   "cell_type": "markdown",
   "metadata": {
    "id": "Uy5_PTmOh1hj",
    "pycharm": {
     "name": "#%% md\n"
    }
   },
   "source": [
    "<a id='1.1'></a>\n",
    "## 2.1. Install all the packages through FinRL library\n"
   ]
  },
  {
   "cell_type": "code",
   "execution_count": 1,
   "outputs": [],
   "source": [
    "#!python -m pip install --upgrade pip"
   ],
   "metadata": {
    "collapsed": false,
    "pycharm": {
     "name": "#%%\n"
    }
   }
  },
  {
   "cell_type": "code",
   "execution_count": 2,
   "outputs": [],
   "source": [
    "## install finrl library\n",
    "#!pip install git+https://github.com/AI4Finance-Foundation/FinRL-Library.git\n",
    "#!pip install git+https://github.com/AI4Finance-Foundation/FinRL.git"
   ],
   "metadata": {
    "collapsed": false,
    "pycharm": {
     "name": "#%%\n"
    }
   }
  },
  {
   "cell_type": "code",
   "execution_count": 3,
   "metadata": {
    "id": "w9A8CN5R5PuZ",
    "pycharm": {
     "name": "#%%\n"
    }
   },
   "outputs": [],
   "source": [
    "from finrl import config\n",
    "from finrl import config_tickers\n",
    "import os\n",
    "if not os.path.exists(\"./\" + config.DATA_SAVE_DIR):\n",
    "    os.makedirs(\"./\" + config.DATA_SAVE_DIR)\n",
    "if not os.path.exists(\"./\" + config.TRAINED_MODEL_DIR):\n",
    "    os.makedirs(\"./\" + config.TRAINED_MODEL_DIR)\n",
    "if not os.path.exists(\"./\" + config.TENSORBOARD_LOG_DIR):\n",
    "    os.makedirs(\"./\" + config.TENSORBOARD_LOG_DIR)\n",
    "if not os.path.exists(\"./\" + config.RESULTS_DIR):\n",
    "    os.makedirs(\"./\" + config.RESULTS_DIR)"
   ]
  },
  {
   "cell_type": "markdown",
   "metadata": {
    "id": "osBHhVysOEzi",
    "pycharm": {
     "name": "#%% md\n"
    }
   },
   "source": [
    "\n",
    "<a id='1.2'></a>\n",
    "## 2.2. Check if the additional packages needed are present, if not install them. \n",
    "* Yahoo Finance API\n",
    "* pandas\n",
    "* numpy\n",
    "* matplotlib\n",
    "* stockstats\n",
    "* OpenAI gym\n",
    "* stable-baselines\n",
    "* tensorflow\n",
    "* pyfolio"
   ]
  },
  {
   "cell_type": "markdown",
   "metadata": {
    "id": "nGv01K8Sh1hn",
    "pycharm": {
     "name": "#%% md\n"
    }
   },
   "source": [
    "<a id='1.3'></a>\n",
    "## 2.3. Import Packages"
   ]
  },
  {
   "cell_type": "code",
   "execution_count": 4,
   "metadata": {
    "colab": {
     "base_uri": "https://localhost:8080/"
    },
    "id": "lPqeTTwoh1hn",
    "outputId": "10b08480-3a0c-4826-8e51-f94ce97ab84a",
    "pycharm": {
     "name": "#%%\n"
    }
   },
   "outputs": [
    {
     "name": "stderr",
     "output_type": "stream",
     "text": [
      "C:\\Users\\shank\\github.com\\shankar-roy\\venv\\lib\\site-packages\\pyfolio\\pos.py:26: UserWarning: Module \"zipline.assets\" not found; multipliers will not be applied to position notionals.\n",
      "  warnings.warn(\n"
     ]
    }
   ],
   "source": [
    "import pandas as pd\n",
    "import numpy as np\n",
    "import matplotlib\n",
    "import matplotlib.pyplot as plt\n",
    "# matplotlib.use('Agg')\n",
    "import datetime\n",
    "\n",
    "%matplotlib inline\n",
    "from finrl.finrl_meta.preprocessor.yahoodownloader import YahooDownloader\n",
    "from finrl.finrl_meta.preprocessor.preprocessors import FeatureEngineer, data_split\n",
    "from finrl.finrl_meta.env_stock_trading.env_stocktrading import StockTradingEnv\n",
    "from finrl.agents.stablebaselines3.models import DRLAgent\n",
    "from finrl.finrl_meta.data_processor import DataProcessor\n",
    "\n",
    "from finrl.plot import backtest_stats, backtest_plot, get_daily_return, get_baseline\n",
    "from pprint import pprint\n",
    "\n",
    "import sys\n",
    "sys.path.append(\"../FinRL-Library\")\n",
    "\n",
    "import itertools"
   ]
  },
  {
   "cell_type": "markdown",
   "metadata": {
    "id": "T2owTj985RW4",
    "pycharm": {
     "name": "#%% md\n"
    }
   },
   "source": [
    "<a id='1.4'></a>\n",
    "## 2.4. Create Folders"
   ]
  },
  {
   "cell_type": "code",
   "execution_count": 5,
   "outputs": [],
   "source": [
    "from finrl.config import (\n",
    "    DATA_SAVE_DIR,\n",
    "    TRAINED_MODEL_DIR,\n",
    "    TENSORBOARD_LOG_DIR,\n",
    "    RESULTS_DIR,\n",
    ")\n",
    "\n",
    "directories = [DATA_SAVE_DIR, TRAINED_MODEL_DIR, TENSORBOARD_LOG_DIR, RESULTS_DIR]\n",
    "# \"./\" will be added in front of each directory\n",
    "for directory in directories:\n",
    "    if not os.path.exists(\"./\" + directory):\n",
    "        os.makedirs(\"./\" + directory)"
   ],
   "metadata": {
    "collapsed": false,
    "pycharm": {
     "name": "#%%\n"
    }
   }
  },
  {
   "cell_type": "markdown",
   "metadata": {
    "id": "A289rQWMh1hq",
    "pycharm": {
     "name": "#%% md\n"
    }
   },
   "source": [
    "<a id='2'></a>\n",
    "# Part 3. Download Data\n",
    "Yahoo Finance is a website that provides stock data, financial news, financial reports, etc. All the data provided by Yahoo Finance is free.\n",
    "* FinRL uses a class **YahooDownloader** to fetch data from Yahoo Finance API\n",
    "* Call Limit: Using the Public API (without authentication), you are limited to 2,000 requests per hour per IP (or up to a total of 48,000 requests a day).\n"
   ]
  },
  {
   "cell_type": "markdown",
   "metadata": {
    "id": "NPeQ7iS-LoMm",
    "pycharm": {
     "name": "#%% md\n"
    }
   },
   "source": [
    "\n",
    "\n",
    "-----\n",
    "class YahooDownloader:\n",
    "    Provides methods for retrieving daily stock data from\n",
    "    Yahoo Finance API\n",
    "\n",
    "    Attributes\n",
    "    ----------\n",
    "        start_date : str\n",
    "            start date of the data (modified from config.py)\n",
    "        end_date : str\n",
    "            end date of the data (modified from config.py)\n",
    "        ticker_list : list\n",
    "            a list of stock tickers (modified from config.py)\n",
    "\n",
    "    Methods\n",
    "    -------\n",
    "    fetch_data()\n",
    "        Fetches data from yahoo API\n"
   ]
  },
  {
   "cell_type": "code",
   "execution_count": 6,
   "metadata": {
    "colab": {
     "base_uri": "https://localhost:8080/",
     "height": 35
    },
    "id": "h3XJnvrbLp-C",
    "outputId": "5302d7c0-1c68-4c6e-b30e-b1395bdc109e",
    "pycharm": {
     "name": "#%%\n"
    }
   },
   "outputs": [
    {
     "data": {
      "text/plain": "'2014-01-01'"
     },
     "execution_count": 6,
     "metadata": {},
     "output_type": "execute_result"
    }
   ],
   "source": [
    "# from config.py TRAIN_START_DATE is a string\n",
    "config.TRAIN_START_DATE"
   ]
  },
  {
   "cell_type": "code",
   "execution_count": 7,
   "metadata": {
    "colab": {
     "base_uri": "https://localhost:8080/",
     "height": 35
    },
    "id": "FUnY8WEfLq3C",
    "outputId": "35dd8c5b-d58f-49b8-e4df-ae7e122448cd",
    "pycharm": {
     "name": "#%%\n"
    }
   },
   "outputs": [
    {
     "data": {
      "text/plain": "'2020-07-31'"
     },
     "execution_count": 7,
     "metadata": {},
     "output_type": "execute_result"
    }
   ],
   "source": [
    "# from config.py TRAIN_END_DATE is a string\n",
    "config.TRAIN_END_DATE"
   ]
  },
  {
   "cell_type": "code",
   "execution_count": 8,
   "metadata": {
    "colab": {
     "base_uri": "https://localhost:8080/"
    },
    "id": "yCKm4om-s9kE",
    "outputId": "83c7f894-3757-473b-8afb-a904e6caabda",
    "pycharm": {
     "name": "#%%\n"
    }
   },
   "outputs": [
    {
     "name": "stdout",
     "output_type": "stream",
     "text": [
      "[*********************100%***********************]  1 of 1 completed\n",
      "[*********************100%***********************]  1 of 1 completed\n",
      "[*********************100%***********************]  1 of 1 completed\n",
      "[*********************100%***********************]  1 of 1 completed\n",
      "[*********************100%***********************]  1 of 1 completed\n",
      "[*********************100%***********************]  1 of 1 completed\n",
      "[*********************100%***********************]  1 of 1 completed\n",
      "[*********************100%***********************]  1 of 1 completed\n",
      "[*********************100%***********************]  1 of 1 completed\n",
      "[*********************100%***********************]  1 of 1 completed\n",
      "[*********************100%***********************]  1 of 1 completed\n",
      "[*********************100%***********************]  1 of 1 completed\n",
      "[*********************100%***********************]  1 of 1 completed\n",
      "[*********************100%***********************]  1 of 1 completed\n",
      "[*********************100%***********************]  1 of 1 completed\n",
      "[*********************100%***********************]  1 of 1 completed\n",
      "[*********************100%***********************]  1 of 1 completed\n",
      "[*********************100%***********************]  1 of 1 completed\n",
      "[*********************100%***********************]  1 of 1 completed\n",
      "[*********************100%***********************]  1 of 1 completed\n",
      "[*********************100%***********************]  1 of 1 completed\n",
      "[*********************100%***********************]  1 of 1 completed\n",
      "[*********************100%***********************]  1 of 1 completed\n",
      "[*********************100%***********************]  1 of 1 completed\n",
      "[*********************100%***********************]  1 of 1 completed\n",
      "[*********************100%***********************]  1 of 1 completed\n",
      "[*********************100%***********************]  1 of 1 completed\n",
      "[*********************100%***********************]  1 of 1 completed\n",
      "[*********************100%***********************]  1 of 1 completed\n",
      "[*********************100%***********************]  1 of 1 completed\n",
      "Shape of DataFrame:  (63159, 8)\n"
     ]
    }
   ],
   "source": [
    "df = YahooDownloader(start_date = '2014-01-01',\n",
    "                     end_date = '2022-07-16',\n",
    "                     ticker_list = config_tickers.DOW_30_TICKER).fetch_data()"
   ]
  },
  {
   "cell_type": "markdown",
   "source": [
    "print(config_tickers.DOW_30_TICKER)"
   ],
   "metadata": {
    "collapsed": false,
    "pycharm": {
     "name": "#%% md\n"
    }
   }
  },
  {
   "cell_type": "code",
   "execution_count": 60,
   "outputs": [
    {
     "data": {
      "text/plain": "['AXP',\n 'AMGN',\n 'AAPL',\n 'BA',\n 'CAT',\n 'CSCO',\n 'CVX',\n 'GS',\n 'HD',\n 'HON',\n 'IBM',\n 'INTC',\n 'JNJ',\n 'KO',\n 'JPM',\n 'MCD',\n 'MMM',\n 'MRK',\n 'MSFT',\n 'NKE',\n 'PG',\n 'TRV',\n 'UNH',\n 'CRM',\n 'VZ',\n 'V',\n 'WBA',\n 'WMT',\n 'DIS',\n 'DOW']"
     },
     "execution_count": 60,
     "metadata": {},
     "output_type": "execute_result"
    }
   ],
   "source": [
    "config_tickers.DOW_30_TICKER"
   ],
   "metadata": {
    "collapsed": false,
    "pycharm": {
     "name": "#%%\n"
    }
   }
  },
  {
   "cell_type": "code",
   "execution_count": 9,
   "metadata": {
    "colab": {
     "base_uri": "https://localhost:8080/"
    },
    "id": "CV3HrZHLh1hy",
    "outputId": "5267773c-399c-4ec9-d4d5-13ab1e4cced0",
    "pycharm": {
     "name": "#%%\n"
    }
   },
   "outputs": [
    {
     "data": {
      "text/plain": "date       object\nopen      float64\nhigh      float64\nlow       float64\nclose     float64\nvolume      int64\ntic        object\nday         int64\ndtype: object"
     },
     "execution_count": 9,
     "metadata": {},
     "output_type": "execute_result"
    }
   ],
   "source": [
    "df.dtypes"
   ]
  },
  {
   "cell_type": "code",
   "execution_count": 10,
   "outputs": [
    {
     "data": {
      "text/plain": "(63159, 8)"
     },
     "execution_count": 10,
     "metadata": {},
     "output_type": "execute_result"
    }
   ],
   "source": [
    "df.shape"
   ],
   "metadata": {
    "collapsed": false,
    "pycharm": {
     "name": "#%%\n"
    }
   }
  },
  {
   "cell_type": "code",
   "execution_count": 61,
   "metadata": {
    "colab": {
     "base_uri": "https://localhost:8080/",
     "height": 206
    },
    "id": "4hYkeaPiICHS",
    "outputId": "210fade5-e912-40df-be99-4ad00bdb9d2f",
    "pycharm": {
     "name": "#%%\n"
    }
   },
   "outputs": [
    {
     "data": {
      "text/plain": "          date        open        high         low       close     volume  \\\n0   2014-01-02   19.845715   19.893929   19.715000   17.468651  234684800   \n1   2014-01-02  114.360001  116.190002  114.059998   92.386444    2528800   \n2   2014-01-02   90.900002   91.080002   89.379997   78.765556    5112000   \n3   2014-01-02  136.009995  137.250000  135.509995  116.807930    3366700   \n4   2014-01-02   90.410004   90.449997   89.330002   70.465065    4898000   \n5   2014-01-02   55.200001   55.209999   54.410000   54.860001    2730200   \n6   2014-01-02   22.170000   22.290001   21.910000   16.872833   44377000   \n7   2014-01-02  124.459999  124.879997  123.709999   86.226318    4540300   \n8   2014-01-02   76.040001   76.500000   75.900002   70.192528    5200900   \n9   2014-01-02  176.949997  178.380005  176.360001  153.568451    1982100   \n10  2014-01-02   82.110001   82.570000   81.800003   67.782448    4253400   \n11  2014-01-02   86.718491   86.890099   85.850929   72.377060    1829511   \n12  2014-01-02  178.977051  179.158707  177.055450  125.379807    4755639   \n13  2014-01-02   25.780001   25.820000   25.469999   20.361408   31833300   \n14  2014-01-02   91.139999   91.730003   91.010002   72.387566    5919600   \n15  2014-01-02   58.310001   58.500000   57.970001   46.048397   15627600   \n16  2014-01-02   41.119999   41.230000   40.509998   30.976265   12698600   \n17  2014-01-02   96.809998   97.029999   96.260002   76.539169    2925800   \n18  2014-01-02  138.050003  139.000000  137.610001  107.963142    3052100   \n19  2014-01-02   47.595421   47.748093   47.041985   36.197914    8265052   \n20  2014-01-02   37.349998   37.400002   37.099998   31.724436   30632200   \n21  2014-01-02   39.075001   39.415001   38.965000   35.706165    5318600   \n22  2014-01-02   81.330002   81.360001   80.320000   62.786091    6981700   \n23  2014-01-02   90.510002   90.660004   88.970001   73.328735    1543900   \n24  2014-01-02   74.910004   75.290001   74.510002   65.368134    3067000   \n25  2014-01-02   55.384998   55.507500   54.875000   52.140312   10654000   \n26  2014-01-02   49.080002   49.230000   48.950001   33.028847    9270200   \n27  2014-01-02   57.200001   57.250000   56.520000   44.919399    5370600   \n28  2014-01-02   78.720001   79.470001   78.500000   65.278633    6878000   \n29  2014-01-03   19.745001   19.775000   19.301071   17.084938  392467600   \n\n     tic  day  \n0   AAPL    3  \n1   AMGN    3  \n2    AXP    3  \n3     BA    3  \n4    CAT    3  \n5    CRM    3  \n6   CSCO    3  \n7    CVX    3  \n8    DIS    3  \n9     GS    3  \n10    HD    3  \n11   HON    3  \n12   IBM    3  \n13  INTC    3  \n14   JNJ    3  \n15   JPM    3  \n16    KO    3  \n17   MCD    3  \n18   MMM    3  \n19   MRK    3  \n20  MSFT    3  \n21   NKE    3  \n22    PG    3  \n23   TRV    3  \n24   UNH    3  \n25     V    3  \n26    VZ    3  \n27   WBA    3  \n28   WMT    3  \n29  AAPL    4  ",
      "text/html": "<div>\n<style scoped>\n    .dataframe tbody tr th:only-of-type {\n        vertical-align: middle;\n    }\n\n    .dataframe tbody tr th {\n        vertical-align: top;\n    }\n\n    .dataframe thead th {\n        text-align: right;\n    }\n</style>\n<table border=\"1\" class=\"dataframe\">\n  <thead>\n    <tr style=\"text-align: right;\">\n      <th></th>\n      <th>date</th>\n      <th>open</th>\n      <th>high</th>\n      <th>low</th>\n      <th>close</th>\n      <th>volume</th>\n      <th>tic</th>\n      <th>day</th>\n    </tr>\n  </thead>\n  <tbody>\n    <tr>\n      <th>0</th>\n      <td>2014-01-02</td>\n      <td>19.845715</td>\n      <td>19.893929</td>\n      <td>19.715000</td>\n      <td>17.468651</td>\n      <td>234684800</td>\n      <td>AAPL</td>\n      <td>3</td>\n    </tr>\n    <tr>\n      <th>1</th>\n      <td>2014-01-02</td>\n      <td>114.360001</td>\n      <td>116.190002</td>\n      <td>114.059998</td>\n      <td>92.386444</td>\n      <td>2528800</td>\n      <td>AMGN</td>\n      <td>3</td>\n    </tr>\n    <tr>\n      <th>2</th>\n      <td>2014-01-02</td>\n      <td>90.900002</td>\n      <td>91.080002</td>\n      <td>89.379997</td>\n      <td>78.765556</td>\n      <td>5112000</td>\n      <td>AXP</td>\n      <td>3</td>\n    </tr>\n    <tr>\n      <th>3</th>\n      <td>2014-01-02</td>\n      <td>136.009995</td>\n      <td>137.250000</td>\n      <td>135.509995</td>\n      <td>116.807930</td>\n      <td>3366700</td>\n      <td>BA</td>\n      <td>3</td>\n    </tr>\n    <tr>\n      <th>4</th>\n      <td>2014-01-02</td>\n      <td>90.410004</td>\n      <td>90.449997</td>\n      <td>89.330002</td>\n      <td>70.465065</td>\n      <td>4898000</td>\n      <td>CAT</td>\n      <td>3</td>\n    </tr>\n    <tr>\n      <th>5</th>\n      <td>2014-01-02</td>\n      <td>55.200001</td>\n      <td>55.209999</td>\n      <td>54.410000</td>\n      <td>54.860001</td>\n      <td>2730200</td>\n      <td>CRM</td>\n      <td>3</td>\n    </tr>\n    <tr>\n      <th>6</th>\n      <td>2014-01-02</td>\n      <td>22.170000</td>\n      <td>22.290001</td>\n      <td>21.910000</td>\n      <td>16.872833</td>\n      <td>44377000</td>\n      <td>CSCO</td>\n      <td>3</td>\n    </tr>\n    <tr>\n      <th>7</th>\n      <td>2014-01-02</td>\n      <td>124.459999</td>\n      <td>124.879997</td>\n      <td>123.709999</td>\n      <td>86.226318</td>\n      <td>4540300</td>\n      <td>CVX</td>\n      <td>3</td>\n    </tr>\n    <tr>\n      <th>8</th>\n      <td>2014-01-02</td>\n      <td>76.040001</td>\n      <td>76.500000</td>\n      <td>75.900002</td>\n      <td>70.192528</td>\n      <td>5200900</td>\n      <td>DIS</td>\n      <td>3</td>\n    </tr>\n    <tr>\n      <th>9</th>\n      <td>2014-01-02</td>\n      <td>176.949997</td>\n      <td>178.380005</td>\n      <td>176.360001</td>\n      <td>153.568451</td>\n      <td>1982100</td>\n      <td>GS</td>\n      <td>3</td>\n    </tr>\n    <tr>\n      <th>10</th>\n      <td>2014-01-02</td>\n      <td>82.110001</td>\n      <td>82.570000</td>\n      <td>81.800003</td>\n      <td>67.782448</td>\n      <td>4253400</td>\n      <td>HD</td>\n      <td>3</td>\n    </tr>\n    <tr>\n      <th>11</th>\n      <td>2014-01-02</td>\n      <td>86.718491</td>\n      <td>86.890099</td>\n      <td>85.850929</td>\n      <td>72.377060</td>\n      <td>1829511</td>\n      <td>HON</td>\n      <td>3</td>\n    </tr>\n    <tr>\n      <th>12</th>\n      <td>2014-01-02</td>\n      <td>178.977051</td>\n      <td>179.158707</td>\n      <td>177.055450</td>\n      <td>125.379807</td>\n      <td>4755639</td>\n      <td>IBM</td>\n      <td>3</td>\n    </tr>\n    <tr>\n      <th>13</th>\n      <td>2014-01-02</td>\n      <td>25.780001</td>\n      <td>25.820000</td>\n      <td>25.469999</td>\n      <td>20.361408</td>\n      <td>31833300</td>\n      <td>INTC</td>\n      <td>3</td>\n    </tr>\n    <tr>\n      <th>14</th>\n      <td>2014-01-02</td>\n      <td>91.139999</td>\n      <td>91.730003</td>\n      <td>91.010002</td>\n      <td>72.387566</td>\n      <td>5919600</td>\n      <td>JNJ</td>\n      <td>3</td>\n    </tr>\n    <tr>\n      <th>15</th>\n      <td>2014-01-02</td>\n      <td>58.310001</td>\n      <td>58.500000</td>\n      <td>57.970001</td>\n      <td>46.048397</td>\n      <td>15627600</td>\n      <td>JPM</td>\n      <td>3</td>\n    </tr>\n    <tr>\n      <th>16</th>\n      <td>2014-01-02</td>\n      <td>41.119999</td>\n      <td>41.230000</td>\n      <td>40.509998</td>\n      <td>30.976265</td>\n      <td>12698600</td>\n      <td>KO</td>\n      <td>3</td>\n    </tr>\n    <tr>\n      <th>17</th>\n      <td>2014-01-02</td>\n      <td>96.809998</td>\n      <td>97.029999</td>\n      <td>96.260002</td>\n      <td>76.539169</td>\n      <td>2925800</td>\n      <td>MCD</td>\n      <td>3</td>\n    </tr>\n    <tr>\n      <th>18</th>\n      <td>2014-01-02</td>\n      <td>138.050003</td>\n      <td>139.000000</td>\n      <td>137.610001</td>\n      <td>107.963142</td>\n      <td>3052100</td>\n      <td>MMM</td>\n      <td>3</td>\n    </tr>\n    <tr>\n      <th>19</th>\n      <td>2014-01-02</td>\n      <td>47.595421</td>\n      <td>47.748093</td>\n      <td>47.041985</td>\n      <td>36.197914</td>\n      <td>8265052</td>\n      <td>MRK</td>\n      <td>3</td>\n    </tr>\n    <tr>\n      <th>20</th>\n      <td>2014-01-02</td>\n      <td>37.349998</td>\n      <td>37.400002</td>\n      <td>37.099998</td>\n      <td>31.724436</td>\n      <td>30632200</td>\n      <td>MSFT</td>\n      <td>3</td>\n    </tr>\n    <tr>\n      <th>21</th>\n      <td>2014-01-02</td>\n      <td>39.075001</td>\n      <td>39.415001</td>\n      <td>38.965000</td>\n      <td>35.706165</td>\n      <td>5318600</td>\n      <td>NKE</td>\n      <td>3</td>\n    </tr>\n    <tr>\n      <th>22</th>\n      <td>2014-01-02</td>\n      <td>81.330002</td>\n      <td>81.360001</td>\n      <td>80.320000</td>\n      <td>62.786091</td>\n      <td>6981700</td>\n      <td>PG</td>\n      <td>3</td>\n    </tr>\n    <tr>\n      <th>23</th>\n      <td>2014-01-02</td>\n      <td>90.510002</td>\n      <td>90.660004</td>\n      <td>88.970001</td>\n      <td>73.328735</td>\n      <td>1543900</td>\n      <td>TRV</td>\n      <td>3</td>\n    </tr>\n    <tr>\n      <th>24</th>\n      <td>2014-01-02</td>\n      <td>74.910004</td>\n      <td>75.290001</td>\n      <td>74.510002</td>\n      <td>65.368134</td>\n      <td>3067000</td>\n      <td>UNH</td>\n      <td>3</td>\n    </tr>\n    <tr>\n      <th>25</th>\n      <td>2014-01-02</td>\n      <td>55.384998</td>\n      <td>55.507500</td>\n      <td>54.875000</td>\n      <td>52.140312</td>\n      <td>10654000</td>\n      <td>V</td>\n      <td>3</td>\n    </tr>\n    <tr>\n      <th>26</th>\n      <td>2014-01-02</td>\n      <td>49.080002</td>\n      <td>49.230000</td>\n      <td>48.950001</td>\n      <td>33.028847</td>\n      <td>9270200</td>\n      <td>VZ</td>\n      <td>3</td>\n    </tr>\n    <tr>\n      <th>27</th>\n      <td>2014-01-02</td>\n      <td>57.200001</td>\n      <td>57.250000</td>\n      <td>56.520000</td>\n      <td>44.919399</td>\n      <td>5370600</td>\n      <td>WBA</td>\n      <td>3</td>\n    </tr>\n    <tr>\n      <th>28</th>\n      <td>2014-01-02</td>\n      <td>78.720001</td>\n      <td>79.470001</td>\n      <td>78.500000</td>\n      <td>65.278633</td>\n      <td>6878000</td>\n      <td>WMT</td>\n      <td>3</td>\n    </tr>\n    <tr>\n      <th>29</th>\n      <td>2014-01-03</td>\n      <td>19.745001</td>\n      <td>19.775000</td>\n      <td>19.301071</td>\n      <td>17.084938</td>\n      <td>392467600</td>\n      <td>AAPL</td>\n      <td>4</td>\n    </tr>\n  </tbody>\n</table>\n</div>"
     },
     "execution_count": 61,
     "metadata": {},
     "output_type": "execute_result"
    }
   ],
   "source": [
    "df.sort_values(['date','tic'],ignore_index=True).head(30)"
   ]
  },
  {
   "cell_type": "markdown",
   "metadata": {
    "id": "uqC6c40Zh1iH",
    "pycharm": {
     "name": "#%% md\n"
    }
   },
   "source": [
    "# Part 4: Preprocess Data\n",
    "Data preprocessing is a crucial step for training a high quality machine learning model. We need to check for missing data and do feature engineering in order to convert the data into a model-ready state.\n",
    "* Add technical indicators. In practical trading, various information needs to be taken into account, for example the historical stock prices, current holding shares, technical indicators, etc. In this article, we demonstrate two trend-following technical indicators: MACD and RSI.\n",
    "* Add turbulence index. Risk-aversion reflects whether an investor will choose to preserve the capital. It also influences one's trading strategy when facing different market volatility level. To control the risk in a worst-case scenario, such as financial crisis of 2007–2008, FinRL employs the financial turbulence index that measures extreme asset price fluctuation."
   ]
  },
  {
   "cell_type": "code",
   "execution_count": 12,
   "metadata": {
    "colab": {
     "base_uri": "https://localhost:8080/"
    },
    "id": "PmKP-1ii3RLS",
    "outputId": "0708badb-77ef-4c86-f77c-6525f0e8934d",
    "pycharm": {
     "name": "#%%\n"
    }
   },
   "outputs": [
    {
     "name": "stdout",
     "output_type": "stream",
     "text": [
      "Successfully added technical indicators\n",
      "[*********************100%***********************]  1 of 1 completed\n",
      "Shape of DataFrame:  (2148, 8)\n",
      "Successfully added vix\n",
      "Successfully added turbulence index\n"
     ]
    }
   ],
   "source": [
    "fe = FeatureEngineer(\n",
    "                    use_technical_indicator=True,\n",
    "                    tech_indicator_list = config.INDICATORS,\n",
    "                    use_vix=True,\n",
    "                    use_turbulence=True,\n",
    "                    user_defined_feature = False)\n",
    "\n",
    "processed = fe.preprocess_data(df)"
   ]
  },
  {
   "cell_type": "code",
   "execution_count": 62,
   "outputs": [
    {
     "data": {
      "text/plain": "(62292, 18)"
     },
     "execution_count": 62,
     "metadata": {},
     "output_type": "execute_result"
    }
   ],
   "source": [
    "processed.shape"
   ],
   "metadata": {
    "collapsed": false,
    "pycharm": {
     "name": "#%%\n"
    }
   }
  },
  {
   "cell_type": "code",
   "execution_count": 63,
   "outputs": [
    {
     "data": {
      "text/plain": "          date        open        high         low       close     volume  \\\n0   2014-01-02   19.845715   19.893929   19.715000   17.468651  234684800   \n1   2014-01-02  114.360001  116.190002  114.059998   92.386444    2528800   \n2   2014-01-02   90.900002   91.080002   89.379997   78.765556    5112000   \n3   2014-01-02  136.009995  137.250000  135.509995  116.807930    3366700   \n4   2014-01-02   90.410004   90.449997   89.330002   70.465065    4898000   \n5   2014-01-02   55.200001   55.209999   54.410000   54.860001    2730200   \n6   2014-01-02   22.170000   22.290001   21.910000   16.872833   44377000   \n7   2014-01-02  124.459999  124.879997  123.709999   86.226318    4540300   \n8   2014-01-02   76.040001   76.500000   75.900002   70.192528    5200900   \n9   2014-01-02  176.949997  178.380005  176.360001  153.568451    1982100   \n10  2014-01-02   82.110001   82.570000   81.800003   67.782448    4253400   \n11  2014-01-02   86.718491   86.890099   85.850929   72.377060    1829511   \n12  2014-01-02  178.977051  179.158707  177.055450  125.379807    4755639   \n13  2014-01-02   25.780001   25.820000   25.469999   20.361408   31833300   \n14  2014-01-02   91.139999   91.730003   91.010002   72.387566    5919600   \n15  2014-01-02   58.310001   58.500000   57.970001   46.048397   15627600   \n16  2014-01-02   41.119999   41.230000   40.509998   30.976265   12698600   \n17  2014-01-02   96.809998   97.029999   96.260002   76.539169    2925800   \n18  2014-01-02  138.050003  139.000000  137.610001  107.963142    3052100   \n19  2014-01-02   47.595421   47.748093   47.041985   36.197914    8265052   \n20  2014-01-02   37.349998   37.400002   37.099998   31.724436   30632200   \n21  2014-01-02   39.075001   39.415001   38.965000   35.706165    5318600   \n22  2014-01-02   81.330002   81.360001   80.320000   62.786091    6981700   \n23  2014-01-02   90.510002   90.660004   88.970001   73.328735    1543900   \n24  2014-01-02   74.910004   75.290001   74.510002   65.368134    3067000   \n25  2014-01-02   55.384998   55.507500   54.875000   52.140312   10654000   \n26  2014-01-02   49.080002   49.230000   48.950001   33.028847    9270200   \n27  2014-01-02   57.200001   57.250000   56.520000   44.919399    5370600   \n28  2014-01-02   78.720001   79.470001   78.500000   65.278633    6878000   \n29  2014-01-03   19.745001   19.775000   19.301071   17.084938  392467600   \n\n     tic  day      macd    boll_ub    boll_lb  rsi_30     cci_30  dx_30  \\\n0   AAPL    3  0.000000  17.819446  16.734143     0.0 -66.666667  100.0   \n1   AMGN    3  0.000000  17.819446  16.734143     0.0 -66.666667  100.0   \n2    AXP    3  0.000000  17.819446  16.734143     0.0 -66.666667  100.0   \n3     BA    3  0.000000  17.819446  16.734143     0.0 -66.666667  100.0   \n4    CAT    3  0.000000  17.819446  16.734143     0.0 -66.666667  100.0   \n5    CRM    3  0.000000  17.819446  16.734143     0.0 -66.666667  100.0   \n6   CSCO    3  0.000000  17.819446  16.734143     0.0 -66.666667  100.0   \n7    CVX    3  0.000000  17.819446  16.734143     0.0 -66.666667  100.0   \n8    DIS    3  0.000000  17.819446  16.734143     0.0 -66.666667  100.0   \n9     GS    3  0.000000  17.819446  16.734143     0.0 -66.666667  100.0   \n10    HD    3  0.000000  17.819446  16.734143     0.0 -66.666667  100.0   \n11   HON    3  0.000000  17.819446  16.734143     0.0 -66.666667  100.0   \n12   IBM    3  0.000000  17.819446  16.734143     0.0 -66.666667  100.0   \n13  INTC    3  0.000000  17.819446  16.734143     0.0 -66.666667  100.0   \n14   JNJ    3  0.000000  17.819446  16.734143     0.0 -66.666667  100.0   \n15   JPM    3  0.000000  17.819446  16.734143     0.0 -66.666667  100.0   \n16    KO    3  0.000000  17.819446  16.734143     0.0 -66.666667  100.0   \n17   MCD    3  0.000000  17.819446  16.734143     0.0 -66.666667  100.0   \n18   MMM    3  0.000000  17.819446  16.734143     0.0 -66.666667  100.0   \n19   MRK    3  0.000000  17.819446  16.734143     0.0 -66.666667  100.0   \n20  MSFT    3  0.000000  17.819446  16.734143     0.0 -66.666667  100.0   \n21   NKE    3  0.000000  17.819446  16.734143     0.0 -66.666667  100.0   \n22    PG    3  0.000000  17.819446  16.734143     0.0 -66.666667  100.0   \n23   TRV    3  0.000000  17.819446  16.734143     0.0 -66.666667  100.0   \n24   UNH    3  0.000000  17.819446  16.734143     0.0 -66.666667  100.0   \n25     V    3  0.000000  17.819446  16.734143     0.0 -66.666667  100.0   \n26    VZ    3  0.000000  17.819446  16.734143     0.0 -66.666667  100.0   \n27   WBA    3  0.000000  17.819446  16.734143     0.0 -66.666667  100.0   \n28   WMT    3  0.000000  17.819446  16.734143     0.0 -66.666667  100.0   \n29  AAPL    4 -0.008609  17.819446  16.734143     0.0 -66.666667  100.0   \n\n    close_30_sma  close_60_sma    vix  turbulence  \n0      17.468651     17.468651  14.23         0.0  \n1      92.386444     92.386444  14.23         0.0  \n2      78.765556     78.765556  14.23         0.0  \n3     116.807930    116.807930  14.23         0.0  \n4      70.465065     70.465065  14.23         0.0  \n5      54.860001     54.860001  14.23         0.0  \n6      16.872833     16.872833  14.23         0.0  \n7      86.226318     86.226318  14.23         0.0  \n8      70.192528     70.192528  14.23         0.0  \n9     153.568451    153.568451  14.23         0.0  \n10     67.782448     67.782448  14.23         0.0  \n11     72.377060     72.377060  14.23         0.0  \n12    125.379807    125.379807  14.23         0.0  \n13     20.361408     20.361408  14.23         0.0  \n14     72.387566     72.387566  14.23         0.0  \n15     46.048397     46.048397  14.23         0.0  \n16     30.976265     30.976265  14.23         0.0  \n17     76.539169     76.539169  14.23         0.0  \n18    107.963142    107.963142  14.23         0.0  \n19     36.197914     36.197914  14.23         0.0  \n20     31.724436     31.724436  14.23         0.0  \n21     35.706165     35.706165  14.23         0.0  \n22     62.786091     62.786091  14.23         0.0  \n23     73.328735     73.328735  14.23         0.0  \n24     65.368134     65.368134  14.23         0.0  \n25     52.140312     52.140312  14.23         0.0  \n26     33.028847     33.028847  14.23         0.0  \n27     44.919399     44.919399  14.23         0.0  \n28     65.278633     65.278633  14.23         0.0  \n29     17.276794     17.276794  13.76         0.0  ",
      "text/html": "<div>\n<style scoped>\n    .dataframe tbody tr th:only-of-type {\n        vertical-align: middle;\n    }\n\n    .dataframe tbody tr th {\n        vertical-align: top;\n    }\n\n    .dataframe thead th {\n        text-align: right;\n    }\n</style>\n<table border=\"1\" class=\"dataframe\">\n  <thead>\n    <tr style=\"text-align: right;\">\n      <th></th>\n      <th>date</th>\n      <th>open</th>\n      <th>high</th>\n      <th>low</th>\n      <th>close</th>\n      <th>volume</th>\n      <th>tic</th>\n      <th>day</th>\n      <th>macd</th>\n      <th>boll_ub</th>\n      <th>boll_lb</th>\n      <th>rsi_30</th>\n      <th>cci_30</th>\n      <th>dx_30</th>\n      <th>close_30_sma</th>\n      <th>close_60_sma</th>\n      <th>vix</th>\n      <th>turbulence</th>\n    </tr>\n  </thead>\n  <tbody>\n    <tr>\n      <th>0</th>\n      <td>2014-01-02</td>\n      <td>19.845715</td>\n      <td>19.893929</td>\n      <td>19.715000</td>\n      <td>17.468651</td>\n      <td>234684800</td>\n      <td>AAPL</td>\n      <td>3</td>\n      <td>0.000000</td>\n      <td>17.819446</td>\n      <td>16.734143</td>\n      <td>0.0</td>\n      <td>-66.666667</td>\n      <td>100.0</td>\n      <td>17.468651</td>\n      <td>17.468651</td>\n      <td>14.23</td>\n      <td>0.0</td>\n    </tr>\n    <tr>\n      <th>1</th>\n      <td>2014-01-02</td>\n      <td>114.360001</td>\n      <td>116.190002</td>\n      <td>114.059998</td>\n      <td>92.386444</td>\n      <td>2528800</td>\n      <td>AMGN</td>\n      <td>3</td>\n      <td>0.000000</td>\n      <td>17.819446</td>\n      <td>16.734143</td>\n      <td>0.0</td>\n      <td>-66.666667</td>\n      <td>100.0</td>\n      <td>92.386444</td>\n      <td>92.386444</td>\n      <td>14.23</td>\n      <td>0.0</td>\n    </tr>\n    <tr>\n      <th>2</th>\n      <td>2014-01-02</td>\n      <td>90.900002</td>\n      <td>91.080002</td>\n      <td>89.379997</td>\n      <td>78.765556</td>\n      <td>5112000</td>\n      <td>AXP</td>\n      <td>3</td>\n      <td>0.000000</td>\n      <td>17.819446</td>\n      <td>16.734143</td>\n      <td>0.0</td>\n      <td>-66.666667</td>\n      <td>100.0</td>\n      <td>78.765556</td>\n      <td>78.765556</td>\n      <td>14.23</td>\n      <td>0.0</td>\n    </tr>\n    <tr>\n      <th>3</th>\n      <td>2014-01-02</td>\n      <td>136.009995</td>\n      <td>137.250000</td>\n      <td>135.509995</td>\n      <td>116.807930</td>\n      <td>3366700</td>\n      <td>BA</td>\n      <td>3</td>\n      <td>0.000000</td>\n      <td>17.819446</td>\n      <td>16.734143</td>\n      <td>0.0</td>\n      <td>-66.666667</td>\n      <td>100.0</td>\n      <td>116.807930</td>\n      <td>116.807930</td>\n      <td>14.23</td>\n      <td>0.0</td>\n    </tr>\n    <tr>\n      <th>4</th>\n      <td>2014-01-02</td>\n      <td>90.410004</td>\n      <td>90.449997</td>\n      <td>89.330002</td>\n      <td>70.465065</td>\n      <td>4898000</td>\n      <td>CAT</td>\n      <td>3</td>\n      <td>0.000000</td>\n      <td>17.819446</td>\n      <td>16.734143</td>\n      <td>0.0</td>\n      <td>-66.666667</td>\n      <td>100.0</td>\n      <td>70.465065</td>\n      <td>70.465065</td>\n      <td>14.23</td>\n      <td>0.0</td>\n    </tr>\n    <tr>\n      <th>5</th>\n      <td>2014-01-02</td>\n      <td>55.200001</td>\n      <td>55.209999</td>\n      <td>54.410000</td>\n      <td>54.860001</td>\n      <td>2730200</td>\n      <td>CRM</td>\n      <td>3</td>\n      <td>0.000000</td>\n      <td>17.819446</td>\n      <td>16.734143</td>\n      <td>0.0</td>\n      <td>-66.666667</td>\n      <td>100.0</td>\n      <td>54.860001</td>\n      <td>54.860001</td>\n      <td>14.23</td>\n      <td>0.0</td>\n    </tr>\n    <tr>\n      <th>6</th>\n      <td>2014-01-02</td>\n      <td>22.170000</td>\n      <td>22.290001</td>\n      <td>21.910000</td>\n      <td>16.872833</td>\n      <td>44377000</td>\n      <td>CSCO</td>\n      <td>3</td>\n      <td>0.000000</td>\n      <td>17.819446</td>\n      <td>16.734143</td>\n      <td>0.0</td>\n      <td>-66.666667</td>\n      <td>100.0</td>\n      <td>16.872833</td>\n      <td>16.872833</td>\n      <td>14.23</td>\n      <td>0.0</td>\n    </tr>\n    <tr>\n      <th>7</th>\n      <td>2014-01-02</td>\n      <td>124.459999</td>\n      <td>124.879997</td>\n      <td>123.709999</td>\n      <td>86.226318</td>\n      <td>4540300</td>\n      <td>CVX</td>\n      <td>3</td>\n      <td>0.000000</td>\n      <td>17.819446</td>\n      <td>16.734143</td>\n      <td>0.0</td>\n      <td>-66.666667</td>\n      <td>100.0</td>\n      <td>86.226318</td>\n      <td>86.226318</td>\n      <td>14.23</td>\n      <td>0.0</td>\n    </tr>\n    <tr>\n      <th>8</th>\n      <td>2014-01-02</td>\n      <td>76.040001</td>\n      <td>76.500000</td>\n      <td>75.900002</td>\n      <td>70.192528</td>\n      <td>5200900</td>\n      <td>DIS</td>\n      <td>3</td>\n      <td>0.000000</td>\n      <td>17.819446</td>\n      <td>16.734143</td>\n      <td>0.0</td>\n      <td>-66.666667</td>\n      <td>100.0</td>\n      <td>70.192528</td>\n      <td>70.192528</td>\n      <td>14.23</td>\n      <td>0.0</td>\n    </tr>\n    <tr>\n      <th>9</th>\n      <td>2014-01-02</td>\n      <td>176.949997</td>\n      <td>178.380005</td>\n      <td>176.360001</td>\n      <td>153.568451</td>\n      <td>1982100</td>\n      <td>GS</td>\n      <td>3</td>\n      <td>0.000000</td>\n      <td>17.819446</td>\n      <td>16.734143</td>\n      <td>0.0</td>\n      <td>-66.666667</td>\n      <td>100.0</td>\n      <td>153.568451</td>\n      <td>153.568451</td>\n      <td>14.23</td>\n      <td>0.0</td>\n    </tr>\n    <tr>\n      <th>10</th>\n      <td>2014-01-02</td>\n      <td>82.110001</td>\n      <td>82.570000</td>\n      <td>81.800003</td>\n      <td>67.782448</td>\n      <td>4253400</td>\n      <td>HD</td>\n      <td>3</td>\n      <td>0.000000</td>\n      <td>17.819446</td>\n      <td>16.734143</td>\n      <td>0.0</td>\n      <td>-66.666667</td>\n      <td>100.0</td>\n      <td>67.782448</td>\n      <td>67.782448</td>\n      <td>14.23</td>\n      <td>0.0</td>\n    </tr>\n    <tr>\n      <th>11</th>\n      <td>2014-01-02</td>\n      <td>86.718491</td>\n      <td>86.890099</td>\n      <td>85.850929</td>\n      <td>72.377060</td>\n      <td>1829511</td>\n      <td>HON</td>\n      <td>3</td>\n      <td>0.000000</td>\n      <td>17.819446</td>\n      <td>16.734143</td>\n      <td>0.0</td>\n      <td>-66.666667</td>\n      <td>100.0</td>\n      <td>72.377060</td>\n      <td>72.377060</td>\n      <td>14.23</td>\n      <td>0.0</td>\n    </tr>\n    <tr>\n      <th>12</th>\n      <td>2014-01-02</td>\n      <td>178.977051</td>\n      <td>179.158707</td>\n      <td>177.055450</td>\n      <td>125.379807</td>\n      <td>4755639</td>\n      <td>IBM</td>\n      <td>3</td>\n      <td>0.000000</td>\n      <td>17.819446</td>\n      <td>16.734143</td>\n      <td>0.0</td>\n      <td>-66.666667</td>\n      <td>100.0</td>\n      <td>125.379807</td>\n      <td>125.379807</td>\n      <td>14.23</td>\n      <td>0.0</td>\n    </tr>\n    <tr>\n      <th>13</th>\n      <td>2014-01-02</td>\n      <td>25.780001</td>\n      <td>25.820000</td>\n      <td>25.469999</td>\n      <td>20.361408</td>\n      <td>31833300</td>\n      <td>INTC</td>\n      <td>3</td>\n      <td>0.000000</td>\n      <td>17.819446</td>\n      <td>16.734143</td>\n      <td>0.0</td>\n      <td>-66.666667</td>\n      <td>100.0</td>\n      <td>20.361408</td>\n      <td>20.361408</td>\n      <td>14.23</td>\n      <td>0.0</td>\n    </tr>\n    <tr>\n      <th>14</th>\n      <td>2014-01-02</td>\n      <td>91.139999</td>\n      <td>91.730003</td>\n      <td>91.010002</td>\n      <td>72.387566</td>\n      <td>5919600</td>\n      <td>JNJ</td>\n      <td>3</td>\n      <td>0.000000</td>\n      <td>17.819446</td>\n      <td>16.734143</td>\n      <td>0.0</td>\n      <td>-66.666667</td>\n      <td>100.0</td>\n      <td>72.387566</td>\n      <td>72.387566</td>\n      <td>14.23</td>\n      <td>0.0</td>\n    </tr>\n    <tr>\n      <th>15</th>\n      <td>2014-01-02</td>\n      <td>58.310001</td>\n      <td>58.500000</td>\n      <td>57.970001</td>\n      <td>46.048397</td>\n      <td>15627600</td>\n      <td>JPM</td>\n      <td>3</td>\n      <td>0.000000</td>\n      <td>17.819446</td>\n      <td>16.734143</td>\n      <td>0.0</td>\n      <td>-66.666667</td>\n      <td>100.0</td>\n      <td>46.048397</td>\n      <td>46.048397</td>\n      <td>14.23</td>\n      <td>0.0</td>\n    </tr>\n    <tr>\n      <th>16</th>\n      <td>2014-01-02</td>\n      <td>41.119999</td>\n      <td>41.230000</td>\n      <td>40.509998</td>\n      <td>30.976265</td>\n      <td>12698600</td>\n      <td>KO</td>\n      <td>3</td>\n      <td>0.000000</td>\n      <td>17.819446</td>\n      <td>16.734143</td>\n      <td>0.0</td>\n      <td>-66.666667</td>\n      <td>100.0</td>\n      <td>30.976265</td>\n      <td>30.976265</td>\n      <td>14.23</td>\n      <td>0.0</td>\n    </tr>\n    <tr>\n      <th>17</th>\n      <td>2014-01-02</td>\n      <td>96.809998</td>\n      <td>97.029999</td>\n      <td>96.260002</td>\n      <td>76.539169</td>\n      <td>2925800</td>\n      <td>MCD</td>\n      <td>3</td>\n      <td>0.000000</td>\n      <td>17.819446</td>\n      <td>16.734143</td>\n      <td>0.0</td>\n      <td>-66.666667</td>\n      <td>100.0</td>\n      <td>76.539169</td>\n      <td>76.539169</td>\n      <td>14.23</td>\n      <td>0.0</td>\n    </tr>\n    <tr>\n      <th>18</th>\n      <td>2014-01-02</td>\n      <td>138.050003</td>\n      <td>139.000000</td>\n      <td>137.610001</td>\n      <td>107.963142</td>\n      <td>3052100</td>\n      <td>MMM</td>\n      <td>3</td>\n      <td>0.000000</td>\n      <td>17.819446</td>\n      <td>16.734143</td>\n      <td>0.0</td>\n      <td>-66.666667</td>\n      <td>100.0</td>\n      <td>107.963142</td>\n      <td>107.963142</td>\n      <td>14.23</td>\n      <td>0.0</td>\n    </tr>\n    <tr>\n      <th>19</th>\n      <td>2014-01-02</td>\n      <td>47.595421</td>\n      <td>47.748093</td>\n      <td>47.041985</td>\n      <td>36.197914</td>\n      <td>8265052</td>\n      <td>MRK</td>\n      <td>3</td>\n      <td>0.000000</td>\n      <td>17.819446</td>\n      <td>16.734143</td>\n      <td>0.0</td>\n      <td>-66.666667</td>\n      <td>100.0</td>\n      <td>36.197914</td>\n      <td>36.197914</td>\n      <td>14.23</td>\n      <td>0.0</td>\n    </tr>\n    <tr>\n      <th>20</th>\n      <td>2014-01-02</td>\n      <td>37.349998</td>\n      <td>37.400002</td>\n      <td>37.099998</td>\n      <td>31.724436</td>\n      <td>30632200</td>\n      <td>MSFT</td>\n      <td>3</td>\n      <td>0.000000</td>\n      <td>17.819446</td>\n      <td>16.734143</td>\n      <td>0.0</td>\n      <td>-66.666667</td>\n      <td>100.0</td>\n      <td>31.724436</td>\n      <td>31.724436</td>\n      <td>14.23</td>\n      <td>0.0</td>\n    </tr>\n    <tr>\n      <th>21</th>\n      <td>2014-01-02</td>\n      <td>39.075001</td>\n      <td>39.415001</td>\n      <td>38.965000</td>\n      <td>35.706165</td>\n      <td>5318600</td>\n      <td>NKE</td>\n      <td>3</td>\n      <td>0.000000</td>\n      <td>17.819446</td>\n      <td>16.734143</td>\n      <td>0.0</td>\n      <td>-66.666667</td>\n      <td>100.0</td>\n      <td>35.706165</td>\n      <td>35.706165</td>\n      <td>14.23</td>\n      <td>0.0</td>\n    </tr>\n    <tr>\n      <th>22</th>\n      <td>2014-01-02</td>\n      <td>81.330002</td>\n      <td>81.360001</td>\n      <td>80.320000</td>\n      <td>62.786091</td>\n      <td>6981700</td>\n      <td>PG</td>\n      <td>3</td>\n      <td>0.000000</td>\n      <td>17.819446</td>\n      <td>16.734143</td>\n      <td>0.0</td>\n      <td>-66.666667</td>\n      <td>100.0</td>\n      <td>62.786091</td>\n      <td>62.786091</td>\n      <td>14.23</td>\n      <td>0.0</td>\n    </tr>\n    <tr>\n      <th>23</th>\n      <td>2014-01-02</td>\n      <td>90.510002</td>\n      <td>90.660004</td>\n      <td>88.970001</td>\n      <td>73.328735</td>\n      <td>1543900</td>\n      <td>TRV</td>\n      <td>3</td>\n      <td>0.000000</td>\n      <td>17.819446</td>\n      <td>16.734143</td>\n      <td>0.0</td>\n      <td>-66.666667</td>\n      <td>100.0</td>\n      <td>73.328735</td>\n      <td>73.328735</td>\n      <td>14.23</td>\n      <td>0.0</td>\n    </tr>\n    <tr>\n      <th>24</th>\n      <td>2014-01-02</td>\n      <td>74.910004</td>\n      <td>75.290001</td>\n      <td>74.510002</td>\n      <td>65.368134</td>\n      <td>3067000</td>\n      <td>UNH</td>\n      <td>3</td>\n      <td>0.000000</td>\n      <td>17.819446</td>\n      <td>16.734143</td>\n      <td>0.0</td>\n      <td>-66.666667</td>\n      <td>100.0</td>\n      <td>65.368134</td>\n      <td>65.368134</td>\n      <td>14.23</td>\n      <td>0.0</td>\n    </tr>\n    <tr>\n      <th>25</th>\n      <td>2014-01-02</td>\n      <td>55.384998</td>\n      <td>55.507500</td>\n      <td>54.875000</td>\n      <td>52.140312</td>\n      <td>10654000</td>\n      <td>V</td>\n      <td>3</td>\n      <td>0.000000</td>\n      <td>17.819446</td>\n      <td>16.734143</td>\n      <td>0.0</td>\n      <td>-66.666667</td>\n      <td>100.0</td>\n      <td>52.140312</td>\n      <td>52.140312</td>\n      <td>14.23</td>\n      <td>0.0</td>\n    </tr>\n    <tr>\n      <th>26</th>\n      <td>2014-01-02</td>\n      <td>49.080002</td>\n      <td>49.230000</td>\n      <td>48.950001</td>\n      <td>33.028847</td>\n      <td>9270200</td>\n      <td>VZ</td>\n      <td>3</td>\n      <td>0.000000</td>\n      <td>17.819446</td>\n      <td>16.734143</td>\n      <td>0.0</td>\n      <td>-66.666667</td>\n      <td>100.0</td>\n      <td>33.028847</td>\n      <td>33.028847</td>\n      <td>14.23</td>\n      <td>0.0</td>\n    </tr>\n    <tr>\n      <th>27</th>\n      <td>2014-01-02</td>\n      <td>57.200001</td>\n      <td>57.250000</td>\n      <td>56.520000</td>\n      <td>44.919399</td>\n      <td>5370600</td>\n      <td>WBA</td>\n      <td>3</td>\n      <td>0.000000</td>\n      <td>17.819446</td>\n      <td>16.734143</td>\n      <td>0.0</td>\n      <td>-66.666667</td>\n      <td>100.0</td>\n      <td>44.919399</td>\n      <td>44.919399</td>\n      <td>14.23</td>\n      <td>0.0</td>\n    </tr>\n    <tr>\n      <th>28</th>\n      <td>2014-01-02</td>\n      <td>78.720001</td>\n      <td>79.470001</td>\n      <td>78.500000</td>\n      <td>65.278633</td>\n      <td>6878000</td>\n      <td>WMT</td>\n      <td>3</td>\n      <td>0.000000</td>\n      <td>17.819446</td>\n      <td>16.734143</td>\n      <td>0.0</td>\n      <td>-66.666667</td>\n      <td>100.0</td>\n      <td>65.278633</td>\n      <td>65.278633</td>\n      <td>14.23</td>\n      <td>0.0</td>\n    </tr>\n    <tr>\n      <th>29</th>\n      <td>2014-01-03</td>\n      <td>19.745001</td>\n      <td>19.775000</td>\n      <td>19.301071</td>\n      <td>17.084938</td>\n      <td>392467600</td>\n      <td>AAPL</td>\n      <td>4</td>\n      <td>-0.008609</td>\n      <td>17.819446</td>\n      <td>16.734143</td>\n      <td>0.0</td>\n      <td>-66.666667</td>\n      <td>100.0</td>\n      <td>17.276794</td>\n      <td>17.276794</td>\n      <td>13.76</td>\n      <td>0.0</td>\n    </tr>\n  </tbody>\n</table>\n</div>"
     },
     "execution_count": 63,
     "metadata": {},
     "output_type": "execute_result"
    }
   ],
   "source": [
    "processed.head(30)"
   ],
   "metadata": {
    "collapsed": false,
    "pycharm": {
     "name": "#%%\n"
    }
   }
  },
  {
   "cell_type": "code",
   "execution_count": 67,
   "outputs": [
    {
     "data": {
      "text/plain": "             date        open        high         low       close    volume  \\\n62262  2022-07-13  124.440002  126.459999  123.910004  125.370003   4229700   \n62263  2022-07-14  144.080002  148.949997  143.250000  148.470001  78140700   \n62264  2022-07-14  245.020004  246.820007  242.949997  245.589996   2886400   \n62265  2022-07-14  135.699997  137.240005  134.119995  136.479996   4600200   \n62266  2022-07-14  141.110001  147.490005  140.610001  147.149994   9456100   \n62267  2022-07-14  169.750000  170.699997  167.080002  169.940002   2531200   \n62268  2022-07-14  161.029999  161.710007  157.649994  161.039993   6096100   \n62269  2022-07-14   41.790001   42.470001   41.349998   42.330002  17336200   \n62270  2022-07-14  134.309998  136.160004  132.539993  135.940002  10150200   \n62271  2022-07-14   91.480003   92.040001   90.230003   91.839996  11146400   \n62272  2022-07-14  284.239990  284.239990  277.839996  281.589996   3171900   \n62273  2022-07-14  281.850006  290.290009  281.649994  289.480011   2822200   \n62274  2022-07-14  168.720001  169.779999  167.350006  169.509995   1824200   \n62275  2022-07-14  135.600006  139.429993  135.020004  139.059998   5298400   \n62276  2022-07-14   36.990002   38.160000   36.290001   37.709999  36690700   \n62277  2022-07-14  172.529999  176.009995  172.300003  175.679993   5359600   \n62278  2022-07-14  107.989998  108.230003  106.059998  108.000000  26204800   \n62279  2022-07-14   61.330002   62.250000   61.299999   62.180000  14433000   \n62280  2022-07-14  249.889999  253.100006  249.619995  252.600006   2371000   \n62281  2022-07-14  126.980003  128.539993  125.879997  128.309998   2525500   \n62282  2022-07-14   92.550003   94.059998   92.059998   93.879997   6271000   \n62283  2022-07-14  250.570007  255.139999  245.940002  254.080002  25102800   \n62284  2022-07-14  103.110001  103.800003  101.849998  103.220001   6951300   \n62285  2022-07-14  143.759995  145.529999  143.470001  145.270004   4867000   \n62286  2022-07-14  159.389999  160.029999  155.309998  155.679993   1654500   \n62287  2022-07-14  495.000000  505.890015  492.279999  502.429993   3765500   \n62288  2022-07-14  200.000000  206.080002  197.979996  205.910004   5605500   \n62289  2022-07-14   49.919998   50.560001   49.730000   50.490002  10271700   \n62290  2022-07-14   36.900002   37.279999   36.570000   36.860001   8298400   \n62291  2022-07-14  124.160004  128.320007  124.139999  127.820000   6968500   \n\n        tic  day      macd     boll_ub     boll_lb     rsi_30      cci_30  \\\n62262   WMT    2 -0.662386  127.368756  118.287244  44.305560   64.391041   \n62263  AAPL    3  0.961915  150.667862  129.806137  50.991373   77.304225   \n62264  AMGN    3  1.091159  253.080511  233.516487  52.476625   26.437701   \n62265   AXP    3 -4.589255  146.462311  135.609225  39.013193  -86.732908   \n62266    BA    3  2.018887  146.385317  131.015682  51.000306  141.010062   \n62267   CAT    3 -8.983109  201.616257  163.995741  36.619299 -102.079405   \n62268   CRM    3 -1.628985  183.403094  156.978905  44.172631 -122.480095   \n62269  CSCO    3 -0.568021   43.915248   41.880723  40.704271 -122.469485   \n62270   CVX    3 -6.983979  159.113751  132.651248  38.158457 -101.923592   \n62271   DIS    3 -2.643605   98.316830   91.749169  36.059001  -96.355099   \n62272    GS    3 -3.760449  307.260664  278.378341  40.930132 -104.206922   \n62273    HD    3 -0.346588  293.136597  265.785406  48.871675   16.842907   \n62274   HON    3 -4.355319  183.411376  167.888621  38.328895 -108.951426   \n62275   IBM    3  0.586452  143.683930  134.744070  52.991727  -43.369113   \n62276  INTC    3 -0.958542   38.793464   36.274536  41.859759  -51.235115   \n62277   JNJ    3  0.159347  183.849465  169.335537  49.329102  -32.447502   \n62278   JPM    3 -2.472404  116.887610  109.664903  38.122537 -120.368084   \n62279    KO    3  0.148603   65.013048   59.292952  49.515182  -13.030030   \n62280   MCD    3  2.641532  259.531029  234.468972  54.843641   78.348104   \n62281   MMM    3 -3.124530  133.690402  126.760598  37.606158  -78.985255   \n62282   MRK    3  1.353904   97.777171   84.819828  59.341048   77.028435   \n62283  MSFT    3 -1.257987  272.110514  244.484487  45.267023  -72.084840   \n62284   NKE    3 -2.477443  113.043679   99.369321  42.569223  -85.164783   \n62285    PG    3  0.400719  151.465933  132.485067  48.804618   44.785345   \n62286   TRV    3 -1.842931  173.393050  157.673952  39.167323 -183.667970   \n62287   UNH    3  5.719483  541.031445  457.538556  51.287180   28.084294   \n62288     V    3  0.576729  209.711687  189.368311  50.929830   16.830909   \n62289    VZ    3  0.238293   51.905338   48.480509  51.482344  -30.628838   \n62290   WBA    3 -1.247196   42.514092   35.969907  37.316657 -130.672323   \n62291   WMT    3 -0.334148  128.014755  118.477245  47.399804  118.417527   \n\n           dx_30  close_30_sma  close_60_sma    vix  turbulence  \n62262   2.865980    123.204667    133.737785  26.82   22.541426  \n62263   7.589558    141.242001    146.859970  26.40   40.675502  \n62264   7.694342    243.589333    243.846880  26.40   40.675502  \n62265  39.534923    147.480128    157.651705  26.40   40.675502  \n62266   9.863492    136.761667    140.361000  26.40   40.675502  \n62267  42.338151    194.984666    203.747500  26.40   40.675502  \n62268  24.052768    173.614999    171.393833  26.40   40.675502  \n62269  32.881448     43.332380     45.707474  26.40   40.675502  \n62270  54.942659    155.784334    160.760573  26.40   40.675502  \n62271  37.191919     98.166000    104.610167  26.40   40.675502  \n62272  25.636071    297.832335    305.698214  26.40   40.675502  \n62273   1.929791    285.049334    291.056783  26.40   40.675502  \n62274  45.007559    181.002999    187.086861  26.40   40.675502  \n62275  22.899541    139.217000    136.563552  26.40   40.675502  \n62276  15.509629     38.867000     41.559805  26.40   40.675502  \n62277  25.123928    176.013667    177.347958  26.40   40.675502  \n62278  37.080543    116.976771    119.871083  26.40   40.675502  \n62279  21.401847     62.052639     62.979294  26.40   40.675502  \n62280   2.241197    246.155203    245.736304  26.40   40.675502  \n62281  42.423855    134.567666    140.876777  26.40   40.675502  \n62282  15.466576     90.166583     89.435641  26.40   40.675502  \n62283  25.672645    259.972001    265.247658  26.40   40.675502  \n62284  21.971806    110.178723    113.956182  26.40   40.675502  \n62285   2.814416    142.401667    148.219294  26.40   40.675502  \n62286  39.866556    168.001575    170.357470  26.40   40.675502  \n62287   6.645158    494.172718    497.288927  26.40   40.675502  \n62288   3.920683    202.025666    203.934600  26.40   40.675502  \n62289   0.150199     50.199703     49.582664  26.40   40.675502  \n62290  28.719038     40.246666     41.767423  26.40   40.675502  \n62291  12.793544    123.177667    133.279528  26.40   40.675502  ",
      "text/html": "<div>\n<style scoped>\n    .dataframe tbody tr th:only-of-type {\n        vertical-align: middle;\n    }\n\n    .dataframe tbody tr th {\n        vertical-align: top;\n    }\n\n    .dataframe thead th {\n        text-align: right;\n    }\n</style>\n<table border=\"1\" class=\"dataframe\">\n  <thead>\n    <tr style=\"text-align: right;\">\n      <th></th>\n      <th>date</th>\n      <th>open</th>\n      <th>high</th>\n      <th>low</th>\n      <th>close</th>\n      <th>volume</th>\n      <th>tic</th>\n      <th>day</th>\n      <th>macd</th>\n      <th>boll_ub</th>\n      <th>boll_lb</th>\n      <th>rsi_30</th>\n      <th>cci_30</th>\n      <th>dx_30</th>\n      <th>close_30_sma</th>\n      <th>close_60_sma</th>\n      <th>vix</th>\n      <th>turbulence</th>\n    </tr>\n  </thead>\n  <tbody>\n    <tr>\n      <th>62262</th>\n      <td>2022-07-13</td>\n      <td>124.440002</td>\n      <td>126.459999</td>\n      <td>123.910004</td>\n      <td>125.370003</td>\n      <td>4229700</td>\n      <td>WMT</td>\n      <td>2</td>\n      <td>-0.662386</td>\n      <td>127.368756</td>\n      <td>118.287244</td>\n      <td>44.305560</td>\n      <td>64.391041</td>\n      <td>2.865980</td>\n      <td>123.204667</td>\n      <td>133.737785</td>\n      <td>26.82</td>\n      <td>22.541426</td>\n    </tr>\n    <tr>\n      <th>62263</th>\n      <td>2022-07-14</td>\n      <td>144.080002</td>\n      <td>148.949997</td>\n      <td>143.250000</td>\n      <td>148.470001</td>\n      <td>78140700</td>\n      <td>AAPL</td>\n      <td>3</td>\n      <td>0.961915</td>\n      <td>150.667862</td>\n      <td>129.806137</td>\n      <td>50.991373</td>\n      <td>77.304225</td>\n      <td>7.589558</td>\n      <td>141.242001</td>\n      <td>146.859970</td>\n      <td>26.40</td>\n      <td>40.675502</td>\n    </tr>\n    <tr>\n      <th>62264</th>\n      <td>2022-07-14</td>\n      <td>245.020004</td>\n      <td>246.820007</td>\n      <td>242.949997</td>\n      <td>245.589996</td>\n      <td>2886400</td>\n      <td>AMGN</td>\n      <td>3</td>\n      <td>1.091159</td>\n      <td>253.080511</td>\n      <td>233.516487</td>\n      <td>52.476625</td>\n      <td>26.437701</td>\n      <td>7.694342</td>\n      <td>243.589333</td>\n      <td>243.846880</td>\n      <td>26.40</td>\n      <td>40.675502</td>\n    </tr>\n    <tr>\n      <th>62265</th>\n      <td>2022-07-14</td>\n      <td>135.699997</td>\n      <td>137.240005</td>\n      <td>134.119995</td>\n      <td>136.479996</td>\n      <td>4600200</td>\n      <td>AXP</td>\n      <td>3</td>\n      <td>-4.589255</td>\n      <td>146.462311</td>\n      <td>135.609225</td>\n      <td>39.013193</td>\n      <td>-86.732908</td>\n      <td>39.534923</td>\n      <td>147.480128</td>\n      <td>157.651705</td>\n      <td>26.40</td>\n      <td>40.675502</td>\n    </tr>\n    <tr>\n      <th>62266</th>\n      <td>2022-07-14</td>\n      <td>141.110001</td>\n      <td>147.490005</td>\n      <td>140.610001</td>\n      <td>147.149994</td>\n      <td>9456100</td>\n      <td>BA</td>\n      <td>3</td>\n      <td>2.018887</td>\n      <td>146.385317</td>\n      <td>131.015682</td>\n      <td>51.000306</td>\n      <td>141.010062</td>\n      <td>9.863492</td>\n      <td>136.761667</td>\n      <td>140.361000</td>\n      <td>26.40</td>\n      <td>40.675502</td>\n    </tr>\n    <tr>\n      <th>62267</th>\n      <td>2022-07-14</td>\n      <td>169.750000</td>\n      <td>170.699997</td>\n      <td>167.080002</td>\n      <td>169.940002</td>\n      <td>2531200</td>\n      <td>CAT</td>\n      <td>3</td>\n      <td>-8.983109</td>\n      <td>201.616257</td>\n      <td>163.995741</td>\n      <td>36.619299</td>\n      <td>-102.079405</td>\n      <td>42.338151</td>\n      <td>194.984666</td>\n      <td>203.747500</td>\n      <td>26.40</td>\n      <td>40.675502</td>\n    </tr>\n    <tr>\n      <th>62268</th>\n      <td>2022-07-14</td>\n      <td>161.029999</td>\n      <td>161.710007</td>\n      <td>157.649994</td>\n      <td>161.039993</td>\n      <td>6096100</td>\n      <td>CRM</td>\n      <td>3</td>\n      <td>-1.628985</td>\n      <td>183.403094</td>\n      <td>156.978905</td>\n      <td>44.172631</td>\n      <td>-122.480095</td>\n      <td>24.052768</td>\n      <td>173.614999</td>\n      <td>171.393833</td>\n      <td>26.40</td>\n      <td>40.675502</td>\n    </tr>\n    <tr>\n      <th>62269</th>\n      <td>2022-07-14</td>\n      <td>41.790001</td>\n      <td>42.470001</td>\n      <td>41.349998</td>\n      <td>42.330002</td>\n      <td>17336200</td>\n      <td>CSCO</td>\n      <td>3</td>\n      <td>-0.568021</td>\n      <td>43.915248</td>\n      <td>41.880723</td>\n      <td>40.704271</td>\n      <td>-122.469485</td>\n      <td>32.881448</td>\n      <td>43.332380</td>\n      <td>45.707474</td>\n      <td>26.40</td>\n      <td>40.675502</td>\n    </tr>\n    <tr>\n      <th>62270</th>\n      <td>2022-07-14</td>\n      <td>134.309998</td>\n      <td>136.160004</td>\n      <td>132.539993</td>\n      <td>135.940002</td>\n      <td>10150200</td>\n      <td>CVX</td>\n      <td>3</td>\n      <td>-6.983979</td>\n      <td>159.113751</td>\n      <td>132.651248</td>\n      <td>38.158457</td>\n      <td>-101.923592</td>\n      <td>54.942659</td>\n      <td>155.784334</td>\n      <td>160.760573</td>\n      <td>26.40</td>\n      <td>40.675502</td>\n    </tr>\n    <tr>\n      <th>62271</th>\n      <td>2022-07-14</td>\n      <td>91.480003</td>\n      <td>92.040001</td>\n      <td>90.230003</td>\n      <td>91.839996</td>\n      <td>11146400</td>\n      <td>DIS</td>\n      <td>3</td>\n      <td>-2.643605</td>\n      <td>98.316830</td>\n      <td>91.749169</td>\n      <td>36.059001</td>\n      <td>-96.355099</td>\n      <td>37.191919</td>\n      <td>98.166000</td>\n      <td>104.610167</td>\n      <td>26.40</td>\n      <td>40.675502</td>\n    </tr>\n    <tr>\n      <th>62272</th>\n      <td>2022-07-14</td>\n      <td>284.239990</td>\n      <td>284.239990</td>\n      <td>277.839996</td>\n      <td>281.589996</td>\n      <td>3171900</td>\n      <td>GS</td>\n      <td>3</td>\n      <td>-3.760449</td>\n      <td>307.260664</td>\n      <td>278.378341</td>\n      <td>40.930132</td>\n      <td>-104.206922</td>\n      <td>25.636071</td>\n      <td>297.832335</td>\n      <td>305.698214</td>\n      <td>26.40</td>\n      <td>40.675502</td>\n    </tr>\n    <tr>\n      <th>62273</th>\n      <td>2022-07-14</td>\n      <td>281.850006</td>\n      <td>290.290009</td>\n      <td>281.649994</td>\n      <td>289.480011</td>\n      <td>2822200</td>\n      <td>HD</td>\n      <td>3</td>\n      <td>-0.346588</td>\n      <td>293.136597</td>\n      <td>265.785406</td>\n      <td>48.871675</td>\n      <td>16.842907</td>\n      <td>1.929791</td>\n      <td>285.049334</td>\n      <td>291.056783</td>\n      <td>26.40</td>\n      <td>40.675502</td>\n    </tr>\n    <tr>\n      <th>62274</th>\n      <td>2022-07-14</td>\n      <td>168.720001</td>\n      <td>169.779999</td>\n      <td>167.350006</td>\n      <td>169.509995</td>\n      <td>1824200</td>\n      <td>HON</td>\n      <td>3</td>\n      <td>-4.355319</td>\n      <td>183.411376</td>\n      <td>167.888621</td>\n      <td>38.328895</td>\n      <td>-108.951426</td>\n      <td>45.007559</td>\n      <td>181.002999</td>\n      <td>187.086861</td>\n      <td>26.40</td>\n      <td>40.675502</td>\n    </tr>\n    <tr>\n      <th>62275</th>\n      <td>2022-07-14</td>\n      <td>135.600006</td>\n      <td>139.429993</td>\n      <td>135.020004</td>\n      <td>139.059998</td>\n      <td>5298400</td>\n      <td>IBM</td>\n      <td>3</td>\n      <td>0.586452</td>\n      <td>143.683930</td>\n      <td>134.744070</td>\n      <td>52.991727</td>\n      <td>-43.369113</td>\n      <td>22.899541</td>\n      <td>139.217000</td>\n      <td>136.563552</td>\n      <td>26.40</td>\n      <td>40.675502</td>\n    </tr>\n    <tr>\n      <th>62276</th>\n      <td>2022-07-14</td>\n      <td>36.990002</td>\n      <td>38.160000</td>\n      <td>36.290001</td>\n      <td>37.709999</td>\n      <td>36690700</td>\n      <td>INTC</td>\n      <td>3</td>\n      <td>-0.958542</td>\n      <td>38.793464</td>\n      <td>36.274536</td>\n      <td>41.859759</td>\n      <td>-51.235115</td>\n      <td>15.509629</td>\n      <td>38.867000</td>\n      <td>41.559805</td>\n      <td>26.40</td>\n      <td>40.675502</td>\n    </tr>\n    <tr>\n      <th>62277</th>\n      <td>2022-07-14</td>\n      <td>172.529999</td>\n      <td>176.009995</td>\n      <td>172.300003</td>\n      <td>175.679993</td>\n      <td>5359600</td>\n      <td>JNJ</td>\n      <td>3</td>\n      <td>0.159347</td>\n      <td>183.849465</td>\n      <td>169.335537</td>\n      <td>49.329102</td>\n      <td>-32.447502</td>\n      <td>25.123928</td>\n      <td>176.013667</td>\n      <td>177.347958</td>\n      <td>26.40</td>\n      <td>40.675502</td>\n    </tr>\n    <tr>\n      <th>62278</th>\n      <td>2022-07-14</td>\n      <td>107.989998</td>\n      <td>108.230003</td>\n      <td>106.059998</td>\n      <td>108.000000</td>\n      <td>26204800</td>\n      <td>JPM</td>\n      <td>3</td>\n      <td>-2.472404</td>\n      <td>116.887610</td>\n      <td>109.664903</td>\n      <td>38.122537</td>\n      <td>-120.368084</td>\n      <td>37.080543</td>\n      <td>116.976771</td>\n      <td>119.871083</td>\n      <td>26.40</td>\n      <td>40.675502</td>\n    </tr>\n    <tr>\n      <th>62279</th>\n      <td>2022-07-14</td>\n      <td>61.330002</td>\n      <td>62.250000</td>\n      <td>61.299999</td>\n      <td>62.180000</td>\n      <td>14433000</td>\n      <td>KO</td>\n      <td>3</td>\n      <td>0.148603</td>\n      <td>65.013048</td>\n      <td>59.292952</td>\n      <td>49.515182</td>\n      <td>-13.030030</td>\n      <td>21.401847</td>\n      <td>62.052639</td>\n      <td>62.979294</td>\n      <td>26.40</td>\n      <td>40.675502</td>\n    </tr>\n    <tr>\n      <th>62280</th>\n      <td>2022-07-14</td>\n      <td>249.889999</td>\n      <td>253.100006</td>\n      <td>249.619995</td>\n      <td>252.600006</td>\n      <td>2371000</td>\n      <td>MCD</td>\n      <td>3</td>\n      <td>2.641532</td>\n      <td>259.531029</td>\n      <td>234.468972</td>\n      <td>54.843641</td>\n      <td>78.348104</td>\n      <td>2.241197</td>\n      <td>246.155203</td>\n      <td>245.736304</td>\n      <td>26.40</td>\n      <td>40.675502</td>\n    </tr>\n    <tr>\n      <th>62281</th>\n      <td>2022-07-14</td>\n      <td>126.980003</td>\n      <td>128.539993</td>\n      <td>125.879997</td>\n      <td>128.309998</td>\n      <td>2525500</td>\n      <td>MMM</td>\n      <td>3</td>\n      <td>-3.124530</td>\n      <td>133.690402</td>\n      <td>126.760598</td>\n      <td>37.606158</td>\n      <td>-78.985255</td>\n      <td>42.423855</td>\n      <td>134.567666</td>\n      <td>140.876777</td>\n      <td>26.40</td>\n      <td>40.675502</td>\n    </tr>\n    <tr>\n      <th>62282</th>\n      <td>2022-07-14</td>\n      <td>92.550003</td>\n      <td>94.059998</td>\n      <td>92.059998</td>\n      <td>93.879997</td>\n      <td>6271000</td>\n      <td>MRK</td>\n      <td>3</td>\n      <td>1.353904</td>\n      <td>97.777171</td>\n      <td>84.819828</td>\n      <td>59.341048</td>\n      <td>77.028435</td>\n      <td>15.466576</td>\n      <td>90.166583</td>\n      <td>89.435641</td>\n      <td>26.40</td>\n      <td>40.675502</td>\n    </tr>\n    <tr>\n      <th>62283</th>\n      <td>2022-07-14</td>\n      <td>250.570007</td>\n      <td>255.139999</td>\n      <td>245.940002</td>\n      <td>254.080002</td>\n      <td>25102800</td>\n      <td>MSFT</td>\n      <td>3</td>\n      <td>-1.257987</td>\n      <td>272.110514</td>\n      <td>244.484487</td>\n      <td>45.267023</td>\n      <td>-72.084840</td>\n      <td>25.672645</td>\n      <td>259.972001</td>\n      <td>265.247658</td>\n      <td>26.40</td>\n      <td>40.675502</td>\n    </tr>\n    <tr>\n      <th>62284</th>\n      <td>2022-07-14</td>\n      <td>103.110001</td>\n      <td>103.800003</td>\n      <td>101.849998</td>\n      <td>103.220001</td>\n      <td>6951300</td>\n      <td>NKE</td>\n      <td>3</td>\n      <td>-2.477443</td>\n      <td>113.043679</td>\n      <td>99.369321</td>\n      <td>42.569223</td>\n      <td>-85.164783</td>\n      <td>21.971806</td>\n      <td>110.178723</td>\n      <td>113.956182</td>\n      <td>26.40</td>\n      <td>40.675502</td>\n    </tr>\n    <tr>\n      <th>62285</th>\n      <td>2022-07-14</td>\n      <td>143.759995</td>\n      <td>145.529999</td>\n      <td>143.470001</td>\n      <td>145.270004</td>\n      <td>4867000</td>\n      <td>PG</td>\n      <td>3</td>\n      <td>0.400719</td>\n      <td>151.465933</td>\n      <td>132.485067</td>\n      <td>48.804618</td>\n      <td>44.785345</td>\n      <td>2.814416</td>\n      <td>142.401667</td>\n      <td>148.219294</td>\n      <td>26.40</td>\n      <td>40.675502</td>\n    </tr>\n    <tr>\n      <th>62286</th>\n      <td>2022-07-14</td>\n      <td>159.389999</td>\n      <td>160.029999</td>\n      <td>155.309998</td>\n      <td>155.679993</td>\n      <td>1654500</td>\n      <td>TRV</td>\n      <td>3</td>\n      <td>-1.842931</td>\n      <td>173.393050</td>\n      <td>157.673952</td>\n      <td>39.167323</td>\n      <td>-183.667970</td>\n      <td>39.866556</td>\n      <td>168.001575</td>\n      <td>170.357470</td>\n      <td>26.40</td>\n      <td>40.675502</td>\n    </tr>\n    <tr>\n      <th>62287</th>\n      <td>2022-07-14</td>\n      <td>495.000000</td>\n      <td>505.890015</td>\n      <td>492.279999</td>\n      <td>502.429993</td>\n      <td>3765500</td>\n      <td>UNH</td>\n      <td>3</td>\n      <td>5.719483</td>\n      <td>541.031445</td>\n      <td>457.538556</td>\n      <td>51.287180</td>\n      <td>28.084294</td>\n      <td>6.645158</td>\n      <td>494.172718</td>\n      <td>497.288927</td>\n      <td>26.40</td>\n      <td>40.675502</td>\n    </tr>\n    <tr>\n      <th>62288</th>\n      <td>2022-07-14</td>\n      <td>200.000000</td>\n      <td>206.080002</td>\n      <td>197.979996</td>\n      <td>205.910004</td>\n      <td>5605500</td>\n      <td>V</td>\n      <td>3</td>\n      <td>0.576729</td>\n      <td>209.711687</td>\n      <td>189.368311</td>\n      <td>50.929830</td>\n      <td>16.830909</td>\n      <td>3.920683</td>\n      <td>202.025666</td>\n      <td>203.934600</td>\n      <td>26.40</td>\n      <td>40.675502</td>\n    </tr>\n    <tr>\n      <th>62289</th>\n      <td>2022-07-14</td>\n      <td>49.919998</td>\n      <td>50.560001</td>\n      <td>49.730000</td>\n      <td>50.490002</td>\n      <td>10271700</td>\n      <td>VZ</td>\n      <td>3</td>\n      <td>0.238293</td>\n      <td>51.905338</td>\n      <td>48.480509</td>\n      <td>51.482344</td>\n      <td>-30.628838</td>\n      <td>0.150199</td>\n      <td>50.199703</td>\n      <td>49.582664</td>\n      <td>26.40</td>\n      <td>40.675502</td>\n    </tr>\n    <tr>\n      <th>62290</th>\n      <td>2022-07-14</td>\n      <td>36.900002</td>\n      <td>37.279999</td>\n      <td>36.570000</td>\n      <td>36.860001</td>\n      <td>8298400</td>\n      <td>WBA</td>\n      <td>3</td>\n      <td>-1.247196</td>\n      <td>42.514092</td>\n      <td>35.969907</td>\n      <td>37.316657</td>\n      <td>-130.672323</td>\n      <td>28.719038</td>\n      <td>40.246666</td>\n      <td>41.767423</td>\n      <td>26.40</td>\n      <td>40.675502</td>\n    </tr>\n    <tr>\n      <th>62291</th>\n      <td>2022-07-14</td>\n      <td>124.160004</td>\n      <td>128.320007</td>\n      <td>124.139999</td>\n      <td>127.820000</td>\n      <td>6968500</td>\n      <td>WMT</td>\n      <td>3</td>\n      <td>-0.334148</td>\n      <td>128.014755</td>\n      <td>118.477245</td>\n      <td>47.399804</td>\n      <td>118.417527</td>\n      <td>12.793544</td>\n      <td>123.177667</td>\n      <td>133.279528</td>\n      <td>26.40</td>\n      <td>40.675502</td>\n    </tr>\n  </tbody>\n</table>\n</div>"
     },
     "execution_count": 67,
     "metadata": {},
     "output_type": "execute_result"
    }
   ],
   "source": [
    "processed.tail(30)"
   ],
   "metadata": {
    "collapsed": false,
    "pycharm": {
     "name": "#%%\n"
    }
   }
  },
  {
   "cell_type": "code",
   "execution_count": 66,
   "metadata": {
    "id": "Kixon2tR3RLT",
    "pycharm": {
     "name": "#%%\n"
    }
   },
   "outputs": [],
   "source": [
    "list_ticker = processed[\"tic\"].unique().tolist()\n",
    "list_date = list(pd.date_range(processed['date'].min(),processed['date'].max()).astype(str))\n",
    "combination = list(itertools.product(list_date,list_ticker))\n",
    "\n",
    "#processed_full = pd.DataFrame(combination,columns=[\"date\",\"tic\"]).merge(processed,on=[\"date\",\"tic\"],how=\"left\")\n",
    "#processed_full = processed_full[processed_full['date'].isin(processed['date'])]\n",
    "#processed_full = processed_full.sort_values(['date','tic'])\n",
    "\n",
    "#processed_full = processed_full.fillna(0)"
   ]
  },
  {
   "cell_type": "code",
   "execution_count": 68,
   "outputs": [
    {
     "data": {
      "text/plain": "['2014-01-02',\n '2014-01-03',\n '2014-01-04',\n '2014-01-05',\n '2014-01-06',\n '2014-01-07',\n '2014-01-08',\n '2014-01-09',\n '2014-01-10',\n '2014-01-11',\n '2014-01-12',\n '2014-01-13',\n '2014-01-14',\n '2014-01-15',\n '2014-01-16',\n '2014-01-17',\n '2014-01-18',\n '2014-01-19',\n '2014-01-20',\n '2014-01-21',\n '2014-01-22',\n '2014-01-23',\n '2014-01-24',\n '2014-01-25',\n '2014-01-26',\n '2014-01-27',\n '2014-01-28',\n '2014-01-29',\n '2014-01-30',\n '2014-01-31',\n '2014-02-01',\n '2014-02-02',\n '2014-02-03',\n '2014-02-04',\n '2014-02-05',\n '2014-02-06',\n '2014-02-07',\n '2014-02-08',\n '2014-02-09',\n '2014-02-10',\n '2014-02-11',\n '2014-02-12',\n '2014-02-13',\n '2014-02-14',\n '2014-02-15',\n '2014-02-16',\n '2014-02-17',\n '2014-02-18',\n '2014-02-19',\n '2014-02-20',\n '2014-02-21',\n '2014-02-22',\n '2014-02-23',\n '2014-02-24',\n '2014-02-25',\n '2014-02-26',\n '2014-02-27',\n '2014-02-28',\n '2014-03-01',\n '2014-03-02',\n '2014-03-03',\n '2014-03-04',\n '2014-03-05',\n '2014-03-06',\n '2014-03-07',\n '2014-03-08',\n '2014-03-09',\n '2014-03-10',\n '2014-03-11',\n '2014-03-12',\n '2014-03-13',\n '2014-03-14',\n '2014-03-15',\n '2014-03-16',\n '2014-03-17',\n '2014-03-18',\n '2014-03-19',\n '2014-03-20',\n '2014-03-21',\n '2014-03-22',\n '2014-03-23',\n '2014-03-24',\n '2014-03-25',\n '2014-03-26',\n '2014-03-27',\n '2014-03-28',\n '2014-03-29',\n '2014-03-30',\n '2014-03-31',\n '2014-04-01',\n '2014-04-02',\n '2014-04-03',\n '2014-04-04',\n '2014-04-05',\n '2014-04-06',\n '2014-04-07',\n '2014-04-08',\n '2014-04-09',\n '2014-04-10',\n '2014-04-11',\n '2014-04-12',\n '2014-04-13',\n '2014-04-14',\n '2014-04-15',\n '2014-04-16',\n '2014-04-17',\n '2014-04-18',\n '2014-04-19',\n '2014-04-20',\n '2014-04-21',\n '2014-04-22',\n '2014-04-23',\n '2014-04-24',\n '2014-04-25',\n '2014-04-26',\n '2014-04-27',\n '2014-04-28',\n '2014-04-29',\n '2014-04-30',\n '2014-05-01',\n '2014-05-02',\n '2014-05-03',\n '2014-05-04',\n '2014-05-05',\n '2014-05-06',\n '2014-05-07',\n '2014-05-08',\n '2014-05-09',\n '2014-05-10',\n '2014-05-11',\n '2014-05-12',\n '2014-05-13',\n '2014-05-14',\n '2014-05-15',\n '2014-05-16',\n '2014-05-17',\n '2014-05-18',\n '2014-05-19',\n '2014-05-20',\n '2014-05-21',\n '2014-05-22',\n '2014-05-23',\n '2014-05-24',\n '2014-05-25',\n '2014-05-26',\n '2014-05-27',\n '2014-05-28',\n '2014-05-29',\n '2014-05-30',\n '2014-05-31',\n '2014-06-01',\n '2014-06-02',\n '2014-06-03',\n '2014-06-04',\n '2014-06-05',\n '2014-06-06',\n '2014-06-07',\n '2014-06-08',\n '2014-06-09',\n '2014-06-10',\n '2014-06-11',\n '2014-06-12',\n '2014-06-13',\n '2014-06-14',\n '2014-06-15',\n '2014-06-16',\n '2014-06-17',\n '2014-06-18',\n '2014-06-19',\n '2014-06-20',\n '2014-06-21',\n '2014-06-22',\n '2014-06-23',\n '2014-06-24',\n '2014-06-25',\n '2014-06-26',\n '2014-06-27',\n '2014-06-28',\n '2014-06-29',\n '2014-06-30',\n '2014-07-01',\n '2014-07-02',\n '2014-07-03',\n '2014-07-04',\n '2014-07-05',\n '2014-07-06',\n '2014-07-07',\n '2014-07-08',\n '2014-07-09',\n '2014-07-10',\n '2014-07-11',\n '2014-07-12',\n '2014-07-13',\n '2014-07-14',\n '2014-07-15',\n '2014-07-16',\n '2014-07-17',\n '2014-07-18',\n '2014-07-19',\n '2014-07-20',\n '2014-07-21',\n '2014-07-22',\n '2014-07-23',\n '2014-07-24',\n '2014-07-25',\n '2014-07-26',\n '2014-07-27',\n '2014-07-28',\n '2014-07-29',\n '2014-07-30',\n '2014-07-31',\n '2014-08-01',\n '2014-08-02',\n '2014-08-03',\n '2014-08-04',\n '2014-08-05',\n '2014-08-06',\n '2014-08-07',\n '2014-08-08',\n '2014-08-09',\n '2014-08-10',\n '2014-08-11',\n '2014-08-12',\n '2014-08-13',\n '2014-08-14',\n '2014-08-15',\n '2014-08-16',\n '2014-08-17',\n '2014-08-18',\n '2014-08-19',\n '2014-08-20',\n '2014-08-21',\n '2014-08-22',\n '2014-08-23',\n '2014-08-24',\n '2014-08-25',\n '2014-08-26',\n '2014-08-27',\n '2014-08-28',\n '2014-08-29',\n '2014-08-30',\n '2014-08-31',\n '2014-09-01',\n '2014-09-02',\n '2014-09-03',\n '2014-09-04',\n '2014-09-05',\n '2014-09-06',\n '2014-09-07',\n '2014-09-08',\n '2014-09-09',\n '2014-09-10',\n '2014-09-11',\n '2014-09-12',\n '2014-09-13',\n '2014-09-14',\n '2014-09-15',\n '2014-09-16',\n '2014-09-17',\n '2014-09-18',\n '2014-09-19',\n '2014-09-20',\n '2014-09-21',\n '2014-09-22',\n '2014-09-23',\n '2014-09-24',\n '2014-09-25',\n '2014-09-26',\n '2014-09-27',\n '2014-09-28',\n '2014-09-29',\n '2014-09-30',\n '2014-10-01',\n '2014-10-02',\n '2014-10-03',\n '2014-10-04',\n '2014-10-05',\n '2014-10-06',\n '2014-10-07',\n '2014-10-08',\n '2014-10-09',\n '2014-10-10',\n '2014-10-11',\n '2014-10-12',\n '2014-10-13',\n '2014-10-14',\n '2014-10-15',\n '2014-10-16',\n '2014-10-17',\n '2014-10-18',\n '2014-10-19',\n '2014-10-20',\n '2014-10-21',\n '2014-10-22',\n '2014-10-23',\n '2014-10-24',\n '2014-10-25',\n '2014-10-26',\n '2014-10-27',\n '2014-10-28',\n '2014-10-29',\n '2014-10-30',\n '2014-10-31',\n '2014-11-01',\n '2014-11-02',\n '2014-11-03',\n '2014-11-04',\n '2014-11-05',\n '2014-11-06',\n '2014-11-07',\n '2014-11-08',\n '2014-11-09',\n '2014-11-10',\n '2014-11-11',\n '2014-11-12',\n '2014-11-13',\n '2014-11-14',\n '2014-11-15',\n '2014-11-16',\n '2014-11-17',\n '2014-11-18',\n '2014-11-19',\n '2014-11-20',\n '2014-11-21',\n '2014-11-22',\n '2014-11-23',\n '2014-11-24',\n '2014-11-25',\n '2014-11-26',\n '2014-11-27',\n '2014-11-28',\n '2014-11-29',\n '2014-11-30',\n '2014-12-01',\n '2014-12-02',\n '2014-12-03',\n '2014-12-04',\n '2014-12-05',\n '2014-12-06',\n '2014-12-07',\n '2014-12-08',\n '2014-12-09',\n '2014-12-10',\n '2014-12-11',\n '2014-12-12',\n '2014-12-13',\n '2014-12-14',\n '2014-12-15',\n '2014-12-16',\n '2014-12-17',\n '2014-12-18',\n '2014-12-19',\n '2014-12-20',\n '2014-12-21',\n '2014-12-22',\n '2014-12-23',\n '2014-12-24',\n '2014-12-25',\n '2014-12-26',\n '2014-12-27',\n '2014-12-28',\n '2014-12-29',\n '2014-12-30',\n '2014-12-31',\n '2015-01-01',\n '2015-01-02',\n '2015-01-03',\n '2015-01-04',\n '2015-01-05',\n '2015-01-06',\n '2015-01-07',\n '2015-01-08',\n '2015-01-09',\n '2015-01-10',\n '2015-01-11',\n '2015-01-12',\n '2015-01-13',\n '2015-01-14',\n '2015-01-15',\n '2015-01-16',\n '2015-01-17',\n '2015-01-18',\n '2015-01-19',\n '2015-01-20',\n '2015-01-21',\n '2015-01-22',\n '2015-01-23',\n '2015-01-24',\n '2015-01-25',\n '2015-01-26',\n '2015-01-27',\n '2015-01-28',\n '2015-01-29',\n '2015-01-30',\n '2015-01-31',\n '2015-02-01',\n '2015-02-02',\n '2015-02-03',\n '2015-02-04',\n '2015-02-05',\n '2015-02-06',\n '2015-02-07',\n '2015-02-08',\n '2015-02-09',\n '2015-02-10',\n '2015-02-11',\n '2015-02-12',\n '2015-02-13',\n '2015-02-14',\n '2015-02-15',\n '2015-02-16',\n '2015-02-17',\n '2015-02-18',\n '2015-02-19',\n '2015-02-20',\n '2015-02-21',\n '2015-02-22',\n '2015-02-23',\n '2015-02-24',\n '2015-02-25',\n '2015-02-26',\n '2015-02-27',\n '2015-02-28',\n '2015-03-01',\n '2015-03-02',\n '2015-03-03',\n '2015-03-04',\n '2015-03-05',\n '2015-03-06',\n '2015-03-07',\n '2015-03-08',\n '2015-03-09',\n '2015-03-10',\n '2015-03-11',\n '2015-03-12',\n '2015-03-13',\n '2015-03-14',\n '2015-03-15',\n '2015-03-16',\n '2015-03-17',\n '2015-03-18',\n '2015-03-19',\n '2015-03-20',\n '2015-03-21',\n '2015-03-22',\n '2015-03-23',\n '2015-03-24',\n '2015-03-25',\n '2015-03-26',\n '2015-03-27',\n '2015-03-28',\n '2015-03-29',\n '2015-03-30',\n '2015-03-31',\n '2015-04-01',\n '2015-04-02',\n '2015-04-03',\n '2015-04-04',\n '2015-04-05',\n '2015-04-06',\n '2015-04-07',\n '2015-04-08',\n '2015-04-09',\n '2015-04-10',\n '2015-04-11',\n '2015-04-12',\n '2015-04-13',\n '2015-04-14',\n '2015-04-15',\n '2015-04-16',\n '2015-04-17',\n '2015-04-18',\n '2015-04-19',\n '2015-04-20',\n '2015-04-21',\n '2015-04-22',\n '2015-04-23',\n '2015-04-24',\n '2015-04-25',\n '2015-04-26',\n '2015-04-27',\n '2015-04-28',\n '2015-04-29',\n '2015-04-30',\n '2015-05-01',\n '2015-05-02',\n '2015-05-03',\n '2015-05-04',\n '2015-05-05',\n '2015-05-06',\n '2015-05-07',\n '2015-05-08',\n '2015-05-09',\n '2015-05-10',\n '2015-05-11',\n '2015-05-12',\n '2015-05-13',\n '2015-05-14',\n '2015-05-15',\n '2015-05-16',\n '2015-05-17',\n '2015-05-18',\n '2015-05-19',\n '2015-05-20',\n '2015-05-21',\n '2015-05-22',\n '2015-05-23',\n '2015-05-24',\n '2015-05-25',\n '2015-05-26',\n '2015-05-27',\n '2015-05-28',\n '2015-05-29',\n '2015-05-30',\n '2015-05-31',\n '2015-06-01',\n '2015-06-02',\n '2015-06-03',\n '2015-06-04',\n '2015-06-05',\n '2015-06-06',\n '2015-06-07',\n '2015-06-08',\n '2015-06-09',\n '2015-06-10',\n '2015-06-11',\n '2015-06-12',\n '2015-06-13',\n '2015-06-14',\n '2015-06-15',\n '2015-06-16',\n '2015-06-17',\n '2015-06-18',\n '2015-06-19',\n '2015-06-20',\n '2015-06-21',\n '2015-06-22',\n '2015-06-23',\n '2015-06-24',\n '2015-06-25',\n '2015-06-26',\n '2015-06-27',\n '2015-06-28',\n '2015-06-29',\n '2015-06-30',\n '2015-07-01',\n '2015-07-02',\n '2015-07-03',\n '2015-07-04',\n '2015-07-05',\n '2015-07-06',\n '2015-07-07',\n '2015-07-08',\n '2015-07-09',\n '2015-07-10',\n '2015-07-11',\n '2015-07-12',\n '2015-07-13',\n '2015-07-14',\n '2015-07-15',\n '2015-07-16',\n '2015-07-17',\n '2015-07-18',\n '2015-07-19',\n '2015-07-20',\n '2015-07-21',\n '2015-07-22',\n '2015-07-23',\n '2015-07-24',\n '2015-07-25',\n '2015-07-26',\n '2015-07-27',\n '2015-07-28',\n '2015-07-29',\n '2015-07-30',\n '2015-07-31',\n '2015-08-01',\n '2015-08-02',\n '2015-08-03',\n '2015-08-04',\n '2015-08-05',\n '2015-08-06',\n '2015-08-07',\n '2015-08-08',\n '2015-08-09',\n '2015-08-10',\n '2015-08-11',\n '2015-08-12',\n '2015-08-13',\n '2015-08-14',\n '2015-08-15',\n '2015-08-16',\n '2015-08-17',\n '2015-08-18',\n '2015-08-19',\n '2015-08-20',\n '2015-08-21',\n '2015-08-22',\n '2015-08-23',\n '2015-08-24',\n '2015-08-25',\n '2015-08-26',\n '2015-08-27',\n '2015-08-28',\n '2015-08-29',\n '2015-08-30',\n '2015-08-31',\n '2015-09-01',\n '2015-09-02',\n '2015-09-03',\n '2015-09-04',\n '2015-09-05',\n '2015-09-06',\n '2015-09-07',\n '2015-09-08',\n '2015-09-09',\n '2015-09-10',\n '2015-09-11',\n '2015-09-12',\n '2015-09-13',\n '2015-09-14',\n '2015-09-15',\n '2015-09-16',\n '2015-09-17',\n '2015-09-18',\n '2015-09-19',\n '2015-09-20',\n '2015-09-21',\n '2015-09-22',\n '2015-09-23',\n '2015-09-24',\n '2015-09-25',\n '2015-09-26',\n '2015-09-27',\n '2015-09-28',\n '2015-09-29',\n '2015-09-30',\n '2015-10-01',\n '2015-10-02',\n '2015-10-03',\n '2015-10-04',\n '2015-10-05',\n '2015-10-06',\n '2015-10-07',\n '2015-10-08',\n '2015-10-09',\n '2015-10-10',\n '2015-10-11',\n '2015-10-12',\n '2015-10-13',\n '2015-10-14',\n '2015-10-15',\n '2015-10-16',\n '2015-10-17',\n '2015-10-18',\n '2015-10-19',\n '2015-10-20',\n '2015-10-21',\n '2015-10-22',\n '2015-10-23',\n '2015-10-24',\n '2015-10-25',\n '2015-10-26',\n '2015-10-27',\n '2015-10-28',\n '2015-10-29',\n '2015-10-30',\n '2015-10-31',\n '2015-11-01',\n '2015-11-02',\n '2015-11-03',\n '2015-11-04',\n '2015-11-05',\n '2015-11-06',\n '2015-11-07',\n '2015-11-08',\n '2015-11-09',\n '2015-11-10',\n '2015-11-11',\n '2015-11-12',\n '2015-11-13',\n '2015-11-14',\n '2015-11-15',\n '2015-11-16',\n '2015-11-17',\n '2015-11-18',\n '2015-11-19',\n '2015-11-20',\n '2015-11-21',\n '2015-11-22',\n '2015-11-23',\n '2015-11-24',\n '2015-11-25',\n '2015-11-26',\n '2015-11-27',\n '2015-11-28',\n '2015-11-29',\n '2015-11-30',\n '2015-12-01',\n '2015-12-02',\n '2015-12-03',\n '2015-12-04',\n '2015-12-05',\n '2015-12-06',\n '2015-12-07',\n '2015-12-08',\n '2015-12-09',\n '2015-12-10',\n '2015-12-11',\n '2015-12-12',\n '2015-12-13',\n '2015-12-14',\n '2015-12-15',\n '2015-12-16',\n '2015-12-17',\n '2015-12-18',\n '2015-12-19',\n '2015-12-20',\n '2015-12-21',\n '2015-12-22',\n '2015-12-23',\n '2015-12-24',\n '2015-12-25',\n '2015-12-26',\n '2015-12-27',\n '2015-12-28',\n '2015-12-29',\n '2015-12-30',\n '2015-12-31',\n '2016-01-01',\n '2016-01-02',\n '2016-01-03',\n '2016-01-04',\n '2016-01-05',\n '2016-01-06',\n '2016-01-07',\n '2016-01-08',\n '2016-01-09',\n '2016-01-10',\n '2016-01-11',\n '2016-01-12',\n '2016-01-13',\n '2016-01-14',\n '2016-01-15',\n '2016-01-16',\n '2016-01-17',\n '2016-01-18',\n '2016-01-19',\n '2016-01-20',\n '2016-01-21',\n '2016-01-22',\n '2016-01-23',\n '2016-01-24',\n '2016-01-25',\n '2016-01-26',\n '2016-01-27',\n '2016-01-28',\n '2016-01-29',\n '2016-01-30',\n '2016-01-31',\n '2016-02-01',\n '2016-02-02',\n '2016-02-03',\n '2016-02-04',\n '2016-02-05',\n '2016-02-06',\n '2016-02-07',\n '2016-02-08',\n '2016-02-09',\n '2016-02-10',\n '2016-02-11',\n '2016-02-12',\n '2016-02-13',\n '2016-02-14',\n '2016-02-15',\n '2016-02-16',\n '2016-02-17',\n '2016-02-18',\n '2016-02-19',\n '2016-02-20',\n '2016-02-21',\n '2016-02-22',\n '2016-02-23',\n '2016-02-24',\n '2016-02-25',\n '2016-02-26',\n '2016-02-27',\n '2016-02-28',\n '2016-02-29',\n '2016-03-01',\n '2016-03-02',\n '2016-03-03',\n '2016-03-04',\n '2016-03-05',\n '2016-03-06',\n '2016-03-07',\n '2016-03-08',\n '2016-03-09',\n '2016-03-10',\n '2016-03-11',\n '2016-03-12',\n '2016-03-13',\n '2016-03-14',\n '2016-03-15',\n '2016-03-16',\n '2016-03-17',\n '2016-03-18',\n '2016-03-19',\n '2016-03-20',\n '2016-03-21',\n '2016-03-22',\n '2016-03-23',\n '2016-03-24',\n '2016-03-25',\n '2016-03-26',\n '2016-03-27',\n '2016-03-28',\n '2016-03-29',\n '2016-03-30',\n '2016-03-31',\n '2016-04-01',\n '2016-04-02',\n '2016-04-03',\n '2016-04-04',\n '2016-04-05',\n '2016-04-06',\n '2016-04-07',\n '2016-04-08',\n '2016-04-09',\n '2016-04-10',\n '2016-04-11',\n '2016-04-12',\n '2016-04-13',\n '2016-04-14',\n '2016-04-15',\n '2016-04-16',\n '2016-04-17',\n '2016-04-18',\n '2016-04-19',\n '2016-04-20',\n '2016-04-21',\n '2016-04-22',\n '2016-04-23',\n '2016-04-24',\n '2016-04-25',\n '2016-04-26',\n '2016-04-27',\n '2016-04-28',\n '2016-04-29',\n '2016-04-30',\n '2016-05-01',\n '2016-05-02',\n '2016-05-03',\n '2016-05-04',\n '2016-05-05',\n '2016-05-06',\n '2016-05-07',\n '2016-05-08',\n '2016-05-09',\n '2016-05-10',\n '2016-05-11',\n '2016-05-12',\n '2016-05-13',\n '2016-05-14',\n '2016-05-15',\n '2016-05-16',\n '2016-05-17',\n '2016-05-18',\n '2016-05-19',\n '2016-05-20',\n '2016-05-21',\n '2016-05-22',\n '2016-05-23',\n '2016-05-24',\n '2016-05-25',\n '2016-05-26',\n '2016-05-27',\n '2016-05-28',\n '2016-05-29',\n '2016-05-30',\n '2016-05-31',\n '2016-06-01',\n '2016-06-02',\n '2016-06-03',\n '2016-06-04',\n '2016-06-05',\n '2016-06-06',\n '2016-06-07',\n '2016-06-08',\n '2016-06-09',\n '2016-06-10',\n '2016-06-11',\n '2016-06-12',\n '2016-06-13',\n '2016-06-14',\n '2016-06-15',\n '2016-06-16',\n '2016-06-17',\n '2016-06-18',\n '2016-06-19',\n '2016-06-20',\n '2016-06-21',\n '2016-06-22',\n '2016-06-23',\n '2016-06-24',\n '2016-06-25',\n '2016-06-26',\n '2016-06-27',\n '2016-06-28',\n '2016-06-29',\n '2016-06-30',\n '2016-07-01',\n '2016-07-02',\n '2016-07-03',\n '2016-07-04',\n '2016-07-05',\n '2016-07-06',\n '2016-07-07',\n '2016-07-08',\n '2016-07-09',\n '2016-07-10',\n '2016-07-11',\n '2016-07-12',\n '2016-07-13',\n '2016-07-14',\n '2016-07-15',\n '2016-07-16',\n '2016-07-17',\n '2016-07-18',\n '2016-07-19',\n '2016-07-20',\n '2016-07-21',\n '2016-07-22',\n '2016-07-23',\n '2016-07-24',\n '2016-07-25',\n '2016-07-26',\n '2016-07-27',\n '2016-07-28',\n '2016-07-29',\n '2016-07-30',\n '2016-07-31',\n '2016-08-01',\n '2016-08-02',\n '2016-08-03',\n '2016-08-04',\n '2016-08-05',\n '2016-08-06',\n '2016-08-07',\n '2016-08-08',\n '2016-08-09',\n '2016-08-10',\n '2016-08-11',\n '2016-08-12',\n '2016-08-13',\n '2016-08-14',\n '2016-08-15',\n '2016-08-16',\n '2016-08-17',\n '2016-08-18',\n '2016-08-19',\n '2016-08-20',\n '2016-08-21',\n '2016-08-22',\n '2016-08-23',\n '2016-08-24',\n '2016-08-25',\n '2016-08-26',\n '2016-08-27',\n '2016-08-28',\n '2016-08-29',\n '2016-08-30',\n '2016-08-31',\n '2016-09-01',\n '2016-09-02',\n '2016-09-03',\n '2016-09-04',\n '2016-09-05',\n '2016-09-06',\n '2016-09-07',\n '2016-09-08',\n '2016-09-09',\n '2016-09-10',\n '2016-09-11',\n '2016-09-12',\n '2016-09-13',\n '2016-09-14',\n '2016-09-15',\n '2016-09-16',\n '2016-09-17',\n '2016-09-18',\n '2016-09-19',\n '2016-09-20',\n '2016-09-21',\n '2016-09-22',\n '2016-09-23',\n '2016-09-24',\n '2016-09-25',\n '2016-09-26',\n '2016-09-27',\n ...]"
     },
     "execution_count": 68,
     "metadata": {},
     "output_type": "execute_result"
    }
   ],
   "source": [
    "list_date"
   ],
   "metadata": {
    "collapsed": false,
    "pycharm": {
     "name": "#%%\n"
    }
   }
  },
  {
   "cell_type": "code",
   "execution_count": 80,
   "outputs": [
    {
     "data": {
      "text/plain": "[('2014-01-02', 'AAPL'),\n ('2014-01-02', 'AMGN'),\n ('2014-01-02', 'AXP'),\n ('2014-01-02', 'BA'),\n ('2014-01-02', 'CAT'),\n ('2014-01-02', 'CRM'),\n ('2014-01-02', 'CSCO'),\n ('2014-01-02', 'CVX'),\n ('2014-01-02', 'DIS'),\n ('2014-01-02', 'GS'),\n ('2014-01-02', 'HD'),\n ('2014-01-02', 'HON'),\n ('2014-01-02', 'IBM'),\n ('2014-01-02', 'INTC'),\n ('2014-01-02', 'JNJ'),\n ('2014-01-02', 'JPM'),\n ('2014-01-02', 'KO'),\n ('2014-01-02', 'MCD'),\n ('2014-01-02', 'MMM'),\n ('2014-01-02', 'MRK'),\n ('2014-01-02', 'MSFT'),\n ('2014-01-02', 'NKE'),\n ('2014-01-02', 'PG'),\n ('2014-01-02', 'TRV'),\n ('2014-01-02', 'UNH'),\n ('2014-01-02', 'V'),\n ('2014-01-02', 'VZ'),\n ('2014-01-02', 'WBA'),\n ('2014-01-02', 'WMT'),\n ('2014-01-03', 'AAPL'),\n ('2014-01-03', 'AMGN'),\n ('2014-01-03', 'AXP'),\n ('2014-01-03', 'BA'),\n ('2014-01-03', 'CAT'),\n ('2014-01-03', 'CRM'),\n ('2014-01-03', 'CSCO'),\n ('2014-01-03', 'CVX'),\n ('2014-01-03', 'DIS'),\n ('2014-01-03', 'GS'),\n ('2014-01-03', 'HD'),\n ('2014-01-03', 'HON'),\n ('2014-01-03', 'IBM'),\n ('2014-01-03', 'INTC'),\n ('2014-01-03', 'JNJ'),\n ('2014-01-03', 'JPM'),\n ('2014-01-03', 'KO'),\n ('2014-01-03', 'MCD'),\n ('2014-01-03', 'MMM'),\n ('2014-01-03', 'MRK'),\n ('2014-01-03', 'MSFT'),\n ('2014-01-03', 'NKE'),\n ('2014-01-03', 'PG'),\n ('2014-01-03', 'TRV'),\n ('2014-01-03', 'UNH'),\n ('2014-01-03', 'V'),\n ('2014-01-03', 'VZ'),\n ('2014-01-03', 'WBA'),\n ('2014-01-03', 'WMT'),\n ('2014-01-04', 'AAPL'),\n ('2014-01-04', 'AMGN'),\n ('2014-01-04', 'AXP'),\n ('2014-01-04', 'BA'),\n ('2014-01-04', 'CAT'),\n ('2014-01-04', 'CRM'),\n ('2014-01-04', 'CSCO'),\n ('2014-01-04', 'CVX'),\n ('2014-01-04', 'DIS'),\n ('2014-01-04', 'GS'),\n ('2014-01-04', 'HD'),\n ('2014-01-04', 'HON'),\n ('2014-01-04', 'IBM'),\n ('2014-01-04', 'INTC'),\n ('2014-01-04', 'JNJ'),\n ('2014-01-04', 'JPM'),\n ('2014-01-04', 'KO'),\n ('2014-01-04', 'MCD'),\n ('2014-01-04', 'MMM'),\n ('2014-01-04', 'MRK'),\n ('2014-01-04', 'MSFT'),\n ('2014-01-04', 'NKE'),\n ('2014-01-04', 'PG'),\n ('2014-01-04', 'TRV'),\n ('2014-01-04', 'UNH'),\n ('2014-01-04', 'V'),\n ('2014-01-04', 'VZ'),\n ('2014-01-04', 'WBA'),\n ('2014-01-04', 'WMT'),\n ('2014-01-05', 'AAPL'),\n ('2014-01-05', 'AMGN'),\n ('2014-01-05', 'AXP'),\n ('2014-01-05', 'BA'),\n ('2014-01-05', 'CAT'),\n ('2014-01-05', 'CRM'),\n ('2014-01-05', 'CSCO'),\n ('2014-01-05', 'CVX'),\n ('2014-01-05', 'DIS'),\n ('2014-01-05', 'GS'),\n ('2014-01-05', 'HD'),\n ('2014-01-05', 'HON'),\n ('2014-01-05', 'IBM'),\n ('2014-01-05', 'INTC'),\n ('2014-01-05', 'JNJ'),\n ('2014-01-05', 'JPM'),\n ('2014-01-05', 'KO'),\n ('2014-01-05', 'MCD'),\n ('2014-01-05', 'MMM'),\n ('2014-01-05', 'MRK'),\n ('2014-01-05', 'MSFT'),\n ('2014-01-05', 'NKE'),\n ('2014-01-05', 'PG'),\n ('2014-01-05', 'TRV'),\n ('2014-01-05', 'UNH'),\n ('2014-01-05', 'V'),\n ('2014-01-05', 'VZ'),\n ('2014-01-05', 'WBA'),\n ('2014-01-05', 'WMT'),\n ('2014-01-06', 'AAPL'),\n ('2014-01-06', 'AMGN'),\n ('2014-01-06', 'AXP'),\n ('2014-01-06', 'BA'),\n ('2014-01-06', 'CAT'),\n ('2014-01-06', 'CRM'),\n ('2014-01-06', 'CSCO'),\n ('2014-01-06', 'CVX'),\n ('2014-01-06', 'DIS'),\n ('2014-01-06', 'GS'),\n ('2014-01-06', 'HD'),\n ('2014-01-06', 'HON'),\n ('2014-01-06', 'IBM'),\n ('2014-01-06', 'INTC'),\n ('2014-01-06', 'JNJ'),\n ('2014-01-06', 'JPM'),\n ('2014-01-06', 'KO'),\n ('2014-01-06', 'MCD'),\n ('2014-01-06', 'MMM'),\n ('2014-01-06', 'MRK'),\n ('2014-01-06', 'MSFT'),\n ('2014-01-06', 'NKE'),\n ('2014-01-06', 'PG'),\n ('2014-01-06', 'TRV'),\n ('2014-01-06', 'UNH'),\n ('2014-01-06', 'V'),\n ('2014-01-06', 'VZ'),\n ('2014-01-06', 'WBA'),\n ('2014-01-06', 'WMT'),\n ('2014-01-07', 'AAPL'),\n ('2014-01-07', 'AMGN'),\n ('2014-01-07', 'AXP'),\n ('2014-01-07', 'BA'),\n ('2014-01-07', 'CAT'),\n ('2014-01-07', 'CRM'),\n ('2014-01-07', 'CSCO'),\n ('2014-01-07', 'CVX'),\n ('2014-01-07', 'DIS'),\n ('2014-01-07', 'GS'),\n ('2014-01-07', 'HD'),\n ('2014-01-07', 'HON'),\n ('2014-01-07', 'IBM'),\n ('2014-01-07', 'INTC'),\n ('2014-01-07', 'JNJ'),\n ('2014-01-07', 'JPM'),\n ('2014-01-07', 'KO'),\n ('2014-01-07', 'MCD'),\n ('2014-01-07', 'MMM'),\n ('2014-01-07', 'MRK'),\n ('2014-01-07', 'MSFT'),\n ('2014-01-07', 'NKE'),\n ('2014-01-07', 'PG'),\n ('2014-01-07', 'TRV'),\n ('2014-01-07', 'UNH'),\n ('2014-01-07', 'V'),\n ('2014-01-07', 'VZ'),\n ('2014-01-07', 'WBA'),\n ('2014-01-07', 'WMT'),\n ('2014-01-08', 'AAPL'),\n ('2014-01-08', 'AMGN'),\n ('2014-01-08', 'AXP'),\n ('2014-01-08', 'BA'),\n ('2014-01-08', 'CAT'),\n ('2014-01-08', 'CRM'),\n ('2014-01-08', 'CSCO'),\n ('2014-01-08', 'CVX'),\n ('2014-01-08', 'DIS'),\n ('2014-01-08', 'GS'),\n ('2014-01-08', 'HD'),\n ('2014-01-08', 'HON'),\n ('2014-01-08', 'IBM'),\n ('2014-01-08', 'INTC'),\n ('2014-01-08', 'JNJ'),\n ('2014-01-08', 'JPM'),\n ('2014-01-08', 'KO'),\n ('2014-01-08', 'MCD'),\n ('2014-01-08', 'MMM'),\n ('2014-01-08', 'MRK'),\n ('2014-01-08', 'MSFT'),\n ('2014-01-08', 'NKE'),\n ('2014-01-08', 'PG'),\n ('2014-01-08', 'TRV'),\n ('2014-01-08', 'UNH'),\n ('2014-01-08', 'V'),\n ('2014-01-08', 'VZ'),\n ('2014-01-08', 'WBA'),\n ('2014-01-08', 'WMT'),\n ('2014-01-09', 'AAPL'),\n ('2014-01-09', 'AMGN'),\n ('2014-01-09', 'AXP'),\n ('2014-01-09', 'BA'),\n ('2014-01-09', 'CAT'),\n ('2014-01-09', 'CRM'),\n ('2014-01-09', 'CSCO'),\n ('2014-01-09', 'CVX'),\n ('2014-01-09', 'DIS'),\n ('2014-01-09', 'GS'),\n ('2014-01-09', 'HD'),\n ('2014-01-09', 'HON'),\n ('2014-01-09', 'IBM'),\n ('2014-01-09', 'INTC'),\n ('2014-01-09', 'JNJ'),\n ('2014-01-09', 'JPM'),\n ('2014-01-09', 'KO'),\n ('2014-01-09', 'MCD'),\n ('2014-01-09', 'MMM'),\n ('2014-01-09', 'MRK'),\n ('2014-01-09', 'MSFT'),\n ('2014-01-09', 'NKE'),\n ('2014-01-09', 'PG'),\n ('2014-01-09', 'TRV'),\n ('2014-01-09', 'UNH'),\n ('2014-01-09', 'V'),\n ('2014-01-09', 'VZ'),\n ('2014-01-09', 'WBA'),\n ('2014-01-09', 'WMT'),\n ('2014-01-10', 'AAPL'),\n ('2014-01-10', 'AMGN'),\n ('2014-01-10', 'AXP'),\n ('2014-01-10', 'BA'),\n ('2014-01-10', 'CAT'),\n ('2014-01-10', 'CRM'),\n ('2014-01-10', 'CSCO'),\n ('2014-01-10', 'CVX'),\n ('2014-01-10', 'DIS'),\n ('2014-01-10', 'GS'),\n ('2014-01-10', 'HD'),\n ('2014-01-10', 'HON'),\n ('2014-01-10', 'IBM'),\n ('2014-01-10', 'INTC'),\n ('2014-01-10', 'JNJ'),\n ('2014-01-10', 'JPM'),\n ('2014-01-10', 'KO'),\n ('2014-01-10', 'MCD'),\n ('2014-01-10', 'MMM'),\n ('2014-01-10', 'MRK'),\n ('2014-01-10', 'MSFT'),\n ('2014-01-10', 'NKE'),\n ('2014-01-10', 'PG'),\n ('2014-01-10', 'TRV'),\n ('2014-01-10', 'UNH'),\n ('2014-01-10', 'V'),\n ('2014-01-10', 'VZ'),\n ('2014-01-10', 'WBA'),\n ('2014-01-10', 'WMT'),\n ('2014-01-11', 'AAPL'),\n ('2014-01-11', 'AMGN'),\n ('2014-01-11', 'AXP'),\n ('2014-01-11', 'BA'),\n ('2014-01-11', 'CAT'),\n ('2014-01-11', 'CRM'),\n ('2014-01-11', 'CSCO'),\n ('2014-01-11', 'CVX'),\n ('2014-01-11', 'DIS'),\n ('2014-01-11', 'GS'),\n ('2014-01-11', 'HD'),\n ('2014-01-11', 'HON'),\n ('2014-01-11', 'IBM'),\n ('2014-01-11', 'INTC'),\n ('2014-01-11', 'JNJ'),\n ('2014-01-11', 'JPM'),\n ('2014-01-11', 'KO'),\n ('2014-01-11', 'MCD'),\n ('2014-01-11', 'MMM'),\n ('2014-01-11', 'MRK'),\n ('2014-01-11', 'MSFT'),\n ('2014-01-11', 'NKE'),\n ('2014-01-11', 'PG'),\n ('2014-01-11', 'TRV'),\n ('2014-01-11', 'UNH'),\n ('2014-01-11', 'V'),\n ('2014-01-11', 'VZ'),\n ('2014-01-11', 'WBA'),\n ('2014-01-11', 'WMT'),\n ('2014-01-12', 'AAPL'),\n ('2014-01-12', 'AMGN'),\n ('2014-01-12', 'AXP'),\n ('2014-01-12', 'BA'),\n ('2014-01-12', 'CAT'),\n ('2014-01-12', 'CRM'),\n ('2014-01-12', 'CSCO'),\n ('2014-01-12', 'CVX'),\n ('2014-01-12', 'DIS'),\n ('2014-01-12', 'GS'),\n ('2014-01-12', 'HD'),\n ('2014-01-12', 'HON'),\n ('2014-01-12', 'IBM'),\n ('2014-01-12', 'INTC'),\n ('2014-01-12', 'JNJ'),\n ('2014-01-12', 'JPM'),\n ('2014-01-12', 'KO'),\n ('2014-01-12', 'MCD'),\n ('2014-01-12', 'MMM'),\n ('2014-01-12', 'MRK'),\n ('2014-01-12', 'MSFT'),\n ('2014-01-12', 'NKE'),\n ('2014-01-12', 'PG'),\n ('2014-01-12', 'TRV'),\n ('2014-01-12', 'UNH'),\n ('2014-01-12', 'V'),\n ('2014-01-12', 'VZ'),\n ('2014-01-12', 'WBA'),\n ('2014-01-12', 'WMT'),\n ('2014-01-13', 'AAPL'),\n ('2014-01-13', 'AMGN'),\n ('2014-01-13', 'AXP'),\n ('2014-01-13', 'BA'),\n ('2014-01-13', 'CAT'),\n ('2014-01-13', 'CRM'),\n ('2014-01-13', 'CSCO'),\n ('2014-01-13', 'CVX'),\n ('2014-01-13', 'DIS'),\n ('2014-01-13', 'GS'),\n ('2014-01-13', 'HD'),\n ('2014-01-13', 'HON'),\n ('2014-01-13', 'IBM'),\n ('2014-01-13', 'INTC'),\n ('2014-01-13', 'JNJ'),\n ('2014-01-13', 'JPM'),\n ('2014-01-13', 'KO'),\n ('2014-01-13', 'MCD'),\n ('2014-01-13', 'MMM'),\n ('2014-01-13', 'MRK'),\n ('2014-01-13', 'MSFT'),\n ('2014-01-13', 'NKE'),\n ('2014-01-13', 'PG'),\n ('2014-01-13', 'TRV'),\n ('2014-01-13', 'UNH'),\n ('2014-01-13', 'V'),\n ('2014-01-13', 'VZ'),\n ('2014-01-13', 'WBA'),\n ('2014-01-13', 'WMT'),\n ('2014-01-14', 'AAPL'),\n ('2014-01-14', 'AMGN'),\n ('2014-01-14', 'AXP'),\n ('2014-01-14', 'BA'),\n ('2014-01-14', 'CAT'),\n ('2014-01-14', 'CRM'),\n ('2014-01-14', 'CSCO'),\n ('2014-01-14', 'CVX'),\n ('2014-01-14', 'DIS'),\n ('2014-01-14', 'GS'),\n ('2014-01-14', 'HD'),\n ('2014-01-14', 'HON'),\n ('2014-01-14', 'IBM'),\n ('2014-01-14', 'INTC'),\n ('2014-01-14', 'JNJ'),\n ('2014-01-14', 'JPM'),\n ('2014-01-14', 'KO'),\n ('2014-01-14', 'MCD'),\n ('2014-01-14', 'MMM'),\n ('2014-01-14', 'MRK'),\n ('2014-01-14', 'MSFT'),\n ('2014-01-14', 'NKE'),\n ('2014-01-14', 'PG'),\n ('2014-01-14', 'TRV'),\n ('2014-01-14', 'UNH'),\n ('2014-01-14', 'V'),\n ('2014-01-14', 'VZ'),\n ('2014-01-14', 'WBA'),\n ('2014-01-14', 'WMT'),\n ('2014-01-15', 'AAPL'),\n ('2014-01-15', 'AMGN'),\n ('2014-01-15', 'AXP'),\n ('2014-01-15', 'BA'),\n ('2014-01-15', 'CAT'),\n ('2014-01-15', 'CRM'),\n ('2014-01-15', 'CSCO'),\n ('2014-01-15', 'CVX'),\n ('2014-01-15', 'DIS'),\n ('2014-01-15', 'GS'),\n ('2014-01-15', 'HD'),\n ('2014-01-15', 'HON'),\n ('2014-01-15', 'IBM'),\n ('2014-01-15', 'INTC'),\n ('2014-01-15', 'JNJ'),\n ('2014-01-15', 'JPM'),\n ('2014-01-15', 'KO'),\n ('2014-01-15', 'MCD'),\n ('2014-01-15', 'MMM'),\n ('2014-01-15', 'MRK'),\n ('2014-01-15', 'MSFT'),\n ('2014-01-15', 'NKE'),\n ('2014-01-15', 'PG'),\n ('2014-01-15', 'TRV'),\n ('2014-01-15', 'UNH'),\n ('2014-01-15', 'V'),\n ('2014-01-15', 'VZ'),\n ('2014-01-15', 'WBA'),\n ('2014-01-15', 'WMT'),\n ('2014-01-16', 'AAPL'),\n ('2014-01-16', 'AMGN'),\n ('2014-01-16', 'AXP'),\n ('2014-01-16', 'BA'),\n ('2014-01-16', 'CAT'),\n ('2014-01-16', 'CRM'),\n ('2014-01-16', 'CSCO'),\n ('2014-01-16', 'CVX'),\n ('2014-01-16', 'DIS'),\n ('2014-01-16', 'GS'),\n ('2014-01-16', 'HD'),\n ('2014-01-16', 'HON'),\n ('2014-01-16', 'IBM'),\n ('2014-01-16', 'INTC'),\n ('2014-01-16', 'JNJ'),\n ('2014-01-16', 'JPM'),\n ('2014-01-16', 'KO'),\n ('2014-01-16', 'MCD'),\n ('2014-01-16', 'MMM'),\n ('2014-01-16', 'MRK'),\n ('2014-01-16', 'MSFT'),\n ('2014-01-16', 'NKE'),\n ('2014-01-16', 'PG'),\n ('2014-01-16', 'TRV'),\n ('2014-01-16', 'UNH'),\n ('2014-01-16', 'V'),\n ('2014-01-16', 'VZ'),\n ('2014-01-16', 'WBA'),\n ('2014-01-16', 'WMT'),\n ('2014-01-17', 'AAPL'),\n ('2014-01-17', 'AMGN'),\n ('2014-01-17', 'AXP'),\n ('2014-01-17', 'BA'),\n ('2014-01-17', 'CAT'),\n ('2014-01-17', 'CRM'),\n ('2014-01-17', 'CSCO'),\n ('2014-01-17', 'CVX'),\n ('2014-01-17', 'DIS'),\n ('2014-01-17', 'GS'),\n ('2014-01-17', 'HD'),\n ('2014-01-17', 'HON'),\n ('2014-01-17', 'IBM'),\n ('2014-01-17', 'INTC'),\n ('2014-01-17', 'JNJ'),\n ('2014-01-17', 'JPM'),\n ('2014-01-17', 'KO'),\n ('2014-01-17', 'MCD'),\n ('2014-01-17', 'MMM'),\n ('2014-01-17', 'MRK'),\n ('2014-01-17', 'MSFT'),\n ('2014-01-17', 'NKE'),\n ('2014-01-17', 'PG'),\n ('2014-01-17', 'TRV'),\n ('2014-01-17', 'UNH'),\n ('2014-01-17', 'V'),\n ('2014-01-17', 'VZ'),\n ('2014-01-17', 'WBA'),\n ('2014-01-17', 'WMT'),\n ('2014-01-18', 'AAPL'),\n ('2014-01-18', 'AMGN'),\n ('2014-01-18', 'AXP'),\n ('2014-01-18', 'BA'),\n ('2014-01-18', 'CAT'),\n ('2014-01-18', 'CRM'),\n ('2014-01-18', 'CSCO'),\n ('2014-01-18', 'CVX'),\n ('2014-01-18', 'DIS'),\n ('2014-01-18', 'GS'),\n ('2014-01-18', 'HD'),\n ('2014-01-18', 'HON'),\n ('2014-01-18', 'IBM'),\n ('2014-01-18', 'INTC'),\n ('2014-01-18', 'JNJ'),\n ('2014-01-18', 'JPM'),\n ('2014-01-18', 'KO'),\n ('2014-01-18', 'MCD'),\n ('2014-01-18', 'MMM'),\n ('2014-01-18', 'MRK'),\n ('2014-01-18', 'MSFT'),\n ('2014-01-18', 'NKE'),\n ('2014-01-18', 'PG'),\n ('2014-01-18', 'TRV'),\n ('2014-01-18', 'UNH'),\n ('2014-01-18', 'V'),\n ('2014-01-18', 'VZ'),\n ('2014-01-18', 'WBA'),\n ('2014-01-18', 'WMT'),\n ('2014-01-19', 'AAPL'),\n ('2014-01-19', 'AMGN'),\n ('2014-01-19', 'AXP'),\n ('2014-01-19', 'BA'),\n ('2014-01-19', 'CAT'),\n ('2014-01-19', 'CRM'),\n ('2014-01-19', 'CSCO'),\n ('2014-01-19', 'CVX'),\n ('2014-01-19', 'DIS'),\n ('2014-01-19', 'GS'),\n ('2014-01-19', 'HD'),\n ('2014-01-19', 'HON'),\n ('2014-01-19', 'IBM'),\n ('2014-01-19', 'INTC'),\n ('2014-01-19', 'JNJ'),\n ('2014-01-19', 'JPM'),\n ('2014-01-19', 'KO'),\n ('2014-01-19', 'MCD'),\n ('2014-01-19', 'MMM'),\n ('2014-01-19', 'MRK'),\n ('2014-01-19', 'MSFT'),\n ('2014-01-19', 'NKE'),\n ('2014-01-19', 'PG'),\n ('2014-01-19', 'TRV'),\n ('2014-01-19', 'UNH'),\n ('2014-01-19', 'V'),\n ('2014-01-19', 'VZ'),\n ('2014-01-19', 'WBA'),\n ('2014-01-19', 'WMT'),\n ('2014-01-20', 'AAPL'),\n ('2014-01-20', 'AMGN'),\n ('2014-01-20', 'AXP'),\n ('2014-01-20', 'BA'),\n ('2014-01-20', 'CAT'),\n ('2014-01-20', 'CRM'),\n ('2014-01-20', 'CSCO'),\n ('2014-01-20', 'CVX'),\n ('2014-01-20', 'DIS'),\n ('2014-01-20', 'GS'),\n ('2014-01-20', 'HD'),\n ('2014-01-20', 'HON'),\n ('2014-01-20', 'IBM'),\n ('2014-01-20', 'INTC'),\n ('2014-01-20', 'JNJ'),\n ('2014-01-20', 'JPM'),\n ('2014-01-20', 'KO'),\n ('2014-01-20', 'MCD'),\n ('2014-01-20', 'MMM'),\n ('2014-01-20', 'MRK'),\n ('2014-01-20', 'MSFT'),\n ('2014-01-20', 'NKE'),\n ('2014-01-20', 'PG'),\n ('2014-01-20', 'TRV'),\n ('2014-01-20', 'UNH'),\n ('2014-01-20', 'V'),\n ('2014-01-20', 'VZ'),\n ('2014-01-20', 'WBA'),\n ('2014-01-20', 'WMT'),\n ('2014-01-21', 'AAPL'),\n ('2014-01-21', 'AMGN'),\n ('2014-01-21', 'AXP'),\n ('2014-01-21', 'BA'),\n ('2014-01-21', 'CAT'),\n ('2014-01-21', 'CRM'),\n ('2014-01-21', 'CSCO'),\n ('2014-01-21', 'CVX'),\n ('2014-01-21', 'DIS'),\n ('2014-01-21', 'GS'),\n ('2014-01-21', 'HD'),\n ('2014-01-21', 'HON'),\n ('2014-01-21', 'IBM'),\n ('2014-01-21', 'INTC'),\n ('2014-01-21', 'JNJ'),\n ('2014-01-21', 'JPM'),\n ('2014-01-21', 'KO'),\n ('2014-01-21', 'MCD'),\n ('2014-01-21', 'MMM'),\n ('2014-01-21', 'MRK'),\n ('2014-01-21', 'MSFT'),\n ('2014-01-21', 'NKE'),\n ('2014-01-21', 'PG'),\n ('2014-01-21', 'TRV'),\n ('2014-01-21', 'UNH'),\n ('2014-01-21', 'V'),\n ('2014-01-21', 'VZ'),\n ('2014-01-21', 'WBA'),\n ('2014-01-21', 'WMT'),\n ('2014-01-22', 'AAPL'),\n ('2014-01-22', 'AMGN'),\n ('2014-01-22', 'AXP'),\n ('2014-01-22', 'BA'),\n ('2014-01-22', 'CAT'),\n ('2014-01-22', 'CRM'),\n ('2014-01-22', 'CSCO'),\n ('2014-01-22', 'CVX'),\n ('2014-01-22', 'DIS'),\n ('2014-01-22', 'GS'),\n ('2014-01-22', 'HD'),\n ('2014-01-22', 'HON'),\n ('2014-01-22', 'IBM'),\n ('2014-01-22', 'INTC'),\n ('2014-01-22', 'JNJ'),\n ('2014-01-22', 'JPM'),\n ('2014-01-22', 'KO'),\n ('2014-01-22', 'MCD'),\n ('2014-01-22', 'MMM'),\n ('2014-01-22', 'MRK'),\n ('2014-01-22', 'MSFT'),\n ('2014-01-22', 'NKE'),\n ('2014-01-22', 'PG'),\n ('2014-01-22', 'TRV'),\n ('2014-01-22', 'UNH'),\n ('2014-01-22', 'V'),\n ('2014-01-22', 'VZ'),\n ('2014-01-22', 'WBA'),\n ('2014-01-22', 'WMT'),\n ('2014-01-23', 'AAPL'),\n ('2014-01-23', 'AMGN'),\n ('2014-01-23', 'AXP'),\n ('2014-01-23', 'BA'),\n ('2014-01-23', 'CAT'),\n ('2014-01-23', 'CRM'),\n ('2014-01-23', 'CSCO'),\n ('2014-01-23', 'CVX'),\n ('2014-01-23', 'DIS'),\n ('2014-01-23', 'GS'),\n ('2014-01-23', 'HD'),\n ('2014-01-23', 'HON'),\n ('2014-01-23', 'IBM'),\n ('2014-01-23', 'INTC'),\n ('2014-01-23', 'JNJ'),\n ('2014-01-23', 'JPM'),\n ('2014-01-23', 'KO'),\n ('2014-01-23', 'MCD'),\n ('2014-01-23', 'MMM'),\n ('2014-01-23', 'MRK'),\n ('2014-01-23', 'MSFT'),\n ('2014-01-23', 'NKE'),\n ('2014-01-23', 'PG'),\n ('2014-01-23', 'TRV'),\n ('2014-01-23', 'UNH'),\n ('2014-01-23', 'V'),\n ('2014-01-23', 'VZ'),\n ('2014-01-23', 'WBA'),\n ('2014-01-23', 'WMT'),\n ('2014-01-24', 'AAPL'),\n ('2014-01-24', 'AMGN'),\n ('2014-01-24', 'AXP'),\n ('2014-01-24', 'BA'),\n ('2014-01-24', 'CAT'),\n ('2014-01-24', 'CRM'),\n ('2014-01-24', 'CSCO'),\n ('2014-01-24', 'CVX'),\n ('2014-01-24', 'DIS'),\n ('2014-01-24', 'GS'),\n ('2014-01-24', 'HD'),\n ('2014-01-24', 'HON'),\n ('2014-01-24', 'IBM'),\n ('2014-01-24', 'INTC'),\n ('2014-01-24', 'JNJ'),\n ('2014-01-24', 'JPM'),\n ('2014-01-24', 'KO'),\n ('2014-01-24', 'MCD'),\n ('2014-01-24', 'MMM'),\n ('2014-01-24', 'MRK'),\n ('2014-01-24', 'MSFT'),\n ('2014-01-24', 'NKE'),\n ('2014-01-24', 'PG'),\n ('2014-01-24', 'TRV'),\n ('2014-01-24', 'UNH'),\n ('2014-01-24', 'V'),\n ('2014-01-24', 'VZ'),\n ('2014-01-24', 'WBA'),\n ('2014-01-24', 'WMT'),\n ('2014-01-25', 'AAPL'),\n ('2014-01-25', 'AMGN'),\n ('2014-01-25', 'AXP'),\n ('2014-01-25', 'BA'),\n ('2014-01-25', 'CAT'),\n ('2014-01-25', 'CRM'),\n ('2014-01-25', 'CSCO'),\n ('2014-01-25', 'CVX'),\n ('2014-01-25', 'DIS'),\n ('2014-01-25', 'GS'),\n ('2014-01-25', 'HD'),\n ('2014-01-25', 'HON'),\n ('2014-01-25', 'IBM'),\n ('2014-01-25', 'INTC'),\n ('2014-01-25', 'JNJ'),\n ('2014-01-25', 'JPM'),\n ('2014-01-25', 'KO'),\n ('2014-01-25', 'MCD'),\n ('2014-01-25', 'MMM'),\n ('2014-01-25', 'MRK'),\n ('2014-01-25', 'MSFT'),\n ('2014-01-25', 'NKE'),\n ('2014-01-25', 'PG'),\n ('2014-01-25', 'TRV'),\n ('2014-01-25', 'UNH'),\n ('2014-01-25', 'V'),\n ('2014-01-25', 'VZ'),\n ('2014-01-25', 'WBA'),\n ('2014-01-25', 'WMT'),\n ('2014-01-26', 'AAPL'),\n ('2014-01-26', 'AMGN'),\n ('2014-01-26', 'AXP'),\n ('2014-01-26', 'BA'),\n ('2014-01-26', 'CAT'),\n ('2014-01-26', 'CRM'),\n ('2014-01-26', 'CSCO'),\n ('2014-01-26', 'CVX'),\n ('2014-01-26', 'DIS'),\n ('2014-01-26', 'GS'),\n ('2014-01-26', 'HD'),\n ('2014-01-26', 'HON'),\n ('2014-01-26', 'IBM'),\n ('2014-01-26', 'INTC'),\n ('2014-01-26', 'JNJ'),\n ('2014-01-26', 'JPM'),\n ('2014-01-26', 'KO'),\n ('2014-01-26', 'MCD'),\n ('2014-01-26', 'MMM'),\n ('2014-01-26', 'MRK'),\n ('2014-01-26', 'MSFT'),\n ('2014-01-26', 'NKE'),\n ('2014-01-26', 'PG'),\n ('2014-01-26', 'TRV'),\n ('2014-01-26', 'UNH'),\n ('2014-01-26', 'V'),\n ('2014-01-26', 'VZ'),\n ('2014-01-26', 'WBA'),\n ('2014-01-26', 'WMT'),\n ('2014-01-27', 'AAPL'),\n ('2014-01-27', 'AMGN'),\n ('2014-01-27', 'AXP'),\n ('2014-01-27', 'BA'),\n ('2014-01-27', 'CAT'),\n ('2014-01-27', 'CRM'),\n ('2014-01-27', 'CSCO'),\n ('2014-01-27', 'CVX'),\n ('2014-01-27', 'DIS'),\n ('2014-01-27', 'GS'),\n ('2014-01-27', 'HD'),\n ('2014-01-27', 'HON'),\n ('2014-01-27', 'IBM'),\n ('2014-01-27', 'INTC'),\n ('2014-01-27', 'JNJ'),\n ('2014-01-27', 'JPM'),\n ('2014-01-27', 'KO'),\n ('2014-01-27', 'MCD'),\n ('2014-01-27', 'MMM'),\n ('2014-01-27', 'MRK'),\n ('2014-01-27', 'MSFT'),\n ('2014-01-27', 'NKE'),\n ('2014-01-27', 'PG'),\n ('2014-01-27', 'TRV'),\n ('2014-01-27', 'UNH'),\n ('2014-01-27', 'V'),\n ('2014-01-27', 'VZ'),\n ('2014-01-27', 'WBA'),\n ('2014-01-27', 'WMT'),\n ('2014-01-28', 'AAPL'),\n ('2014-01-28', 'AMGN'),\n ('2014-01-28', 'AXP'),\n ('2014-01-28', 'BA'),\n ('2014-01-28', 'CAT'),\n ('2014-01-28', 'CRM'),\n ('2014-01-28', 'CSCO'),\n ('2014-01-28', 'CVX'),\n ('2014-01-28', 'DIS'),\n ('2014-01-28', 'GS'),\n ('2014-01-28', 'HD'),\n ('2014-01-28', 'HON'),\n ('2014-01-28', 'IBM'),\n ('2014-01-28', 'INTC'),\n ('2014-01-28', 'JNJ'),\n ('2014-01-28', 'JPM'),\n ('2014-01-28', 'KO'),\n ('2014-01-28', 'MCD'),\n ('2014-01-28', 'MMM'),\n ('2014-01-28', 'MRK'),\n ('2014-01-28', 'MSFT'),\n ('2014-01-28', 'NKE'),\n ('2014-01-28', 'PG'),\n ('2014-01-28', 'TRV'),\n ('2014-01-28', 'UNH'),\n ('2014-01-28', 'V'),\n ('2014-01-28', 'VZ'),\n ('2014-01-28', 'WBA'),\n ('2014-01-28', 'WMT'),\n ('2014-01-29', 'AAPL'),\n ('2014-01-29', 'AMGN'),\n ('2014-01-29', 'AXP'),\n ('2014-01-29', 'BA'),\n ('2014-01-29', 'CAT'),\n ('2014-01-29', 'CRM'),\n ('2014-01-29', 'CSCO'),\n ('2014-01-29', 'CVX'),\n ('2014-01-29', 'DIS'),\n ('2014-01-29', 'GS'),\n ('2014-01-29', 'HD'),\n ('2014-01-29', 'HON'),\n ('2014-01-29', 'IBM'),\n ('2014-01-29', 'INTC'),\n ('2014-01-29', 'JNJ'),\n ('2014-01-29', 'JPM'),\n ('2014-01-29', 'KO'),\n ('2014-01-29', 'MCD'),\n ('2014-01-29', 'MMM'),\n ('2014-01-29', 'MRK'),\n ('2014-01-29', 'MSFT'),\n ('2014-01-29', 'NKE'),\n ('2014-01-29', 'PG'),\n ('2014-01-29', 'TRV'),\n ('2014-01-29', 'UNH'),\n ('2014-01-29', 'V'),\n ('2014-01-29', 'VZ'),\n ('2014-01-29', 'WBA'),\n ('2014-01-29', 'WMT'),\n ('2014-01-30', 'AAPL'),\n ('2014-01-30', 'AMGN'),\n ('2014-01-30', 'AXP'),\n ('2014-01-30', 'BA'),\n ('2014-01-30', 'CAT'),\n ('2014-01-30', 'CRM'),\n ('2014-01-30', 'CSCO'),\n ('2014-01-30', 'CVX'),\n ('2014-01-30', 'DIS'),\n ('2014-01-30', 'GS'),\n ('2014-01-30', 'HD'),\n ('2014-01-30', 'HON'),\n ('2014-01-30', 'IBM'),\n ('2014-01-30', 'INTC'),\n ('2014-01-30', 'JNJ'),\n ('2014-01-30', 'JPM'),\n ('2014-01-30', 'KO'),\n ('2014-01-30', 'MCD'),\n ('2014-01-30', 'MMM'),\n ('2014-01-30', 'MRK'),\n ('2014-01-30', 'MSFT'),\n ('2014-01-30', 'NKE'),\n ('2014-01-30', 'PG'),\n ('2014-01-30', 'TRV'),\n ('2014-01-30', 'UNH'),\n ('2014-01-30', 'V'),\n ('2014-01-30', 'VZ'),\n ('2014-01-30', 'WBA'),\n ('2014-01-30', 'WMT'),\n ('2014-01-31', 'AAPL'),\n ('2014-01-31', 'AMGN'),\n ('2014-01-31', 'AXP'),\n ('2014-01-31', 'BA'),\n ('2014-01-31', 'CAT'),\n ('2014-01-31', 'CRM'),\n ('2014-01-31', 'CSCO'),\n ('2014-01-31', 'CVX'),\n ('2014-01-31', 'DIS'),\n ('2014-01-31', 'GS'),\n ('2014-01-31', 'HD'),\n ('2014-01-31', 'HON'),\n ('2014-01-31', 'IBM'),\n ('2014-01-31', 'INTC'),\n ('2014-01-31', 'JNJ'),\n ('2014-01-31', 'JPM'),\n ('2014-01-31', 'KO'),\n ('2014-01-31', 'MCD'),\n ('2014-01-31', 'MMM'),\n ('2014-01-31', 'MRK'),\n ('2014-01-31', 'MSFT'),\n ('2014-01-31', 'NKE'),\n ('2014-01-31', 'PG'),\n ('2014-01-31', 'TRV'),\n ('2014-01-31', 'UNH'),\n ('2014-01-31', 'V'),\n ('2014-01-31', 'VZ'),\n ('2014-01-31', 'WBA'),\n ('2014-01-31', 'WMT'),\n ('2014-02-01', 'AAPL'),\n ('2014-02-01', 'AMGN'),\n ('2014-02-01', 'AXP'),\n ('2014-02-01', 'BA'),\n ('2014-02-01', 'CAT'),\n ('2014-02-01', 'CRM'),\n ('2014-02-01', 'CSCO'),\n ('2014-02-01', 'CVX'),\n ('2014-02-01', 'DIS'),\n ('2014-02-01', 'GS'),\n ('2014-02-01', 'HD'),\n ('2014-02-01', 'HON'),\n ('2014-02-01', 'IBM'),\n ('2014-02-01', 'INTC'),\n ('2014-02-01', 'JNJ'),\n ('2014-02-01', 'JPM'),\n ('2014-02-01', 'KO'),\n ('2014-02-01', 'MCD'),\n ('2014-02-01', 'MMM'),\n ('2014-02-01', 'MRK'),\n ('2014-02-01', 'MSFT'),\n ('2014-02-01', 'NKE'),\n ('2014-02-01', 'PG'),\n ('2014-02-01', 'TRV'),\n ('2014-02-01', 'UNH'),\n ('2014-02-01', 'V'),\n ('2014-02-01', 'VZ'),\n ('2014-02-01', 'WBA'),\n ('2014-02-01', 'WMT'),\n ('2014-02-02', 'AAPL'),\n ('2014-02-02', 'AMGN'),\n ('2014-02-02', 'AXP'),\n ('2014-02-02', 'BA'),\n ('2014-02-02', 'CAT'),\n ('2014-02-02', 'CRM'),\n ('2014-02-02', 'CSCO'),\n ('2014-02-02', 'CVX'),\n ('2014-02-02', 'DIS'),\n ('2014-02-02', 'GS'),\n ('2014-02-02', 'HD'),\n ('2014-02-02', 'HON'),\n ('2014-02-02', 'IBM'),\n ('2014-02-02', 'INTC'),\n ('2014-02-02', 'JNJ'),\n ('2014-02-02', 'JPM'),\n ('2014-02-02', 'KO'),\n ('2014-02-02', 'MCD'),\n ('2014-02-02', 'MMM'),\n ('2014-02-02', 'MRK'),\n ('2014-02-02', 'MSFT'),\n ('2014-02-02', 'NKE'),\n ('2014-02-02', 'PG'),\n ('2014-02-02', 'TRV'),\n ('2014-02-02', 'UNH'),\n ('2014-02-02', 'V'),\n ('2014-02-02', 'VZ'),\n ('2014-02-02', 'WBA'),\n ('2014-02-02', 'WMT'),\n ('2014-02-03', 'AAPL'),\n ('2014-02-03', 'AMGN'),\n ('2014-02-03', 'AXP'),\n ('2014-02-03', 'BA'),\n ('2014-02-03', 'CAT'),\n ('2014-02-03', 'CRM'),\n ('2014-02-03', 'CSCO'),\n ('2014-02-03', 'CVX'),\n ('2014-02-03', 'DIS'),\n ('2014-02-03', 'GS'),\n ('2014-02-03', 'HD'),\n ('2014-02-03', 'HON'),\n ('2014-02-03', 'IBM'),\n ('2014-02-03', 'INTC'),\n ('2014-02-03', 'JNJ'),\n ('2014-02-03', 'JPM'),\n ('2014-02-03', 'KO'),\n ('2014-02-03', 'MCD'),\n ('2014-02-03', 'MMM'),\n ('2014-02-03', 'MRK'),\n ('2014-02-03', 'MSFT'),\n ('2014-02-03', 'NKE'),\n ('2014-02-03', 'PG'),\n ('2014-02-03', 'TRV'),\n ('2014-02-03', 'UNH'),\n ('2014-02-03', 'V'),\n ('2014-02-03', 'VZ'),\n ('2014-02-03', 'WBA'),\n ('2014-02-03', 'WMT'),\n ('2014-02-04', 'AAPL'),\n ('2014-02-04', 'AMGN'),\n ('2014-02-04', 'AXP'),\n ('2014-02-04', 'BA'),\n ('2014-02-04', 'CAT'),\n ('2014-02-04', 'CRM'),\n ('2014-02-04', 'CSCO'),\n ('2014-02-04', 'CVX'),\n ('2014-02-04', 'DIS'),\n ('2014-02-04', 'GS'),\n ('2014-02-04', 'HD'),\n ('2014-02-04', 'HON'),\n ('2014-02-04', 'IBM'),\n ('2014-02-04', 'INTC'),\n ('2014-02-04', 'JNJ'),\n ('2014-02-04', 'JPM'),\n ('2014-02-04', 'KO'),\n ('2014-02-04', 'MCD'),\n ('2014-02-04', 'MMM'),\n ('2014-02-04', 'MRK'),\n ('2014-02-04', 'MSFT'),\n ('2014-02-04', 'NKE'),\n ('2014-02-04', 'PG'),\n ('2014-02-04', 'TRV'),\n ('2014-02-04', 'UNH'),\n ('2014-02-04', 'V'),\n ('2014-02-04', 'VZ'),\n ('2014-02-04', 'WBA'),\n ('2014-02-04', 'WMT'),\n ('2014-02-05', 'AAPL'),\n ('2014-02-05', 'AMGN'),\n ('2014-02-05', 'AXP'),\n ('2014-02-05', 'BA'),\n ('2014-02-05', 'CAT'),\n ('2014-02-05', 'CRM'),\n ('2014-02-05', 'CSCO'),\n ('2014-02-05', 'CVX'),\n ('2014-02-05', 'DIS'),\n ('2014-02-05', 'GS'),\n ('2014-02-05', 'HD'),\n ('2014-02-05', 'HON'),\n ('2014-02-05', 'IBM'),\n ('2014-02-05', 'INTC'),\n ...]"
     },
     "execution_count": 80,
     "metadata": {},
     "output_type": "execute_result"
    }
   ],
   "source": [
    "len(combination)\n",
    "combination"
   ],
   "metadata": {
    "collapsed": false,
    "pycharm": {
     "name": "#%%\n"
    }
   }
  },
  {
   "cell_type": "code",
   "execution_count": 70,
   "outputs": [
    {
     "data": {
      "text/plain": "             date   tic        open        high         low       close  \\\n0      2014-01-02  AAPL   19.845715   19.893929   19.715000   17.468651   \n1      2014-01-02  AMGN  114.360001  116.190002  114.059998   92.386444   \n2      2014-01-02   AXP   90.900002   91.080002   89.379997   78.765556   \n3      2014-01-02    BA  136.009995  137.250000  135.509995  116.807930   \n4      2014-01-02   CAT   90.410004   90.449997   89.330002   70.465065   \n...           ...   ...         ...         ...         ...         ...   \n90359  2022-07-14   UNH  495.000000  505.890015  492.279999  502.429993   \n90360  2022-07-14     V  200.000000  206.080002  197.979996  205.910004   \n90361  2022-07-14    VZ   49.919998   50.560001   49.730000   50.490002   \n90362  2022-07-14   WBA   36.900002   37.279999   36.570000   36.860001   \n90363  2022-07-14   WMT  124.160004  128.320007  124.139999  127.820000   \n\n            volume  day      macd     boll_ub     boll_lb     rsi_30  \\\n0      234684800.0  3.0  0.000000   17.819446   16.734143   0.000000   \n1        2528800.0  3.0  0.000000   17.819446   16.734143   0.000000   \n2        5112000.0  3.0  0.000000   17.819446   16.734143   0.000000   \n3        3366700.0  3.0  0.000000   17.819446   16.734143   0.000000   \n4        4898000.0  3.0  0.000000   17.819446   16.734143   0.000000   \n...            ...  ...       ...         ...         ...        ...   \n90359    3765500.0  3.0  5.719483  541.031445  457.538556  51.287180   \n90360    5605500.0  3.0  0.576729  209.711687  189.368311  50.929830   \n90361   10271700.0  3.0  0.238293   51.905338   48.480509  51.482344   \n90362    8298400.0  3.0 -1.247196   42.514092   35.969907  37.316657   \n90363    6968500.0  3.0 -0.334148  128.014755  118.477245  47.399804   \n\n           cci_30       dx_30  close_30_sma  close_60_sma    vix  turbulence  \n0      -66.666667  100.000000     17.468651     17.468651  14.23    0.000000  \n1      -66.666667  100.000000     92.386444     92.386444  14.23    0.000000  \n2      -66.666667  100.000000     78.765556     78.765556  14.23    0.000000  \n3      -66.666667  100.000000    116.807930    116.807930  14.23    0.000000  \n4      -66.666667  100.000000     70.465065     70.465065  14.23    0.000000  \n...           ...         ...           ...           ...    ...         ...  \n90359   28.084294    6.645158    494.172718    497.288927  26.40   40.675502  \n90360   16.830909    3.920683    202.025666    203.934600  26.40   40.675502  \n90361  -30.628838    0.150199     50.199703     49.582664  26.40   40.675502  \n90362 -130.672323   28.719038     40.246666     41.767423  26.40   40.675502  \n90363  118.417527   12.793544    123.177667    133.279528  26.40   40.675502  \n\n[90364 rows x 18 columns]",
      "text/html": "<div>\n<style scoped>\n    .dataframe tbody tr th:only-of-type {\n        vertical-align: middle;\n    }\n\n    .dataframe tbody tr th {\n        vertical-align: top;\n    }\n\n    .dataframe thead th {\n        text-align: right;\n    }\n</style>\n<table border=\"1\" class=\"dataframe\">\n  <thead>\n    <tr style=\"text-align: right;\">\n      <th></th>\n      <th>date</th>\n      <th>tic</th>\n      <th>open</th>\n      <th>high</th>\n      <th>low</th>\n      <th>close</th>\n      <th>volume</th>\n      <th>day</th>\n      <th>macd</th>\n      <th>boll_ub</th>\n      <th>boll_lb</th>\n      <th>rsi_30</th>\n      <th>cci_30</th>\n      <th>dx_30</th>\n      <th>close_30_sma</th>\n      <th>close_60_sma</th>\n      <th>vix</th>\n      <th>turbulence</th>\n    </tr>\n  </thead>\n  <tbody>\n    <tr>\n      <th>0</th>\n      <td>2014-01-02</td>\n      <td>AAPL</td>\n      <td>19.845715</td>\n      <td>19.893929</td>\n      <td>19.715000</td>\n      <td>17.468651</td>\n      <td>234684800.0</td>\n      <td>3.0</td>\n      <td>0.000000</td>\n      <td>17.819446</td>\n      <td>16.734143</td>\n      <td>0.000000</td>\n      <td>-66.666667</td>\n      <td>100.000000</td>\n      <td>17.468651</td>\n      <td>17.468651</td>\n      <td>14.23</td>\n      <td>0.000000</td>\n    </tr>\n    <tr>\n      <th>1</th>\n      <td>2014-01-02</td>\n      <td>AMGN</td>\n      <td>114.360001</td>\n      <td>116.190002</td>\n      <td>114.059998</td>\n      <td>92.386444</td>\n      <td>2528800.0</td>\n      <td>3.0</td>\n      <td>0.000000</td>\n      <td>17.819446</td>\n      <td>16.734143</td>\n      <td>0.000000</td>\n      <td>-66.666667</td>\n      <td>100.000000</td>\n      <td>92.386444</td>\n      <td>92.386444</td>\n      <td>14.23</td>\n      <td>0.000000</td>\n    </tr>\n    <tr>\n      <th>2</th>\n      <td>2014-01-02</td>\n      <td>AXP</td>\n      <td>90.900002</td>\n      <td>91.080002</td>\n      <td>89.379997</td>\n      <td>78.765556</td>\n      <td>5112000.0</td>\n      <td>3.0</td>\n      <td>0.000000</td>\n      <td>17.819446</td>\n      <td>16.734143</td>\n      <td>0.000000</td>\n      <td>-66.666667</td>\n      <td>100.000000</td>\n      <td>78.765556</td>\n      <td>78.765556</td>\n      <td>14.23</td>\n      <td>0.000000</td>\n    </tr>\n    <tr>\n      <th>3</th>\n      <td>2014-01-02</td>\n      <td>BA</td>\n      <td>136.009995</td>\n      <td>137.250000</td>\n      <td>135.509995</td>\n      <td>116.807930</td>\n      <td>3366700.0</td>\n      <td>3.0</td>\n      <td>0.000000</td>\n      <td>17.819446</td>\n      <td>16.734143</td>\n      <td>0.000000</td>\n      <td>-66.666667</td>\n      <td>100.000000</td>\n      <td>116.807930</td>\n      <td>116.807930</td>\n      <td>14.23</td>\n      <td>0.000000</td>\n    </tr>\n    <tr>\n      <th>4</th>\n      <td>2014-01-02</td>\n      <td>CAT</td>\n      <td>90.410004</td>\n      <td>90.449997</td>\n      <td>89.330002</td>\n      <td>70.465065</td>\n      <td>4898000.0</td>\n      <td>3.0</td>\n      <td>0.000000</td>\n      <td>17.819446</td>\n      <td>16.734143</td>\n      <td>0.000000</td>\n      <td>-66.666667</td>\n      <td>100.000000</td>\n      <td>70.465065</td>\n      <td>70.465065</td>\n      <td>14.23</td>\n      <td>0.000000</td>\n    </tr>\n    <tr>\n      <th>...</th>\n      <td>...</td>\n      <td>...</td>\n      <td>...</td>\n      <td>...</td>\n      <td>...</td>\n      <td>...</td>\n      <td>...</td>\n      <td>...</td>\n      <td>...</td>\n      <td>...</td>\n      <td>...</td>\n      <td>...</td>\n      <td>...</td>\n      <td>...</td>\n      <td>...</td>\n      <td>...</td>\n      <td>...</td>\n      <td>...</td>\n    </tr>\n    <tr>\n      <th>90359</th>\n      <td>2022-07-14</td>\n      <td>UNH</td>\n      <td>495.000000</td>\n      <td>505.890015</td>\n      <td>492.279999</td>\n      <td>502.429993</td>\n      <td>3765500.0</td>\n      <td>3.0</td>\n      <td>5.719483</td>\n      <td>541.031445</td>\n      <td>457.538556</td>\n      <td>51.287180</td>\n      <td>28.084294</td>\n      <td>6.645158</td>\n      <td>494.172718</td>\n      <td>497.288927</td>\n      <td>26.40</td>\n      <td>40.675502</td>\n    </tr>\n    <tr>\n      <th>90360</th>\n      <td>2022-07-14</td>\n      <td>V</td>\n      <td>200.000000</td>\n      <td>206.080002</td>\n      <td>197.979996</td>\n      <td>205.910004</td>\n      <td>5605500.0</td>\n      <td>3.0</td>\n      <td>0.576729</td>\n      <td>209.711687</td>\n      <td>189.368311</td>\n      <td>50.929830</td>\n      <td>16.830909</td>\n      <td>3.920683</td>\n      <td>202.025666</td>\n      <td>203.934600</td>\n      <td>26.40</td>\n      <td>40.675502</td>\n    </tr>\n    <tr>\n      <th>90361</th>\n      <td>2022-07-14</td>\n      <td>VZ</td>\n      <td>49.919998</td>\n      <td>50.560001</td>\n      <td>49.730000</td>\n      <td>50.490002</td>\n      <td>10271700.0</td>\n      <td>3.0</td>\n      <td>0.238293</td>\n      <td>51.905338</td>\n      <td>48.480509</td>\n      <td>51.482344</td>\n      <td>-30.628838</td>\n      <td>0.150199</td>\n      <td>50.199703</td>\n      <td>49.582664</td>\n      <td>26.40</td>\n      <td>40.675502</td>\n    </tr>\n    <tr>\n      <th>90362</th>\n      <td>2022-07-14</td>\n      <td>WBA</td>\n      <td>36.900002</td>\n      <td>37.279999</td>\n      <td>36.570000</td>\n      <td>36.860001</td>\n      <td>8298400.0</td>\n      <td>3.0</td>\n      <td>-1.247196</td>\n      <td>42.514092</td>\n      <td>35.969907</td>\n      <td>37.316657</td>\n      <td>-130.672323</td>\n      <td>28.719038</td>\n      <td>40.246666</td>\n      <td>41.767423</td>\n      <td>26.40</td>\n      <td>40.675502</td>\n    </tr>\n    <tr>\n      <th>90363</th>\n      <td>2022-07-14</td>\n      <td>WMT</td>\n      <td>124.160004</td>\n      <td>128.320007</td>\n      <td>124.139999</td>\n      <td>127.820000</td>\n      <td>6968500.0</td>\n      <td>3.0</td>\n      <td>-0.334148</td>\n      <td>128.014755</td>\n      <td>118.477245</td>\n      <td>47.399804</td>\n      <td>118.417527</td>\n      <td>12.793544</td>\n      <td>123.177667</td>\n      <td>133.279528</td>\n      <td>26.40</td>\n      <td>40.675502</td>\n    </tr>\n  </tbody>\n</table>\n<p>90364 rows × 18 columns</p>\n</div>"
     },
     "execution_count": 70,
     "metadata": {},
     "output_type": "execute_result"
    }
   ],
   "source": [
    "processed_full = pd.DataFrame(combination,columns=[\"date\",\"tic\"]).merge(processed,on=[\"date\",\"tic\"],how=\"left\")\n",
    "processed_full"
   ],
   "metadata": {
    "collapsed": false,
    "pycharm": {
     "name": "#%%\n"
    }
   }
  },
  {
   "cell_type": "code",
   "execution_count": null,
   "outputs": [],
   "source": [
    "processed_full = processed_full[processed_full['date'].isin(processed['date'])]\n",
    "processed_full"
   ],
   "metadata": {
    "collapsed": false,
    "pycharm": {
     "name": "#%%\n"
    }
   }
  },
  {
   "cell_type": "code",
   "execution_count": null,
   "outputs": [],
   "source": [
    "processed_full = processed_full.sort_values(['date','tic'])\n",
    "processed_full"
   ],
   "metadata": {
    "collapsed": false,
    "pycharm": {
     "name": "#%%\n"
    }
   }
  },
  {
   "cell_type": "code",
   "execution_count": null,
   "outputs": [],
   "source": [
    "processed_full = processed_full.fillna(0)\n",
    "processed_full"
   ],
   "metadata": {
    "collapsed": false,
    "pycharm": {
     "name": "#%%\n"
    }
   }
  },
  {
   "cell_type": "code",
   "execution_count": 14,
   "metadata": {
    "colab": {
     "base_uri": "https://localhost:8080/",
     "height": 600
    },
    "id": "grvhGJJII3Xn",
    "outputId": "733758c3-3552-4aa5-e1f9-789bd4ce0c92",
    "pycharm": {
     "name": "#%%\n"
    }
   },
   "outputs": [
    {
     "data": {
      "text/plain": "         date   tic        open        high         low       close  \\\n0  2014-01-02  AAPL   19.845715   19.893929   19.715000   17.468651   \n1  2014-01-02  AMGN  114.360001  116.190002  114.059998   92.386444   \n2  2014-01-02   AXP   90.900002   91.080002   89.379997   78.765556   \n3  2014-01-02    BA  136.009995  137.250000  135.509995  116.807930   \n4  2014-01-02   CAT   90.410004   90.449997   89.330002   70.465065   \n5  2014-01-02   CRM   55.200001   55.209999   54.410000   54.860001   \n6  2014-01-02  CSCO   22.170000   22.290001   21.910000   16.872833   \n7  2014-01-02   CVX  124.459999  124.879997  123.709999   86.226318   \n8  2014-01-02   DIS   76.040001   76.500000   75.900002   70.192528   \n9  2014-01-02    GS  176.949997  178.380005  176.360001  153.568451   \n\n        volume  day  macd    boll_ub    boll_lb  rsi_30     cci_30  dx_30  \\\n0  234684800.0  3.0   0.0  17.819446  16.734143     0.0 -66.666667  100.0   \n1    2528800.0  3.0   0.0  17.819446  16.734143     0.0 -66.666667  100.0   \n2    5112000.0  3.0   0.0  17.819446  16.734143     0.0 -66.666667  100.0   \n3    3366700.0  3.0   0.0  17.819446  16.734143     0.0 -66.666667  100.0   \n4    4898000.0  3.0   0.0  17.819446  16.734143     0.0 -66.666667  100.0   \n5    2730200.0  3.0   0.0  17.819446  16.734143     0.0 -66.666667  100.0   \n6   44377000.0  3.0   0.0  17.819446  16.734143     0.0 -66.666667  100.0   \n7    4540300.0  3.0   0.0  17.819446  16.734143     0.0 -66.666667  100.0   \n8    5200900.0  3.0   0.0  17.819446  16.734143     0.0 -66.666667  100.0   \n9    1982100.0  3.0   0.0  17.819446  16.734143     0.0 -66.666667  100.0   \n\n   close_30_sma  close_60_sma    vix  turbulence  \n0     17.468651     17.468651  14.23         0.0  \n1     92.386444     92.386444  14.23         0.0  \n2     78.765556     78.765556  14.23         0.0  \n3    116.807930    116.807930  14.23         0.0  \n4     70.465065     70.465065  14.23         0.0  \n5     54.860001     54.860001  14.23         0.0  \n6     16.872833     16.872833  14.23         0.0  \n7     86.226318     86.226318  14.23         0.0  \n8     70.192528     70.192528  14.23         0.0  \n9    153.568451    153.568451  14.23         0.0  ",
      "text/html": "<div>\n<style scoped>\n    .dataframe tbody tr th:only-of-type {\n        vertical-align: middle;\n    }\n\n    .dataframe tbody tr th {\n        vertical-align: top;\n    }\n\n    .dataframe thead th {\n        text-align: right;\n    }\n</style>\n<table border=\"1\" class=\"dataframe\">\n  <thead>\n    <tr style=\"text-align: right;\">\n      <th></th>\n      <th>date</th>\n      <th>tic</th>\n      <th>open</th>\n      <th>high</th>\n      <th>low</th>\n      <th>close</th>\n      <th>volume</th>\n      <th>day</th>\n      <th>macd</th>\n      <th>boll_ub</th>\n      <th>boll_lb</th>\n      <th>rsi_30</th>\n      <th>cci_30</th>\n      <th>dx_30</th>\n      <th>close_30_sma</th>\n      <th>close_60_sma</th>\n      <th>vix</th>\n      <th>turbulence</th>\n    </tr>\n  </thead>\n  <tbody>\n    <tr>\n      <th>0</th>\n      <td>2014-01-02</td>\n      <td>AAPL</td>\n      <td>19.845715</td>\n      <td>19.893929</td>\n      <td>19.715000</td>\n      <td>17.468651</td>\n      <td>234684800.0</td>\n      <td>3.0</td>\n      <td>0.0</td>\n      <td>17.819446</td>\n      <td>16.734143</td>\n      <td>0.0</td>\n      <td>-66.666667</td>\n      <td>100.0</td>\n      <td>17.468651</td>\n      <td>17.468651</td>\n      <td>14.23</td>\n      <td>0.0</td>\n    </tr>\n    <tr>\n      <th>1</th>\n      <td>2014-01-02</td>\n      <td>AMGN</td>\n      <td>114.360001</td>\n      <td>116.190002</td>\n      <td>114.059998</td>\n      <td>92.386444</td>\n      <td>2528800.0</td>\n      <td>3.0</td>\n      <td>0.0</td>\n      <td>17.819446</td>\n      <td>16.734143</td>\n      <td>0.0</td>\n      <td>-66.666667</td>\n      <td>100.0</td>\n      <td>92.386444</td>\n      <td>92.386444</td>\n      <td>14.23</td>\n      <td>0.0</td>\n    </tr>\n    <tr>\n      <th>2</th>\n      <td>2014-01-02</td>\n      <td>AXP</td>\n      <td>90.900002</td>\n      <td>91.080002</td>\n      <td>89.379997</td>\n      <td>78.765556</td>\n      <td>5112000.0</td>\n      <td>3.0</td>\n      <td>0.0</td>\n      <td>17.819446</td>\n      <td>16.734143</td>\n      <td>0.0</td>\n      <td>-66.666667</td>\n      <td>100.0</td>\n      <td>78.765556</td>\n      <td>78.765556</td>\n      <td>14.23</td>\n      <td>0.0</td>\n    </tr>\n    <tr>\n      <th>3</th>\n      <td>2014-01-02</td>\n      <td>BA</td>\n      <td>136.009995</td>\n      <td>137.250000</td>\n      <td>135.509995</td>\n      <td>116.807930</td>\n      <td>3366700.0</td>\n      <td>3.0</td>\n      <td>0.0</td>\n      <td>17.819446</td>\n      <td>16.734143</td>\n      <td>0.0</td>\n      <td>-66.666667</td>\n      <td>100.0</td>\n      <td>116.807930</td>\n      <td>116.807930</td>\n      <td>14.23</td>\n      <td>0.0</td>\n    </tr>\n    <tr>\n      <th>4</th>\n      <td>2014-01-02</td>\n      <td>CAT</td>\n      <td>90.410004</td>\n      <td>90.449997</td>\n      <td>89.330002</td>\n      <td>70.465065</td>\n      <td>4898000.0</td>\n      <td>3.0</td>\n      <td>0.0</td>\n      <td>17.819446</td>\n      <td>16.734143</td>\n      <td>0.0</td>\n      <td>-66.666667</td>\n      <td>100.0</td>\n      <td>70.465065</td>\n      <td>70.465065</td>\n      <td>14.23</td>\n      <td>0.0</td>\n    </tr>\n    <tr>\n      <th>5</th>\n      <td>2014-01-02</td>\n      <td>CRM</td>\n      <td>55.200001</td>\n      <td>55.209999</td>\n      <td>54.410000</td>\n      <td>54.860001</td>\n      <td>2730200.0</td>\n      <td>3.0</td>\n      <td>0.0</td>\n      <td>17.819446</td>\n      <td>16.734143</td>\n      <td>0.0</td>\n      <td>-66.666667</td>\n      <td>100.0</td>\n      <td>54.860001</td>\n      <td>54.860001</td>\n      <td>14.23</td>\n      <td>0.0</td>\n    </tr>\n    <tr>\n      <th>6</th>\n      <td>2014-01-02</td>\n      <td>CSCO</td>\n      <td>22.170000</td>\n      <td>22.290001</td>\n      <td>21.910000</td>\n      <td>16.872833</td>\n      <td>44377000.0</td>\n      <td>3.0</td>\n      <td>0.0</td>\n      <td>17.819446</td>\n      <td>16.734143</td>\n      <td>0.0</td>\n      <td>-66.666667</td>\n      <td>100.0</td>\n      <td>16.872833</td>\n      <td>16.872833</td>\n      <td>14.23</td>\n      <td>0.0</td>\n    </tr>\n    <tr>\n      <th>7</th>\n      <td>2014-01-02</td>\n      <td>CVX</td>\n      <td>124.459999</td>\n      <td>124.879997</td>\n      <td>123.709999</td>\n      <td>86.226318</td>\n      <td>4540300.0</td>\n      <td>3.0</td>\n      <td>0.0</td>\n      <td>17.819446</td>\n      <td>16.734143</td>\n      <td>0.0</td>\n      <td>-66.666667</td>\n      <td>100.0</td>\n      <td>86.226318</td>\n      <td>86.226318</td>\n      <td>14.23</td>\n      <td>0.0</td>\n    </tr>\n    <tr>\n      <th>8</th>\n      <td>2014-01-02</td>\n      <td>DIS</td>\n      <td>76.040001</td>\n      <td>76.500000</td>\n      <td>75.900002</td>\n      <td>70.192528</td>\n      <td>5200900.0</td>\n      <td>3.0</td>\n      <td>0.0</td>\n      <td>17.819446</td>\n      <td>16.734143</td>\n      <td>0.0</td>\n      <td>-66.666667</td>\n      <td>100.0</td>\n      <td>70.192528</td>\n      <td>70.192528</td>\n      <td>14.23</td>\n      <td>0.0</td>\n    </tr>\n    <tr>\n      <th>9</th>\n      <td>2014-01-02</td>\n      <td>GS</td>\n      <td>176.949997</td>\n      <td>178.380005</td>\n      <td>176.360001</td>\n      <td>153.568451</td>\n      <td>1982100.0</td>\n      <td>3.0</td>\n      <td>0.0</td>\n      <td>17.819446</td>\n      <td>16.734143</td>\n      <td>0.0</td>\n      <td>-66.666667</td>\n      <td>100.0</td>\n      <td>153.568451</td>\n      <td>153.568451</td>\n      <td>14.23</td>\n      <td>0.0</td>\n    </tr>\n  </tbody>\n</table>\n</div>"
     },
     "execution_count": 14,
     "metadata": {},
     "output_type": "execute_result"
    }
   ],
   "source": [
    "processed_full.sort_values(['date','tic'],ignore_index=True).head(10)"
   ]
  },
  {
   "cell_type": "code",
   "execution_count": 15,
   "outputs": [],
   "source": [
    "processed_full.to_csv('csv_pandas.csv', index=False)"
   ],
   "metadata": {
    "collapsed": false,
    "pycharm": {
     "name": "#%%\n"
    }
   }
  },
  {
   "cell_type": "markdown",
   "metadata": {
    "id": "-QsYaY0Dh1iw",
    "pycharm": {
     "name": "#%% md\n"
    }
   },
   "source": [
    "<a id='4'></a>\n",
    "# Part 5. Design Environment\n",
    "Considering the stochastic and interactive nature of the automated stock trading tasks, a financial task is modeled as a **Markov Decision Process (MDP)** problem. The training process involves observing stock price change, taking an action and reward's calculation to have the agent adjusting its strategy accordingly. By interacting with the environment, the trading agent will derive a trading strategy with the maximized rewards as time proceeds.\n",
    "\n",
    "Our trading environments, based on OpenAI Gym framework, simulate live stock markets with real market data according to the principle of time-driven simulation.\n",
    "\n",
    "The action space describes the allowed actions that the agent interacts with the environment. Normally, action a includes three actions: {-1, 0, 1}, where -1, 0, 1 represent selling, holding, and buying one share. Also, an action can be carried upon multiple shares. We use an action space {-k,…,-1, 0, 1, …, k}, where k denotes the number of shares to buy and -k denotes the number of shares to sell. For example, \"Buy 10 shares of AAPL\" or \"Sell 10 shares of AAPL\" are 10 or -10, respectively. The continuous action space needs to be normalized to [-1, 1], since the policy is defined on a Gaussian distribution, which needs to be normalized and symmetric."
   ]
  },
  {
   "cell_type": "code",
   "execution_count": 15,
   "outputs": [],
   "source": [],
   "metadata": {
    "collapsed": false,
    "pycharm": {
     "name": "#%%\n"
    }
   }
  },
  {
   "cell_type": "markdown",
   "metadata": {
    "id": "5TOhcryx44bb",
    "pycharm": {
     "name": "#%% md\n"
    }
   },
   "source": [
    "## Training data split: 2009-01-01 to 2020-07-01\n",
    "## Trade data split: 2020-07-01 to 2021-10-31"
   ]
  },
  {
   "cell_type": "code",
   "execution_count": 16,
   "metadata": {
    "colab": {
     "base_uri": "https://localhost:8080/"
    },
    "id": "W0qaVGjLtgbI",
    "outputId": "ca8d1a43-ffc3-4fc3-efa9-4de9a9065842",
    "pycharm": {
     "name": "#%%\n"
    }
   },
   "outputs": [
    {
     "name": "stdout",
     "output_type": "stream",
     "text": [
      "47415\n",
      "14877\n"
     ]
    }
   ],
   "source": [
    "train = data_split(processed_full, '2009-01-01','2020-07-01')\n",
    "trade = data_split(processed_full, '2020-07-01','2022-07-16')\n",
    "print(len(train))\n",
    "print(len(trade))"
   ]
  },
  {
   "cell_type": "code",
   "execution_count": 17,
   "metadata": {
    "colab": {
     "base_uri": "https://localhost:8080/",
     "height": 357
    },
    "id": "p52zNCOhTtLR",
    "outputId": "b3ad3e10-376f-4186-f875-0331708c5e14",
    "pycharm": {
     "name": "#%%\n"
    }
   },
   "outputs": [
    {
     "data": {
      "text/plain": "            date  tic        open        high         low       close  \\\n1634  2020-06-30  UNH  288.570007  296.450012  287.660004  286.754181   \n1634  2020-06-30    V  191.490005  193.750000  190.160004  190.737259   \n1634  2020-06-30   VZ   54.919998   55.290001   54.360001   49.750820   \n1634  2020-06-30  WBA   42.119999   42.580002   41.759998   39.035732   \n1634  2020-06-30  WMT  119.220001  120.129997  118.540001  116.121765   \n\n          volume  day      macd     boll_ub     boll_lb     rsi_30     cci_30  \\\n1634   2932900.0  1.0 -0.019411  302.845884  270.287353  52.413045 -25.866308   \n1634   9040100.0  1.0  1.048787  198.750525  185.041401  53.021045 -51.550642   \n1634  17414800.0  1.0 -0.431679   53.248502   48.123875  48.097032 -51.065602   \n1634   4782100.0  1.0 -0.083986   42.609305   36.487096  48.830181 -14.508123   \n1634   6836400.0  1.0 -0.886569  119.473754  113.510456  48.159666 -69.938794   \n\n         dx_30  close_30_sma  close_60_sma    vix  turbulence  \n1634  1.846804    286.997209    280.002899  30.43   12.918761  \n1634  2.013358    191.485039    181.677684  30.43   12.918761  \n1634  8.508886     50.378309     50.825243  30.43   12.918761  \n1634  1.500723     39.135190     38.935130  30.43   12.918761  \n1634  3.847271    117.787625    119.723273  30.43   12.918761  ",
      "text/html": "<div>\n<style scoped>\n    .dataframe tbody tr th:only-of-type {\n        vertical-align: middle;\n    }\n\n    .dataframe tbody tr th {\n        vertical-align: top;\n    }\n\n    .dataframe thead th {\n        text-align: right;\n    }\n</style>\n<table border=\"1\" class=\"dataframe\">\n  <thead>\n    <tr style=\"text-align: right;\">\n      <th></th>\n      <th>date</th>\n      <th>tic</th>\n      <th>open</th>\n      <th>high</th>\n      <th>low</th>\n      <th>close</th>\n      <th>volume</th>\n      <th>day</th>\n      <th>macd</th>\n      <th>boll_ub</th>\n      <th>boll_lb</th>\n      <th>rsi_30</th>\n      <th>cci_30</th>\n      <th>dx_30</th>\n      <th>close_30_sma</th>\n      <th>close_60_sma</th>\n      <th>vix</th>\n      <th>turbulence</th>\n    </tr>\n  </thead>\n  <tbody>\n    <tr>\n      <th>1634</th>\n      <td>2020-06-30</td>\n      <td>UNH</td>\n      <td>288.570007</td>\n      <td>296.450012</td>\n      <td>287.660004</td>\n      <td>286.754181</td>\n      <td>2932900.0</td>\n      <td>1.0</td>\n      <td>-0.019411</td>\n      <td>302.845884</td>\n      <td>270.287353</td>\n      <td>52.413045</td>\n      <td>-25.866308</td>\n      <td>1.846804</td>\n      <td>286.997209</td>\n      <td>280.002899</td>\n      <td>30.43</td>\n      <td>12.918761</td>\n    </tr>\n    <tr>\n      <th>1634</th>\n      <td>2020-06-30</td>\n      <td>V</td>\n      <td>191.490005</td>\n      <td>193.750000</td>\n      <td>190.160004</td>\n      <td>190.737259</td>\n      <td>9040100.0</td>\n      <td>1.0</td>\n      <td>1.048787</td>\n      <td>198.750525</td>\n      <td>185.041401</td>\n      <td>53.021045</td>\n      <td>-51.550642</td>\n      <td>2.013358</td>\n      <td>191.485039</td>\n      <td>181.677684</td>\n      <td>30.43</td>\n      <td>12.918761</td>\n    </tr>\n    <tr>\n      <th>1634</th>\n      <td>2020-06-30</td>\n      <td>VZ</td>\n      <td>54.919998</td>\n      <td>55.290001</td>\n      <td>54.360001</td>\n      <td>49.750820</td>\n      <td>17414800.0</td>\n      <td>1.0</td>\n      <td>-0.431679</td>\n      <td>53.248502</td>\n      <td>48.123875</td>\n      <td>48.097032</td>\n      <td>-51.065602</td>\n      <td>8.508886</td>\n      <td>50.378309</td>\n      <td>50.825243</td>\n      <td>30.43</td>\n      <td>12.918761</td>\n    </tr>\n    <tr>\n      <th>1634</th>\n      <td>2020-06-30</td>\n      <td>WBA</td>\n      <td>42.119999</td>\n      <td>42.580002</td>\n      <td>41.759998</td>\n      <td>39.035732</td>\n      <td>4782100.0</td>\n      <td>1.0</td>\n      <td>-0.083986</td>\n      <td>42.609305</td>\n      <td>36.487096</td>\n      <td>48.830181</td>\n      <td>-14.508123</td>\n      <td>1.500723</td>\n      <td>39.135190</td>\n      <td>38.935130</td>\n      <td>30.43</td>\n      <td>12.918761</td>\n    </tr>\n    <tr>\n      <th>1634</th>\n      <td>2020-06-30</td>\n      <td>WMT</td>\n      <td>119.220001</td>\n      <td>120.129997</td>\n      <td>118.540001</td>\n      <td>116.121765</td>\n      <td>6836400.0</td>\n      <td>1.0</td>\n      <td>-0.886569</td>\n      <td>119.473754</td>\n      <td>113.510456</td>\n      <td>48.159666</td>\n      <td>-69.938794</td>\n      <td>3.847271</td>\n      <td>117.787625</td>\n      <td>119.723273</td>\n      <td>30.43</td>\n      <td>12.918761</td>\n    </tr>\n  </tbody>\n</table>\n</div>"
     },
     "execution_count": 17,
     "metadata": {},
     "output_type": "execute_result"
    }
   ],
   "source": [
    "train.tail()"
   ]
  },
  {
   "cell_type": "code",
   "execution_count": 18,
   "metadata": {
    "colab": {
     "base_uri": "https://localhost:8080/",
     "height": 357
    },
    "id": "k9zU9YaTTvFq",
    "outputId": "72213585-39a3-4bff-c031-874ec0ca06f9",
    "pycharm": {
     "name": "#%%\n"
    }
   },
   "outputs": [
    {
     "data": {
      "text/plain": "         date   tic        open        high         low       close  \\\n0  2020-07-01  AAPL   91.279999   91.839996   90.977501   89.904610   \n0  2020-07-01  AMGN  235.520004  256.230011  232.580002  240.153946   \n0  2020-07-01   AXP   95.250000   96.959999   93.639999   91.743050   \n0  2020-07-01    BA  185.880005  190.610001  180.039993  180.320007   \n0  2020-07-01   CAT  129.380005  129.399994  125.879997  120.651634   \n\n        volume  day      macd     boll_ub     boll_lb     rsi_30      cci_30  \\\n0  110737200.0  2.0  3.014604   92.699319   80.179948  62.807166  107.491930   \n0    6575800.0  2.0  3.636391  232.397415  200.212955  61.279637  271.386118   \n0    3301000.0  2.0 -0.387711  110.012241   87.432136  48.504819  -66.321033   \n0   49036700.0  2.0  5.443193  220.721139  160.932863  50.925771   24.220608   \n0    2807800.0  2.0  1.272629  130.624283  113.353126  52.865419   35.597286   \n\n       dx_30  close_30_sma  close_60_sma        vix  turbulence  \n0  29.730532     83.933766     77.717543  28.620001   53.068017  \n0  46.806139    214.858661    215.931666  28.620001   53.068017  \n0   3.142448     96.882074     90.357378  28.620001   53.068017  \n0  15.932920    176.472335    155.614168  28.620001   53.068017  \n0  14.457404    119.412837    113.646674  28.620001   53.068017  ",
      "text/html": "<div>\n<style scoped>\n    .dataframe tbody tr th:only-of-type {\n        vertical-align: middle;\n    }\n\n    .dataframe tbody tr th {\n        vertical-align: top;\n    }\n\n    .dataframe thead th {\n        text-align: right;\n    }\n</style>\n<table border=\"1\" class=\"dataframe\">\n  <thead>\n    <tr style=\"text-align: right;\">\n      <th></th>\n      <th>date</th>\n      <th>tic</th>\n      <th>open</th>\n      <th>high</th>\n      <th>low</th>\n      <th>close</th>\n      <th>volume</th>\n      <th>day</th>\n      <th>macd</th>\n      <th>boll_ub</th>\n      <th>boll_lb</th>\n      <th>rsi_30</th>\n      <th>cci_30</th>\n      <th>dx_30</th>\n      <th>close_30_sma</th>\n      <th>close_60_sma</th>\n      <th>vix</th>\n      <th>turbulence</th>\n    </tr>\n  </thead>\n  <tbody>\n    <tr>\n      <th>0</th>\n      <td>2020-07-01</td>\n      <td>AAPL</td>\n      <td>91.279999</td>\n      <td>91.839996</td>\n      <td>90.977501</td>\n      <td>89.904610</td>\n      <td>110737200.0</td>\n      <td>2.0</td>\n      <td>3.014604</td>\n      <td>92.699319</td>\n      <td>80.179948</td>\n      <td>62.807166</td>\n      <td>107.491930</td>\n      <td>29.730532</td>\n      <td>83.933766</td>\n      <td>77.717543</td>\n      <td>28.620001</td>\n      <td>53.068017</td>\n    </tr>\n    <tr>\n      <th>0</th>\n      <td>2020-07-01</td>\n      <td>AMGN</td>\n      <td>235.520004</td>\n      <td>256.230011</td>\n      <td>232.580002</td>\n      <td>240.153946</td>\n      <td>6575800.0</td>\n      <td>2.0</td>\n      <td>3.636391</td>\n      <td>232.397415</td>\n      <td>200.212955</td>\n      <td>61.279637</td>\n      <td>271.386118</td>\n      <td>46.806139</td>\n      <td>214.858661</td>\n      <td>215.931666</td>\n      <td>28.620001</td>\n      <td>53.068017</td>\n    </tr>\n    <tr>\n      <th>0</th>\n      <td>2020-07-01</td>\n      <td>AXP</td>\n      <td>95.250000</td>\n      <td>96.959999</td>\n      <td>93.639999</td>\n      <td>91.743050</td>\n      <td>3301000.0</td>\n      <td>2.0</td>\n      <td>-0.387711</td>\n      <td>110.012241</td>\n      <td>87.432136</td>\n      <td>48.504819</td>\n      <td>-66.321033</td>\n      <td>3.142448</td>\n      <td>96.882074</td>\n      <td>90.357378</td>\n      <td>28.620001</td>\n      <td>53.068017</td>\n    </tr>\n    <tr>\n      <th>0</th>\n      <td>2020-07-01</td>\n      <td>BA</td>\n      <td>185.880005</td>\n      <td>190.610001</td>\n      <td>180.039993</td>\n      <td>180.320007</td>\n      <td>49036700.0</td>\n      <td>2.0</td>\n      <td>5.443193</td>\n      <td>220.721139</td>\n      <td>160.932863</td>\n      <td>50.925771</td>\n      <td>24.220608</td>\n      <td>15.932920</td>\n      <td>176.472335</td>\n      <td>155.614168</td>\n      <td>28.620001</td>\n      <td>53.068017</td>\n    </tr>\n    <tr>\n      <th>0</th>\n      <td>2020-07-01</td>\n      <td>CAT</td>\n      <td>129.380005</td>\n      <td>129.399994</td>\n      <td>125.879997</td>\n      <td>120.651634</td>\n      <td>2807800.0</td>\n      <td>2.0</td>\n      <td>1.272629</td>\n      <td>130.624283</td>\n      <td>113.353126</td>\n      <td>52.865419</td>\n      <td>35.597286</td>\n      <td>14.457404</td>\n      <td>119.412837</td>\n      <td>113.646674</td>\n      <td>28.620001</td>\n      <td>53.068017</td>\n    </tr>\n  </tbody>\n</table>\n</div>"
     },
     "execution_count": 18,
     "metadata": {},
     "output_type": "execute_result"
    }
   ],
   "source": [
    "trade.head()"
   ]
  },
  {
   "cell_type": "code",
   "execution_count": 19,
   "metadata": {
    "colab": {
     "base_uri": "https://localhost:8080/"
    },
    "id": "zYN573SOHhxG",
    "outputId": "7f228183-abe3-4477-f574-3c9b25c62cd8",
    "pycharm": {
     "name": "#%%\n"
    }
   },
   "outputs": [
    {
     "data": {
      "text/plain": "['macd',\n 'boll_ub',\n 'boll_lb',\n 'rsi_30',\n 'cci_30',\n 'dx_30',\n 'close_30_sma',\n 'close_60_sma']"
     },
     "execution_count": 19,
     "metadata": {},
     "output_type": "execute_result"
    }
   ],
   "source": [
    "config.INDICATORS"
   ]
  },
  {
   "cell_type": "code",
   "execution_count": 20,
   "metadata": {
    "colab": {
     "base_uri": "https://localhost:8080/"
    },
    "id": "Q2zqII8rMIqn",
    "outputId": "1f54d044-e2d3-4a34-c041-e913d686654e",
    "pycharm": {
     "name": "#%%\n"
    }
   },
   "outputs": [
    {
     "name": "stdout",
     "output_type": "stream",
     "text": [
      "Stock Dimension: 29, State Space: 291\n"
     ]
    }
   ],
   "source": [
    "stock_dimension = len(train.tic.unique())\n",
    "state_space = 1 + 2*stock_dimension + len(config.INDICATORS)*stock_dimension\n",
    "print(f\"Stock Dimension: {stock_dimension}, State Space: {state_space}\")\n"
   ]
  },
  {
   "cell_type": "code",
   "execution_count": 50,
   "outputs": [
    {
     "data": {
      "text/plain": "array(['AAPL', 'AMGN', 'AXP', 'BA', 'CAT', 'CRM', 'CSCO', 'CVX', 'DIS',\n       'GS', 'HD', 'HON', 'IBM', 'INTC', 'JNJ', 'JPM', 'KO', 'MCD', 'MMM',\n       'MRK', 'MSFT', 'NKE', 'PG', 'TRV', 'UNH', 'V', 'VZ', 'WBA', 'WMT'],\n      dtype=object)"
     },
     "execution_count": 50,
     "metadata": {},
     "output_type": "execute_result"
    }
   ],
   "source": [
    "train.tic.unique()"
   ],
   "metadata": {
    "collapsed": false,
    "pycharm": {
     "name": "#%%\n"
    }
   }
  },
  {
   "cell_type": "code",
   "execution_count": 21,
   "metadata": {
    "id": "AWyp84Ltto19",
    "pycharm": {
     "name": "#%%\n"
    }
   },
   "outputs": [],
   "source": [
    "buy_cost_list = sell_cost_list = [0.001] * stock_dimension\n",
    "num_stock_shares = [0] * stock_dimension\n",
    "\n",
    "env_kwargs = {\n",
    "    \"hmax\": 100,\n",
    "    \"initial_amount\": 1000000,\n",
    "    \"num_stock_shares\": num_stock_shares,\n",
    "    \"buy_cost_pct\": buy_cost_list,\n",
    "    \"sell_cost_pct\": sell_cost_list,\n",
    "    \"state_space\": state_space,\n",
    "    \"stock_dim\": stock_dimension,\n",
    "    \"tech_indicator_list\": config.INDICATORS,\n",
    "    \"action_space\": stock_dimension,\n",
    "    \"reward_scaling\": 1e-4\n",
    "}\n",
    "\n",
    "\n",
    "e_train_gym = StockTradingEnv(df = train, **env_kwargs)"
   ]
  },
  {
   "cell_type": "markdown",
   "metadata": {
    "id": "64EoqOrQjiVf",
    "pycharm": {
     "name": "#%% md\n"
    }
   },
   "source": [
    "## Environment for Training\n",
    "\n"
   ]
  },
  {
   "cell_type": "code",
   "execution_count": 22,
   "metadata": {
    "colab": {
     "base_uri": "https://localhost:8080/"
    },
    "id": "xwSvvPjutpqS",
    "outputId": "deeaef07-afda-4ca1-fea8-99384224c7cf",
    "pycharm": {
     "name": "#%%\n"
    }
   },
   "outputs": [
    {
     "name": "stdout",
     "output_type": "stream",
     "text": [
      "<class 'stable_baselines3.common.vec_env.dummy_vec_env.DummyVecEnv'>\n"
     ]
    }
   ],
   "source": [
    "env_train, _ = e_train_gym.get_sb_env()\n",
    "print(type(env_train))"
   ]
  },
  {
   "cell_type": "markdown",
   "metadata": {
    "id": "HMNR5nHjh1iz",
    "pycharm": {
     "name": "#%% md\n"
    }
   },
   "source": [
    "<a id='5'></a>\n",
    "# Part 6: Implement DRL Algorithms\n",
    "* The implementation of the DRL algorithms are based on **OpenAI Baselines** and **Stable Baselines**. Stable Baselines is a fork of OpenAI Baselines, with a major structural refactoring, and code cleanups.\n",
    "* FinRL library includes fine-tuned standard DRL algorithms, such as DQN, DDPG,\n",
    "Multi-Agent DDPG, PPO, SAC, A2C and TD3. We also allow users to\n",
    "design their own DRL algorithms by adapting these DRL algorithms."
   ]
  },
  {
   "cell_type": "code",
   "execution_count": 23,
   "metadata": {
    "id": "364PsqckttcQ",
    "pycharm": {
     "name": "#%%\n"
    }
   },
   "outputs": [],
   "source": [
    "agent = DRLAgent(env = env_train)"
   ]
  },
  {
   "cell_type": "markdown",
   "metadata": {
    "id": "YDmqOyF9h1iz",
    "pycharm": {
     "name": "#%% md\n"
    }
   },
   "source": [
    "### Model Training: 5 models, A2C DDPG, PPO, TD3, SAC\n"
   ]
  },
  {
   "cell_type": "markdown",
   "metadata": {
    "id": "uijiWgkuh1jB",
    "pycharm": {
     "name": "#%% md\n"
    }
   },
   "source": [
    "### Model 1: A2C\n"
   ]
  },
  {
   "cell_type": "code",
   "execution_count": 24,
   "metadata": {
    "colab": {
     "base_uri": "https://localhost:8080/"
    },
    "id": "GUCnkn-HIbmj",
    "outputId": "a90a7a60-21a5-47e1-b683-1f7cbb4b8bc0",
    "pycharm": {
     "name": "#%%\n"
    }
   },
   "outputs": [
    {
     "name": "stdout",
     "output_type": "stream",
     "text": [
      "{'n_steps': 5, 'ent_coef': 0.01, 'learning_rate': 0.0007}\n",
      "Using cpu device\n"
     ]
    }
   ],
   "source": [
    "agent = DRLAgent(env = env_train)\n",
    "model_a2c = agent.get_model(\"a2c\")"
   ]
  },
  {
   "cell_type": "code",
   "execution_count": 25,
   "metadata": {
    "colab": {
     "base_uri": "https://localhost:8080/",
     "height": 1000
    },
    "id": "0GVpkWGqH4-D",
    "outputId": "570d540f-abe9-402b-e0cc-f9b007228e8e",
    "pycharm": {
     "name": "#%%\n"
    }
   },
   "outputs": [
    {
     "name": "stdout",
     "output_type": "stream",
     "text": [
      "---------------------------------------\n",
      "| time/                 |             |\n",
      "|    fps                | 194         |\n",
      "|    iterations         | 100         |\n",
      "|    time_elapsed       | 2           |\n",
      "|    total_timesteps    | 500         |\n",
      "| train/                |             |\n",
      "|    entropy_loss       | -41.4       |\n",
      "|    explained_variance | 0.0331      |\n",
      "|    learning_rate      | 0.0007      |\n",
      "|    n_updates          | 99          |\n",
      "|    policy_loss        | -51.4       |\n",
      "|    reward             | -0.35428265 |\n",
      "|    std                | 1.01        |\n",
      "|    value_loss         | 2.2         |\n",
      "---------------------------------------\n",
      "---------------------------------------\n",
      "| time/                 |             |\n",
      "|    fps                | 180         |\n",
      "|    iterations         | 200         |\n",
      "|    time_elapsed       | 5           |\n",
      "|    total_timesteps    | 1000        |\n",
      "| train/                |             |\n",
      "|    entropy_loss       | -41.4       |\n",
      "|    explained_variance | -1.19e-07   |\n",
      "|    learning_rate      | 0.0007      |\n",
      "|    n_updates          | 199         |\n",
      "|    policy_loss        | 55.8        |\n",
      "|    reward             | -0.08319252 |\n",
      "|    std                | 1.01        |\n",
      "|    value_loss         | 1.87        |\n",
      "---------------------------------------\n",
      "-------------------------------------\n",
      "| time/                 |           |\n",
      "|    fps                | 184       |\n",
      "|    iterations         | 300       |\n",
      "|    time_elapsed       | 8         |\n",
      "|    total_timesteps    | 1500      |\n",
      "| train/                |           |\n",
      "|    entropy_loss       | -41.4     |\n",
      "|    explained_variance | 0         |\n",
      "|    learning_rate      | 0.0007    |\n",
      "|    n_updates          | 299       |\n",
      "|    policy_loss        | 13.2      |\n",
      "|    reward             | 1.1418922 |\n",
      "|    std                | 1.01      |\n",
      "|    value_loss         | 1.05      |\n",
      "-------------------------------------\n",
      "--------------------------------------\n",
      "| time/                 |            |\n",
      "|    fps                | 186        |\n",
      "|    iterations         | 400        |\n",
      "|    time_elapsed       | 10         |\n",
      "|    total_timesteps    | 2000       |\n",
      "| train/                |            |\n",
      "|    entropy_loss       | -41.4      |\n",
      "|    explained_variance | 0          |\n",
      "|    learning_rate      | 0.0007     |\n",
      "|    n_updates          | 399        |\n",
      "|    policy_loss        | -73.3      |\n",
      "|    reward             | 0.50164425 |\n",
      "|    std                | 1.01       |\n",
      "|    value_loss         | 3.84       |\n",
      "--------------------------------------\n",
      "--------------------------------------\n",
      "| time/                 |            |\n",
      "|    fps                | 184        |\n",
      "|    iterations         | 500        |\n",
      "|    time_elapsed       | 13         |\n",
      "|    total_timesteps    | 2500       |\n",
      "| train/                |            |\n",
      "|    entropy_loss       | -41.4      |\n",
      "|    explained_variance | 0          |\n",
      "|    learning_rate      | 0.0007     |\n",
      "|    n_updates          | 499        |\n",
      "|    policy_loss        | 43.2       |\n",
      "|    reward             | 0.75699204 |\n",
      "|    std                | 1.01       |\n",
      "|    value_loss         | 1.63       |\n",
      "--------------------------------------\n",
      "--------------------------------------\n",
      "| time/                 |            |\n",
      "|    fps                | 184        |\n",
      "|    iterations         | 600        |\n",
      "|    time_elapsed       | 16         |\n",
      "|    total_timesteps    | 3000       |\n",
      "| train/                |            |\n",
      "|    entropy_loss       | -41.4      |\n",
      "|    explained_variance | 0          |\n",
      "|    learning_rate      | 0.0007     |\n",
      "|    n_updates          | 599        |\n",
      "|    policy_loss        | -26.2      |\n",
      "|    reward             | 0.91185755 |\n",
      "|    std                | 1.01       |\n",
      "|    value_loss         | 0.495      |\n",
      "--------------------------------------\n",
      "---------------------------------------\n",
      "| time/                 |             |\n",
      "|    fps                | 182         |\n",
      "|    iterations         | 700         |\n",
      "|    time_elapsed       | 19          |\n",
      "|    total_timesteps    | 3500        |\n",
      "| train/                |             |\n",
      "|    entropy_loss       | -41.4       |\n",
      "|    explained_variance | 0.0017      |\n",
      "|    learning_rate      | 0.0007      |\n",
      "|    n_updates          | 699         |\n",
      "|    policy_loss        | 2.05        |\n",
      "|    reward             | -0.95903194 |\n",
      "|    std                | 1.01        |\n",
      "|    value_loss         | 0.0574      |\n",
      "---------------------------------------\n",
      "--------------------------------------\n",
      "| time/                 |            |\n",
      "|    fps                | 183        |\n",
      "|    iterations         | 800        |\n",
      "|    time_elapsed       | 21         |\n",
      "|    total_timesteps    | 4000       |\n",
      "| train/                |            |\n",
      "|    entropy_loss       | -41.5      |\n",
      "|    explained_variance | -1.19e-07  |\n",
      "|    learning_rate      | 0.0007     |\n",
      "|    n_updates          | 799        |\n",
      "|    policy_loss        | 11.7       |\n",
      "|    reward             | 0.31314483 |\n",
      "|    std                | 1.01       |\n",
      "|    value_loss         | 0.883      |\n",
      "--------------------------------------\n",
      "--------------------------------------\n",
      "| time/                 |            |\n",
      "|    fps                | 185        |\n",
      "|    iterations         | 900        |\n",
      "|    time_elapsed       | 24         |\n",
      "|    total_timesteps    | 4500       |\n",
      "| train/                |            |\n",
      "|    entropy_loss       | -41.4      |\n",
      "|    explained_variance | 0          |\n",
      "|    learning_rate      | 0.0007     |\n",
      "|    n_updates          | 899        |\n",
      "|    policy_loss        | -48.1      |\n",
      "|    reward             | -0.4242119 |\n",
      "|    std                | 1.01       |\n",
      "|    value_loss         | 3.62       |\n",
      "--------------------------------------\n",
      "---------------------------------------\n",
      "| time/                 |             |\n",
      "|    fps                | 185         |\n",
      "|    iterations         | 1000        |\n",
      "|    time_elapsed       | 26          |\n",
      "|    total_timesteps    | 5000        |\n",
      "| train/                |             |\n",
      "|    entropy_loss       | -41.5       |\n",
      "|    explained_variance | 0           |\n",
      "|    learning_rate      | 0.0007      |\n",
      "|    n_updates          | 999         |\n",
      "|    policy_loss        | 35.6        |\n",
      "|    reward             | -0.97435725 |\n",
      "|    std                | 1.01        |\n",
      "|    value_loss         | 1.12        |\n",
      "---------------------------------------\n",
      "--------------------------------------\n",
      "| time/                 |            |\n",
      "|    fps                | 186        |\n",
      "|    iterations         | 1100       |\n",
      "|    time_elapsed       | 29         |\n",
      "|    total_timesteps    | 5500       |\n",
      "| train/                |            |\n",
      "|    entropy_loss       | -41.6      |\n",
      "|    explained_variance | -0.00184   |\n",
      "|    learning_rate      | 0.0007     |\n",
      "|    n_updates          | 1099       |\n",
      "|    policy_loss        | 45.9       |\n",
      "|    reward             | -0.6877133 |\n",
      "|    std                | 1.01       |\n",
      "|    value_loss         | 1.52       |\n",
      "--------------------------------------\n",
      "--------------------------------------\n",
      "| time/                 |            |\n",
      "|    fps                | 187        |\n",
      "|    iterations         | 1200       |\n",
      "|    time_elapsed       | 31         |\n",
      "|    total_timesteps    | 6000       |\n",
      "| train/                |            |\n",
      "|    entropy_loss       | -41.5      |\n",
      "|    explained_variance | 0.057      |\n",
      "|    learning_rate      | 0.0007     |\n",
      "|    n_updates          | 1199       |\n",
      "|    policy_loss        | -96.7      |\n",
      "|    reward             | 0.74413115 |\n",
      "|    std                | 1.01       |\n",
      "|    value_loss         | 5.33       |\n",
      "--------------------------------------\n",
      "-------------------------------------\n",
      "| time/                 |           |\n",
      "|    fps                | 187       |\n",
      "|    iterations         | 1300      |\n",
      "|    time_elapsed       | 34        |\n",
      "|    total_timesteps    | 6500      |\n",
      "| train/                |           |\n",
      "|    entropy_loss       | -41.5     |\n",
      "|    explained_variance | -1.19e-07 |\n",
      "|    learning_rate      | 0.0007    |\n",
      "|    n_updates          | 1299      |\n",
      "|    policy_loss        | 146       |\n",
      "|    reward             | 0.7537033 |\n",
      "|    std                | 1.01      |\n",
      "|    value_loss         | 18.5      |\n",
      "-------------------------------------\n",
      "---------------------------------------\n",
      "| time/                 |             |\n",
      "|    fps                | 187         |\n",
      "|    iterations         | 1400        |\n",
      "|    time_elapsed       | 37          |\n",
      "|    total_timesteps    | 7000        |\n",
      "| train/                |             |\n",
      "|    entropy_loss       | -41.5       |\n",
      "|    explained_variance | 0.0669      |\n",
      "|    learning_rate      | 0.0007      |\n",
      "|    n_updates          | 1399        |\n",
      "|    policy_loss        | 9.55        |\n",
      "|    reward             | -0.14447397 |\n",
      "|    std                | 1.01        |\n",
      "|    value_loss         | 2.49        |\n",
      "---------------------------------------\n",
      "--------------------------------------\n",
      "| time/                 |            |\n",
      "|    fps                | 187        |\n",
      "|    iterations         | 1500       |\n",
      "|    time_elapsed       | 40         |\n",
      "|    total_timesteps    | 7500       |\n",
      "| train/                |            |\n",
      "|    entropy_loss       | -41.7      |\n",
      "|    explained_variance | -0.0116    |\n",
      "|    learning_rate      | 0.0007     |\n",
      "|    n_updates          | 1499       |\n",
      "|    policy_loss        | -22        |\n",
      "|    reward             | -2.3257565 |\n",
      "|    std                | 1.02       |\n",
      "|    value_loss         | 0.383      |\n",
      "--------------------------------------\n",
      "---------------------------------------\n",
      "| time/                 |             |\n",
      "|    fps                | 187         |\n",
      "|    iterations         | 1600        |\n",
      "|    time_elapsed       | 42          |\n",
      "|    total_timesteps    | 8000        |\n",
      "| train/                |             |\n",
      "|    entropy_loss       | -41.7       |\n",
      "|    explained_variance | 0           |\n",
      "|    learning_rate      | 0.0007      |\n",
      "|    n_updates          | 1599        |\n",
      "|    policy_loss        | 21.9        |\n",
      "|    reward             | -0.83729297 |\n",
      "|    std                | 1.02        |\n",
      "|    value_loss         | 1.06        |\n",
      "---------------------------------------\n",
      "-------------------------------------\n",
      "| time/                 |           |\n",
      "|    fps                | 188       |\n",
      "|    iterations         | 1700      |\n",
      "|    time_elapsed       | 45        |\n",
      "|    total_timesteps    | 8500      |\n",
      "| train/                |           |\n",
      "|    entropy_loss       | -41.7     |\n",
      "|    explained_variance | 0         |\n",
      "|    learning_rate      | 0.0007    |\n",
      "|    n_updates          | 1699      |\n",
      "|    policy_loss        | 4.13      |\n",
      "|    reward             | 2.6269975 |\n",
      "|    std                | 1.02      |\n",
      "|    value_loss         | 0.0566    |\n",
      "-------------------------------------\n",
      "---------------------------------------\n",
      "| time/                 |             |\n",
      "|    fps                | 188         |\n",
      "|    iterations         | 1800        |\n",
      "|    time_elapsed       | 47          |\n",
      "|    total_timesteps    | 9000        |\n",
      "| train/                |             |\n",
      "|    entropy_loss       | -41.8       |\n",
      "|    explained_variance | 0.0518      |\n",
      "|    learning_rate      | 0.0007      |\n",
      "|    n_updates          | 1799        |\n",
      "|    policy_loss        | -28.9       |\n",
      "|    reward             | 0.042484514 |\n",
      "|    std                | 1.02        |\n",
      "|    value_loss         | 0.486       |\n",
      "---------------------------------------\n",
      "------------------------------------\n",
      "| time/                 |          |\n",
      "|    fps                | 188      |\n",
      "|    iterations         | 1900     |\n",
      "|    time_elapsed       | 50       |\n",
      "|    total_timesteps    | 9500     |\n",
      "| train/                |          |\n",
      "|    entropy_loss       | -41.9    |\n",
      "|    explained_variance | 0        |\n",
      "|    learning_rate      | 0.0007   |\n",
      "|    n_updates          | 1899     |\n",
      "|    policy_loss        | 59.9     |\n",
      "|    reward             | -0.90934 |\n",
      "|    std                | 1.03     |\n",
      "|    value_loss         | 3.17     |\n",
      "------------------------------------\n",
      "------------------------------------\n",
      "| time/                 |          |\n",
      "|    fps                | 188      |\n",
      "|    iterations         | 2000     |\n",
      "|    time_elapsed       | 53       |\n",
      "|    total_timesteps    | 10000    |\n",
      "| train/                |          |\n",
      "|    entropy_loss       | -41.9    |\n",
      "|    explained_variance | 0.189    |\n",
      "|    learning_rate      | 0.0007   |\n",
      "|    n_updates          | 1999     |\n",
      "|    policy_loss        | -27.1    |\n",
      "|    reward             | 1.077553 |\n",
      "|    std                | 1.03     |\n",
      "|    value_loss         | 0.826    |\n",
      "------------------------------------\n",
      "--------------------------------------\n",
      "| time/                 |            |\n",
      "|    fps                | 188        |\n",
      "|    iterations         | 2100       |\n",
      "|    time_elapsed       | 55         |\n",
      "|    total_timesteps    | 10500      |\n",
      "| train/                |            |\n",
      "|    entropy_loss       | -42        |\n",
      "|    explained_variance | 2.38e-07   |\n",
      "|    learning_rate      | 0.0007     |\n",
      "|    n_updates          | 2099       |\n",
      "|    policy_loss        | 31.1       |\n",
      "|    reward             | 0.05176873 |\n",
      "|    std                | 1.03       |\n",
      "|    value_loss         | 0.662      |\n",
      "--------------------------------------\n",
      "--------------------------------------\n",
      "| time/                 |            |\n",
      "|    fps                | 189        |\n",
      "|    iterations         | 2200       |\n",
      "|    time_elapsed       | 57         |\n",
      "|    total_timesteps    | 11000      |\n",
      "| train/                |            |\n",
      "|    entropy_loss       | -42        |\n",
      "|    explained_variance | 0          |\n",
      "|    learning_rate      | 0.0007     |\n",
      "|    n_updates          | 2199       |\n",
      "|    policy_loss        | -46.8      |\n",
      "|    reward             | -1.2199007 |\n",
      "|    std                | 1.03       |\n",
      "|    value_loss         | 1.29       |\n",
      "--------------------------------------\n",
      "--------------------------------------\n",
      "| time/                 |            |\n",
      "|    fps                | 190        |\n",
      "|    iterations         | 2300       |\n",
      "|    time_elapsed       | 60         |\n",
      "|    total_timesteps    | 11500      |\n",
      "| train/                |            |\n",
      "|    entropy_loss       | -42.1      |\n",
      "|    explained_variance | 0.484      |\n",
      "|    learning_rate      | 0.0007     |\n",
      "|    n_updates          | 2299       |\n",
      "|    policy_loss        | -1.48      |\n",
      "|    reward             | 0.23735617 |\n",
      "|    std                | 1.03       |\n",
      "|    value_loss         | 0.348      |\n",
      "--------------------------------------\n",
      "-------------------------------------\n",
      "| time/                 |           |\n",
      "|    fps                | 190       |\n",
      "|    iterations         | 2400      |\n",
      "|    time_elapsed       | 62        |\n",
      "|    total_timesteps    | 12000     |\n",
      "| train/                |           |\n",
      "|    entropy_loss       | -42.1     |\n",
      "|    explained_variance | -0.0495   |\n",
      "|    learning_rate      | 0.0007    |\n",
      "|    n_updates          | 2399      |\n",
      "|    policy_loss        | 37.3      |\n",
      "|    reward             | 0.6610827 |\n",
      "|    std                | 1.03      |\n",
      "|    value_loss         | 1.2       |\n",
      "-------------------------------------\n",
      "--------------------------------------\n",
      "| time/                 |            |\n",
      "|    fps                | 191        |\n",
      "|    iterations         | 2500       |\n",
      "|    time_elapsed       | 65         |\n",
      "|    total_timesteps    | 12500      |\n",
      "| train/                |            |\n",
      "|    entropy_loss       | -42.1      |\n",
      "|    explained_variance | 0.00443    |\n",
      "|    learning_rate      | 0.0007     |\n",
      "|    n_updates          | 2499       |\n",
      "|    policy_loss        | 12.2       |\n",
      "|    reward             | -0.3748306 |\n",
      "|    std                | 1.03       |\n",
      "|    value_loss         | 0.944      |\n",
      "--------------------------------------\n",
      "-------------------------------------\n",
      "| time/                 |           |\n",
      "|    fps                | 191       |\n",
      "|    iterations         | 2600      |\n",
      "|    time_elapsed       | 67        |\n",
      "|    total_timesteps    | 13000     |\n",
      "| train/                |           |\n",
      "|    entropy_loss       | -42.1     |\n",
      "|    explained_variance | -0.0118   |\n",
      "|    learning_rate      | 0.0007    |\n",
      "|    n_updates          | 2599      |\n",
      "|    policy_loss        | -154      |\n",
      "|    reward             | -10.83424 |\n",
      "|    std                | 1.03      |\n",
      "|    value_loss         | 52.4      |\n",
      "-------------------------------------\n",
      "-------------------------------------\n",
      "| time/                 |           |\n",
      "|    fps                | 191       |\n",
      "|    iterations         | 2700      |\n",
      "|    time_elapsed       | 70        |\n",
      "|    total_timesteps    | 13500     |\n",
      "| train/                |           |\n",
      "|    entropy_loss       | -42.1     |\n",
      "|    explained_variance | 0.000133  |\n",
      "|    learning_rate      | 0.0007    |\n",
      "|    n_updates          | 2699      |\n",
      "|    policy_loss        | -44.8     |\n",
      "|    reward             | 1.5734578 |\n",
      "|    std                | 1.03      |\n",
      "|    value_loss         | 11.3      |\n",
      "-------------------------------------\n",
      "---------------------------------------\n",
      "| time/                 |             |\n",
      "|    fps                | 192         |\n",
      "|    iterations         | 2800        |\n",
      "|    time_elapsed       | 72          |\n",
      "|    total_timesteps    | 14000       |\n",
      "| train/                |             |\n",
      "|    entropy_loss       | -42.1       |\n",
      "|    explained_variance | -0.00485    |\n",
      "|    learning_rate      | 0.0007      |\n",
      "|    n_updates          | 2799        |\n",
      "|    policy_loss        | -29.1       |\n",
      "|    reward             | -0.58789843 |\n",
      "|    std                | 1.03        |\n",
      "|    value_loss         | 0.968       |\n",
      "---------------------------------------\n",
      "--------------------------------------\n",
      "| time/                 |            |\n",
      "|    fps                | 191        |\n",
      "|    iterations         | 2900       |\n",
      "|    time_elapsed       | 75         |\n",
      "|    total_timesteps    | 14500      |\n",
      "| train/                |            |\n",
      "|    entropy_loss       | -42.1      |\n",
      "|    explained_variance | 1.19e-07   |\n",
      "|    learning_rate      | 0.0007     |\n",
      "|    n_updates          | 2899       |\n",
      "|    policy_loss        | -9.35      |\n",
      "|    reward             | -3.4854436 |\n",
      "|    std                | 1.03       |\n",
      "|    value_loss         | 2          |\n",
      "--------------------------------------\n",
      "day: 1634, episode: 10\n",
      "begin_total_asset: 1000000.00\n",
      "end_total_asset: 1038574.09\n",
      "total_reward: 38574.09\n",
      "total_cost: 10577.13\n",
      "total_trades: 21703\n",
      "Sharpe: 0.131\n",
      "=================================\n",
      "--------------------------------------\n",
      "| time/                 |            |\n",
      "|    fps                | 192        |\n",
      "|    iterations         | 3000       |\n",
      "|    time_elapsed       | 77         |\n",
      "|    total_timesteps    | 15000      |\n",
      "| train/                |            |\n",
      "|    entropy_loss       | -42        |\n",
      "|    explained_variance | -0.0279    |\n",
      "|    learning_rate      | 0.0007     |\n",
      "|    n_updates          | 2999       |\n",
      "|    policy_loss        | -48.7      |\n",
      "|    reward             | 0.45790523 |\n",
      "|    std                | 1.03       |\n",
      "|    value_loss         | 1.66       |\n",
      "--------------------------------------\n",
      "-------------------------------------\n",
      "| time/                 |           |\n",
      "|    fps                | 192       |\n",
      "|    iterations         | 3100      |\n",
      "|    time_elapsed       | 80        |\n",
      "|    total_timesteps    | 15500     |\n",
      "| train/                |           |\n",
      "|    entropy_loss       | -42.1     |\n",
      "|    explained_variance | -1.19e-07 |\n",
      "|    learning_rate      | 0.0007    |\n",
      "|    n_updates          | 3099      |\n",
      "|    policy_loss        | 8.82      |\n",
      "|    reward             | 0.6264032 |\n",
      "|    std                | 1.03      |\n",
      "|    value_loss         | 0.0761    |\n",
      "-------------------------------------\n",
      "---------------------------------------\n",
      "| time/                 |             |\n",
      "|    fps                | 192         |\n",
      "|    iterations         | 3200        |\n",
      "|    time_elapsed       | 83          |\n",
      "|    total_timesteps    | 16000       |\n",
      "| train/                |             |\n",
      "|    entropy_loss       | -42.2       |\n",
      "|    explained_variance | 0.0297      |\n",
      "|    learning_rate      | 0.0007      |\n",
      "|    n_updates          | 3199        |\n",
      "|    policy_loss        | 61          |\n",
      "|    reward             | -0.38111815 |\n",
      "|    std                | 1.04        |\n",
      "|    value_loss         | 6.11        |\n",
      "---------------------------------------\n",
      "--------------------------------------\n",
      "| time/                 |            |\n",
      "|    fps                | 192        |\n",
      "|    iterations         | 3300       |\n",
      "|    time_elapsed       | 85         |\n",
      "|    total_timesteps    | 16500      |\n",
      "| train/                |            |\n",
      "|    entropy_loss       | -42.2      |\n",
      "|    explained_variance | -0.14      |\n",
      "|    learning_rate      | 0.0007     |\n",
      "|    n_updates          | 3299       |\n",
      "|    policy_loss        | -44.7      |\n",
      "|    reward             | -0.6159395 |\n",
      "|    std                | 1.04       |\n",
      "|    value_loss         | 1.27       |\n",
      "--------------------------------------\n",
      "--------------------------------------\n",
      "| time/                 |            |\n",
      "|    fps                | 192        |\n",
      "|    iterations         | 3400       |\n",
      "|    time_elapsed       | 88         |\n",
      "|    total_timesteps    | 17000      |\n",
      "| train/                |            |\n",
      "|    entropy_loss       | -42.2      |\n",
      "|    explained_variance | 0          |\n",
      "|    learning_rate      | 0.0007     |\n",
      "|    n_updates          | 3399       |\n",
      "|    policy_loss        | -121       |\n",
      "|    reward             | -0.5261656 |\n",
      "|    std                | 1.04       |\n",
      "|    value_loss         | 8.49       |\n",
      "--------------------------------------\n",
      "--------------------------------------\n",
      "| time/                 |            |\n",
      "|    fps                | 193        |\n",
      "|    iterations         | 3500       |\n",
      "|    time_elapsed       | 90         |\n",
      "|    total_timesteps    | 17500      |\n",
      "| train/                |            |\n",
      "|    entropy_loss       | -42.2      |\n",
      "|    explained_variance | -0.0167    |\n",
      "|    learning_rate      | 0.0007     |\n",
      "|    n_updates          | 3499       |\n",
      "|    policy_loss        | -26        |\n",
      "|    reward             | 0.19924286 |\n",
      "|    std                | 1.04       |\n",
      "|    value_loss         | 0.757      |\n",
      "--------------------------------------\n",
      "--------------------------------------\n",
      "| time/                 |            |\n",
      "|    fps                | 193        |\n",
      "|    iterations         | 3600       |\n",
      "|    time_elapsed       | 92         |\n",
      "|    total_timesteps    | 18000      |\n",
      "| train/                |            |\n",
      "|    entropy_loss       | -42.1      |\n",
      "|    explained_variance | 0          |\n",
      "|    learning_rate      | 0.0007     |\n",
      "|    n_updates          | 3599       |\n",
      "|    policy_loss        | 14         |\n",
      "|    reward             | -1.3205111 |\n",
      "|    std                | 1.03       |\n",
      "|    value_loss         | 0.164      |\n",
      "--------------------------------------\n",
      "--------------------------------------\n",
      "| time/                 |            |\n",
      "|    fps                | 193        |\n",
      "|    iterations         | 3700       |\n",
      "|    time_elapsed       | 95         |\n",
      "|    total_timesteps    | 18500      |\n",
      "| train/                |            |\n",
      "|    entropy_loss       | -42.1      |\n",
      "|    explained_variance | -0.424     |\n",
      "|    learning_rate      | 0.0007     |\n",
      "|    n_updates          | 3699       |\n",
      "|    policy_loss        | -22.6      |\n",
      "|    reward             | -2.0144355 |\n",
      "|    std                | 1.03       |\n",
      "|    value_loss         | 1.72       |\n",
      "--------------------------------------\n",
      "--------------------------------------\n",
      "| time/                 |            |\n",
      "|    fps                | 194        |\n",
      "|    iterations         | 3800       |\n",
      "|    time_elapsed       | 97         |\n",
      "|    total_timesteps    | 19000      |\n",
      "| train/                |            |\n",
      "|    entropy_loss       | -42.1      |\n",
      "|    explained_variance | 0.0247     |\n",
      "|    learning_rate      | 0.0007     |\n",
      "|    n_updates          | 3799       |\n",
      "|    policy_loss        | 96.8       |\n",
      "|    reward             | 0.55380243 |\n",
      "|    std                | 1.04       |\n",
      "|    value_loss         | 5.5        |\n",
      "--------------------------------------\n",
      "-------------------------------------\n",
      "| time/                 |           |\n",
      "|    fps                | 194       |\n",
      "|    iterations         | 3900      |\n",
      "|    time_elapsed       | 100       |\n",
      "|    total_timesteps    | 19500     |\n",
      "| train/                |           |\n",
      "|    entropy_loss       | -42.2     |\n",
      "|    explained_variance | -0.0928   |\n",
      "|    learning_rate      | 0.0007    |\n",
      "|    n_updates          | 3899      |\n",
      "|    policy_loss        | 64.7      |\n",
      "|    reward             | 1.3410164 |\n",
      "|    std                | 1.04      |\n",
      "|    value_loss         | 2.32      |\n",
      "-------------------------------------\n",
      "--------------------------------------\n",
      "| time/                 |            |\n",
      "|    fps                | 194        |\n",
      "|    iterations         | 4000       |\n",
      "|    time_elapsed       | 102        |\n",
      "|    total_timesteps    | 20000      |\n",
      "| train/                |            |\n",
      "|    entropy_loss       | -42.2      |\n",
      "|    explained_variance | 0          |\n",
      "|    learning_rate      | 0.0007     |\n",
      "|    n_updates          | 3999       |\n",
      "|    policy_loss        | -52.1      |\n",
      "|    reward             | -1.5543276 |\n",
      "|    std                | 1.04       |\n",
      "|    value_loss         | 2.06       |\n",
      "--------------------------------------\n",
      "------------------------------------\n",
      "| time/                 |          |\n",
      "|    fps                | 194      |\n",
      "|    iterations         | 4100     |\n",
      "|    time_elapsed       | 105      |\n",
      "|    total_timesteps    | 20500    |\n",
      "| train/                |          |\n",
      "|    entropy_loss       | -42.3    |\n",
      "|    explained_variance | 1.79e-07 |\n",
      "|    learning_rate      | 0.0007   |\n",
      "|    n_updates          | 4099     |\n",
      "|    policy_loss        | 36.8     |\n",
      "|    reward             | 6.339586 |\n",
      "|    std                | 1.04     |\n",
      "|    value_loss         | 1.16     |\n",
      "------------------------------------\n",
      "-------------------------------------\n",
      "| time/                 |           |\n",
      "|    fps                | 194       |\n",
      "|    iterations         | 4200      |\n",
      "|    time_elapsed       | 107       |\n",
      "|    total_timesteps    | 21000     |\n",
      "| train/                |           |\n",
      "|    entropy_loss       | -42.3     |\n",
      "|    explained_variance | 0         |\n",
      "|    learning_rate      | 0.0007    |\n",
      "|    n_updates          | 4199      |\n",
      "|    policy_loss        | 123       |\n",
      "|    reward             | 1.1138921 |\n",
      "|    std                | 1.04      |\n",
      "|    value_loss         | 10.4      |\n",
      "-------------------------------------\n",
      "------------------------------------\n",
      "| time/                 |          |\n",
      "|    fps                | 194      |\n",
      "|    iterations         | 4300     |\n",
      "|    time_elapsed       | 110      |\n",
      "|    total_timesteps    | 21500    |\n",
      "| train/                |          |\n",
      "|    entropy_loss       | -42.3    |\n",
      "|    explained_variance | 0.0365   |\n",
      "|    learning_rate      | 0.0007   |\n",
      "|    n_updates          | 4299     |\n",
      "|    policy_loss        | -131     |\n",
      "|    reward             | 1.339688 |\n",
      "|    std                | 1.04     |\n",
      "|    value_loss         | 11.1     |\n",
      "------------------------------------\n",
      "---------------------------------------\n",
      "| time/                 |             |\n",
      "|    fps                | 194         |\n",
      "|    iterations         | 4400        |\n",
      "|    time_elapsed       | 112         |\n",
      "|    total_timesteps    | 22000       |\n",
      "| train/                |             |\n",
      "|    entropy_loss       | -42.4       |\n",
      "|    explained_variance | 0           |\n",
      "|    learning_rate      | 0.0007      |\n",
      "|    n_updates          | 4399        |\n",
      "|    policy_loss        | 41.5        |\n",
      "|    reward             | -0.44276902 |\n",
      "|    std                | 1.04        |\n",
      "|    value_loss         | 1.75        |\n",
      "---------------------------------------\n",
      "-------------------------------------\n",
      "| time/                 |           |\n",
      "|    fps                | 194       |\n",
      "|    iterations         | 4500      |\n",
      "|    time_elapsed       | 115       |\n",
      "|    total_timesteps    | 22500     |\n",
      "| train/                |           |\n",
      "|    entropy_loss       | -42.4     |\n",
      "|    explained_variance | 0         |\n",
      "|    learning_rate      | 0.0007    |\n",
      "|    n_updates          | 4499      |\n",
      "|    policy_loss        | 66.5      |\n",
      "|    reward             | 1.8198315 |\n",
      "|    std                | 1.04      |\n",
      "|    value_loss         | 19.1      |\n",
      "-------------------------------------\n",
      "--------------------------------------\n",
      "| time/                 |            |\n",
      "|    fps                | 194        |\n",
      "|    iterations         | 4600       |\n",
      "|    time_elapsed       | 117        |\n",
      "|    total_timesteps    | 23000      |\n",
      "| train/                |            |\n",
      "|    entropy_loss       | -42.4      |\n",
      "|    explained_variance | 0.0427     |\n",
      "|    learning_rate      | 0.0007     |\n",
      "|    n_updates          | 4599       |\n",
      "|    policy_loss        | -29.4      |\n",
      "|    reward             | -0.5248761 |\n",
      "|    std                | 1.04       |\n",
      "|    value_loss         | 0.671      |\n",
      "--------------------------------------\n",
      "-------------------------------------\n",
      "| time/                 |           |\n",
      "|    fps                | 195       |\n",
      "|    iterations         | 4700      |\n",
      "|    time_elapsed       | 120       |\n",
      "|    total_timesteps    | 23500     |\n",
      "| train/                |           |\n",
      "|    entropy_loss       | -42.4     |\n",
      "|    explained_variance | 0         |\n",
      "|    learning_rate      | 0.0007    |\n",
      "|    n_updates          | 4699      |\n",
      "|    policy_loss        | 39.6      |\n",
      "|    reward             | 1.0332865 |\n",
      "|    std                | 1.05      |\n",
      "|    value_loss         | 1.27      |\n",
      "-------------------------------------\n",
      "--------------------------------------\n",
      "| time/                 |            |\n",
      "|    fps                | 194        |\n",
      "|    iterations         | 4800       |\n",
      "|    time_elapsed       | 123        |\n",
      "|    total_timesteps    | 24000      |\n",
      "| train/                |            |\n",
      "|    entropy_loss       | -42.4      |\n",
      "|    explained_variance | 5.96e-08   |\n",
      "|    learning_rate      | 0.0007     |\n",
      "|    n_updates          | 4799       |\n",
      "|    policy_loss        | 2.94       |\n",
      "|    reward             | -0.9472897 |\n",
      "|    std                | 1.05       |\n",
      "|    value_loss         | 1.47       |\n",
      "--------------------------------------\n",
      "------------------------------------\n",
      "| time/                 |          |\n",
      "|    fps                | 194      |\n",
      "|    iterations         | 4900     |\n",
      "|    time_elapsed       | 125      |\n",
      "|    total_timesteps    | 24500    |\n",
      "| train/                |          |\n",
      "|    entropy_loss       | -42.5    |\n",
      "|    explained_variance | 0        |\n",
      "|    learning_rate      | 0.0007   |\n",
      "|    n_updates          | 4899     |\n",
      "|    policy_loss        | 275      |\n",
      "|    reward             | 3.449555 |\n",
      "|    std                | 1.05     |\n",
      "|    value_loss         | 61.5     |\n",
      "------------------------------------\n",
      "-------------------------------------\n",
      "| time/                 |           |\n",
      "|    fps                | 194       |\n",
      "|    iterations         | 5000      |\n",
      "|    time_elapsed       | 128       |\n",
      "|    total_timesteps    | 25000     |\n",
      "| train/                |           |\n",
      "|    entropy_loss       | -42.5     |\n",
      "|    explained_variance | 0         |\n",
      "|    learning_rate      | 0.0007    |\n",
      "|    n_updates          | 4999      |\n",
      "|    policy_loss        | -147      |\n",
      "|    reward             | 2.1098497 |\n",
      "|    std                | 1.05      |\n",
      "|    value_loss         | 10.8      |\n",
      "-------------------------------------\n",
      "--------------------------------------\n",
      "| time/                 |            |\n",
      "|    fps                | 194        |\n",
      "|    iterations         | 5100       |\n",
      "|    time_elapsed       | 131        |\n",
      "|    total_timesteps    | 25500      |\n",
      "| train/                |            |\n",
      "|    entropy_loss       | -42.6      |\n",
      "|    explained_variance | 0.363      |\n",
      "|    learning_rate      | 0.0007     |\n",
      "|    n_updates          | 5099       |\n",
      "|    policy_loss        | -6.46      |\n",
      "|    reward             | 0.07451584 |\n",
      "|    std                | 1.05       |\n",
      "|    value_loss         | 0.123      |\n",
      "--------------------------------------\n",
      "--------------------------------------\n",
      "| time/                 |            |\n",
      "|    fps                | 194        |\n",
      "|    iterations         | 5200       |\n",
      "|    time_elapsed       | 133        |\n",
      "|    total_timesteps    | 26000      |\n",
      "| train/                |            |\n",
      "|    entropy_loss       | -42.6      |\n",
      "|    explained_variance | 0          |\n",
      "|    learning_rate      | 0.0007     |\n",
      "|    n_updates          | 5199       |\n",
      "|    policy_loss        | -15.4      |\n",
      "|    reward             | 0.28596616 |\n",
      "|    std                | 1.05       |\n",
      "|    value_loss         | 1.13       |\n",
      "--------------------------------------\n",
      "---------------------------------------\n",
      "| time/                 |             |\n",
      "|    fps                | 193         |\n",
      "|    iterations         | 5300        |\n",
      "|    time_elapsed       | 136         |\n",
      "|    total_timesteps    | 26500       |\n",
      "| train/                |             |\n",
      "|    entropy_loss       | -42.7       |\n",
      "|    explained_variance | 0           |\n",
      "|    learning_rate      | 0.0007      |\n",
      "|    n_updates          | 5299        |\n",
      "|    policy_loss        | 19.6        |\n",
      "|    reward             | -0.33523884 |\n",
      "|    std                | 1.05        |\n",
      "|    value_loss         | 0.737       |\n",
      "---------------------------------------\n",
      "---------------------------------------\n",
      "| time/                 |             |\n",
      "|    fps                | 193         |\n",
      "|    iterations         | 5400        |\n",
      "|    time_elapsed       | 139         |\n",
      "|    total_timesteps    | 27000       |\n",
      "| train/                |             |\n",
      "|    entropy_loss       | -42.6       |\n",
      "|    explained_variance | 0           |\n",
      "|    learning_rate      | 0.0007      |\n",
      "|    n_updates          | 5399        |\n",
      "|    policy_loss        | 5.95        |\n",
      "|    reward             | -0.13430658 |\n",
      "|    std                | 1.05        |\n",
      "|    value_loss         | 0.158       |\n",
      "---------------------------------------\n",
      "-------------------------------------\n",
      "| time/                 |           |\n",
      "|    fps                | 193       |\n",
      "|    iterations         | 5500      |\n",
      "|    time_elapsed       | 142       |\n",
      "|    total_timesteps    | 27500     |\n",
      "| train/                |           |\n",
      "|    entropy_loss       | -42.6     |\n",
      "|    explained_variance | -0.0232   |\n",
      "|    learning_rate      | 0.0007    |\n",
      "|    n_updates          | 5499      |\n",
      "|    policy_loss        | -36.1     |\n",
      "|    reward             | -3.130094 |\n",
      "|    std                | 1.05      |\n",
      "|    value_loss         | 1.91      |\n",
      "-------------------------------------\n",
      "-------------------------------------\n",
      "| time/                 |           |\n",
      "|    fps                | 192       |\n",
      "|    iterations         | 5600      |\n",
      "|    time_elapsed       | 145       |\n",
      "|    total_timesteps    | 28000     |\n",
      "| train/                |           |\n",
      "|    entropy_loss       | -42.7     |\n",
      "|    explained_variance | 0.0249    |\n",
      "|    learning_rate      | 0.0007    |\n",
      "|    n_updates          | 5599      |\n",
      "|    policy_loss        | 14.1      |\n",
      "|    reward             | 1.1834697 |\n",
      "|    std                | 1.05      |\n",
      "|    value_loss         | 1.31      |\n",
      "-------------------------------------\n",
      "---------------------------------------\n",
      "| time/                 |             |\n",
      "|    fps                | 192         |\n",
      "|    iterations         | 5700        |\n",
      "|    time_elapsed       | 147         |\n",
      "|    total_timesteps    | 28500       |\n",
      "| train/                |             |\n",
      "|    entropy_loss       | -42.7       |\n",
      "|    explained_variance | -0.0656     |\n",
      "|    learning_rate      | 0.0007      |\n",
      "|    n_updates          | 5699        |\n",
      "|    policy_loss        | -31.1       |\n",
      "|    reward             | 0.058809005 |\n",
      "|    std                | 1.06        |\n",
      "|    value_loss         | 0.81        |\n",
      "---------------------------------------\n",
      "--------------------------------------\n",
      "| time/                 |            |\n",
      "|    fps                | 192        |\n",
      "|    iterations         | 5800       |\n",
      "|    time_elapsed       | 150        |\n",
      "|    total_timesteps    | 29000      |\n",
      "| train/                |            |\n",
      "|    entropy_loss       | -42.8      |\n",
      "|    explained_variance | 0          |\n",
      "|    learning_rate      | 0.0007     |\n",
      "|    n_updates          | 5799       |\n",
      "|    policy_loss        | -27.8      |\n",
      "|    reward             | -0.4909402 |\n",
      "|    std                | 1.06       |\n",
      "|    value_loss         | 0.585      |\n",
      "--------------------------------------\n",
      "-------------------------------------\n",
      "| time/                 |           |\n",
      "|    fps                | 192       |\n",
      "|    iterations         | 5900      |\n",
      "|    time_elapsed       | 152       |\n",
      "|    total_timesteps    | 29500     |\n",
      "| train/                |           |\n",
      "|    entropy_loss       | -42.8     |\n",
      "|    explained_variance | 0.0527    |\n",
      "|    learning_rate      | 0.0007    |\n",
      "|    n_updates          | 5899      |\n",
      "|    policy_loss        | -91       |\n",
      "|    reward             | 0.9540927 |\n",
      "|    std                | 1.06      |\n",
      "|    value_loss         | 5.74      |\n",
      "-------------------------------------\n",
      "--------------------------------------\n",
      "| time/                 |            |\n",
      "|    fps                | 192        |\n",
      "|    iterations         | 6000       |\n",
      "|    time_elapsed       | 155        |\n",
      "|    total_timesteps    | 30000      |\n",
      "| train/                |            |\n",
      "|    entropy_loss       | -42.7      |\n",
      "|    explained_variance | 0.279      |\n",
      "|    learning_rate      | 0.0007     |\n",
      "|    n_updates          | 5999       |\n",
      "|    policy_loss        | 46.5       |\n",
      "|    reward             | 0.06366053 |\n",
      "|    std                | 1.06       |\n",
      "|    value_loss         | 1.62       |\n",
      "--------------------------------------\n",
      "-------------------------------------\n",
      "| time/                 |           |\n",
      "|    fps                | 192       |\n",
      "|    iterations         | 6100      |\n",
      "|    time_elapsed       | 158       |\n",
      "|    total_timesteps    | 30500     |\n",
      "| train/                |           |\n",
      "|    entropy_loss       | -42.8     |\n",
      "|    explained_variance | 0         |\n",
      "|    learning_rate      | 0.0007    |\n",
      "|    n_updates          | 6099      |\n",
      "|    policy_loss        | -32.2     |\n",
      "|    reward             | 2.8858116 |\n",
      "|    std                | 1.06      |\n",
      "|    value_loss         | 6.92      |\n",
      "-------------------------------------\n",
      "------------------------------------\n",
      "| time/                 |          |\n",
      "|    fps                | 192      |\n",
      "|    iterations         | 6200     |\n",
      "|    time_elapsed       | 160      |\n",
      "|    total_timesteps    | 31000    |\n",
      "| train/                |          |\n",
      "|    entropy_loss       | -42.8    |\n",
      "|    explained_variance | 0        |\n",
      "|    learning_rate      | 0.0007   |\n",
      "|    n_updates          | 6199     |\n",
      "|    policy_loss        | -39.6    |\n",
      "|    reward             | 5.665291 |\n",
      "|    std                | 1.06     |\n",
      "|    value_loss         | 15.4     |\n",
      "------------------------------------\n",
      "day: 1634, episode: 20\n",
      "begin_total_asset: 1000000.00\n",
      "end_total_asset: 1952979.09\n",
      "total_reward: 952979.09\n",
      "total_cost: 68754.57\n",
      "total_trades: 31433\n",
      "Sharpe: 0.602\n",
      "=================================\n",
      "--------------------------------------\n",
      "| time/                 |            |\n",
      "|    fps                | 192        |\n",
      "|    iterations         | 6300       |\n",
      "|    time_elapsed       | 163        |\n",
      "|    total_timesteps    | 31500      |\n",
      "| train/                |            |\n",
      "|    entropy_loss       | -42.8      |\n",
      "|    explained_variance | 0          |\n",
      "|    learning_rate      | 0.0007     |\n",
      "|    n_updates          | 6299       |\n",
      "|    policy_loss        | 58.2       |\n",
      "|    reward             | -0.5475171 |\n",
      "|    std                | 1.06       |\n",
      "|    value_loss         | 2.64       |\n",
      "--------------------------------------\n",
      "--------------------------------------\n",
      "| time/                 |            |\n",
      "|    fps                | 192        |\n",
      "|    iterations         | 6400       |\n",
      "|    time_elapsed       | 166        |\n",
      "|    total_timesteps    | 32000      |\n",
      "| train/                |            |\n",
      "|    entropy_loss       | -42.9      |\n",
      "|    explained_variance | 0.231      |\n",
      "|    learning_rate      | 0.0007     |\n",
      "|    n_updates          | 6399       |\n",
      "|    policy_loss        | 38.3       |\n",
      "|    reward             | 0.87642515 |\n",
      "|    std                | 1.06       |\n",
      "|    value_loss         | 1.2        |\n",
      "--------------------------------------\n",
      "-------------------------------------\n",
      "| time/                 |           |\n",
      "|    fps                | 192       |\n",
      "|    iterations         | 6500      |\n",
      "|    time_elapsed       | 168       |\n",
      "|    total_timesteps    | 32500     |\n",
      "| train/                |           |\n",
      "|    entropy_loss       | -42.8     |\n",
      "|    explained_variance | 0.02      |\n",
      "|    learning_rate      | 0.0007    |\n",
      "|    n_updates          | 6499      |\n",
      "|    policy_loss        | 43.7      |\n",
      "|    reward             | -2.253175 |\n",
      "|    std                | 1.06      |\n",
      "|    value_loss         | 4.55      |\n",
      "-------------------------------------\n",
      "--------------------------------------\n",
      "| time/                 |            |\n",
      "|    fps                | 192        |\n",
      "|    iterations         | 6600       |\n",
      "|    time_elapsed       | 171        |\n",
      "|    total_timesteps    | 33000      |\n",
      "| train/                |            |\n",
      "|    entropy_loss       | -42.8      |\n",
      "|    explained_variance | -0.0342    |\n",
      "|    learning_rate      | 0.0007     |\n",
      "|    n_updates          | 6599       |\n",
      "|    policy_loss        | -93.2      |\n",
      "|    reward             | -1.0739999 |\n",
      "|    std                | 1.06       |\n",
      "|    value_loss         | 5.33       |\n",
      "--------------------------------------\n",
      "---------------------------------------\n",
      "| time/                 |             |\n",
      "|    fps                | 192         |\n",
      "|    iterations         | 6700        |\n",
      "|    time_elapsed       | 173         |\n",
      "|    total_timesteps    | 33500       |\n",
      "| train/                |             |\n",
      "|    entropy_loss       | -42.9       |\n",
      "|    explained_variance | 0           |\n",
      "|    learning_rate      | 0.0007      |\n",
      "|    n_updates          | 6699        |\n",
      "|    policy_loss        | 69.1        |\n",
      "|    reward             | -0.47459853 |\n",
      "|    std                | 1.06        |\n",
      "|    value_loss         | 2.69        |\n",
      "---------------------------------------\n",
      "---------------------------------------\n",
      "| time/                 |             |\n",
      "|    fps                | 192         |\n",
      "|    iterations         | 6800        |\n",
      "|    time_elapsed       | 176         |\n",
      "|    total_timesteps    | 34000       |\n",
      "| train/                |             |\n",
      "|    entropy_loss       | -42.9       |\n",
      "|    explained_variance | -0.0185     |\n",
      "|    learning_rate      | 0.0007      |\n",
      "|    n_updates          | 6799        |\n",
      "|    policy_loss        | 24          |\n",
      "|    reward             | -0.25412607 |\n",
      "|    std                | 1.06        |\n",
      "|    value_loss         | 0.543       |\n",
      "---------------------------------------\n",
      "---------------------------------------\n",
      "| time/                 |             |\n",
      "|    fps                | 192         |\n",
      "|    iterations         | 6900        |\n",
      "|    time_elapsed       | 179         |\n",
      "|    total_timesteps    | 34500       |\n",
      "| train/                |             |\n",
      "|    entropy_loss       | -43         |\n",
      "|    explained_variance | 0.000193    |\n",
      "|    learning_rate      | 0.0007      |\n",
      "|    n_updates          | 6899        |\n",
      "|    policy_loss        | 41          |\n",
      "|    reward             | -0.34948617 |\n",
      "|    std                | 1.07        |\n",
      "|    value_loss         | 1.31        |\n",
      "---------------------------------------\n",
      "------------------------------------\n",
      "| time/                 |          |\n",
      "|    fps                | 192      |\n",
      "|    iterations         | 7000     |\n",
      "|    time_elapsed       | 181      |\n",
      "|    total_timesteps    | 35000    |\n",
      "| train/                |          |\n",
      "|    entropy_loss       | -43      |\n",
      "|    explained_variance | 0        |\n",
      "|    learning_rate      | 0.0007   |\n",
      "|    n_updates          | 6999     |\n",
      "|    policy_loss        | 9.13     |\n",
      "|    reward             | 0.902807 |\n",
      "|    std                | 1.07     |\n",
      "|    value_loss         | 0.329    |\n",
      "------------------------------------\n",
      "--------------------------------------\n",
      "| time/                 |            |\n",
      "|    fps                | 192        |\n",
      "|    iterations         | 7100       |\n",
      "|    time_elapsed       | 184        |\n",
      "|    total_timesteps    | 35500      |\n",
      "| train/                |            |\n",
      "|    entropy_loss       | -43        |\n",
      "|    explained_variance | -0.00151   |\n",
      "|    learning_rate      | 0.0007     |\n",
      "|    n_updates          | 7099       |\n",
      "|    policy_loss        | -28.7      |\n",
      "|    reward             | 0.97466123 |\n",
      "|    std                | 1.07       |\n",
      "|    value_loss         | 0.577      |\n",
      "--------------------------------------\n",
      "-------------------------------------\n",
      "| time/                 |           |\n",
      "|    fps                | 192       |\n",
      "|    iterations         | 7200      |\n",
      "|    time_elapsed       | 186       |\n",
      "|    total_timesteps    | 36000     |\n",
      "| train/                |           |\n",
      "|    entropy_loss       | -43       |\n",
      "|    explained_variance | -15.2     |\n",
      "|    learning_rate      | 0.0007    |\n",
      "|    n_updates          | 7199      |\n",
      "|    policy_loss        | 130       |\n",
      "|    reward             | 0.5311745 |\n",
      "|    std                | 1.07      |\n",
      "|    value_loss         | 19        |\n",
      "-------------------------------------\n",
      "--------------------------------------\n",
      "| time/                 |            |\n",
      "|    fps                | 192        |\n",
      "|    iterations         | 7300       |\n",
      "|    time_elapsed       | 189        |\n",
      "|    total_timesteps    | 36500      |\n",
      "| train/                |            |\n",
      "|    entropy_loss       | -43.1      |\n",
      "|    explained_variance | 0          |\n",
      "|    learning_rate      | 0.0007     |\n",
      "|    n_updates          | 7299       |\n",
      "|    policy_loss        | 11.5       |\n",
      "|    reward             | -1.5166711 |\n",
      "|    std                | 1.07       |\n",
      "|    value_loss         | 0.913      |\n",
      "--------------------------------------\n",
      "-------------------------------------\n",
      "| time/                 |           |\n",
      "|    fps                | 192       |\n",
      "|    iterations         | 7400      |\n",
      "|    time_elapsed       | 191       |\n",
      "|    total_timesteps    | 37000     |\n",
      "| train/                |           |\n",
      "|    entropy_loss       | -43.2     |\n",
      "|    explained_variance | 0         |\n",
      "|    learning_rate      | 0.0007    |\n",
      "|    n_updates          | 7399      |\n",
      "|    policy_loss        | 9.92      |\n",
      "|    reward             | -5.121826 |\n",
      "|    std                | 1.07      |\n",
      "|    value_loss         | 0.459     |\n",
      "-------------------------------------\n",
      "-------------------------------------\n",
      "| time/                 |           |\n",
      "|    fps                | 192       |\n",
      "|    iterations         | 7500      |\n",
      "|    time_elapsed       | 194       |\n",
      "|    total_timesteps    | 37500     |\n",
      "| train/                |           |\n",
      "|    entropy_loss       | -43.2     |\n",
      "|    explained_variance | 0         |\n",
      "|    learning_rate      | 0.0007    |\n",
      "|    n_updates          | 7499      |\n",
      "|    policy_loss        | -33.5     |\n",
      "|    reward             | 0.9016295 |\n",
      "|    std                | 1.07      |\n",
      "|    value_loss         | 1.07      |\n",
      "-------------------------------------\n",
      "-------------------------------------\n",
      "| time/                 |           |\n",
      "|    fps                | 192       |\n",
      "|    iterations         | 7600      |\n",
      "|    time_elapsed       | 197       |\n",
      "|    total_timesteps    | 38000     |\n",
      "| train/                |           |\n",
      "|    entropy_loss       | -43.2     |\n",
      "|    explained_variance | 0         |\n",
      "|    learning_rate      | 0.0007    |\n",
      "|    n_updates          | 7599      |\n",
      "|    policy_loss        | -72.9     |\n",
      "|    reward             | 0.2842773 |\n",
      "|    std                | 1.07      |\n",
      "|    value_loss         | 3.11      |\n",
      "-------------------------------------\n",
      "--------------------------------------\n",
      "| time/                 |            |\n",
      "|    fps                | 192        |\n",
      "|    iterations         | 7700       |\n",
      "|    time_elapsed       | 200        |\n",
      "|    total_timesteps    | 38500      |\n",
      "| train/                |            |\n",
      "|    entropy_loss       | -43.2      |\n",
      "|    explained_variance | 0.498      |\n",
      "|    learning_rate      | 0.0007     |\n",
      "|    n_updates          | 7699       |\n",
      "|    policy_loss        | -0.619     |\n",
      "|    reward             | -0.2910324 |\n",
      "|    std                | 1.07       |\n",
      "|    value_loss         | 0.121      |\n",
      "--------------------------------------\n",
      "---------------------------------------\n",
      "| time/                 |             |\n",
      "|    fps                | 192         |\n",
      "|    iterations         | 7800        |\n",
      "|    time_elapsed       | 202         |\n",
      "|    total_timesteps    | 39000       |\n",
      "| train/                |             |\n",
      "|    entropy_loss       | -43.2       |\n",
      "|    explained_variance | 0           |\n",
      "|    learning_rate      | 0.0007      |\n",
      "|    n_updates          | 7799        |\n",
      "|    policy_loss        | 68.2        |\n",
      "|    reward             | -0.17586592 |\n",
      "|    std                | 1.07        |\n",
      "|    value_loss         | 3.51        |\n",
      "---------------------------------------\n",
      "---------------------------------------\n",
      "| time/                 |             |\n",
      "|    fps                | 192         |\n",
      "|    iterations         | 7900        |\n",
      "|    time_elapsed       | 205         |\n",
      "|    total_timesteps    | 39500       |\n",
      "| train/                |             |\n",
      "|    entropy_loss       | -43.2       |\n",
      "|    explained_variance | 0.161       |\n",
      "|    learning_rate      | 0.0007      |\n",
      "|    n_updates          | 7899        |\n",
      "|    policy_loss        | -51.7       |\n",
      "|    reward             | -0.60025436 |\n",
      "|    std                | 1.07        |\n",
      "|    value_loss         | 3.15        |\n",
      "---------------------------------------\n",
      "--------------------------------------\n",
      "| time/                 |            |\n",
      "|    fps                | 192        |\n",
      "|    iterations         | 8000       |\n",
      "|    time_elapsed       | 208        |\n",
      "|    total_timesteps    | 40000      |\n",
      "| train/                |            |\n",
      "|    entropy_loss       | -43.3      |\n",
      "|    explained_variance | 0          |\n",
      "|    learning_rate      | 0.0007     |\n",
      "|    n_updates          | 7999       |\n",
      "|    policy_loss        | -45.8      |\n",
      "|    reward             | -0.5963033 |\n",
      "|    std                | 1.08       |\n",
      "|    value_loss         | 1.36       |\n",
      "--------------------------------------\n",
      "------------------------------------\n",
      "| time/                 |          |\n",
      "|    fps                | 192      |\n",
      "|    iterations         | 8100     |\n",
      "|    time_elapsed       | 210      |\n",
      "|    total_timesteps    | 40500    |\n",
      "| train/                |          |\n",
      "|    entropy_loss       | -43.3    |\n",
      "|    explained_variance | 0.102    |\n",
      "|    learning_rate      | 0.0007   |\n",
      "|    n_updates          | 8099     |\n",
      "|    policy_loss        | 182      |\n",
      "|    reward             | 5.449117 |\n",
      "|    std                | 1.08     |\n",
      "|    value_loss         | 26       |\n",
      "------------------------------------\n",
      "--------------------------------------\n",
      "| time/                 |            |\n",
      "|    fps                | 191        |\n",
      "|    iterations         | 8200       |\n",
      "|    time_elapsed       | 213        |\n",
      "|    total_timesteps    | 41000      |\n",
      "| train/                |            |\n",
      "|    entropy_loss       | -43.3      |\n",
      "|    explained_variance | 0          |\n",
      "|    learning_rate      | 0.0007     |\n",
      "|    n_updates          | 8199       |\n",
      "|    policy_loss        | -15.7      |\n",
      "|    reward             | 0.14532536 |\n",
      "|    std                | 1.08       |\n",
      "|    value_loss         | 0.211      |\n",
      "--------------------------------------\n",
      "-------------------------------------\n",
      "| time/                 |           |\n",
      "|    fps                | 191       |\n",
      "|    iterations         | 8300      |\n",
      "|    time_elapsed       | 216       |\n",
      "|    total_timesteps    | 41500     |\n",
      "| train/                |           |\n",
      "|    entropy_loss       | -43.4     |\n",
      "|    explained_variance | 0         |\n",
      "|    learning_rate      | 0.0007    |\n",
      "|    n_updates          | 8299      |\n",
      "|    policy_loss        | 27.6      |\n",
      "|    reward             | -2.104136 |\n",
      "|    std                | 1.08      |\n",
      "|    value_loss         | 0.49      |\n",
      "-------------------------------------\n",
      "--------------------------------------\n",
      "| time/                 |            |\n",
      "|    fps                | 191        |\n",
      "|    iterations         | 8400       |\n",
      "|    time_elapsed       | 218        |\n",
      "|    total_timesteps    | 42000      |\n",
      "| train/                |            |\n",
      "|    entropy_loss       | -43.5      |\n",
      "|    explained_variance | 1.19e-07   |\n",
      "|    learning_rate      | 0.0007     |\n",
      "|    n_updates          | 8399       |\n",
      "|    policy_loss        | -5.9       |\n",
      "|    reward             | -1.9793862 |\n",
      "|    std                | 1.09       |\n",
      "|    value_loss         | 0.0344     |\n",
      "--------------------------------------\n",
      "--------------------------------------\n",
      "| time/                 |            |\n",
      "|    fps                | 191        |\n",
      "|    iterations         | 8500       |\n",
      "|    time_elapsed       | 221        |\n",
      "|    total_timesteps    | 42500      |\n",
      "| train/                |            |\n",
      "|    entropy_loss       | -43.5      |\n",
      "|    explained_variance | 0          |\n",
      "|    learning_rate      | 0.0007     |\n",
      "|    n_updates          | 8499       |\n",
      "|    policy_loss        | -53.1      |\n",
      "|    reward             | -1.1991552 |\n",
      "|    std                | 1.09       |\n",
      "|    value_loss         | 5.47       |\n",
      "--------------------------------------\n",
      "--------------------------------------\n",
      "| time/                 |            |\n",
      "|    fps                | 191        |\n",
      "|    iterations         | 8600       |\n",
      "|    time_elapsed       | 224        |\n",
      "|    total_timesteps    | 43000      |\n",
      "| train/                |            |\n",
      "|    entropy_loss       | -43.5      |\n",
      "|    explained_variance | 0          |\n",
      "|    learning_rate      | 0.0007     |\n",
      "|    n_updates          | 8599       |\n",
      "|    policy_loss        | 30.1       |\n",
      "|    reward             | -1.7549121 |\n",
      "|    std                | 1.09       |\n",
      "|    value_loss         | 1.01       |\n",
      "--------------------------------------\n",
      "--------------------------------------\n",
      "| time/                 |            |\n",
      "|    fps                | 191        |\n",
      "|    iterations         | 8700       |\n",
      "|    time_elapsed       | 227        |\n",
      "|    total_timesteps    | 43500      |\n",
      "| train/                |            |\n",
      "|    entropy_loss       | -43.6      |\n",
      "|    explained_variance | -1.19e-07  |\n",
      "|    learning_rate      | 0.0007     |\n",
      "|    n_updates          | 8699       |\n",
      "|    policy_loss        | 3.18       |\n",
      "|    reward             | 0.15376088 |\n",
      "|    std                | 1.09       |\n",
      "|    value_loss         | 0.116      |\n",
      "--------------------------------------\n",
      "-------------------------------------\n",
      "| time/                 |           |\n",
      "|    fps                | 191       |\n",
      "|    iterations         | 8800      |\n",
      "|    time_elapsed       | 229       |\n",
      "|    total_timesteps    | 44000     |\n",
      "| train/                |           |\n",
      "|    entropy_loss       | -43.6     |\n",
      "|    explained_variance | 0         |\n",
      "|    learning_rate      | 0.0007    |\n",
      "|    n_updates          | 8799      |\n",
      "|    policy_loss        | -17.6     |\n",
      "|    reward             | -0.918124 |\n",
      "|    std                | 1.09      |\n",
      "|    value_loss         | 0.27      |\n",
      "-------------------------------------\n",
      "--------------------------------------\n",
      "| time/                 |            |\n",
      "|    fps                | 191        |\n",
      "|    iterations         | 8900       |\n",
      "|    time_elapsed       | 232        |\n",
      "|    total_timesteps    | 44500      |\n",
      "| train/                |            |\n",
      "|    entropy_loss       | -43.7      |\n",
      "|    explained_variance | 0.178      |\n",
      "|    learning_rate      | 0.0007     |\n",
      "|    n_updates          | 8899       |\n",
      "|    policy_loss        | -55.7      |\n",
      "|    reward             | -0.2789444 |\n",
      "|    std                | 1.09       |\n",
      "|    value_loss         | 1.88       |\n",
      "--------------------------------------\n",
      "-------------------------------------\n",
      "| time/                 |           |\n",
      "|    fps                | 191       |\n",
      "|    iterations         | 9000      |\n",
      "|    time_elapsed       | 235       |\n",
      "|    total_timesteps    | 45000     |\n",
      "| train/                |           |\n",
      "|    entropy_loss       | -43.7     |\n",
      "|    explained_variance | 0.103     |\n",
      "|    learning_rate      | 0.0007    |\n",
      "|    n_updates          | 8999      |\n",
      "|    policy_loss        | -18.6     |\n",
      "|    reward             | 0.4672719 |\n",
      "|    std                | 1.1       |\n",
      "|    value_loss         | 0.453     |\n",
      "-------------------------------------\n",
      "--------------------------------------\n",
      "| time/                 |            |\n",
      "|    fps                | 191        |\n",
      "|    iterations         | 9100       |\n",
      "|    time_elapsed       | 237        |\n",
      "|    total_timesteps    | 45500      |\n",
      "| train/                |            |\n",
      "|    entropy_loss       | -43.7      |\n",
      "|    explained_variance | 0          |\n",
      "|    learning_rate      | 0.0007     |\n",
      "|    n_updates          | 9099       |\n",
      "|    policy_loss        | -12.4      |\n",
      "|    reward             | 0.72003317 |\n",
      "|    std                | 1.09       |\n",
      "|    value_loss         | 1.57       |\n",
      "--------------------------------------\n",
      "-------------------------------------\n",
      "| time/                 |           |\n",
      "|    fps                | 191       |\n",
      "|    iterations         | 9200      |\n",
      "|    time_elapsed       | 240       |\n",
      "|    total_timesteps    | 46000     |\n",
      "| train/                |           |\n",
      "|    entropy_loss       | -43.7     |\n",
      "|    explained_variance | -1.19e-07 |\n",
      "|    learning_rate      | 0.0007    |\n",
      "|    n_updates          | 9199      |\n",
      "|    policy_loss        | 30.2      |\n",
      "|    reward             | 0.0379581 |\n",
      "|    std                | 1.1       |\n",
      "|    value_loss         | 0.564     |\n",
      "-------------------------------------\n",
      "------------------------------------\n",
      "| time/                 |          |\n",
      "|    fps                | 191      |\n",
      "|    iterations         | 9300     |\n",
      "|    time_elapsed       | 243      |\n",
      "|    total_timesteps    | 46500    |\n",
      "| train/                |          |\n",
      "|    entropy_loss       | -43.7    |\n",
      "|    explained_variance | 0        |\n",
      "|    learning_rate      | 0.0007   |\n",
      "|    n_updates          | 9299     |\n",
      "|    policy_loss        | -65.4    |\n",
      "|    reward             | 1.54109  |\n",
      "|    std                | 1.1      |\n",
      "|    value_loss         | 2.83     |\n",
      "------------------------------------\n",
      "-------------------------------------\n",
      "| time/                 |           |\n",
      "|    fps                | 191       |\n",
      "|    iterations         | 9400      |\n",
      "|    time_elapsed       | 245       |\n",
      "|    total_timesteps    | 47000     |\n",
      "| train/                |           |\n",
      "|    entropy_loss       | -43.7     |\n",
      "|    explained_variance | 0         |\n",
      "|    learning_rate      | 0.0007    |\n",
      "|    n_updates          | 9399      |\n",
      "|    policy_loss        | -79.3     |\n",
      "|    reward             | 2.2465007 |\n",
      "|    std                | 1.1       |\n",
      "|    value_loss         | 5.09      |\n",
      "-------------------------------------\n",
      "day: 1634, episode: 30\n",
      "begin_total_asset: 1000000.00\n",
      "end_total_asset: 1680529.54\n",
      "total_reward: 680529.54\n",
      "total_cost: 3743.48\n",
      "total_trades: 30763\n",
      "Sharpe: 0.547\n",
      "=================================\n",
      "---------------------------------------\n",
      "| time/                 |             |\n",
      "|    fps                | 191         |\n",
      "|    iterations         | 9500        |\n",
      "|    time_elapsed       | 248         |\n",
      "|    total_timesteps    | 47500       |\n",
      "| train/                |             |\n",
      "|    entropy_loss       | -43.8       |\n",
      "|    explained_variance | -0.0124     |\n",
      "|    learning_rate      | 0.0007      |\n",
      "|    n_updates          | 9499        |\n",
      "|    policy_loss        | -5.78       |\n",
      "|    reward             | -0.83609617 |\n",
      "|    std                | 1.1         |\n",
      "|    value_loss         | 0.403       |\n",
      "---------------------------------------\n",
      "--------------------------------------\n",
      "| time/                 |            |\n",
      "|    fps                | 191        |\n",
      "|    iterations         | 9600       |\n",
      "|    time_elapsed       | 250        |\n",
      "|    total_timesteps    | 48000      |\n",
      "| train/                |            |\n",
      "|    entropy_loss       | -43.8      |\n",
      "|    explained_variance | -0.183     |\n",
      "|    learning_rate      | 0.0007     |\n",
      "|    n_updates          | 9599       |\n",
      "|    policy_loss        | 6.39       |\n",
      "|    reward             | -1.4761862 |\n",
      "|    std                | 1.1        |\n",
      "|    value_loss         | 0.153      |\n",
      "--------------------------------------\n",
      "-------------------------------------\n",
      "| time/                 |           |\n",
      "|    fps                | 191       |\n",
      "|    iterations         | 9700      |\n",
      "|    time_elapsed       | 253       |\n",
      "|    total_timesteps    | 48500     |\n",
      "| train/                |           |\n",
      "|    entropy_loss       | -43.9     |\n",
      "|    explained_variance | 0         |\n",
      "|    learning_rate      | 0.0007    |\n",
      "|    n_updates          | 9699      |\n",
      "|    policy_loss        | 39.1      |\n",
      "|    reward             | 0.7139742 |\n",
      "|    std                | 1.1       |\n",
      "|    value_loss         | 1.71      |\n",
      "-------------------------------------\n",
      "--------------------------------------\n",
      "| time/                 |            |\n",
      "|    fps                | 191        |\n",
      "|    iterations         | 9800       |\n",
      "|    time_elapsed       | 255        |\n",
      "|    total_timesteps    | 49000      |\n",
      "| train/                |            |\n",
      "|    entropy_loss       | -44        |\n",
      "|    explained_variance | 0          |\n",
      "|    learning_rate      | 0.0007     |\n",
      "|    n_updates          | 9799       |\n",
      "|    policy_loss        | 317        |\n",
      "|    reward             | -3.6366768 |\n",
      "|    std                | 1.11       |\n",
      "|    value_loss         | 50         |\n",
      "--------------------------------------\n",
      "-------------------------------------\n",
      "| time/                 |           |\n",
      "|    fps                | 191       |\n",
      "|    iterations         | 9900      |\n",
      "|    time_elapsed       | 258       |\n",
      "|    total_timesteps    | 49500     |\n",
      "| train/                |           |\n",
      "|    entropy_loss       | -44       |\n",
      "|    explained_variance | 0.153     |\n",
      "|    learning_rate      | 0.0007    |\n",
      "|    n_updates          | 9899      |\n",
      "|    policy_loss        | 113       |\n",
      "|    reward             | 0.6949425 |\n",
      "|    std                | 1.11      |\n",
      "|    value_loss         | 8.89      |\n",
      "-------------------------------------\n",
      "-------------------------------------\n",
      "| time/                 |           |\n",
      "|    fps                | 191       |\n",
      "|    iterations         | 10000     |\n",
      "|    time_elapsed       | 260       |\n",
      "|    total_timesteps    | 50000     |\n",
      "| train/                |           |\n",
      "|    entropy_loss       | -44       |\n",
      "|    explained_variance | -1.19e-07 |\n",
      "|    learning_rate      | 0.0007    |\n",
      "|    n_updates          | 9999      |\n",
      "|    policy_loss        | 28.1      |\n",
      "|    reward             | 2.0777767 |\n",
      "|    std                | 1.11      |\n",
      "|    value_loss         | 0.5       |\n",
      "-------------------------------------\n"
     ]
    }
   ],
   "source": [
    "trained_a2c = agent.train_model(model=model_a2c, \n",
    "                             tb_log_name='a2c',\n",
    "                             total_timesteps=50000)"
   ]
  },
  {
   "cell_type": "markdown",
   "metadata": {
    "id": "MRiOtrywfAo1",
    "pycharm": {
     "name": "#%% md\n"
    }
   },
   "source": [
    "### Model 2: DDPG"
   ]
  },
  {
   "cell_type": "code",
   "execution_count": 26,
   "metadata": {
    "id": "M2YadjfnLwgt",
    "pycharm": {
     "name": "#%%\n"
    }
   },
   "outputs": [
    {
     "name": "stdout",
     "output_type": "stream",
     "text": [
      "{'batch_size': 128, 'buffer_size': 50000, 'learning_rate': 0.001}\n",
      "Using cpu device\n"
     ]
    }
   ],
   "source": [
    "agent = DRLAgent(env = env_train)\n",
    "model_ddpg = agent.get_model(\"ddpg\")"
   ]
  },
  {
   "cell_type": "code",
   "execution_count": 27,
   "metadata": {
    "id": "tCDa78rqfO_a",
    "jupyter": {
     "outputs_hidden": true
    },
    "pycharm": {
     "name": "#%%\n"
    }
   },
   "outputs": [
    {
     "name": "stdout",
     "output_type": "stream",
     "text": [
      "----------------------------------\n",
      "| time/              |           |\n",
      "|    episodes        | 4         |\n",
      "|    fps             | 62        |\n",
      "|    time_elapsed    | 104       |\n",
      "|    total_timesteps | 6540      |\n",
      "| train/             |           |\n",
      "|    actor_loss      | -21       |\n",
      "|    critic_loss     | 757       |\n",
      "|    learning_rate   | 0.001     |\n",
      "|    n_updates       | 4905      |\n",
      "|    reward          | 2.2895372 |\n",
      "----------------------------------\n",
      "day: 1634, episode: 40\n",
      "begin_total_asset: 1000000.00\n",
      "end_total_asset: 1882719.19\n",
      "total_reward: 882719.19\n",
      "total_cost: 1522.19\n",
      "total_trades: 27805\n",
      "Sharpe: 0.617\n",
      "=================================\n",
      "----------------------------------\n",
      "| time/              |           |\n",
      "|    episodes        | 8         |\n",
      "|    fps             | 56        |\n",
      "|    time_elapsed    | 232       |\n",
      "|    total_timesteps | 13080     |\n",
      "| train/             |           |\n",
      "|    actor_loss      | -7.32     |\n",
      "|    critic_loss     | 4.78      |\n",
      "|    learning_rate   | 0.001     |\n",
      "|    n_updates       | 11445     |\n",
      "|    reward          | 2.2895372 |\n",
      "----------------------------------\n",
      "----------------------------------\n",
      "| time/              |           |\n",
      "|    episodes        | 12        |\n",
      "|    fps             | 53        |\n",
      "|    time_elapsed    | 363       |\n",
      "|    total_timesteps | 19620     |\n",
      "| train/             |           |\n",
      "|    actor_loss      | -6.37     |\n",
      "|    critic_loss     | 0.425     |\n",
      "|    learning_rate   | 0.001     |\n",
      "|    n_updates       | 17985     |\n",
      "|    reward          | 2.2895372 |\n",
      "----------------------------------\n",
      "----------------------------------\n",
      "| time/              |           |\n",
      "|    episodes        | 16        |\n",
      "|    fps             | 50        |\n",
      "|    time_elapsed    | 516       |\n",
      "|    total_timesteps | 26160     |\n",
      "| train/             |           |\n",
      "|    actor_loss      | -5.78     |\n",
      "|    critic_loss     | 1.24      |\n",
      "|    learning_rate   | 0.001     |\n",
      "|    n_updates       | 24525     |\n",
      "|    reward          | 2.2895372 |\n",
      "----------------------------------\n",
      "day: 1634, episode: 50\n",
      "begin_total_asset: 1000000.00\n",
      "end_total_asset: 1882719.19\n",
      "total_reward: 882719.19\n",
      "total_cost: 1522.19\n",
      "total_trades: 27805\n",
      "Sharpe: 0.617\n",
      "=================================\n",
      "----------------------------------\n",
      "| time/              |           |\n",
      "|    episodes        | 20        |\n",
      "|    fps             | 48        |\n",
      "|    time_elapsed    | 674       |\n",
      "|    total_timesteps | 32700     |\n",
      "| train/             |           |\n",
      "|    actor_loss      | -5.51     |\n",
      "|    critic_loss     | 0.438     |\n",
      "|    learning_rate   | 0.001     |\n",
      "|    n_updates       | 31065     |\n",
      "|    reward          | 2.2895372 |\n",
      "----------------------------------\n",
      "----------------------------------\n",
      "| time/              |           |\n",
      "|    episodes        | 24        |\n",
      "|    fps             | 47        |\n",
      "|    time_elapsed    | 821       |\n",
      "|    total_timesteps | 39240     |\n",
      "| train/             |           |\n",
      "|    actor_loss      | -5.46     |\n",
      "|    critic_loss     | 0.27      |\n",
      "|    learning_rate   | 0.001     |\n",
      "|    n_updates       | 37605     |\n",
      "|    reward          | 2.2895372 |\n",
      "----------------------------------\n",
      "day: 1634, episode: 60\n",
      "begin_total_asset: 1000000.00\n",
      "end_total_asset: 1882719.19\n",
      "total_reward: 882719.19\n",
      "total_cost: 1522.19\n",
      "total_trades: 27805\n",
      "Sharpe: 0.617\n",
      "=================================\n",
      "----------------------------------\n",
      "| time/              |           |\n",
      "|    episodes        | 28        |\n",
      "|    fps             | 47        |\n",
      "|    time_elapsed    | 968       |\n",
      "|    total_timesteps | 45780     |\n",
      "| train/             |           |\n",
      "|    actor_loss      | -5.44     |\n",
      "|    critic_loss     | 0.222     |\n",
      "|    learning_rate   | 0.001     |\n",
      "|    n_updates       | 44145     |\n",
      "|    reward          | 2.2895372 |\n",
      "----------------------------------\n"
     ]
    }
   ],
   "source": [
    "trained_ddpg = agent.train_model(model=model_ddpg, \n",
    "                             tb_log_name='ddpg',\n",
    "                             total_timesteps=50000)"
   ]
  },
  {
   "cell_type": "markdown",
   "metadata": {
    "id": "_gDkU-j-fCmZ",
    "pycharm": {
     "name": "#%% md\n"
    }
   },
   "source": [
    "### Model 3: PPO"
   ]
  },
  {
   "cell_type": "code",
   "execution_count": 28,
   "metadata": {
    "id": "y5D5PFUhMzSV",
    "pycharm": {
     "name": "#%%\n"
    }
   },
   "outputs": [
    {
     "name": "stdout",
     "output_type": "stream",
     "text": [
      "{'n_steps': 2048, 'ent_coef': 0.01, 'learning_rate': 0.00025, 'batch_size': 128}\n",
      "Using cpu device\n"
     ]
    }
   ],
   "source": [
    "agent = DRLAgent(env = env_train)\n",
    "PPO_PARAMS = {\n",
    "    \"n_steps\": 2048,\n",
    "    \"ent_coef\": 0.01,\n",
    "    \"learning_rate\": 0.00025,\n",
    "    \"batch_size\": 128,\n",
    "}\n",
    "model_ppo = agent.get_model(\"ppo\",model_kwargs = PPO_PARAMS)"
   ]
  },
  {
   "cell_type": "code",
   "execution_count": 29,
   "metadata": {
    "id": "Gt8eIQKYM4G3",
    "jupyter": {
     "outputs_hidden": true
    },
    "pycharm": {
     "name": "#%%\n"
    }
   },
   "outputs": [
    {
     "name": "stdout",
     "output_type": "stream",
     "text": [
      "-----------------------------------\n",
      "| time/              |            |\n",
      "|    fps             | 203        |\n",
      "|    iterations      | 1          |\n",
      "|    time_elapsed    | 10         |\n",
      "|    total_timesteps | 2048       |\n",
      "| train/             |            |\n",
      "|    reward          | -3.8144264 |\n",
      "-----------------------------------\n",
      "-----------------------------------------\n",
      "| time/                   |             |\n",
      "|    fps                  | 199         |\n",
      "|    iterations           | 2           |\n",
      "|    time_elapsed         | 20          |\n",
      "|    total_timesteps      | 4096        |\n",
      "| train/                  |             |\n",
      "|    approx_kl            | 0.017359683 |\n",
      "|    clip_fraction        | 0.192       |\n",
      "|    clip_range           | 0.2         |\n",
      "|    entropy_loss         | -41.2       |\n",
      "|    explained_variance   | -0.00849    |\n",
      "|    learning_rate        | 0.00025     |\n",
      "|    loss                 | 2.11        |\n",
      "|    n_updates            | 10          |\n",
      "|    policy_gradient_loss | -0.0346     |\n",
      "|    reward               | -1.0335574  |\n",
      "|    std                  | 1           |\n",
      "|    value_loss           | 11.1        |\n",
      "-----------------------------------------\n",
      "-----------------------------------------\n",
      "| time/                   |             |\n",
      "|    fps                  | 196         |\n",
      "|    iterations           | 3           |\n",
      "|    time_elapsed         | 31          |\n",
      "|    total_timesteps      | 6144        |\n",
      "| train/                  |             |\n",
      "|    approx_kl            | 0.016792994 |\n",
      "|    clip_fraction        | 0.196       |\n",
      "|    clip_range           | 0.2         |\n",
      "|    entropy_loss         | -41.3       |\n",
      "|    explained_variance   | 0.0106      |\n",
      "|    learning_rate        | 0.00025     |\n",
      "|    loss                 | 2.93        |\n",
      "|    n_updates            | 20          |\n",
      "|    policy_gradient_loss | -0.0304     |\n",
      "|    reward               | 1.2507489   |\n",
      "|    std                  | 1.01        |\n",
      "|    value_loss           | 9.05        |\n",
      "-----------------------------------------\n",
      "----------------------------------------\n",
      "| time/                   |            |\n",
      "|    fps                  | 194        |\n",
      "|    iterations           | 4          |\n",
      "|    time_elapsed         | 42         |\n",
      "|    total_timesteps      | 8192       |\n",
      "| train/                  |            |\n",
      "|    approx_kl            | 0.01589369 |\n",
      "|    clip_fraction        | 0.168      |\n",
      "|    clip_range           | 0.2        |\n",
      "|    entropy_loss         | -41.3      |\n",
      "|    explained_variance   | -0.0253    |\n",
      "|    learning_rate        | 0.00025    |\n",
      "|    loss                 | 6.09       |\n",
      "|    n_updates            | 30         |\n",
      "|    policy_gradient_loss | -0.0269    |\n",
      "|    reward               | 0.27185145 |\n",
      "|    std                  | 1.01       |\n",
      "|    value_loss           | 13.9       |\n",
      "----------------------------------------\n",
      "day: 1634, episode: 70\n",
      "begin_total_asset: 1000000.00\n",
      "end_total_asset: 1104242.40\n",
      "total_reward: 104242.40\n",
      "total_cost: 229950.03\n",
      "total_trades: 43321\n",
      "Sharpe: 0.176\n",
      "=================================\n",
      "-----------------------------------------\n",
      "| time/                   |             |\n",
      "|    fps                  | 189         |\n",
      "|    iterations           | 5           |\n",
      "|    time_elapsed         | 54          |\n",
      "|    total_timesteps      | 10240       |\n",
      "| train/                  |             |\n",
      "|    approx_kl            | 0.020819549 |\n",
      "|    clip_fraction        | 0.231       |\n",
      "|    clip_range           | 0.2         |\n",
      "|    entropy_loss         | -41.4       |\n",
      "|    explained_variance   | -0.0174     |\n",
      "|    learning_rate        | 0.00025     |\n",
      "|    loss                 | 7.67        |\n",
      "|    n_updates            | 40          |\n",
      "|    policy_gradient_loss | -0.0294     |\n",
      "|    reward               | -0.3080521  |\n",
      "|    std                  | 1.01        |\n",
      "|    value_loss           | 18.4        |\n",
      "-----------------------------------------\n",
      "-----------------------------------------\n",
      "| time/                   |             |\n",
      "|    fps                  | 188         |\n",
      "|    iterations           | 6           |\n",
      "|    time_elapsed         | 65          |\n",
      "|    total_timesteps      | 12288       |\n",
      "| train/                  |             |\n",
      "|    approx_kl            | 0.021963231 |\n",
      "|    clip_fraction        | 0.282       |\n",
      "|    clip_range           | 0.2         |\n",
      "|    entropy_loss         | -41.4       |\n",
      "|    explained_variance   | 0.0209      |\n",
      "|    learning_rate        | 0.00025     |\n",
      "|    loss                 | 3.66        |\n",
      "|    n_updates            | 50          |\n",
      "|    policy_gradient_loss | -0.0311     |\n",
      "|    reward               | -0.34937176 |\n",
      "|    std                  | 1.01        |\n",
      "|    value_loss           | 7.25        |\n",
      "-----------------------------------------\n",
      "-----------------------------------------\n",
      "| time/                   |             |\n",
      "|    fps                  | 171         |\n",
      "|    iterations           | 7           |\n",
      "|    time_elapsed         | 83          |\n",
      "|    total_timesteps      | 14336       |\n",
      "| train/                  |             |\n",
      "|    approx_kl            | 0.022404928 |\n",
      "|    clip_fraction        | 0.222       |\n",
      "|    clip_range           | 0.2         |\n",
      "|    entropy_loss         | -41.5       |\n",
      "|    explained_variance   | 0.0251      |\n",
      "|    learning_rate        | 0.00025     |\n",
      "|    loss                 | 5.88        |\n",
      "|    n_updates            | 60          |\n",
      "|    policy_gradient_loss | -0.0237     |\n",
      "|    reward               | -0.33954465 |\n",
      "|    std                  | 1.01        |\n",
      "|    value_loss           | 13          |\n",
      "-----------------------------------------\n",
      "-----------------------------------------\n",
      "| time/                   |             |\n",
      "|    fps                  | 171         |\n",
      "|    iterations           | 8           |\n",
      "|    time_elapsed         | 95          |\n",
      "|    total_timesteps      | 16384       |\n",
      "| train/                  |             |\n",
      "|    approx_kl            | 0.01961207  |\n",
      "|    clip_fraction        | 0.218       |\n",
      "|    clip_range           | 0.2         |\n",
      "|    entropy_loss         | -41.5       |\n",
      "|    explained_variance   | 0.0177      |\n",
      "|    learning_rate        | 0.00025     |\n",
      "|    loss                 | 3.86        |\n",
      "|    n_updates            | 70          |\n",
      "|    policy_gradient_loss | -0.0218     |\n",
      "|    reward               | -0.08964748 |\n",
      "|    std                  | 1.01        |\n",
      "|    value_loss           | 18.6        |\n",
      "-----------------------------------------\n",
      "----------------------------------------\n",
      "| time/                   |            |\n",
      "|    fps                  | 172        |\n",
      "|    iterations           | 9          |\n",
      "|    time_elapsed         | 106        |\n",
      "|    total_timesteps      | 18432      |\n",
      "| train/                  |            |\n",
      "|    approx_kl            | 0.0317048  |\n",
      "|    clip_fraction        | 0.26       |\n",
      "|    clip_range           | 0.2        |\n",
      "|    entropy_loss         | -41.6      |\n",
      "|    explained_variance   | -0.0542    |\n",
      "|    learning_rate        | 0.00025    |\n",
      "|    loss                 | 8.45       |\n",
      "|    n_updates            | 80         |\n",
      "|    policy_gradient_loss | -0.0279    |\n",
      "|    reward               | 0.60865116 |\n",
      "|    std                  | 1.02       |\n",
      "|    value_loss           | 16.3       |\n",
      "----------------------------------------\n",
      "-----------------------------------------\n",
      "| time/                   |             |\n",
      "|    fps                  | 174         |\n",
      "|    iterations           | 10          |\n",
      "|    time_elapsed         | 117         |\n",
      "|    total_timesteps      | 20480       |\n",
      "| train/                  |             |\n",
      "|    approx_kl            | 0.024994686 |\n",
      "|    clip_fraction        | 0.293       |\n",
      "|    clip_range           | 0.2         |\n",
      "|    entropy_loss         | -41.7       |\n",
      "|    explained_variance   | 0.0116      |\n",
      "|    learning_rate        | 0.00025     |\n",
      "|    loss                 | 5.14        |\n",
      "|    n_updates            | 90          |\n",
      "|    policy_gradient_loss | -0.026      |\n",
      "|    reward               | 0.4065925   |\n",
      "|    std                  | 1.02        |\n",
      "|    value_loss           | 10.6        |\n",
      "-----------------------------------------\n",
      "-----------------------------------------\n",
      "| time/                   |             |\n",
      "|    fps                  | 175         |\n",
      "|    iterations           | 11          |\n",
      "|    time_elapsed         | 128         |\n",
      "|    total_timesteps      | 22528       |\n",
      "| train/                  |             |\n",
      "|    approx_kl            | 0.028950067 |\n",
      "|    clip_fraction        | 0.237       |\n",
      "|    clip_range           | 0.2         |\n",
      "|    entropy_loss         | -41.7       |\n",
      "|    explained_variance   | 0.0202      |\n",
      "|    learning_rate        | 0.00025     |\n",
      "|    loss                 | 7.76        |\n",
      "|    n_updates            | 100         |\n",
      "|    policy_gradient_loss | -0.0231     |\n",
      "|    reward               | -0.3360076  |\n",
      "|    std                  | 1.02        |\n",
      "|    value_loss           | 12.6        |\n",
      "-----------------------------------------\n",
      "-----------------------------------------\n",
      "| time/                   |             |\n",
      "|    fps                  | 176         |\n",
      "|    iterations           | 12          |\n",
      "|    time_elapsed         | 139         |\n",
      "|    total_timesteps      | 24576       |\n",
      "| train/                  |             |\n",
      "|    approx_kl            | 0.026060745 |\n",
      "|    clip_fraction        | 0.276       |\n",
      "|    clip_range           | 0.2         |\n",
      "|    entropy_loss         | -41.7       |\n",
      "|    explained_variance   | 0.029       |\n",
      "|    learning_rate        | 0.00025     |\n",
      "|    loss                 | 4.93        |\n",
      "|    n_updates            | 110         |\n",
      "|    policy_gradient_loss | -0.0192     |\n",
      "|    reward               | 0.3705892   |\n",
      "|    std                  | 1.02        |\n",
      "|    value_loss           | 11.6        |\n",
      "-----------------------------------------\n",
      "day: 1634, episode: 80\n",
      "begin_total_asset: 1000000.00\n",
      "end_total_asset: 1274894.60\n",
      "total_reward: 274894.60\n",
      "total_cost: 216549.57\n",
      "total_trades: 42237\n",
      "Sharpe: 0.286\n",
      "=================================\n",
      "-----------------------------------------\n",
      "| time/                   |             |\n",
      "|    fps                  | 176         |\n",
      "|    iterations           | 13          |\n",
      "|    time_elapsed         | 150         |\n",
      "|    total_timesteps      | 26624       |\n",
      "| train/                  |             |\n",
      "|    approx_kl            | 0.029739603 |\n",
      "|    clip_fraction        | 0.297       |\n",
      "|    clip_range           | 0.2         |\n",
      "|    entropy_loss         | -41.8       |\n",
      "|    explained_variance   | 0.0315      |\n",
      "|    learning_rate        | 0.00025     |\n",
      "|    loss                 | 6.02        |\n",
      "|    n_updates            | 120         |\n",
      "|    policy_gradient_loss | -0.0161     |\n",
      "|    reward               | -0.3548079  |\n",
      "|    std                  | 1.02        |\n",
      "|    value_loss           | 15.9        |\n",
      "-----------------------------------------\n",
      "-----------------------------------------\n",
      "| time/                   |             |\n",
      "|    fps                  | 177         |\n",
      "|    iterations           | 14          |\n",
      "|    time_elapsed         | 161         |\n",
      "|    total_timesteps      | 28672       |\n",
      "| train/                  |             |\n",
      "|    approx_kl            | 0.025477603 |\n",
      "|    clip_fraction        | 0.235       |\n",
      "|    clip_range           | 0.2         |\n",
      "|    entropy_loss         | -41.8       |\n",
      "|    explained_variance   | -0.0203     |\n",
      "|    learning_rate        | 0.00025     |\n",
      "|    loss                 | 3.78        |\n",
      "|    n_updates            | 130         |\n",
      "|    policy_gradient_loss | -0.0217     |\n",
      "|    reward               | -0.18675797 |\n",
      "|    std                  | 1.03        |\n",
      "|    value_loss           | 13.3        |\n",
      "-----------------------------------------\n",
      "-----------------------------------------\n",
      "| time/                   |             |\n",
      "|    fps                  | 178         |\n",
      "|    iterations           | 15          |\n",
      "|    time_elapsed         | 172         |\n",
      "|    total_timesteps      | 30720       |\n",
      "| train/                  |             |\n",
      "|    approx_kl            | 0.024214866 |\n",
      "|    clip_fraction        | 0.278       |\n",
      "|    clip_range           | 0.2         |\n",
      "|    entropy_loss         | -41.9       |\n",
      "|    explained_variance   | -0.0047     |\n",
      "|    learning_rate        | 0.00025     |\n",
      "|    loss                 | 7.72        |\n",
      "|    n_updates            | 140         |\n",
      "|    policy_gradient_loss | -0.0134     |\n",
      "|    reward               | 0.01632643  |\n",
      "|    std                  | 1.03        |\n",
      "|    value_loss           | 12.9        |\n",
      "-----------------------------------------\n",
      "-----------------------------------------\n",
      "| time/                   |             |\n",
      "|    fps                  | 179         |\n",
      "|    iterations           | 16          |\n",
      "|    time_elapsed         | 182         |\n",
      "|    total_timesteps      | 32768       |\n",
      "| train/                  |             |\n",
      "|    approx_kl            | 0.022553414 |\n",
      "|    clip_fraction        | 0.275       |\n",
      "|    clip_range           | 0.2         |\n",
      "|    entropy_loss         | -41.9       |\n",
      "|    explained_variance   | -0.0107     |\n",
      "|    learning_rate        | 0.00025     |\n",
      "|    loss                 | 4.45        |\n",
      "|    n_updates            | 150         |\n",
      "|    policy_gradient_loss | -0.0209     |\n",
      "|    reward               | -1.0617664  |\n",
      "|    std                  | 1.03        |\n",
      "|    value_loss           | 16.8        |\n",
      "-----------------------------------------\n",
      "-----------------------------------------\n",
      "| time/                   |             |\n",
      "|    fps                  | 179         |\n",
      "|    iterations           | 17          |\n",
      "|    time_elapsed         | 193         |\n",
      "|    total_timesteps      | 34816       |\n",
      "| train/                  |             |\n",
      "|    approx_kl            | 0.0275029   |\n",
      "|    clip_fraction        | 0.292       |\n",
      "|    clip_range           | 0.2         |\n",
      "|    entropy_loss         | -42         |\n",
      "|    explained_variance   | 0.0414      |\n",
      "|    learning_rate        | 0.00025     |\n",
      "|    loss                 | 4.08        |\n",
      "|    n_updates            | 160         |\n",
      "|    policy_gradient_loss | -0.0262     |\n",
      "|    reward               | -0.47400662 |\n",
      "|    std                  | 1.03        |\n",
      "|    value_loss           | 14.8        |\n",
      "-----------------------------------------\n",
      "-----------------------------------------\n",
      "| time/                   |             |\n",
      "|    fps                  | 180         |\n",
      "|    iterations           | 18          |\n",
      "|    time_elapsed         | 203         |\n",
      "|    total_timesteps      | 36864       |\n",
      "| train/                  |             |\n",
      "|    approx_kl            | 0.026206994 |\n",
      "|    clip_fraction        | 0.283       |\n",
      "|    clip_range           | 0.2         |\n",
      "|    entropy_loss         | -42.1       |\n",
      "|    explained_variance   | 0.057       |\n",
      "|    learning_rate        | 0.00025     |\n",
      "|    loss                 | 5.25        |\n",
      "|    n_updates            | 170         |\n",
      "|    policy_gradient_loss | -0.026      |\n",
      "|    reward               | 0.021990236 |\n",
      "|    std                  | 1.03        |\n",
      "|    value_loss           | 9.35        |\n",
      "-----------------------------------------\n",
      "-----------------------------------------\n",
      "| time/                   |             |\n",
      "|    fps                  | 181         |\n",
      "|    iterations           | 19          |\n",
      "|    time_elapsed         | 214         |\n",
      "|    total_timesteps      | 38912       |\n",
      "| train/                  |             |\n",
      "|    approx_kl            | 0.026523426 |\n",
      "|    clip_fraction        | 0.291       |\n",
      "|    clip_range           | 0.2         |\n",
      "|    entropy_loss         | -42.1       |\n",
      "|    explained_variance   | 0.0509      |\n",
      "|    learning_rate        | 0.00025     |\n",
      "|    loss                 | 2.6         |\n",
      "|    n_updates            | 180         |\n",
      "|    policy_gradient_loss | -0.0149     |\n",
      "|    reward               | 0.47014862  |\n",
      "|    std                  | 1.04        |\n",
      "|    value_loss           | 12.7        |\n",
      "-----------------------------------------\n",
      "----------------------------------------\n",
      "| time/                   |            |\n",
      "|    fps                  | 182        |\n",
      "|    iterations           | 20         |\n",
      "|    time_elapsed         | 224        |\n",
      "|    total_timesteps      | 40960      |\n",
      "| train/                  |            |\n",
      "|    approx_kl            | 0.03231346 |\n",
      "|    clip_fraction        | 0.288      |\n",
      "|    clip_range           | 0.2        |\n",
      "|    entropy_loss         | -42.2      |\n",
      "|    explained_variance   | 0.0505     |\n",
      "|    learning_rate        | 0.00025    |\n",
      "|    loss                 | 5.38       |\n",
      "|    n_updates            | 190        |\n",
      "|    policy_gradient_loss | -0.0232    |\n",
      "|    reward               | -0.6852968 |\n",
      "|    std                  | 1.04       |\n",
      "|    value_loss           | 14.4       |\n",
      "----------------------------------------\n",
      "day: 1634, episode: 90\n",
      "begin_total_asset: 1000000.00\n",
      "end_total_asset: 1534592.94\n",
      "total_reward: 534592.94\n",
      "total_cost: 208854.87\n",
      "total_trades: 41660\n",
      "Sharpe: 0.433\n",
      "=================================\n",
      "----------------------------------------\n",
      "| time/                   |            |\n",
      "|    fps                  | 182        |\n",
      "|    iterations           | 21         |\n",
      "|    time_elapsed         | 235        |\n",
      "|    total_timesteps      | 43008      |\n",
      "| train/                  |            |\n",
      "|    approx_kl            | 0.02385278 |\n",
      "|    clip_fraction        | 0.247      |\n",
      "|    clip_range           | 0.2        |\n",
      "|    entropy_loss         | -42.2      |\n",
      "|    explained_variance   | 0.0315     |\n",
      "|    learning_rate        | 0.00025    |\n",
      "|    loss                 | 10.2       |\n",
      "|    n_updates            | 200        |\n",
      "|    policy_gradient_loss | -0.0176    |\n",
      "|    reward               | 1.4180701  |\n",
      "|    std                  | 1.04       |\n",
      "|    value_loss           | 26.1       |\n",
      "----------------------------------------\n",
      "-----------------------------------------\n",
      "| time/                   |             |\n",
      "|    fps                  | 183         |\n",
      "|    iterations           | 22          |\n",
      "|    time_elapsed         | 245         |\n",
      "|    total_timesteps      | 45056       |\n",
      "| train/                  |             |\n",
      "|    approx_kl            | 0.030469032 |\n",
      "|    clip_fraction        | 0.236       |\n",
      "|    clip_range           | 0.2         |\n",
      "|    entropy_loss         | -42.3       |\n",
      "|    explained_variance   | 0.0703      |\n",
      "|    learning_rate        | 0.00025     |\n",
      "|    loss                 | 8.13        |\n",
      "|    n_updates            | 210         |\n",
      "|    policy_gradient_loss | -0.0217     |\n",
      "|    reward               | 0.7175524   |\n",
      "|    std                  | 1.04        |\n",
      "|    value_loss           | 14.4        |\n",
      "-----------------------------------------\n",
      "-----------------------------------------\n",
      "| time/                   |             |\n",
      "|    fps                  | 183         |\n",
      "|    iterations           | 23          |\n",
      "|    time_elapsed         | 256         |\n",
      "|    total_timesteps      | 47104       |\n",
      "| train/                  |             |\n",
      "|    approx_kl            | 0.027774211 |\n",
      "|    clip_fraction        | 0.275       |\n",
      "|    clip_range           | 0.2         |\n",
      "|    entropy_loss         | -42.3       |\n",
      "|    explained_variance   | 0.126       |\n",
      "|    learning_rate        | 0.00025     |\n",
      "|    loss                 | 2.72        |\n",
      "|    n_updates            | 220         |\n",
      "|    policy_gradient_loss | -0.0191     |\n",
      "|    reward               | -0.13772377 |\n",
      "|    std                  | 1.04        |\n",
      "|    value_loss           | 12.3        |\n",
      "-----------------------------------------\n",
      "----------------------------------------\n",
      "| time/                   |            |\n",
      "|    fps                  | 183        |\n",
      "|    iterations           | 24         |\n",
      "|    time_elapsed         | 267        |\n",
      "|    total_timesteps      | 49152      |\n",
      "| train/                  |            |\n",
      "|    approx_kl            | 0.02091035 |\n",
      "|    clip_fraction        | 0.248      |\n",
      "|    clip_range           | 0.2        |\n",
      "|    entropy_loss         | -42.4      |\n",
      "|    explained_variance   | 0.0695     |\n",
      "|    learning_rate        | 0.00025    |\n",
      "|    loss                 | 6.28       |\n",
      "|    n_updates            | 230        |\n",
      "|    policy_gradient_loss | -0.0279    |\n",
      "|    reward               | 0.3178215  |\n",
      "|    std                  | 1.04       |\n",
      "|    value_loss           | 13.7       |\n",
      "----------------------------------------\n",
      "-----------------------------------------\n",
      "| time/                   |             |\n",
      "|    fps                  | 183         |\n",
      "|    iterations           | 25          |\n",
      "|    time_elapsed         | 278         |\n",
      "|    total_timesteps      | 51200       |\n",
      "| train/                  |             |\n",
      "|    approx_kl            | 0.030798286 |\n",
      "|    clip_fraction        | 0.243       |\n",
      "|    clip_range           | 0.2         |\n",
      "|    entropy_loss         | -42.4       |\n",
      "|    explained_variance   | 0.0578      |\n",
      "|    learning_rate        | 0.00025     |\n",
      "|    loss                 | 14.7        |\n",
      "|    n_updates            | 240         |\n",
      "|    policy_gradient_loss | -0.0195     |\n",
      "|    reward               | -0.6003194  |\n",
      "|    std                  | 1.05        |\n",
      "|    value_loss           | 18.8        |\n",
      "-----------------------------------------\n"
     ]
    }
   ],
   "source": [
    "trained_ppo = agent.train_model(model=model_ppo, \n",
    "                             tb_log_name='ppo',\n",
    "                             total_timesteps=50000)"
   ]
  },
  {
   "cell_type": "markdown",
   "metadata": {
    "id": "3Zpv4S0-fDBv",
    "pycharm": {
     "name": "#%% md\n"
    }
   },
   "source": [
    "### Model 4: TD3"
   ]
  },
  {
   "cell_type": "code",
   "execution_count": 30,
   "metadata": {
    "id": "JSAHhV4Xc-bh",
    "pycharm": {
     "name": "#%%\n"
    }
   },
   "outputs": [
    {
     "name": "stdout",
     "output_type": "stream",
     "text": [
      "{'batch_size': 100, 'buffer_size': 1000000, 'learning_rate': 0.001}\n",
      "Using cpu device\n"
     ]
    }
   ],
   "source": [
    "agent = DRLAgent(env = env_train)\n",
    "TD3_PARAMS = {\"batch_size\": 100, \n",
    "              \"buffer_size\": 1000000, \n",
    "              \"learning_rate\": 0.001}\n",
    "\n",
    "model_td3 = agent.get_model(\"td3\",model_kwargs = TD3_PARAMS)"
   ]
  },
  {
   "cell_type": "code",
   "execution_count": 31,
   "metadata": {
    "id": "OSRxNYAxdKpU",
    "pycharm": {
     "name": "#%%\n"
    }
   },
   "outputs": [
    {
     "name": "stdout",
     "output_type": "stream",
     "text": [
      "day: 1634, episode: 100\n",
      "begin_total_asset: 1000000.00\n",
      "end_total_asset: 1683821.28\n",
      "total_reward: 683821.28\n",
      "total_cost: 1057.56\n",
      "total_trades: 24529\n",
      "Sharpe: 0.523\n",
      "=================================\n",
      "----------------------------------\n",
      "| time/              |           |\n",
      "|    episodes        | 4         |\n",
      "|    fps             | 65        |\n",
      "|    time_elapsed    | 100       |\n",
      "|    total_timesteps | 6540      |\n",
      "| train/             |           |\n",
      "|    actor_loss      | 59.9      |\n",
      "|    critic_loss     | 1.87e+03  |\n",
      "|    learning_rate   | 0.001     |\n",
      "|    n_updates       | 4905      |\n",
      "|    reward          | 2.2492604 |\n",
      "----------------------------------\n",
      "----------------------------------\n",
      "| time/              |           |\n",
      "|    episodes        | 8         |\n",
      "|    fps             | 55        |\n",
      "|    time_elapsed    | 234       |\n",
      "|    total_timesteps | 13080     |\n",
      "| train/             |           |\n",
      "|    actor_loss      | 22.1      |\n",
      "|    critic_loss     | 576       |\n",
      "|    learning_rate   | 0.001     |\n",
      "|    n_updates       | 11445     |\n",
      "|    reward          | 2.2492604 |\n",
      "----------------------------------\n",
      "----------------------------------\n",
      "| time/              |           |\n",
      "|    episodes        | 12        |\n",
      "|    fps             | 52        |\n",
      "|    time_elapsed    | 373       |\n",
      "|    total_timesteps | 19620     |\n",
      "| train/             |           |\n",
      "|    actor_loss      | 15.7      |\n",
      "|    critic_loss     | 64.1      |\n",
      "|    learning_rate   | 0.001     |\n",
      "|    n_updates       | 17985     |\n",
      "|    reward          | 2.2492604 |\n",
      "----------------------------------\n",
      "day: 1634, episode: 110\n",
      "begin_total_asset: 1000000.00\n",
      "end_total_asset: 1683821.28\n",
      "total_reward: 683821.28\n",
      "total_cost: 1057.56\n",
      "total_trades: 24529\n",
      "Sharpe: 0.523\n",
      "=================================\n",
      "----------------------------------\n",
      "| time/              |           |\n",
      "|    episodes        | 16        |\n",
      "|    fps             | 50        |\n",
      "|    time_elapsed    | 515       |\n",
      "|    total_timesteps | 26160     |\n",
      "| train/             |           |\n",
      "|    actor_loss      | 14        |\n",
      "|    critic_loss     | 132       |\n",
      "|    learning_rate   | 0.001     |\n",
      "|    n_updates       | 24525     |\n",
      "|    reward          | 2.2492604 |\n",
      "----------------------------------\n"
     ]
    }
   ],
   "source": [
    "trained_td3 = agent.train_model(model=model_td3, \n",
    "                             tb_log_name='td3',\n",
    "                             total_timesteps=30000)"
   ]
  },
  {
   "cell_type": "markdown",
   "metadata": {
    "id": "Dr49PotrfG01",
    "pycharm": {
     "name": "#%% md\n"
    }
   },
   "source": [
    "### Model 5: SAC"
   ]
  },
  {
   "cell_type": "code",
   "execution_count": 32,
   "metadata": {
    "id": "xwOhVjqRkCdM",
    "pycharm": {
     "name": "#%%\n"
    }
   },
   "outputs": [
    {
     "name": "stdout",
     "output_type": "stream",
     "text": [
      "{'batch_size': 128, 'buffer_size': 1000000, 'learning_rate': 0.0001, 'learning_starts': 100, 'ent_coef': 'auto_0.1'}\n",
      "Using cpu device\n"
     ]
    }
   ],
   "source": [
    "agent = DRLAgent(env = env_train)\n",
    "SAC_PARAMS = {\n",
    "    \"batch_size\": 128,\n",
    "    \"buffer_size\": 1000000,\n",
    "    \"learning_rate\": 0.0001,\n",
    "    \"learning_starts\": 100,\n",
    "    \"ent_coef\": \"auto_0.1\",\n",
    "}\n",
    "\n",
    "model_sac = agent.get_model(\"sac\",model_kwargs = SAC_PARAMS)"
   ]
  },
  {
   "cell_type": "code",
   "execution_count": 33,
   "metadata": {
    "id": "K8RSdKCckJyH",
    "pycharm": {
     "name": "#%%\n"
    }
   },
   "outputs": [
    {
     "name": "stdout",
     "output_type": "stream",
     "text": [
      "day: 1634, episode: 120\n",
      "begin_total_asset: 1000000.00\n",
      "end_total_asset: 1059881.12\n",
      "total_reward: 59881.12\n",
      "total_cost: 115535.72\n",
      "total_trades: 33983\n",
      "Sharpe: 0.152\n",
      "=================================\n",
      "-----------------------------------\n",
      "| time/              |            |\n",
      "|    episodes        | 4          |\n",
      "|    fps             | 43         |\n",
      "|    time_elapsed    | 151        |\n",
      "|    total_timesteps | 6540       |\n",
      "| train/             |            |\n",
      "|    actor_loss      | 607        |\n",
      "|    critic_loss     | 82.1       |\n",
      "|    ent_coef        | 0.149      |\n",
      "|    ent_coef_loss   | -46.7      |\n",
      "|    learning_rate   | 0.0001     |\n",
      "|    n_updates       | 6439       |\n",
      "|    reward          | -1.7607461 |\n",
      "-----------------------------------\n",
      "-----------------------------------\n",
      "| time/              |            |\n",
      "|    episodes        | 8          |\n",
      "|    fps             | 41         |\n",
      "|    time_elapsed    | 315        |\n",
      "|    total_timesteps | 13080      |\n",
      "| train/             |            |\n",
      "|    actor_loss      | 376        |\n",
      "|    critic_loss     | 218        |\n",
      "|    ent_coef        | 0.0814     |\n",
      "|    ent_coef_loss   | -98.6      |\n",
      "|    learning_rate   | 0.0001     |\n",
      "|    n_updates       | 12979      |\n",
      "|    reward          | -1.3884581 |\n",
      "-----------------------------------\n",
      "-----------------------------------\n",
      "| time/              |            |\n",
      "|    episodes        | 12         |\n",
      "|    fps             | 40         |\n",
      "|    time_elapsed    | 483        |\n",
      "|    total_timesteps | 19620      |\n",
      "| train/             |            |\n",
      "|    actor_loss      | 242        |\n",
      "|    critic_loss     | 10.9       |\n",
      "|    ent_coef        | 0.0425     |\n",
      "|    ent_coef_loss   | -124       |\n",
      "|    learning_rate   | 0.0001     |\n",
      "|    n_updates       | 19519      |\n",
      "|    reward          | -0.8063337 |\n",
      "-----------------------------------\n",
      "day: 1634, episode: 130\n",
      "begin_total_asset: 1000000.00\n",
      "end_total_asset: 1623839.72\n",
      "total_reward: 623839.72\n",
      "total_cost: 7474.34\n",
      "total_trades: 26959\n",
      "Sharpe: 0.472\n",
      "=================================\n",
      "-----------------------------------\n",
      "| time/              |            |\n",
      "|    episodes        | 16         |\n",
      "|    fps             | 40         |\n",
      "|    time_elapsed    | 653        |\n",
      "|    total_timesteps | 26160      |\n",
      "| train/             |            |\n",
      "|    actor_loss      | 160        |\n",
      "|    critic_loss     | 4.08       |\n",
      "|    ent_coef        | 0.0221     |\n",
      "|    ent_coef_loss   | -149       |\n",
      "|    learning_rate   | 0.0001     |\n",
      "|    n_updates       | 26059      |\n",
      "|    reward          | -1.4415745 |\n",
      "-----------------------------------\n",
      "-----------------------------------\n",
      "| time/              |            |\n",
      "|    episodes        | 20         |\n",
      "|    fps             | 37         |\n",
      "|    time_elapsed    | 862        |\n",
      "|    total_timesteps | 32700      |\n",
      "| train/             |            |\n",
      "|    actor_loss      | 114        |\n",
      "|    critic_loss     | 4.34       |\n",
      "|    ent_coef        | 0.0115     |\n",
      "|    ent_coef_loss   | -172       |\n",
      "|    learning_rate   | 0.0001     |\n",
      "|    n_updates       | 32599      |\n",
      "|    reward          | -1.2826049 |\n",
      "-----------------------------------\n",
      "day: 1634, episode: 140\n",
      "begin_total_asset: 1000000.00\n",
      "end_total_asset: 1533479.56\n",
      "total_reward: 533479.56\n",
      "total_cost: 4015.16\n",
      "total_trades: 26533\n",
      "Sharpe: 0.428\n",
      "=================================\n",
      "-----------------------------------\n",
      "| time/              |            |\n",
      "|    episodes        | 24         |\n",
      "|    fps             | 29         |\n",
      "|    time_elapsed    | 1348       |\n",
      "|    total_timesteps | 39240      |\n",
      "| train/             |            |\n",
      "|    actor_loss      | 82.4       |\n",
      "|    critic_loss     | 2.57       |\n",
      "|    ent_coef        | 0.00606    |\n",
      "|    ent_coef_loss   | -161       |\n",
      "|    learning_rate   | 0.0001     |\n",
      "|    n_updates       | 39139      |\n",
      "|    reward          | -0.9927251 |\n",
      "-----------------------------------\n",
      "----------------------------------\n",
      "| time/              |           |\n",
      "|    episodes        | 28        |\n",
      "|    fps             | 30        |\n",
      "|    time_elapsed    | 1501      |\n",
      "|    total_timesteps | 45780     |\n",
      "| train/             |           |\n",
      "|    actor_loss      | 63.8      |\n",
      "|    critic_loss     | 1.88      |\n",
      "|    ent_coef        | 0.0032    |\n",
      "|    ent_coef_loss   | -163      |\n",
      "|    learning_rate   | 0.0001    |\n",
      "|    n_updates       | 45679     |\n",
      "|    reward          | -1.504095 |\n",
      "----------------------------------\n",
      "-----------------------------------\n",
      "| time/              |            |\n",
      "|    episodes        | 32         |\n",
      "|    fps             | 31         |\n",
      "|    time_elapsed    | 1663       |\n",
      "|    total_timesteps | 52320      |\n",
      "| train/             |            |\n",
      "|    actor_loss      | 44.8       |\n",
      "|    critic_loss     | 1.7        |\n",
      "|    ent_coef        | 0.00172    |\n",
      "|    ent_coef_loss   | -125       |\n",
      "|    learning_rate   | 0.0001     |\n",
      "|    n_updates       | 52219      |\n",
      "|    reward          | -1.0991323 |\n",
      "-----------------------------------\n",
      "day: 1634, episode: 150\n",
      "begin_total_asset: 1000000.00\n",
      "end_total_asset: 1549422.42\n",
      "total_reward: 549422.42\n",
      "total_cost: 4343.52\n",
      "total_trades: 26889\n",
      "Sharpe: 0.428\n",
      "=================================\n",
      "----------------------------------\n",
      "| time/              |           |\n",
      "|    episodes        | 36        |\n",
      "|    fps             | 32        |\n",
      "|    time_elapsed    | 1825      |\n",
      "|    total_timesteps | 58860     |\n",
      "| train/             |           |\n",
      "|    actor_loss      | 37        |\n",
      "|    critic_loss     | 0.639     |\n",
      "|    ent_coef        | 0.000942  |\n",
      "|    ent_coef_loss   | -99.5     |\n",
      "|    learning_rate   | 0.0001    |\n",
      "|    n_updates       | 58759     |\n",
      "|    reward          | 1.6925167 |\n",
      "----------------------------------\n"
     ]
    }
   ],
   "source": [
    "trained_sac = agent.train_model(model=model_sac, \n",
    "                             tb_log_name='sac',\n",
    "                             total_timesteps=60000)"
   ]
  },
  {
   "cell_type": "markdown",
   "metadata": {
    "id": "f2wZgkQXh1jE",
    "pycharm": {
     "name": "#%% md\n"
    }
   },
   "source": [
    "## Trading\n",
    "Assume that we have $1,000,000 initial capital at 2020-07-01. We use the DDPG model to trade Dow jones 30 stocks."
   ]
  },
  {
   "cell_type": "markdown",
   "metadata": {
    "id": "bEv5KGC8h1jE",
    "pycharm": {
     "name": "#%% md\n"
    }
   },
   "source": [
    "### Set turbulence threshold\n",
    "Set the turbulence threshold to be greater than the maximum of insample turbulence data, if current turbulence index is greater than the threshold, then we assume that the current market is volatile"
   ]
  },
  {
   "cell_type": "code",
   "execution_count": 34,
   "metadata": {
    "id": "efwBi84ch1jE",
    "pycharm": {
     "name": "#%%\n"
    }
   },
   "outputs": [],
   "source": [
    "data_risk_indicator = processed_full[(processed_full.date<'2020-07-01') & (processed_full.date>='2009-01-01')]\n",
    "insample_risk_indicator = data_risk_indicator.drop_duplicates(subset=['date'])"
   ]
  },
  {
   "cell_type": "code",
   "execution_count": 35,
   "metadata": {
    "id": "VHZMBpSqh1jG",
    "pycharm": {
     "name": "#%%\n"
    }
   },
   "outputs": [
    {
     "data": {
      "text/plain": "count    1635.000000\nmean       16.335694\nstd         7.621410\nmin         9.140000\n25%        12.410000\n50%        14.150000\n75%        17.320000\nmax        82.690002\nName: vix, dtype: float64"
     },
     "execution_count": 35,
     "metadata": {},
     "output_type": "execute_result"
    }
   ],
   "source": [
    "insample_risk_indicator.vix.describe()"
   ]
  },
  {
   "cell_type": "code",
   "execution_count": 36,
   "metadata": {
    "id": "BDkszkMloRWT",
    "pycharm": {
     "name": "#%%\n"
    }
   },
   "outputs": [
    {
     "data": {
      "text/plain": "64.68776083374014"
     },
     "execution_count": 36,
     "metadata": {},
     "output_type": "execute_result"
    }
   ],
   "source": [
    "insample_risk_indicator.vix.quantile(0.996)"
   ]
  },
  {
   "cell_type": "code",
   "execution_count": 37,
   "metadata": {
    "id": "AL7hs7svnNWT",
    "pycharm": {
     "name": "#%%\n"
    }
   },
   "outputs": [
    {
     "data": {
      "text/plain": "count    1635.000000\nmean       35.629022\nstd        52.918052\nmin         0.000000\n25%        12.291979\n50%        22.742359\n75%        40.410216\nmax       652.506017\nName: turbulence, dtype: float64"
     },
     "execution_count": 37,
     "metadata": {},
     "output_type": "execute_result"
    }
   ],
   "source": [
    "insample_risk_indicator.turbulence.describe()"
   ]
  },
  {
   "cell_type": "code",
   "execution_count": 38,
   "metadata": {
    "id": "N78hfHckoqJ9",
    "pycharm": {
     "name": "#%%\n"
    }
   },
   "outputs": [
    {
     "data": {
      "text/plain": "428.582348945585"
     },
     "execution_count": 38,
     "metadata": {},
     "output_type": "execute_result"
    }
   ],
   "source": [
    "insample_risk_indicator.turbulence.quantile(0.996)"
   ]
  },
  {
   "cell_type": "code",
   "execution_count": 59,
   "outputs": [
    {
     "data": {
      "text/plain": "70.06481270797512"
     },
     "execution_count": 59,
     "metadata": {},
     "output_type": "execute_result"
    }
   ],
   "source": [
    "insample_risk_indicator.turbulence.quantile(0.896)"
   ],
   "metadata": {
    "collapsed": false,
    "pycharm": {
     "name": "#%%\n"
    }
   }
  },
  {
   "cell_type": "markdown",
   "metadata": {
    "id": "U5mmgQF_h1jQ",
    "pycharm": {
     "name": "#%% md\n"
    }
   },
   "source": [
    "### Trade\n",
    "\n",
    "DRL model needs to update periodically in order to take full advantage of the data, ideally we need to retrain our model yearly, quarterly, or monthly. We also need to tune the parameters along the way, in this notebook I only use the in-sample data from 2009-01 to 2020-07 to tune the parameters once, so there is some alpha decay here as the length of trade date extends. \n",
    "\n",
    "Numerous hyperparameters – e.g. the learning rate, the total number of samples to train on – influence the learning process and are usually determined by testing some variations."
   ]
  },
  {
   "cell_type": "code",
   "execution_count": 39,
   "metadata": {
    "id": "cIqoV0GSI52v",
    "pycharm": {
     "name": "#%%\n"
    }
   },
   "outputs": [],
   "source": [
    "#trade = data_split(processed_full, '2020-07-01','2021-10-31')\n",
    "e_trade_gym = StockTradingEnv(df = trade, turbulence_threshold = 70,risk_indicator_col='vix', **env_kwargs)\n",
    "# env_trade, obs_trade = e_trade_gym.get_sb_env()"
   ]
  },
  {
   "cell_type": "code",
   "execution_count": 40,
   "metadata": {
    "id": "W_XNgGsBMeVw",
    "pycharm": {
     "name": "#%%\n"
    }
   },
   "outputs": [
    {
     "data": {
      "text/plain": "         date   tic        open        high         low       close  \\\n0  2020-07-01  AAPL   91.279999   91.839996   90.977501   89.904610   \n0  2020-07-01  AMGN  235.520004  256.230011  232.580002  240.153946   \n0  2020-07-01   AXP   95.250000   96.959999   93.639999   91.743050   \n0  2020-07-01    BA  185.880005  190.610001  180.039993  180.320007   \n0  2020-07-01   CAT  129.380005  129.399994  125.879997  120.651634   \n\n        volume  day      macd     boll_ub     boll_lb     rsi_30      cci_30  \\\n0  110737200.0  2.0  3.014604   92.699319   80.179948  62.807166  107.491930   \n0    6575800.0  2.0  3.636391  232.397415  200.212955  61.279637  271.386118   \n0    3301000.0  2.0 -0.387711  110.012241   87.432136  48.504819  -66.321033   \n0   49036700.0  2.0  5.443193  220.721139  160.932863  50.925771   24.220608   \n0    2807800.0  2.0  1.272629  130.624283  113.353126  52.865419   35.597286   \n\n       dx_30  close_30_sma  close_60_sma        vix  turbulence  \n0  29.730532     83.933766     77.717543  28.620001   53.068017  \n0  46.806139    214.858661    215.931666  28.620001   53.068017  \n0   3.142448     96.882074     90.357378  28.620001   53.068017  \n0  15.932920    176.472335    155.614168  28.620001   53.068017  \n0  14.457404    119.412837    113.646674  28.620001   53.068017  ",
      "text/html": "<div>\n<style scoped>\n    .dataframe tbody tr th:only-of-type {\n        vertical-align: middle;\n    }\n\n    .dataframe tbody tr th {\n        vertical-align: top;\n    }\n\n    .dataframe thead th {\n        text-align: right;\n    }\n</style>\n<table border=\"1\" class=\"dataframe\">\n  <thead>\n    <tr style=\"text-align: right;\">\n      <th></th>\n      <th>date</th>\n      <th>tic</th>\n      <th>open</th>\n      <th>high</th>\n      <th>low</th>\n      <th>close</th>\n      <th>volume</th>\n      <th>day</th>\n      <th>macd</th>\n      <th>boll_ub</th>\n      <th>boll_lb</th>\n      <th>rsi_30</th>\n      <th>cci_30</th>\n      <th>dx_30</th>\n      <th>close_30_sma</th>\n      <th>close_60_sma</th>\n      <th>vix</th>\n      <th>turbulence</th>\n    </tr>\n  </thead>\n  <tbody>\n    <tr>\n      <th>0</th>\n      <td>2020-07-01</td>\n      <td>AAPL</td>\n      <td>91.279999</td>\n      <td>91.839996</td>\n      <td>90.977501</td>\n      <td>89.904610</td>\n      <td>110737200.0</td>\n      <td>2.0</td>\n      <td>3.014604</td>\n      <td>92.699319</td>\n      <td>80.179948</td>\n      <td>62.807166</td>\n      <td>107.491930</td>\n      <td>29.730532</td>\n      <td>83.933766</td>\n      <td>77.717543</td>\n      <td>28.620001</td>\n      <td>53.068017</td>\n    </tr>\n    <tr>\n      <th>0</th>\n      <td>2020-07-01</td>\n      <td>AMGN</td>\n      <td>235.520004</td>\n      <td>256.230011</td>\n      <td>232.580002</td>\n      <td>240.153946</td>\n      <td>6575800.0</td>\n      <td>2.0</td>\n      <td>3.636391</td>\n      <td>232.397415</td>\n      <td>200.212955</td>\n      <td>61.279637</td>\n      <td>271.386118</td>\n      <td>46.806139</td>\n      <td>214.858661</td>\n      <td>215.931666</td>\n      <td>28.620001</td>\n      <td>53.068017</td>\n    </tr>\n    <tr>\n      <th>0</th>\n      <td>2020-07-01</td>\n      <td>AXP</td>\n      <td>95.250000</td>\n      <td>96.959999</td>\n      <td>93.639999</td>\n      <td>91.743050</td>\n      <td>3301000.0</td>\n      <td>2.0</td>\n      <td>-0.387711</td>\n      <td>110.012241</td>\n      <td>87.432136</td>\n      <td>48.504819</td>\n      <td>-66.321033</td>\n      <td>3.142448</td>\n      <td>96.882074</td>\n      <td>90.357378</td>\n      <td>28.620001</td>\n      <td>53.068017</td>\n    </tr>\n    <tr>\n      <th>0</th>\n      <td>2020-07-01</td>\n      <td>BA</td>\n      <td>185.880005</td>\n      <td>190.610001</td>\n      <td>180.039993</td>\n      <td>180.320007</td>\n      <td>49036700.0</td>\n      <td>2.0</td>\n      <td>5.443193</td>\n      <td>220.721139</td>\n      <td>160.932863</td>\n      <td>50.925771</td>\n      <td>24.220608</td>\n      <td>15.932920</td>\n      <td>176.472335</td>\n      <td>155.614168</td>\n      <td>28.620001</td>\n      <td>53.068017</td>\n    </tr>\n    <tr>\n      <th>0</th>\n      <td>2020-07-01</td>\n      <td>CAT</td>\n      <td>129.380005</td>\n      <td>129.399994</td>\n      <td>125.879997</td>\n      <td>120.651634</td>\n      <td>2807800.0</td>\n      <td>2.0</td>\n      <td>1.272629</td>\n      <td>130.624283</td>\n      <td>113.353126</td>\n      <td>52.865419</td>\n      <td>35.597286</td>\n      <td>14.457404</td>\n      <td>119.412837</td>\n      <td>113.646674</td>\n      <td>28.620001</td>\n      <td>53.068017</td>\n    </tr>\n  </tbody>\n</table>\n</div>"
     },
     "execution_count": 40,
     "metadata": {},
     "output_type": "execute_result"
    }
   ],
   "source": [
    "trade.head()"
   ]
  },
  {
   "cell_type": "code",
   "execution_count": 92,
   "metadata": {
    "id": "eLOnL5eYh1jR",
    "pycharm": {
     "name": "#%%\n"
    }
   },
   "outputs": [
    {
     "name": "stdout",
     "output_type": "stream",
     "text": [
      "hit end!\n"
     ]
    }
   ],
   "source": [
    "df_account_value, df_actions = DRLAgent.DRL_prediction(\n",
    "    #model=trained_sac,\n",
    "    model=trained_td3,\n",
    "    environment = e_trade_gym)"
   ]
  },
  {
   "cell_type": "code",
   "execution_count": 93,
   "metadata": {
    "id": "ERxw3KqLkcP4",
    "pycharm": {
     "name": "#%%\n"
    }
   },
   "outputs": [
    {
     "data": {
      "text/plain": "(513, 2)"
     },
     "execution_count": 93,
     "metadata": {},
     "output_type": "execute_result"
    }
   ],
   "source": [
    "df_account_value.shape"
   ]
  },
  {
   "cell_type": "code",
   "execution_count": 94,
   "metadata": {
    "id": "2yRkNguY5yvp",
    "pycharm": {
     "name": "#%%\n"
    }
   },
   "outputs": [
    {
     "data": {
      "text/plain": "           date  account_value\n508  2022-07-08     1278147.54\n509  2022-07-11     1268483.26\n510  2022-07-12     1251127.00\n511  2022-07-13     1245168.10\n512  2022-07-14     1232240.80",
      "text/html": "<div>\n<style scoped>\n    .dataframe tbody tr th:only-of-type {\n        vertical-align: middle;\n    }\n\n    .dataframe tbody tr th {\n        vertical-align: top;\n    }\n\n    .dataframe thead th {\n        text-align: right;\n    }\n</style>\n<table border=\"1\" class=\"dataframe\">\n  <thead>\n    <tr style=\"text-align: right;\">\n      <th></th>\n      <th>date</th>\n      <th>account_value</th>\n    </tr>\n  </thead>\n  <tbody>\n    <tr>\n      <th>508</th>\n      <td>2022-07-08</td>\n      <td>1278147.54</td>\n    </tr>\n    <tr>\n      <th>509</th>\n      <td>2022-07-11</td>\n      <td>1268483.26</td>\n    </tr>\n    <tr>\n      <th>510</th>\n      <td>2022-07-12</td>\n      <td>1251127.00</td>\n    </tr>\n    <tr>\n      <th>511</th>\n      <td>2022-07-13</td>\n      <td>1245168.10</td>\n    </tr>\n    <tr>\n      <th>512</th>\n      <td>2022-07-14</td>\n      <td>1232240.80</td>\n    </tr>\n  </tbody>\n</table>\n</div>"
     },
     "execution_count": 94,
     "metadata": {},
     "output_type": "execute_result"
    }
   ],
   "source": [
    "df_account_value.tail()"
   ]
  },
  {
   "cell_type": "code",
   "execution_count": 95,
   "metadata": {
    "id": "nFlK5hNbWVFk",
    "pycharm": {
     "name": "#%%\n"
    }
   },
   "outputs": [
    {
     "data": {
      "text/plain": "            AAPL  AMGN  AXP  BA  CAT  CRM  CSCO  CVX  DIS   GS  ...  MRK  \\\ndate                                                            ...        \n2020-07-01   100     0  100   0    0  100   100  100  100  100  ...    0   \n2020-07-02   100     0  100   0    0  100   100  100  100  100  ...    0   \n2020-07-06   100     0  100   0    0  100   100  100  100  100  ...    0   \n2020-07-07   100     0  100   0    0  100   100  100  100  100  ...    0   \n2020-07-08   100     0  100   0    0  100   100  100  100  100  ...    0   \n2020-07-09     0     0  100   0    0  100   100  100  100   63  ...    0   \n2020-07-10     0     0    0   0    0    0     0    0    0    0  ...    0   \n2020-07-13     0     0    0   0    0    0     0    0    0    0  ...    0   \n2020-07-14     0     0    0   0    0    0     0    0    0    0  ...    0   \n2020-07-15     0     0    0   0    0    0     0    0    0    0  ...    0   \n2020-07-16     0     0    0   0    0    0     0    0    0    0  ...    0   \n2020-07-17     0     0    0   0    0    0     0    0    0    0  ...    0   \n2020-07-20     0     0    0   0    0    0     0    0    0    0  ...    0   \n2020-07-21     0     0    0   0    0    0     0    0    0    0  ...    0   \n2020-07-22     0     0    0   0    0    0     0    0    0    0  ...    0   \n2020-07-23     0     0    0   0    0    0     0    0    0    0  ...    0   \n2020-07-24     0     0    0   0    0    0     0    0    0    0  ...    0   \n2020-07-27     0     0    0   0    0    0     0    0    0    0  ...    0   \n2020-07-28     0     0    0   0    0    0     0    0    0    0  ...    0   \n2020-07-29     0     0    0   0    0    0     0    0    0    0  ...    0   \n2020-07-30     0     0    0   0    0    0     0    0    0    0  ...    0   \n2020-07-31     0     0    0   0    0    0     0    0    0    0  ...    0   \n2020-08-03     0     0    0   0    0    0     0    0    0    0  ...    0   \n2020-08-04     0     0    0   0    0    0     0    0    0    0  ...    0   \n2020-08-05     0     0    0   0    0    0     0    0    0    0  ...    0   \n2020-08-06     0     0    0   0    0    0     0    0    0    0  ...    0   \n2020-08-07     0     0    0   0    0    0     0    0    0    0  ...    0   \n2020-08-10     0     0    0   0    0    0     0    0    0    0  ...    0   \n2020-08-11     0     0    0   0    0    0     0    0    0    0  ...    0   \n2020-08-12     0     0    0   0    0    0     0    0    0    0  ...    0   \n\n            MSFT  NKE  PG  TRV  UNH  V   VZ  WBA  WMT  \ndate                                                   \n2020-07-01   100  100   0  100    0  0  100  100    0  \n2020-07-02   100  100   0  100    0  0  100  100    0  \n2020-07-06   100  100   0  100    0  0  100  100    0  \n2020-07-07   100  100   0  100    0  0  100  100    0  \n2020-07-08   100  100   0  100    0  0  100  100    0  \n2020-07-09     0    0   0    0    0  0    0    0    0  \n2020-07-10     0    0   0    0    0  0 -100    0    0  \n2020-07-13     0    0   0    0    0  0 -100    0    0  \n2020-07-14     0    0   0    0    0  0 -100    0    0  \n2020-07-15     0    0   0    0    0  0 -100    0    0  \n2020-07-16     0    0   0    0    0  0 -100    0    0  \n2020-07-17     0    0   0    0    0  0    0    0    0  \n2020-07-20     0    0   0    0    0  0    0    0    0  \n2020-07-21     0    0   0    0    0  0    0    0    0  \n2020-07-22     0    0   0    0    0  0    0    0    0  \n2020-07-23     0    0   0    0    0  0    0    0    0  \n2020-07-24     0    0   0    0    0  0    0    0    0  \n2020-07-27     0    0   0    0    0  0    0    0    0  \n2020-07-28     0    0   0    0    0  0    0    0    0  \n2020-07-29     0    0   0    0    0  0    0    0    0  \n2020-07-30     0    0   0    0    0  0    0    0    0  \n2020-07-31     0    0   0    0    0  0    0    0    0  \n2020-08-03     0    0   0    0    0  0    0    0    0  \n2020-08-04     0    0   0    0    0  0    0    0    0  \n2020-08-05     0    0   0    0    0  0    0    0    0  \n2020-08-06     0    0   0    0    0  0    0    0    0  \n2020-08-07     0    0   0    0    0  0    0    0    0  \n2020-08-10     0    0   0    0    0  0    0    0    0  \n2020-08-11     0    0   0    0    0  0    0    0    0  \n2020-08-12     0    0   0    0    0  0    0    0    0  \n\n[30 rows x 29 columns]",
      "text/html": "<div>\n<style scoped>\n    .dataframe tbody tr th:only-of-type {\n        vertical-align: middle;\n    }\n\n    .dataframe tbody tr th {\n        vertical-align: top;\n    }\n\n    .dataframe thead th {\n        text-align: right;\n    }\n</style>\n<table border=\"1\" class=\"dataframe\">\n  <thead>\n    <tr style=\"text-align: right;\">\n      <th></th>\n      <th>AAPL</th>\n      <th>AMGN</th>\n      <th>AXP</th>\n      <th>BA</th>\n      <th>CAT</th>\n      <th>CRM</th>\n      <th>CSCO</th>\n      <th>CVX</th>\n      <th>DIS</th>\n      <th>GS</th>\n      <th>...</th>\n      <th>MRK</th>\n      <th>MSFT</th>\n      <th>NKE</th>\n      <th>PG</th>\n      <th>TRV</th>\n      <th>UNH</th>\n      <th>V</th>\n      <th>VZ</th>\n      <th>WBA</th>\n      <th>WMT</th>\n    </tr>\n    <tr>\n      <th>date</th>\n      <th></th>\n      <th></th>\n      <th></th>\n      <th></th>\n      <th></th>\n      <th></th>\n      <th></th>\n      <th></th>\n      <th></th>\n      <th></th>\n      <th></th>\n      <th></th>\n      <th></th>\n      <th></th>\n      <th></th>\n      <th></th>\n      <th></th>\n      <th></th>\n      <th></th>\n      <th></th>\n      <th></th>\n    </tr>\n  </thead>\n  <tbody>\n    <tr>\n      <th>2020-07-01</th>\n      <td>100</td>\n      <td>0</td>\n      <td>100</td>\n      <td>0</td>\n      <td>0</td>\n      <td>100</td>\n      <td>100</td>\n      <td>100</td>\n      <td>100</td>\n      <td>100</td>\n      <td>...</td>\n      <td>0</td>\n      <td>100</td>\n      <td>100</td>\n      <td>0</td>\n      <td>100</td>\n      <td>0</td>\n      <td>0</td>\n      <td>100</td>\n      <td>100</td>\n      <td>0</td>\n    </tr>\n    <tr>\n      <th>2020-07-02</th>\n      <td>100</td>\n      <td>0</td>\n      <td>100</td>\n      <td>0</td>\n      <td>0</td>\n      <td>100</td>\n      <td>100</td>\n      <td>100</td>\n      <td>100</td>\n      <td>100</td>\n      <td>...</td>\n      <td>0</td>\n      <td>100</td>\n      <td>100</td>\n      <td>0</td>\n      <td>100</td>\n      <td>0</td>\n      <td>0</td>\n      <td>100</td>\n      <td>100</td>\n      <td>0</td>\n    </tr>\n    <tr>\n      <th>2020-07-06</th>\n      <td>100</td>\n      <td>0</td>\n      <td>100</td>\n      <td>0</td>\n      <td>0</td>\n      <td>100</td>\n      <td>100</td>\n      <td>100</td>\n      <td>100</td>\n      <td>100</td>\n      <td>...</td>\n      <td>0</td>\n      <td>100</td>\n      <td>100</td>\n      <td>0</td>\n      <td>100</td>\n      <td>0</td>\n      <td>0</td>\n      <td>100</td>\n      <td>100</td>\n      <td>0</td>\n    </tr>\n    <tr>\n      <th>2020-07-07</th>\n      <td>100</td>\n      <td>0</td>\n      <td>100</td>\n      <td>0</td>\n      <td>0</td>\n      <td>100</td>\n      <td>100</td>\n      <td>100</td>\n      <td>100</td>\n      <td>100</td>\n      <td>...</td>\n      <td>0</td>\n      <td>100</td>\n      <td>100</td>\n      <td>0</td>\n      <td>100</td>\n      <td>0</td>\n      <td>0</td>\n      <td>100</td>\n      <td>100</td>\n      <td>0</td>\n    </tr>\n    <tr>\n      <th>2020-07-08</th>\n      <td>100</td>\n      <td>0</td>\n      <td>100</td>\n      <td>0</td>\n      <td>0</td>\n      <td>100</td>\n      <td>100</td>\n      <td>100</td>\n      <td>100</td>\n      <td>100</td>\n      <td>...</td>\n      <td>0</td>\n      <td>100</td>\n      <td>100</td>\n      <td>0</td>\n      <td>100</td>\n      <td>0</td>\n      <td>0</td>\n      <td>100</td>\n      <td>100</td>\n      <td>0</td>\n    </tr>\n    <tr>\n      <th>2020-07-09</th>\n      <td>0</td>\n      <td>0</td>\n      <td>100</td>\n      <td>0</td>\n      <td>0</td>\n      <td>100</td>\n      <td>100</td>\n      <td>100</td>\n      <td>100</td>\n      <td>63</td>\n      <td>...</td>\n      <td>0</td>\n      <td>0</td>\n      <td>0</td>\n      <td>0</td>\n      <td>0</td>\n      <td>0</td>\n      <td>0</td>\n      <td>0</td>\n      <td>0</td>\n      <td>0</td>\n    </tr>\n    <tr>\n      <th>2020-07-10</th>\n      <td>0</td>\n      <td>0</td>\n      <td>0</td>\n      <td>0</td>\n      <td>0</td>\n      <td>0</td>\n      <td>0</td>\n      <td>0</td>\n      <td>0</td>\n      <td>0</td>\n      <td>...</td>\n      <td>0</td>\n      <td>0</td>\n      <td>0</td>\n      <td>0</td>\n      <td>0</td>\n      <td>0</td>\n      <td>0</td>\n      <td>-100</td>\n      <td>0</td>\n      <td>0</td>\n    </tr>\n    <tr>\n      <th>2020-07-13</th>\n      <td>0</td>\n      <td>0</td>\n      <td>0</td>\n      <td>0</td>\n      <td>0</td>\n      <td>0</td>\n      <td>0</td>\n      <td>0</td>\n      <td>0</td>\n      <td>0</td>\n      <td>...</td>\n      <td>0</td>\n      <td>0</td>\n      <td>0</td>\n      <td>0</td>\n      <td>0</td>\n      <td>0</td>\n      <td>0</td>\n      <td>-100</td>\n      <td>0</td>\n      <td>0</td>\n    </tr>\n    <tr>\n      <th>2020-07-14</th>\n      <td>0</td>\n      <td>0</td>\n      <td>0</td>\n      <td>0</td>\n      <td>0</td>\n      <td>0</td>\n      <td>0</td>\n      <td>0</td>\n      <td>0</td>\n      <td>0</td>\n      <td>...</td>\n      <td>0</td>\n      <td>0</td>\n      <td>0</td>\n      <td>0</td>\n      <td>0</td>\n      <td>0</td>\n      <td>0</td>\n      <td>-100</td>\n      <td>0</td>\n      <td>0</td>\n    </tr>\n    <tr>\n      <th>2020-07-15</th>\n      <td>0</td>\n      <td>0</td>\n      <td>0</td>\n      <td>0</td>\n      <td>0</td>\n      <td>0</td>\n      <td>0</td>\n      <td>0</td>\n      <td>0</td>\n      <td>0</td>\n      <td>...</td>\n      <td>0</td>\n      <td>0</td>\n      <td>0</td>\n      <td>0</td>\n      <td>0</td>\n      <td>0</td>\n      <td>0</td>\n      <td>-100</td>\n      <td>0</td>\n      <td>0</td>\n    </tr>\n    <tr>\n      <th>2020-07-16</th>\n      <td>0</td>\n      <td>0</td>\n      <td>0</td>\n      <td>0</td>\n      <td>0</td>\n      <td>0</td>\n      <td>0</td>\n      <td>0</td>\n      <td>0</td>\n      <td>0</td>\n      <td>...</td>\n      <td>0</td>\n      <td>0</td>\n      <td>0</td>\n      <td>0</td>\n      <td>0</td>\n      <td>0</td>\n      <td>0</td>\n      <td>-100</td>\n      <td>0</td>\n      <td>0</td>\n    </tr>\n    <tr>\n      <th>2020-07-17</th>\n      <td>0</td>\n      <td>0</td>\n      <td>0</td>\n      <td>0</td>\n      <td>0</td>\n      <td>0</td>\n      <td>0</td>\n      <td>0</td>\n      <td>0</td>\n      <td>0</td>\n      <td>...</td>\n      <td>0</td>\n      <td>0</td>\n      <td>0</td>\n      <td>0</td>\n      <td>0</td>\n      <td>0</td>\n      <td>0</td>\n      <td>0</td>\n      <td>0</td>\n      <td>0</td>\n    </tr>\n    <tr>\n      <th>2020-07-20</th>\n      <td>0</td>\n      <td>0</td>\n      <td>0</td>\n      <td>0</td>\n      <td>0</td>\n      <td>0</td>\n      <td>0</td>\n      <td>0</td>\n      <td>0</td>\n      <td>0</td>\n      <td>...</td>\n      <td>0</td>\n      <td>0</td>\n      <td>0</td>\n      <td>0</td>\n      <td>0</td>\n      <td>0</td>\n      <td>0</td>\n      <td>0</td>\n      <td>0</td>\n      <td>0</td>\n    </tr>\n    <tr>\n      <th>2020-07-21</th>\n      <td>0</td>\n      <td>0</td>\n      <td>0</td>\n      <td>0</td>\n      <td>0</td>\n      <td>0</td>\n      <td>0</td>\n      <td>0</td>\n      <td>0</td>\n      <td>0</td>\n      <td>...</td>\n      <td>0</td>\n      <td>0</td>\n      <td>0</td>\n      <td>0</td>\n      <td>0</td>\n      <td>0</td>\n      <td>0</td>\n      <td>0</td>\n      <td>0</td>\n      <td>0</td>\n    </tr>\n    <tr>\n      <th>2020-07-22</th>\n      <td>0</td>\n      <td>0</td>\n      <td>0</td>\n      <td>0</td>\n      <td>0</td>\n      <td>0</td>\n      <td>0</td>\n      <td>0</td>\n      <td>0</td>\n      <td>0</td>\n      <td>...</td>\n      <td>0</td>\n      <td>0</td>\n      <td>0</td>\n      <td>0</td>\n      <td>0</td>\n      <td>0</td>\n      <td>0</td>\n      <td>0</td>\n      <td>0</td>\n      <td>0</td>\n    </tr>\n    <tr>\n      <th>2020-07-23</th>\n      <td>0</td>\n      <td>0</td>\n      <td>0</td>\n      <td>0</td>\n      <td>0</td>\n      <td>0</td>\n      <td>0</td>\n      <td>0</td>\n      <td>0</td>\n      <td>0</td>\n      <td>...</td>\n      <td>0</td>\n      <td>0</td>\n      <td>0</td>\n      <td>0</td>\n      <td>0</td>\n      <td>0</td>\n      <td>0</td>\n      <td>0</td>\n      <td>0</td>\n      <td>0</td>\n    </tr>\n    <tr>\n      <th>2020-07-24</th>\n      <td>0</td>\n      <td>0</td>\n      <td>0</td>\n      <td>0</td>\n      <td>0</td>\n      <td>0</td>\n      <td>0</td>\n      <td>0</td>\n      <td>0</td>\n      <td>0</td>\n      <td>...</td>\n      <td>0</td>\n      <td>0</td>\n      <td>0</td>\n      <td>0</td>\n      <td>0</td>\n      <td>0</td>\n      <td>0</td>\n      <td>0</td>\n      <td>0</td>\n      <td>0</td>\n    </tr>\n    <tr>\n      <th>2020-07-27</th>\n      <td>0</td>\n      <td>0</td>\n      <td>0</td>\n      <td>0</td>\n      <td>0</td>\n      <td>0</td>\n      <td>0</td>\n      <td>0</td>\n      <td>0</td>\n      <td>0</td>\n      <td>...</td>\n      <td>0</td>\n      <td>0</td>\n      <td>0</td>\n      <td>0</td>\n      <td>0</td>\n      <td>0</td>\n      <td>0</td>\n      <td>0</td>\n      <td>0</td>\n      <td>0</td>\n    </tr>\n    <tr>\n      <th>2020-07-28</th>\n      <td>0</td>\n      <td>0</td>\n      <td>0</td>\n      <td>0</td>\n      <td>0</td>\n      <td>0</td>\n      <td>0</td>\n      <td>0</td>\n      <td>0</td>\n      <td>0</td>\n      <td>...</td>\n      <td>0</td>\n      <td>0</td>\n      <td>0</td>\n      <td>0</td>\n      <td>0</td>\n      <td>0</td>\n      <td>0</td>\n      <td>0</td>\n      <td>0</td>\n      <td>0</td>\n    </tr>\n    <tr>\n      <th>2020-07-29</th>\n      <td>0</td>\n      <td>0</td>\n      <td>0</td>\n      <td>0</td>\n      <td>0</td>\n      <td>0</td>\n      <td>0</td>\n      <td>0</td>\n      <td>0</td>\n      <td>0</td>\n      <td>...</td>\n      <td>0</td>\n      <td>0</td>\n      <td>0</td>\n      <td>0</td>\n      <td>0</td>\n      <td>0</td>\n      <td>0</td>\n      <td>0</td>\n      <td>0</td>\n      <td>0</td>\n    </tr>\n    <tr>\n      <th>2020-07-30</th>\n      <td>0</td>\n      <td>0</td>\n      <td>0</td>\n      <td>0</td>\n      <td>0</td>\n      <td>0</td>\n      <td>0</td>\n      <td>0</td>\n      <td>0</td>\n      <td>0</td>\n      <td>...</td>\n      <td>0</td>\n      <td>0</td>\n      <td>0</td>\n      <td>0</td>\n      <td>0</td>\n      <td>0</td>\n      <td>0</td>\n      <td>0</td>\n      <td>0</td>\n      <td>0</td>\n    </tr>\n    <tr>\n      <th>2020-07-31</th>\n      <td>0</td>\n      <td>0</td>\n      <td>0</td>\n      <td>0</td>\n      <td>0</td>\n      <td>0</td>\n      <td>0</td>\n      <td>0</td>\n      <td>0</td>\n      <td>0</td>\n      <td>...</td>\n      <td>0</td>\n      <td>0</td>\n      <td>0</td>\n      <td>0</td>\n      <td>0</td>\n      <td>0</td>\n      <td>0</td>\n      <td>0</td>\n      <td>0</td>\n      <td>0</td>\n    </tr>\n    <tr>\n      <th>2020-08-03</th>\n      <td>0</td>\n      <td>0</td>\n      <td>0</td>\n      <td>0</td>\n      <td>0</td>\n      <td>0</td>\n      <td>0</td>\n      <td>0</td>\n      <td>0</td>\n      <td>0</td>\n      <td>...</td>\n      <td>0</td>\n      <td>0</td>\n      <td>0</td>\n      <td>0</td>\n      <td>0</td>\n      <td>0</td>\n      <td>0</td>\n      <td>0</td>\n      <td>0</td>\n      <td>0</td>\n    </tr>\n    <tr>\n      <th>2020-08-04</th>\n      <td>0</td>\n      <td>0</td>\n      <td>0</td>\n      <td>0</td>\n      <td>0</td>\n      <td>0</td>\n      <td>0</td>\n      <td>0</td>\n      <td>0</td>\n      <td>0</td>\n      <td>...</td>\n      <td>0</td>\n      <td>0</td>\n      <td>0</td>\n      <td>0</td>\n      <td>0</td>\n      <td>0</td>\n      <td>0</td>\n      <td>0</td>\n      <td>0</td>\n      <td>0</td>\n    </tr>\n    <tr>\n      <th>2020-08-05</th>\n      <td>0</td>\n      <td>0</td>\n      <td>0</td>\n      <td>0</td>\n      <td>0</td>\n      <td>0</td>\n      <td>0</td>\n      <td>0</td>\n      <td>0</td>\n      <td>0</td>\n      <td>...</td>\n      <td>0</td>\n      <td>0</td>\n      <td>0</td>\n      <td>0</td>\n      <td>0</td>\n      <td>0</td>\n      <td>0</td>\n      <td>0</td>\n      <td>0</td>\n      <td>0</td>\n    </tr>\n    <tr>\n      <th>2020-08-06</th>\n      <td>0</td>\n      <td>0</td>\n      <td>0</td>\n      <td>0</td>\n      <td>0</td>\n      <td>0</td>\n      <td>0</td>\n      <td>0</td>\n      <td>0</td>\n      <td>0</td>\n      <td>...</td>\n      <td>0</td>\n      <td>0</td>\n      <td>0</td>\n      <td>0</td>\n      <td>0</td>\n      <td>0</td>\n      <td>0</td>\n      <td>0</td>\n      <td>0</td>\n      <td>0</td>\n    </tr>\n    <tr>\n      <th>2020-08-07</th>\n      <td>0</td>\n      <td>0</td>\n      <td>0</td>\n      <td>0</td>\n      <td>0</td>\n      <td>0</td>\n      <td>0</td>\n      <td>0</td>\n      <td>0</td>\n      <td>0</td>\n      <td>...</td>\n      <td>0</td>\n      <td>0</td>\n      <td>0</td>\n      <td>0</td>\n      <td>0</td>\n      <td>0</td>\n      <td>0</td>\n      <td>0</td>\n      <td>0</td>\n      <td>0</td>\n    </tr>\n    <tr>\n      <th>2020-08-10</th>\n      <td>0</td>\n      <td>0</td>\n      <td>0</td>\n      <td>0</td>\n      <td>0</td>\n      <td>0</td>\n      <td>0</td>\n      <td>0</td>\n      <td>0</td>\n      <td>0</td>\n      <td>...</td>\n      <td>0</td>\n      <td>0</td>\n      <td>0</td>\n      <td>0</td>\n      <td>0</td>\n      <td>0</td>\n      <td>0</td>\n      <td>0</td>\n      <td>0</td>\n      <td>0</td>\n    </tr>\n    <tr>\n      <th>2020-08-11</th>\n      <td>0</td>\n      <td>0</td>\n      <td>0</td>\n      <td>0</td>\n      <td>0</td>\n      <td>0</td>\n      <td>0</td>\n      <td>0</td>\n      <td>0</td>\n      <td>0</td>\n      <td>...</td>\n      <td>0</td>\n      <td>0</td>\n      <td>0</td>\n      <td>0</td>\n      <td>0</td>\n      <td>0</td>\n      <td>0</td>\n      <td>0</td>\n      <td>0</td>\n      <td>0</td>\n    </tr>\n    <tr>\n      <th>2020-08-12</th>\n      <td>0</td>\n      <td>0</td>\n      <td>0</td>\n      <td>0</td>\n      <td>0</td>\n      <td>0</td>\n      <td>0</td>\n      <td>0</td>\n      <td>0</td>\n      <td>0</td>\n      <td>...</td>\n      <td>0</td>\n      <td>0</td>\n      <td>0</td>\n      <td>0</td>\n      <td>0</td>\n      <td>0</td>\n      <td>0</td>\n      <td>0</td>\n      <td>0</td>\n      <td>0</td>\n    </tr>\n  </tbody>\n</table>\n<p>30 rows × 29 columns</p>\n</div>"
     },
     "execution_count": 95,
     "metadata": {},
     "output_type": "execute_result"
    }
   ],
   "source": [
    "df_actions.head(30)"
   ]
  },
  {
   "cell_type": "code",
   "execution_count": 96,
   "outputs": [
    {
     "data": {
      "text/plain": "         date  account_value\n0  2020-07-01     1000000.00\n1  2020-07-02     1000335.18\n2  2020-07-06     1008142.21\n3  2020-07-07      998831.01\n4  2020-07-08     1006369.93",
      "text/html": "<div>\n<style scoped>\n    .dataframe tbody tr th:only-of-type {\n        vertical-align: middle;\n    }\n\n    .dataframe tbody tr th {\n        vertical-align: top;\n    }\n\n    .dataframe thead th {\n        text-align: right;\n    }\n</style>\n<table border=\"1\" class=\"dataframe\">\n  <thead>\n    <tr style=\"text-align: right;\">\n      <th></th>\n      <th>date</th>\n      <th>account_value</th>\n    </tr>\n  </thead>\n  <tbody>\n    <tr>\n      <th>0</th>\n      <td>2020-07-01</td>\n      <td>1000000.00</td>\n    </tr>\n    <tr>\n      <th>1</th>\n      <td>2020-07-02</td>\n      <td>1000335.18</td>\n    </tr>\n    <tr>\n      <th>2</th>\n      <td>2020-07-06</td>\n      <td>1008142.21</td>\n    </tr>\n    <tr>\n      <th>3</th>\n      <td>2020-07-07</td>\n      <td>998831.01</td>\n    </tr>\n    <tr>\n      <th>4</th>\n      <td>2020-07-08</td>\n      <td>1006369.93</td>\n    </tr>\n  </tbody>\n</table>\n</div>"
     },
     "execution_count": 96,
     "metadata": {},
     "output_type": "execute_result"
    }
   ],
   "source": [
    "pd.options.display.float_format = '{:.2f}'.format\n",
    "df_account_value.head()"
   ],
   "metadata": {
    "collapsed": false,
    "pycharm": {
     "name": "#%%\n"
    }
   }
  },
  {
   "cell_type": "code",
   "execution_count": 86,
   "outputs": [
    {
     "data": {
      "text/plain": "pandas.core.frame.DataFrame"
     },
     "execution_count": 86,
     "metadata": {},
     "output_type": "execute_result"
    }
   ],
   "source": [
    "type(df_account_value)"
   ],
   "metadata": {
    "collapsed": false,
    "pycharm": {
     "name": "#%%\n"
    }
   }
  },
  {
   "cell_type": "code",
   "execution_count": 89,
   "outputs": [
    {
     "data": {
      "text/plain": "date              object\naccount_value    float64\ndtype: object"
     },
     "execution_count": 89,
     "metadata": {},
     "output_type": "execute_result"
    }
   ],
   "source": [
    "df_account_value.dtypes"
   ],
   "metadata": {
    "collapsed": false,
    "pycharm": {
     "name": "#%%\n"
    }
   }
  },
  {
   "cell_type": "markdown",
   "metadata": {
    "id": "W6vvNSC6h1jZ",
    "pycharm": {
     "name": "#%% md\n"
    }
   },
   "source": [
    "<a id='6'></a>\n",
    "# Part 7: Backtest Our Strategy\n",
    "Backtesting plays a key role in evaluating the performance of a trading strategy. Automated backtesting tool is preferred because it reduces the human error. We usually use the Quantopian pyfolio package to backtest our trading strategies. It is easy to use and consists of various individual plots that provide a comprehensive image of the performance of a trading strategy."
   ]
  },
  {
   "cell_type": "markdown",
   "metadata": {
    "id": "Lr2zX7ZxNyFQ",
    "pycharm": {
     "name": "#%% md\n"
    }
   },
   "source": [
    "<a id='6.1'></a>\n",
    "## 7.1 BackTestStats\n",
    "pass in df_account_value, this information is stored in env class\n"
   ]
  },
  {
   "cell_type": "code",
   "execution_count": 97,
   "metadata": {
    "id": "Nzkr9yv-AdV_",
    "pycharm": {
     "name": "#%%\n"
    }
   },
   "outputs": [
    {
     "name": "stdout",
     "output_type": "stream",
     "text": [
      "==============Get Backtest Results===========\n",
      "Annual return          0.11\n",
      "Cumulative returns     0.23\n",
      "Annual volatility      0.17\n",
      "Sharpe ratio           0.70\n",
      "Calmar ratio           0.52\n",
      "Stability              0.55\n",
      "Max drawdown          -0.21\n",
      "Omega ratio            1.12\n",
      "Sortino ratio          0.98\n",
      "Skew                    NaN\n",
      "Kurtosis                NaN\n",
      "Tail ratio             0.91\n",
      "Daily value at risk   -0.02\n",
      "dtype: float64\n"
     ]
    },
    {
     "name": "stderr",
     "output_type": "stream",
     "text": [
      "C:\\Users\\shank\\github.com\\shankar-roy\\venv\\lib\\site-packages\\pyfolio\\timeseries.py:724: FutureWarning: The default dtype for empty Series will be 'object' instead of 'float64' in a future version. Specify a dtype explicitly to silence this warning.\n",
      "  stats = pd.Series()\n"
     ]
    }
   ],
   "source": [
    "print(\"==============Get Backtest Results===========\")\n",
    "now = datetime.datetime.now().strftime('%Y%m%d-%Hh%M')\n",
    "\n",
    "perf_stats_all = backtest_stats(account_value=df_account_value)\n",
    "perf_stats_all = pd.DataFrame(perf_stats_all)\n",
    "perf_stats_all.to_csv(\"./\"+config.RESULTS_DIR+\"/perf_stats_all_\"+now+'.csv')"
   ]
  },
  {
   "cell_type": "code",
   "execution_count": 98,
   "metadata": {
    "id": "QkV-LB66iwhD",
    "pycharm": {
     "name": "#%%\n"
    }
   },
   "outputs": [
    {
     "name": "stdout",
     "output_type": "stream",
     "text": [
      "==============Get Baseline Stats===========\n",
      "[*********************100%***********************]  1 of 1 completed\n",
      "Shape of DataFrame:  (512, 8)\n",
      "Annual return          0.09\n",
      "Cumulative returns     0.20\n",
      "Annual volatility      0.16\n",
      "Sharpe ratio           0.64\n",
      "Calmar ratio           0.49\n",
      "Stability              0.50\n",
      "Max drawdown          -0.19\n",
      "Omega ratio            1.11\n",
      "Sortino ratio          0.89\n",
      "Skew                    NaN\n",
      "Kurtosis                NaN\n",
      "Tail ratio             0.91\n",
      "Daily value at risk   -0.02\n",
      "dtype: float64\n"
     ]
    },
    {
     "name": "stderr",
     "output_type": "stream",
     "text": [
      "C:\\Users\\shank\\github.com\\shankar-roy\\venv\\lib\\site-packages\\pyfolio\\timeseries.py:724: FutureWarning: The default dtype for empty Series will be 'object' instead of 'float64' in a future version. Specify a dtype explicitly to silence this warning.\n",
      "  stats = pd.Series()\n"
     ]
    }
   ],
   "source": [
    "#baseline stats\n",
    "print(\"==============Get Baseline Stats===========\")\n",
    "baseline_df = get_baseline(\n",
    "        ticker=\"^DJI\", \n",
    "        start = df_account_value.loc[0,'date'],\n",
    "        end = df_account_value.loc[len(df_account_value)-1,'date'])\n",
    "\n",
    "stats = backtest_stats(baseline_df, value_col_name = 'close')\n"
   ]
  },
  {
   "cell_type": "code",
   "execution_count": 99,
   "metadata": {
    "id": "qg1kvfemrrQH",
    "pycharm": {
     "name": "#%%\n"
    }
   },
   "outputs": [
    {
     "data": {
      "text/plain": "'2020-07-01'"
     },
     "execution_count": 99,
     "metadata": {},
     "output_type": "execute_result"
    }
   ],
   "source": [
    "df_account_value.loc[0,'date']"
   ]
  },
  {
   "cell_type": "code",
   "execution_count": 100,
   "metadata": {
    "id": "tt1bzL5OrsTa",
    "pycharm": {
     "name": "#%%\n"
    }
   },
   "outputs": [
    {
     "data": {
      "text/plain": "'2022-07-14'"
     },
     "execution_count": 100,
     "metadata": {},
     "output_type": "execute_result"
    }
   ],
   "source": [
    "df_account_value.loc[len(df_account_value)-1,'date']"
   ]
  },
  {
   "cell_type": "markdown",
   "metadata": {
    "id": "9U6Suru3h1jc",
    "pycharm": {
     "name": "#%% md\n"
    }
   },
   "source": [
    "<a id='6.2'></a>\n",
    "## 7.2 BackTestPlot"
   ]
  },
  {
   "cell_type": "code",
   "execution_count": 101,
   "metadata": {
    "id": "lKRGftSS7pNM",
    "pycharm": {
     "name": "#%%\n"
    }
   },
   "outputs": [
    {
     "name": "stdout",
     "output_type": "stream",
     "text": [
      "==============Compare to DJIA===========\n",
      "[*********************100%***********************]  1 of 1 completed\n",
      "Shape of DataFrame:  (512, 8)\n"
     ]
    },
    {
     "name": "stderr",
     "output_type": "stream",
     "text": [
      "C:\\Users\\shank\\github.com\\shankar-roy\\venv\\lib\\site-packages\\pyfolio\\timeseries.py:724: FutureWarning: The default dtype for empty Series will be 'object' instead of 'float64' in a future version. Specify a dtype explicitly to silence this warning.\n",
      "  stats = pd.Series()\n"
     ]
    },
    {
     "data": {
      "text/plain": "<IPython.core.display.HTML object>",
      "text/html": "<table border=\"1\" class=\"dataframe\">\n  <thead>\n    <tr style=\"text-align: right;\"><th>Start date</th><td colspan=2>2020-07-01</td></tr>\n    <tr style=\"text-align: right;\"><th>End date</th><td colspan=2>2022-07-14</td></tr>\n    <tr style=\"text-align: right;\"><th>Total months</th><td colspan=2>24</td></tr>\n    <tr style=\"text-align: right;\">\n      <th></th>\n      <th>Backtest</th>\n    </tr>\n  </thead>\n  <tbody>\n    <tr>\n      <th>Annual return</th>\n      <td>10.803%</td>\n    </tr>\n    <tr>\n      <th>Cumulative returns</th>\n      <td>23.224%</td>\n    </tr>\n    <tr>\n      <th>Annual volatility</th>\n      <td>16.813%</td>\n    </tr>\n    <tr>\n      <th>Sharpe ratio</th>\n      <td>0.70</td>\n    </tr>\n    <tr>\n      <th>Calmar ratio</th>\n      <td>0.52</td>\n    </tr>\n    <tr>\n      <th>Stability</th>\n      <td>0.55</td>\n    </tr>\n    <tr>\n      <th>Max drawdown</th>\n      <td>-20.776%</td>\n    </tr>\n    <tr>\n      <th>Omega ratio</th>\n      <td>1.12</td>\n    </tr>\n    <tr>\n      <th>Sortino ratio</th>\n      <td>0.98</td>\n    </tr>\n    <tr>\n      <th>Skew</th>\n      <td>NaN</td>\n    </tr>\n    <tr>\n      <th>Kurtosis</th>\n      <td>NaN</td>\n    </tr>\n    <tr>\n      <th>Tail ratio</th>\n      <td>0.91</td>\n    </tr>\n    <tr>\n      <th>Daily value at risk</th>\n      <td>-2.072%</td>\n    </tr>\n    <tr>\n      <th>Alpha</th>\n      <td>0.01</td>\n    </tr>\n    <tr>\n      <th>Beta</th>\n      <td>1.02</td>\n    </tr>\n  </tbody>\n</table>"
     },
     "metadata": {},
     "output_type": "display_data"
    },
    {
     "data": {
      "text/plain": "<IPython.core.display.HTML object>",
      "text/html": "<table border=\"1\" class=\"dataframe\">\n  <thead>\n    <tr style=\"text-align: right;\">\n      <th>Worst drawdown periods</th>\n      <th>Net drawdown in %</th>\n      <th>Peak date</th>\n      <th>Valley date</th>\n      <th>Recovery date</th>\n      <th>Duration</th>\n    </tr>\n  </thead>\n  <tbody>\n    <tr>\n      <th>0</th>\n      <td>20.78</td>\n      <td>2021-11-08</td>\n      <td>2022-06-17</td>\n      <td>NaT</td>\n      <td>NaN</td>\n    </tr>\n    <tr>\n      <th>1</th>\n      <td>9.48</td>\n      <td>2020-09-02</td>\n      <td>2020-10-30</td>\n      <td>2020-11-16</td>\n      <td>54</td>\n    </tr>\n    <tr>\n      <th>2</th>\n      <td>4.88</td>\n      <td>2021-08-27</td>\n      <td>2021-09-30</td>\n      <td>2021-10-19</td>\n      <td>38</td>\n    </tr>\n    <tr>\n      <th>3</th>\n      <td>3.59</td>\n      <td>2021-02-24</td>\n      <td>2021-03-04</td>\n      <td>2021-03-10</td>\n      <td>11</td>\n    </tr>\n    <tr>\n      <th>4</th>\n      <td>3.54</td>\n      <td>2021-06-04</td>\n      <td>2021-06-18</td>\n      <td>2021-06-25</td>\n      <td>16</td>\n    </tr>\n  </tbody>\n</table>"
     },
     "metadata": {},
     "output_type": "display_data"
    },
    {
     "name": "stderr",
     "output_type": "stream",
     "text": [
      "C:\\Users\\shank\\github.com\\shankar-roy\\venv\\lib\\site-packages\\pyfolio\\plotting.py:805: FutureWarning: The default dtype for empty Series will be 'object' instead of 'float64' in a future version. Specify a dtype explicitly to silence this warning.\n",
      "  oos_cum_returns = pd.Series([])\n",
      "C:\\Users\\shank\\github.com\\shankar-roy\\venv\\lib\\site-packages\\pyfolio\\plotting.py:805: FutureWarning: The default dtype for empty Series will be 'object' instead of 'float64' in a future version. Specify a dtype explicitly to silence this warning.\n",
      "  oos_cum_returns = pd.Series([])\n",
      "C:\\Users\\shank\\github.com\\shankar-roy\\venv\\lib\\site-packages\\pyfolio\\plotting.py:805: FutureWarning: The default dtype for empty Series will be 'object' instead of 'float64' in a future version. Specify a dtype explicitly to silence this warning.\n",
      "  oos_cum_returns = pd.Series([])\n",
      "C:\\Users\\shank\\github.com\\shankar-roy\\venv\\lib\\site-packages\\pyfolio\\timeseries.py:541: FutureWarning: The default dtype for empty Series will be 'object' instead of 'float64' in a future version. Specify a dtype explicitly to silence this warning.\n",
      "  out = pd.Series(index=returns.index)\n",
      "C:\\Users\\shank\\github.com\\shankar-roy\\venv\\lib\\site-packages\\pyfolio\\timeseries.py:541: FutureWarning: The default dtype for empty Series will be 'object' instead of 'float64' in a future version. Specify a dtype explicitly to silence this warning.\n",
      "  out = pd.Series(index=returns.index)\n",
      "C:\\Users\\shank\\github.com\\shankar-roy\\venv\\lib\\site-packages\\pyfolio\\timeseries.py:1230: FutureWarning: Indexing a timezone-aware DatetimeIndex with a timezone-naive datetime is deprecated and will raise KeyError in a future version. Use a timezone-aware object instead.\n",
      "  period = returns_dupe.loc[start:end]\n"
     ]
    },
    {
     "data": {
      "text/plain": "<IPython.core.display.HTML object>",
      "text/html": "<table border=\"1\" class=\"dataframe\">\n  <thead>\n    <tr style=\"text-align: right;\">\n      <th>Stress Events</th>\n      <th>mean</th>\n      <th>min</th>\n      <th>max</th>\n    </tr>\n  </thead>\n  <tbody>\n    <tr>\n      <th>New Normal</th>\n      <td>0.05%</td>\n      <td>-3.53%</td>\n      <td>3.52%</td>\n    </tr>\n  </tbody>\n</table>"
     },
     "metadata": {},
     "output_type": "display_data"
    },
    {
     "name": "stderr",
     "output_type": "stream",
     "text": [
      "C:\\Users\\shank\\github.com\\shankar-roy\\venv\\lib\\site-packages\\pyfolio\\timeseries.py:1230: FutureWarning: Indexing a timezone-aware DatetimeIndex with a timezone-naive datetime is deprecated and will raise KeyError in a future version. Use a timezone-aware object instead.\n",
      "  period = returns_dupe.loc[start:end]\n"
     ]
    },
    {
     "data": {
      "text/plain": "<Figure size 1008x5184 with 13 Axes>",
      "image/png": "[encoded data removed]"
     },
     "metadata": {
      "needs_background": "light"
     },
     "output_type": "display_data"
    },
    {
     "data": {
      "text/plain": "<Figure size 1008x432 with 1 Axes>",
      "image/png": "[encoded data removed]"
     },
     "metadata": {
      "needs_background": "light"
     },
     "output_type": "display_data"
    }
   ],
   "source": [
    "print(\"==============Compare to DJIA===========\")\n",
    "%matplotlib inline\n",
    "# S&P 500: ^GSPC\n",
    "# Dow Jones Index: ^DJI\n",
    "# NASDAQ 100: ^NDX\n",
    "backtest_plot(df_account_value, \n",
    "             baseline_ticker = '^DJI', \n",
    "             baseline_start = df_account_value.loc[0,'date'],\n",
    "             baseline_end = df_account_value.loc[len(df_account_value)-1,'date'])"
   ]
  },
  {
   "cell_type": "code",
   "execution_count": 49,
   "metadata": {
    "id": "BzBaE63H3RLc",
    "pycharm": {
     "name": "#%%\n"
    }
   },
   "outputs": [],
   "source": []
  },
  {
   "cell_type": "code",
   "execution_count": 49,
   "metadata": {
    "id": "ZYeOjax-7H_5",
    "pycharm": {
     "name": "#%%\n"
    }
   },
   "outputs": [],
   "source": []
  }
 ],
 "metadata": {
  "colab": {
   "collapsed_sections": [
    "Uy5_PTmOh1hj",
    "_gDkU-j-fCmZ",
    "3Zpv4S0-fDBv"
   ],
   "include_colab_link": true,
   "name": "FinRL_StockTrading_NeurIPS_2018.ipynb",
   "provenance": []
  },
  "kernelspec": {
   "display_name": "Python 3",
   "language": "python",
   "name": "python3"
  },
  "language_info": {
   "codemirror_mode": {
    "name": "ipython",
    "version": 3
   },
   "file_extension": ".py",
   "mimetype": "text/x-python",
   "name": "python",
   "nbconvert_exporter": "python",
   "pygments_lexer": "ipython3",
   "version": "3.8.5"
  }
 },
 "nbformat": 4,
 "nbformat_minor": 1
}