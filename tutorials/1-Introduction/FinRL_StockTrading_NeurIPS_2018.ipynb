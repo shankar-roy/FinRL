{
 "cells": [
  {
   "cell_type": "markdown",
   "metadata": {
    "colab_type": "text",
    "id": "view-in-github",
    "pycharm": {
     "name": "#%% md\n"
    }
   },
   "source": [
    "<a href=\"https://colab.research.google.com/github/AI4Finance-Foundation/FinRL/blob/master/FinRL_StockTrading_NeurIPS_2018.ipynb\" target=\"_parent\"><img src=\"https://colab.research.google.com/assets/colab-badge.svg\" alt=\"Open In Colab\"/></a>"
   ]
  },
  {
   "cell_type": "markdown",
   "metadata": {
    "id": "gXaoZs2lh1hi",
    "pycharm": {
     "name": "#%% md\n"
    }
   },
   "source": [
    "# Deep Reinforcement Learning for Stock Trading from Scratch: Multiple Stock Trading\n",
    "\n",
    "* **Pytorch Version** \n",
    "\n"
   ]
  },
  {
   "cell_type": "markdown",
   "metadata": {
    "id": "lGunVt8oLCVS",
    "pycharm": {
     "name": "#%% md\n"
    }
   },
   "source": [
    "# Content"
   ]
  },
  {
   "cell_type": "markdown",
   "metadata": {
    "id": "HOzAKQ-SLGX6",
    "pycharm": {
     "name": "#%% md\n"
    }
   },
   "source": [
    "* [1. Problem Definition](#0)\n",
    "* [2. Getting Started - Load Python packages](#1)\n",
    "    * [2.1. Install Packages](#1.1)    \n",
    "    * [2.2. Check Additional Packages](#1.2)\n",
    "    * [2.3. Import Packages](#1.3)\n",
    "    * [2.4. Create Folders](#1.4)\n",
    "* [3. Download Data](#2)\n",
    "* [4. Preprocess Data](#3)        \n",
    "    * [4.1. Technical Indicators](#3.1)\n",
    "    * [4.2. Perform Feature Engineering](#3.2)\n",
    "* [5.Build Environment](#4)  \n",
    "    * [5.1. Training & Trade Data Split](#4.1)\n",
    "    * [5.2. User-defined Environment](#4.2)   \n",
    "    * [5.3. Initialize Environment](#4.3)    \n",
    "* [6.Implement DRL Algorithms](#5)  \n",
    "* [7.Backtesting Performance](#6)  \n",
    "    * [7.1. BackTestStats](#6.1)\n",
    "    * [7.2. BackTestPlot](#6.2)   \n",
    "    * [7.3. Baseline Stats](#6.3)   \n",
    "    * [7.3. Compare to Stock Market Index](#6.4)   \n",
    "* [RLlib Section](#7)            "
   ]
  },
  {
   "cell_type": "markdown",
   "metadata": {
    "id": "sApkDlD9LIZv",
    "pycharm": {
     "name": "#%% md\n"
    }
   },
   "source": [
    "<a id='0'></a>\n",
    "# Part 1. Problem Definition"
   ]
  },
  {
   "cell_type": "markdown",
   "metadata": {
    "id": "HjLD2TZSLKZ-",
    "pycharm": {
     "name": "#%% md\n"
    }
   },
   "source": [
    "This problem is to design an automated trading solution for single stock trading. We model the stock trading process as a Markov Decision Process (MDP). We then formulate our trading goal as a maximization problem.\n",
    "\n",
    "The algorithm is trained using Deep Reinforcement Learning (DRL) algorithms and the components of the reinforcement learning environment are:\n",
    "\n",
    "\n",
    "* Action: The action space describes the allowed actions that the agent interacts with the\n",
    "environment. Normally, a ∈ A includes three actions: a ∈ {−1, 0, 1}, where −1, 0, 1 represent\n",
    "selling, holding, and buying one stock. Also, an action can be carried upon multiple shares. We use\n",
    "an action space {−k, ..., −1, 0, 1, ..., k}, where k denotes the number of shares. For example, \"Buy\n",
    "10 shares of AAPL\" or \"Sell 10 shares of AAPL\" are 10 or −10, respectively\n",
    "\n",
    "* Reward function: r(s, a, s′) is the incentive mechanism for an agent to learn a better action. The change of the portfolio value when action a is taken at state s and arriving at new state s',  i.e., r(s, a, s′) = v′ − v, where v′ and v represent the portfolio\n",
    "values at state s′ and s, respectively\n",
    "\n",
    "* State: The state space describes the observations that the agent receives from the environment. Just as a human trader needs to analyze various information before executing a trade, so\n",
    "our trading agent observes many different features to better learn in an interactive environment.\n",
    "\n",
    "* Environment: Dow 30 consituents\n",
    "\n",
    "\n",
    "The data of the single stock that we will be using for this case study is obtained from Yahoo Finance API. The data contains Open-High-Low-Close price and volume.\n"
   ]
  },
  {
   "cell_type": "markdown",
   "metadata": {
    "id": "Ffsre789LY08",
    "pycharm": {
     "name": "#%% md\n"
    }
   },
   "source": [
    "<a id='1'></a>\n",
    "# Part 2. Getting Started- Load Python Packages"
   ]
  },
  {
   "cell_type": "markdown",
   "metadata": {
    "id": "Uy5_PTmOh1hj",
    "pycharm": {
     "name": "#%% md\n"
    }
   },
   "source": [
    "<a id='1.1'></a>\n",
    "## 2.1. Install all the packages through FinRL library\n"
   ]
  },
  {
   "cell_type": "code",
   "execution_count": 35,
   "metadata": {
    "colab": {
     "base_uri": "https://localhost:8080/"
    },
    "id": "mPT0ipYE28wL",
    "outputId": "ef0ba8d0-f57a-4c74-bb0b-46737762677d",
    "pycharm": {
     "name": "#%%\n"
    }
   },
   "outputs": [],
   "source": [
    "## install finrl library\n",
    "# %pip install git+https://github.com/shnkar-roy/FinRL.git"
   ]
  },
  {
   "cell_type": "code",
   "execution_count": 36,
   "metadata": {
    "id": "w9A8CN5R5PuZ",
    "pycharm": {
     "name": "#%%\n"
    }
   },
   "outputs": [],
   "source": [
    "from finrl import config\n",
    "from finrl import config_tickers\n",
    "import time\n",
    "import os\n",
    "if not os.path.exists(\"./\" + config.DATA_SAVE_DIR):\n",
    "    os.makedirs(\"./\" + config.DATA_SAVE_DIR)\n",
    "if not os.path.exists(\"./\" + config.TRAINED_MODEL_DIR):\n",
    "    os.makedirs(\"./\" + config.TRAINED_MODEL_DIR)\n",
    "if not os.path.exists(\"./\" + config.TENSORBOARD_LOG_DIR):\n",
    "    os.makedirs(\"./\" + config.TENSORBOARD_LOG_DIR)\n",
    "if not os.path.exists(\"./\" + config.RESULTS_DIR):\n",
    "    os.makedirs(\"./\" + config.RESULTS_DIR)"
   ]
  },
  {
   "cell_type": "markdown",
   "metadata": {
    "id": "osBHhVysOEzi",
    "pycharm": {
     "name": "#%% md\n"
    }
   },
   "source": [
    "\n",
    "<a id='1.2'></a>\n",
    "## 2.2. Check if the additional packages needed are present, if not install them. \n",
    "* Yahoo Finance API\n",
    "* pandas\n",
    "* numpy\n",
    "* matplotlib\n",
    "* stockstats\n",
    "* OpenAI gym\n",
    "* stable-baselines\n",
    "* tensorflow\n",
    "* pyfolio"
   ]
  },
  {
   "cell_type": "markdown",
   "metadata": {
    "id": "nGv01K8Sh1hn",
    "pycharm": {
     "name": "#%% md\n"
    }
   },
   "source": [
    "<a id='1.3'></a>\n",
    "## 2.3. Import Packages"
   ]
  },
  {
   "cell_type": "code",
   "execution_count": 37,
   "metadata": {
    "colab": {
     "base_uri": "https://localhost:8080/"
    },
    "id": "lPqeTTwoh1hn",
    "outputId": "10b08480-3a0c-4826-8e51-f94ce97ab84a",
    "pycharm": {
     "name": "#%%\n"
    }
   },
   "outputs": [],
   "source": [
    "import pandas as pd\n",
    "import numpy as np\n",
    "import matplotlib\n",
    "import matplotlib.pyplot as plt\n",
    "# matplotlib.use('Agg')\n",
    "import datetime\n",
    "\n",
    "%matplotlib inline\n",
    "from finrl.finrl_meta.preprocessor.yahoodownloader import YahooDownloader\n",
    "from finrl.finrl_meta.preprocessor.preprocessors import FeatureEngineer, data_split\n",
    "from finrl.finrl_meta.env_stock_trading.env_stocktrading import StockTradingEnv\n",
    "from finrl.agents.stablebaselines3.models import DRLAgent\n",
    "from finrl.finrl_meta.data_processor import DataProcessor\n",
    "\n",
    "from finrl.plot import backtest_stats, backtest_plot, get_daily_return, get_baseline\n",
    "from pprint import pprint\n",
    "\n",
    "#import sys\n",
    "#sys.path.append(\"../FinRL-Library\")\n",
    "\n",
    "import itertools"
   ]
  },
  {
   "cell_type": "markdown",
   "metadata": {
    "id": "T2owTj985RW4",
    "pycharm": {
     "name": "#%% md\n"
    }
   },
   "source": [
    "<a id='1.4'></a>\n",
    "## 2.4. Create Folders"
   ]
  },
  {
   "cell_type": "markdown",
   "metadata": {
    "id": "A289rQWMh1hq",
    "pycharm": {
     "name": "#%% md\n"
    }
   },
   "source": [
    "<a id='2'></a>\n",
    "# Part 3. Download Data\n",
    "Yahoo Finance is a website that provides stock data, financial news, financial reports, etc. All the data provided by Yahoo Finance is free.\n",
    "* FinRL uses a class **YahooDownloader** to fetch data from Yahoo Finance API\n",
    "* Call Limit: Using the Public API (without authentication), you are limited to 2,000 requests per hour per IP (or up to a total of 48,000 requests a day).\n"
   ]
  },
  {
   "cell_type": "markdown",
   "metadata": {
    "id": "NPeQ7iS-LoMm",
    "pycharm": {
     "name": "#%% md\n"
    }
   },
   "source": [
    "\n",
    "\n",
    "-----\n",
    "class YahooDownloader:\n",
    "    Provides methods for retrieving daily stock data from\n",
    "    Yahoo Finance API\n",
    "\n",
    "    Attributes\n",
    "    ----------\n",
    "        start_date : str\n",
    "            start date of the data (modified from config.py)\n",
    "        end_date : str\n",
    "            end date of the data (modified from config.py)\n",
    "        ticker_list : list\n",
    "            a list of stock tickers (modified from config.py)\n",
    "\n",
    "    Methods\n",
    "    -------\n",
    "    fetch_data()\n",
    "        Fetches data from yahoo API\n"
   ]
  },
  {
   "cell_type": "code",
   "execution_count": 38,
   "metadata": {
    "colab": {
     "base_uri": "https://localhost:8080/",
     "height": 35
    },
    "id": "h3XJnvrbLp-C",
    "outputId": "5302d7c0-1c68-4c6e-b30e-b1395bdc109e",
    "pycharm": {
     "name": "#%%\n"
    }
   },
   "outputs": [],
   "source": [
    "# from config.py start_date is a string, not provided now\n",
    "START_DATE='2008-01-01'"
   ]
  },
  {
   "cell_type": "code",
   "execution_count": 39,
   "metadata": {
    "colab": {
     "base_uri": "https://localhost:8080/",
     "height": 35
    },
    "id": "FUnY8WEfLq3C",
    "outputId": "35dd8c5b-d58f-49b8-e4df-ae7e122448cd",
    "pycharm": {
     "name": "#%%\n"
    }
   },
   "outputs": [],
   "source": [
    "# from config.py end_date is a string, not provided now\n",
    "END_DATE=datetime.datetime.now().strftime('%Y-%m-%d')"
   ]
  },
  {
   "cell_type": "code",
   "execution_count": 40,
   "outputs": [],
   "source": [
    "quotes_filename = \".\" + os.sep + config.DATA_SAVE_DIR + os.sep + \"quotes.csv\""
   ],
   "metadata": {
    "collapsed": false,
    "pycharm": {
     "name": "#%%\n"
    }
   }
  },
  {
   "cell_type": "code",
   "execution_count": 41,
   "metadata": {
    "colab": {
     "base_uri": "https://localhost:8080/"
    },
    "id": "yCKm4om-s9kE",
    "outputId": "83c7f894-3757-473b-8afb-a904e6caabda",
    "pycharm": {
     "name": "#%%\n"
    }
   },
   "outputs": [
    {
     "name": "stdout",
     "output_type": "stream",
     "text": [
      "File not found, need to download data...\n",
      "[*********************100%***********************]  1 of 1 completed\n",
      "[*********************100%***********************]  1 of 1 completed\n",
      "[*********************100%***********************]  1 of 1 completed\n",
      "[*********************100%***********************]  1 of 1 completed\n",
      "[*********************100%***********************]  1 of 1 completed\n",
      "[*********************100%***********************]  1 of 1 completed\n",
      "[*********************100%***********************]  1 of 1 completed\n",
      "[*********************100%***********************]  1 of 1 completed\n",
      "[*********************100%***********************]  1 of 1 completed\n",
      "[*********************100%***********************]  1 of 1 completed\n",
      "[*********************100%***********************]  1 of 1 completed\n",
      "[*********************100%***********************]  1 of 1 completed\n",
      "[*********************100%***********************]  1 of 1 completed\n",
      "[*********************100%***********************]  1 of 1 completed\n",
      "[*********************100%***********************]  1 of 1 completed\n",
      "[*********************100%***********************]  1 of 1 completed\n",
      "[*********************100%***********************]  1 of 1 completed\n",
      "[*********************100%***********************]  1 of 1 completed\n",
      "[*********************100%***********************]  1 of 1 completed\n",
      "[*********************100%***********************]  1 of 1 completed\n",
      "[*********************100%***********************]  1 of 1 completed\n",
      "[*********************100%***********************]  1 of 1 completed\n",
      "[*********************100%***********************]  1 of 1 completed\n",
      "[*********************100%***********************]  1 of 1 completed\n",
      "[*********************100%***********************]  1 of 1 completed\n",
      "[*********************100%***********************]  1 of 1 completed\n",
      "[*********************100%***********************]  1 of 1 completed\n",
      "[*********************100%***********************]  1 of 1 completed\n",
      "[*********************100%***********************]  1 of 1 completed\n",
      "[*********************100%***********************]  1 of 1 completed\n",
      "Shape of DataFrame:  (108005, 8)\n"
     ]
    }
   ],
   "source": [
    "try:\n",
    "    df = pd.read_csv(quotes_filename)\n",
    "except FileNotFoundError as e:\n",
    "    print(\"File not found, need to download data...\")\n",
    "    df = YahooDownloader(start_date = START_DATE, # '2009-01-01',\n",
    "                         end_date = END_DATE, # '2022-08-31',\n",
    "                         ticker_list = config_tickers.DOW_30_TICKER).fetch_data()\n",
    "    df.sort_values(['date', 'tic'], ignore_index=True)\n",
    "    # df['date'] = pd.to_datetime(df['date'], format='%Y-%m-%d')\n",
    "    # df.set_index('date')\n",
    "    df.to_csv(quotes_filename)"
   ]
  },
  {
   "cell_type": "code",
   "execution_count": 42,
   "metadata": {
    "colab": {
     "base_uri": "https://localhost:8080/"
    },
    "id": "JzqRRTOX6aFu",
    "outputId": "7a991dfe-f39c-40db-ec44-7c416cdce7dc",
    "pycharm": {
     "name": "#%%\n"
    }
   },
   "outputs": [
    {
     "name": "stdout",
     "output_type": "stream",
     "text": [
      "['AXP', 'AMGN', 'AAPL', 'BA', 'CAT', 'CSCO', 'CVX', 'GS', 'HD', 'HON', 'IBM', 'INTC', 'JNJ', 'KO', 'JPM', 'MCD', 'MMM', 'MRK', 'MSFT', 'NKE', 'PG', 'TRV', 'UNH', 'CRM', 'VZ', 'V', 'WBA', 'WMT', 'DIS', 'DOW']\n"
     ]
    }
   ],
   "source": [
    "print(config_tickers.DOW_30_TICKER)"
   ]
  },
  {
   "cell_type": "code",
   "execution_count": 43,
   "metadata": {
    "colab": {
     "base_uri": "https://localhost:8080/"
    },
    "id": "CV3HrZHLh1hy",
    "outputId": "5267773c-399c-4ec9-d4d5-13ab1e4cced0",
    "pycharm": {
     "name": "#%%\n"
    }
   },
   "outputs": [
    {
     "data": {
      "text/plain": "(108005, 8)"
     },
     "execution_count": 43,
     "metadata": {},
     "output_type": "execute_result"
    }
   ],
   "source": [
    "df.shape"
   ]
  },
  {
   "cell_type": "code",
   "execution_count": 44,
   "metadata": {
    "colab": {
     "base_uri": "https://localhost:8080/",
     "height": 206
    },
    "id": "4hYkeaPiICHS",
    "outputId": "210fade5-e912-40df-be99-4ad00bdb9d2f",
    "pycharm": {
     "name": "#%%\n"
    }
   },
   "outputs": [
    {
     "data": {
      "text/plain": "         date       open       high        low      close      volume   tic  \\\n0  2008-01-02   7.116786   7.152143   6.876786   5.941449  1079178800  AAPL   \n1  2008-01-02  46.599998  47.040001  46.259998  35.172176     7934400  AMGN   \n2  2008-01-02  52.090000  52.320000  50.790001  40.326859     8053700   AXP   \n3  2008-01-02  87.570000  87.839996  86.000000  63.481613     4303000    BA   \n4  2008-01-02  72.559998  72.669998  70.050003  46.850498     6337800   CAT   \n\n   day  \n0    2  \n1    2  \n2    2  \n3    2  \n4    2  ",
      "text/html": "<div>\n<style scoped>\n    .dataframe tbody tr th:only-of-type {\n        vertical-align: middle;\n    }\n\n    .dataframe tbody tr th {\n        vertical-align: top;\n    }\n\n    .dataframe thead th {\n        text-align: right;\n    }\n</style>\n<table border=\"1\" class=\"dataframe\">\n  <thead>\n    <tr style=\"text-align: right;\">\n      <th></th>\n      <th>date</th>\n      <th>open</th>\n      <th>high</th>\n      <th>low</th>\n      <th>close</th>\n      <th>volume</th>\n      <th>tic</th>\n      <th>day</th>\n    </tr>\n  </thead>\n  <tbody>\n    <tr>\n      <th>0</th>\n      <td>2008-01-02</td>\n      <td>7.116786</td>\n      <td>7.152143</td>\n      <td>6.876786</td>\n      <td>5.941449</td>\n      <td>1079178800</td>\n      <td>AAPL</td>\n      <td>2</td>\n    </tr>\n    <tr>\n      <th>1</th>\n      <td>2008-01-02</td>\n      <td>46.599998</td>\n      <td>47.040001</td>\n      <td>46.259998</td>\n      <td>35.172176</td>\n      <td>7934400</td>\n      <td>AMGN</td>\n      <td>2</td>\n    </tr>\n    <tr>\n      <th>2</th>\n      <td>2008-01-02</td>\n      <td>52.090000</td>\n      <td>52.320000</td>\n      <td>50.790001</td>\n      <td>40.326859</td>\n      <td>8053700</td>\n      <td>AXP</td>\n      <td>2</td>\n    </tr>\n    <tr>\n      <th>3</th>\n      <td>2008-01-02</td>\n      <td>87.570000</td>\n      <td>87.839996</td>\n      <td>86.000000</td>\n      <td>63.481613</td>\n      <td>4303000</td>\n      <td>BA</td>\n      <td>2</td>\n    </tr>\n    <tr>\n      <th>4</th>\n      <td>2008-01-02</td>\n      <td>72.559998</td>\n      <td>72.669998</td>\n      <td>70.050003</td>\n      <td>46.850498</td>\n      <td>6337800</td>\n      <td>CAT</td>\n      <td>2</td>\n    </tr>\n  </tbody>\n</table>\n</div>"
     },
     "execution_count": 44,
     "metadata": {},
     "output_type": "execute_result"
    }
   ],
   "source": [
    "df.sort_values(['date','tic'],ignore_index=True).head()"
   ]
  },
  {
   "cell_type": "code",
   "execution_count": 45,
   "outputs": [],
   "source": [
    "#df.to_csv(quotes_filename)"
   ],
   "metadata": {
    "collapsed": false,
    "pycharm": {
     "name": "#%%\n"
    }
   }
  },
  {
   "cell_type": "markdown",
   "metadata": {
    "id": "uqC6c40Zh1iH",
    "pycharm": {
     "name": "#%% md\n"
    }
   },
   "source": [
    "# Part 4: Preprocess Data\n",
    "Data preprocessing is a crucial step for training a high quality machine learning model. We need to check for missing data and do feature engineering in order to convert the data into a model-ready state.\n",
    "* Add technical indicators. In practical trading, various information needs to be taken into account, for example the historical stock prices, current holding shares, technical indicators, etc. In this article, we demonstrate two trend-following technical indicators: MACD and RSI.\n",
    "* Add turbulence index. Risk-aversion reflects whether an investor will choose to preserve the capital. It also influences one's trading strategy when facing different market volatility level. To control the risk in a worst-case scenario, such as financial crisis of 2007–2008, FinRL employs the financial turbulence index that measures extreme asset price fluctuation."
   ]
  },
  {
   "cell_type": "code",
   "execution_count": 46,
   "metadata": {
    "colab": {
     "base_uri": "https://localhost:8080/"
    },
    "id": "PmKP-1ii3RLS",
    "outputId": "0708badb-77ef-4c86-f77c-6525f0e8934d",
    "pycharm": {
     "name": "#%%\n"
    }
   },
   "outputs": [
    {
     "name": "stdout",
     "output_type": "stream",
     "text": [
      "Successfully added technical indicators\n",
      "[*********************100%***********************]  1 of 1 completed\n",
      "Shape of DataFrame:  (3695, 8)\n",
      "Successfully added vix\n",
      "Successfully added turbulence index\n"
     ]
    }
   ],
   "source": [
    "fe = FeatureEngineer(\n",
    "                    use_technical_indicator=True,\n",
    "                    tech_indicator_list = config.INDICATORS,\n",
    "                    use_vix=True,\n",
    "                    use_turbulence=True,\n",
    "                    user_defined_feature = False)\n",
    "\n",
    "processed = fe.preprocess_data(df)"
   ]
  },
  {
   "cell_type": "code",
   "execution_count": 47,
   "outputs": [
    {
     "data": {
      "text/plain": "(103460, 18)"
     },
     "execution_count": 47,
     "metadata": {},
     "output_type": "execute_result"
    }
   ],
   "source": [
    "processed.shape"
   ],
   "metadata": {
    "collapsed": false,
    "pycharm": {
     "name": "#%%\n"
    }
   }
  },
  {
   "cell_type": "code",
   "execution_count": 48,
   "metadata": {
    "id": "Kixon2tR3RLT",
    "pycharm": {
     "name": "#%%\n"
    }
   },
   "outputs": [],
   "source": [
    "list_ticker = processed[\"tic\"].unique().tolist()\n",
    "list_date = list(pd.date_range(processed['date'].min(),processed['date'].max()).astype(str))\n",
    "combination = list(itertools.product(list_date,list_ticker))\n",
    "\n",
    "processed_full = pd.DataFrame(combination,columns=[\"date\",\"tic\"]).merge(processed,on=[\"date\",\"tic\"],how=\"left\")\n",
    "processed_full = processed_full[processed_full['date'].isin(processed['date'])]\n",
    "processed_full = processed_full.sort_values(['date','tic'])\n",
    "\n",
    "processed_full = processed_full.fillna(0)"
   ]
  },
  {
   "cell_type": "code",
   "execution_count": 49,
   "outputs": [
    {
     "data": {
      "text/plain": "150024"
     },
     "execution_count": 49,
     "metadata": {},
     "output_type": "execute_result"
    }
   ],
   "source": [
    "len(combination)"
   ],
   "metadata": {
    "collapsed": false,
    "pycharm": {
     "name": "#%%\n"
    }
   }
  },
  {
   "cell_type": "code",
   "execution_count": 50,
   "outputs": [
    {
     "name": "stdout",
     "output_type": "stream",
     "text": [
      "['AAPL', 'AMGN', 'AXP', 'BA', 'CAT', 'CRM', 'CSCO', 'CVX', 'DIS', 'GS', 'HD', 'HON', 'IBM', 'INTC', 'JNJ', 'JPM', 'KO', 'MCD', 'MMM', 'MRK', 'MSFT', 'NKE', 'PG', 'TRV', 'UNH', 'VZ', 'WBA', 'WMT']\n"
     ]
    }
   ],
   "source": [
    "print(list_ticker)"
   ],
   "metadata": {
    "collapsed": false,
    "pycharm": {
     "name": "#%%\n"
    }
   }
  },
  {
   "cell_type": "code",
   "execution_count": 51,
   "outputs": [
    {
     "data": {
      "text/plain": "28"
     },
     "execution_count": 51,
     "metadata": {},
     "output_type": "execute_result"
    }
   ],
   "source": [
    "len(list_ticker)"
   ],
   "metadata": {
    "collapsed": false,
    "pycharm": {
     "name": "#%%\n"
    }
   }
  },
  {
   "cell_type": "code",
   "execution_count": 52,
   "outputs": [
    {
     "data": {
      "text/plain": "5358"
     },
     "execution_count": 52,
     "metadata": {},
     "output_type": "execute_result"
    }
   ],
   "source": [
    "len(list_date)"
   ],
   "metadata": {
    "collapsed": false,
    "pycharm": {
     "name": "#%%\n"
    }
   }
  },
  {
   "cell_type": "code",
   "execution_count": 53,
   "outputs": [
    {
     "data": {
      "text/plain": "'2008-01-02'"
     },
     "execution_count": 53,
     "metadata": {},
     "output_type": "execute_result"
    }
   ],
   "source": [
    "list_date[0]"
   ],
   "metadata": {
    "collapsed": false,
    "pycharm": {
     "name": "#%%\n"
    }
   }
  },
  {
   "cell_type": "code",
   "execution_count": 54,
   "outputs": [
    {
     "data": {
      "text/plain": "'2022-09-02'"
     },
     "execution_count": 54,
     "metadata": {},
     "output_type": "execute_result"
    }
   ],
   "source": [
    "list_date[len(list_date)-1]"
   ],
   "metadata": {
    "collapsed": false,
    "pycharm": {
     "name": "#%%\n"
    }
   }
  },
  {
   "cell_type": "code",
   "execution_count": 55,
   "outputs": [
    {
     "data": {
      "text/plain": "(103460, 18)"
     },
     "execution_count": 55,
     "metadata": {},
     "output_type": "execute_result"
    }
   ],
   "source": [
    "processed_full.shape"
   ],
   "metadata": {
    "collapsed": false,
    "pycharm": {
     "name": "#%%\n"
    }
   }
  },
  {
   "cell_type": "code",
   "execution_count": 56,
   "metadata": {
    "colab": {
     "base_uri": "https://localhost:8080/",
     "height": 600
    },
    "id": "grvhGJJII3Xn",
    "outputId": "733758c3-3552-4aa5-e1f9-789bd4ce0c92",
    "pycharm": {
     "name": "#%%\n"
    }
   },
   "outputs": [
    {
     "data": {
      "text/plain": "              date   tic        open        high         low       close  \\\n103420  2022-09-01    KO   61.580002   62.040001   61.290001   62.000000   \n103421  2022-09-01   MCD  251.820007  256.529999  251.759995  256.470001   \n103422  2022-09-01   MMM  124.300003  126.389999  123.669998  125.629997   \n103423  2022-09-01   MRK   85.639999   87.459999   85.360001   87.150002   \n103424  2022-09-01  MSFT  258.869995  260.890015  255.410004  260.399994   \n103425  2022-09-01   NKE  105.800003  106.550003  103.800003  106.184998   \n103426  2022-09-01    PG  137.830002  139.759995  136.759995  139.639999   \n103427  2022-09-01   TRV  161.220001  164.300003  160.410004  163.300003   \n103428  2022-09-01   UNH  519.330017  524.260010  515.090027  524.000000   \n103429  2022-09-01    VZ   41.639999   42.049999   41.639999   41.810001   \n103430  2022-09-01   WBA   34.959999   35.290001   34.529999   35.259998   \n103431  2022-09-01   WMT  132.539993  135.139999  132.399994  134.479996   \n103432  2022-09-02  AAPL  159.750000  160.360001  154.970001  155.809998   \n103433  2022-09-02  AMGN  246.479996  247.779999  241.339996  242.369995   \n103434  2022-09-02   AXP  153.479996  153.979996  148.929993  149.789993   \n103435  2022-09-02    BA  155.190002  156.990005  151.479996  151.820007   \n103436  2022-09-02   CAT  184.850006  185.740005  179.850006  180.830002   \n103437  2022-09-02   CRM  156.460007  158.669998  152.960007  153.690002   \n103438  2022-09-02  CSCO   45.709999   45.919998   44.279999   44.590000   \n103439  2022-09-02   CVX  158.240005  159.130005  156.720001  157.850006   \n103440  2022-09-02   DIS  113.050003  113.889999  110.839996  111.199997   \n103441  2022-09-02    GS  334.679993  340.320007  329.970001  331.480011   \n103442  2022-09-02    HD  296.109985  296.799988  290.119995  291.899994   \n103443  2022-09-02   HON  193.089996  193.429993  186.229996  186.889999   \n103444  2022-09-02   IBM  130.300003  130.559998  127.239998  127.790001   \n103445  2022-09-02  INTC   32.209999   32.380001   31.059999   31.219999   \n103446  2022-09-02   JNJ  165.860001  166.199997  162.009995  162.740005   \n103447  2022-09-02   JPM  115.870003  117.449997  113.190002  113.709999   \n103448  2022-09-02    KO   62.389999   62.770000   60.900002   61.150002   \n103449  2022-09-02   MCD  257.410004  258.579987  253.360001  254.509995   \n103450  2022-09-02   MMM  126.029999  126.370003  121.150002  121.650002   \n103451  2022-09-02   MRK   87.239998   87.779999   85.879997   86.230003   \n103452  2022-09-02  MSFT  261.700012  264.739990  254.470001  256.059998   \n103453  2022-09-02   NKE  107.459999  108.150002  105.050003  105.739998   \n103454  2022-09-02    PG  140.419998  141.149994  136.550003  137.160004   \n103455  2022-09-02   TRV  164.820007  166.130005  161.779999  162.699997   \n103456  2022-09-02   UNH  529.619995  529.789978  513.809998  516.349976   \n103457  2022-09-02    VZ   42.000000   42.209999   41.150002   41.299999   \n103458  2022-09-02   WBA   35.470001   35.980000   35.110001   35.270000   \n103459  2022-09-02   WMT  134.850006  135.669998  132.429993  133.000000   \n\n            volume  day      macd     boll_ub     boll_lb     rsi_30  \\\n103420  14939700.0  3.0 -0.220363   65.853359   61.543641  46.273194   \n103421   2577800.0  3.0 -0.286057  267.748174  250.925197  51.773037   \n103422  31014400.0  3.0 -3.426948  159.327370  122.515234  38.167046   \n103423   7528600.0  3.0 -0.788663   92.970933   85.844066  45.543693   \n103424  23263400.0  3.0 -2.529663  301.191415  257.764463  44.671480   \n103425   5590800.0  3.0 -1.064436  119.078931  104.727220  44.873613   \n103426   7446500.0  3.0 -1.117110  152.615632  138.326367  44.134509   \n103427   1041300.0  3.0  0.206828  176.909100  158.003900  47.305033   \n103428   2085300.0  3.0 -0.631159  553.606879  520.002123  50.184096   \n103429  21641700.0  3.0 -1.194271   46.395921   41.795080  33.014860   \n103430   7461500.0  3.0 -0.974131   41.897910   34.114773  37.902893   \n103431   7247300.0  3.0  1.213510  140.992539  125.307356  53.247225   \n103432  76905200.0  4.0 -0.138878  178.489215  154.842787  47.956452   \n103433   2325100.0  4.0 -1.051434  253.495382  238.035503  48.550657   \n103434   2028500.0  4.0 -0.520946  169.252785  149.216213  45.178582   \n103435   5256200.0  4.0 -0.189982  175.318854  153.572151  46.945757   \n103436   2185400.0  4.0 -0.743283  202.865628  180.772374  44.298366   \n103437   7310300.0  4.0 -6.781225  203.770446  149.517553  39.588426   \n103438  14720400.0  4.0  0.025884   48.977636   43.768364  46.470281   \n103439   7525300.0  4.0  2.011143  165.702306  151.022613  51.753396   \n103440   8454500.0  4.0  1.369656  126.352553  106.075447  50.853660   \n103441   2215400.0  4.0  2.132005  357.756495  324.415395  52.686086   \n103442   2753000.0  4.0 -2.422877  329.173543  284.078221  46.453176   \n103443   2748400.0  4.0  0.500551  206.956604  186.293571  47.629803   \n103444   3040600.0  4.0 -0.971211  139.755364  126.131633  43.953554   \n103445  34871100.0  4.0 -1.387004   37.630502   31.055498  35.030688   \n103446   5803200.0  4.0 -2.115407  170.369086  161.145112  41.790252   \n103447  10664600.0  4.0 -0.579928  124.422680  110.707319  45.737512   \n103448  11808900.0  4.0 -0.363930   66.023606   61.150393  43.780370   \n103449   1791300.0  4.0 -0.481870  267.834817  250.507677  50.192742   \n103450  12320600.0  4.0 -4.129309  159.845895  119.570450  35.524685   \n103451   6997500.0  4.0 -0.911427   93.086009   85.610990  43.908245   \n103452  22841600.0  4.0 -3.545958  302.206709  254.124092  43.006267   \n103453   7762700.0  4.0 -1.283199  119.147122  103.878643  44.514150   \n103454   7076500.0  4.0 -1.508190  153.147006  137.038992  41.801711   \n103455   1244400.0  4.0 -0.068210  176.518715  158.768285  46.759337   \n103456   1944200.0  4.0 -1.784990  555.002111  516.735890  47.772845   \n103457  21149600.0  4.0 -1.263585   46.490441   41.335559  31.794177   \n103458   7258800.0  4.0 -1.010466   41.911460   33.775015  37.944933   \n103459   5741200.0  4.0  1.074200  140.592807  126.403977  51.650757   \n\n            cci_30      dx_30  close_30_sma  close_60_sma        vix  \\\n103420 -150.931620  30.239619     63.598333     62.757418  25.559999   \n103421  -93.879904  24.759759    258.926518    252.363199  25.559999   \n103422 -178.031783  45.241533    140.410049    135.559496  25.559999   \n103423 -132.959618  30.784489     89.372333     89.965193  25.559999   \n103424 -133.392896  38.001442    276.657870    267.030751  25.559999   \n103425 -149.542838  23.767189    111.610416    109.676804  25.559999   \n103426 -162.223431  36.873491    144.923000    142.948968  25.559999   \n103427  -20.030217  25.437729    164.286334    164.561667  25.559999   \n103428 -180.303526  27.147932    536.074668    518.049251  25.559999   \n103429 -213.257726  54.553258     44.468333     47.255278  25.559999   \n103430 -174.652468  45.906852     38.239236     38.613121  25.559999   \n103431   43.326981   7.826256    131.775651    127.609015  25.559999   \n103432  -93.991312  14.109419    164.378000    153.088350  25.469999   \n103433  -67.095419   4.904384    245.834446    243.625208  25.469999   \n103434 -101.376840  13.101089    157.361333    150.504914  25.469999   \n103435 -159.257318   3.809514    163.549668    151.813168  25.469999   \n103436  -99.440839  12.469696    190.034333    187.365433  25.469999   \n103437 -177.321824  31.294965    178.803333    175.388499  25.469999   \n103438  -65.573725   5.582186     45.918667     44.512308  25.469999   \n103439   19.382318   4.669912    156.413707    151.927015  25.469999   \n103440   -6.608962   3.709512    112.531667    104.500000  25.469999   \n103441  -29.322863   1.023345    336.215018    315.306010  25.469999   \n103442 -115.526577  20.941613    304.880760    293.839953  25.469999   \n103443  -66.385053  22.300098    193.656260    185.049749  25.469999   \n103444  -92.486558  27.158076    131.622641    133.669193  25.469999   \n103445 -163.650831  30.934452     35.289452     36.512416  25.469999   \n103446  -99.154200  15.584440    167.865326    170.938073  25.469999   \n103447  -44.250081  13.649924    116.457333    115.231851  25.469999   \n103448 -165.461305  16.277837     63.583666     62.735936  25.469999   \n103449  -86.694514  14.224022    258.989942    252.533817  25.469999   \n103450 -183.735519  49.835010    140.039797    135.187949  25.469999   \n103451 -121.874718  27.089064     89.243000     89.923132  25.469999   \n103452 -134.410956  27.147048    276.532920    266.801130  25.469999   \n103453 -122.366553  16.063972    111.508167    109.404980  25.469999   \n103454 -160.528403  27.151825    144.727666    142.832068  25.469999   \n103455  -12.389790  15.714211    164.495667    164.356001  25.469999   \n103456 -189.701104  15.392235    535.906002    518.458813  25.469999   \n103457 -200.655677  58.312234     44.363333     47.095119  25.469999   \n103458 -135.026972  32.846011     38.141370     38.499293  25.469999   \n103459   35.329721   9.997078    131.821095    127.796187  25.469999   \n\n        turbulence  \n103420   19.085405  \n103421   19.085405  \n103422   19.085405  \n103423   19.085405  \n103424   19.085405  \n103425   19.085405  \n103426   19.085405  \n103427   19.085405  \n103428   19.085405  \n103429   19.085405  \n103430   19.085405  \n103431   19.085405  \n103432   11.930238  \n103433   11.930238  \n103434   11.930238  \n103435   11.930238  \n103436   11.930238  \n103437   11.930238  \n103438   11.930238  \n103439   11.930238  \n103440   11.930238  \n103441   11.930238  \n103442   11.930238  \n103443   11.930238  \n103444   11.930238  \n103445   11.930238  \n103446   11.930238  \n103447   11.930238  \n103448   11.930238  \n103449   11.930238  \n103450   11.930238  \n103451   11.930238  \n103452   11.930238  \n103453   11.930238  \n103454   11.930238  \n103455   11.930238  \n103456   11.930238  \n103457   11.930238  \n103458   11.930238  \n103459   11.930238  ",
      "text/html": "<div>\n<style scoped>\n    .dataframe tbody tr th:only-of-type {\n        vertical-align: middle;\n    }\n\n    .dataframe tbody tr th {\n        vertical-align: top;\n    }\n\n    .dataframe thead th {\n        text-align: right;\n    }\n</style>\n<table border=\"1\" class=\"dataframe\">\n  <thead>\n    <tr style=\"text-align: right;\">\n      <th></th>\n      <th>date</th>\n      <th>tic</th>\n      <th>open</th>\n      <th>high</th>\n      <th>low</th>\n      <th>close</th>\n      <th>volume</th>\n      <th>day</th>\n      <th>macd</th>\n      <th>boll_ub</th>\n      <th>boll_lb</th>\n      <th>rsi_30</th>\n      <th>cci_30</th>\n      <th>dx_30</th>\n      <th>close_30_sma</th>\n      <th>close_60_sma</th>\n      <th>vix</th>\n      <th>turbulence</th>\n    </tr>\n  </thead>\n  <tbody>\n    <tr>\n      <th>103420</th>\n      <td>2022-09-01</td>\n      <td>KO</td>\n      <td>61.580002</td>\n      <td>62.040001</td>\n      <td>61.290001</td>\n      <td>62.000000</td>\n      <td>14939700.0</td>\n      <td>3.0</td>\n      <td>-0.220363</td>\n      <td>65.853359</td>\n      <td>61.543641</td>\n      <td>46.273194</td>\n      <td>-150.931620</td>\n      <td>30.239619</td>\n      <td>63.598333</td>\n      <td>62.757418</td>\n      <td>25.559999</td>\n      <td>19.085405</td>\n    </tr>\n    <tr>\n      <th>103421</th>\n      <td>2022-09-01</td>\n      <td>MCD</td>\n      <td>251.820007</td>\n      <td>256.529999</td>\n      <td>251.759995</td>\n      <td>256.470001</td>\n      <td>2577800.0</td>\n      <td>3.0</td>\n      <td>-0.286057</td>\n      <td>267.748174</td>\n      <td>250.925197</td>\n      <td>51.773037</td>\n      <td>-93.879904</td>\n      <td>24.759759</td>\n      <td>258.926518</td>\n      <td>252.363199</td>\n      <td>25.559999</td>\n      <td>19.085405</td>\n    </tr>\n    <tr>\n      <th>103422</th>\n      <td>2022-09-01</td>\n      <td>MMM</td>\n      <td>124.300003</td>\n      <td>126.389999</td>\n      <td>123.669998</td>\n      <td>125.629997</td>\n      <td>31014400.0</td>\n      <td>3.0</td>\n      <td>-3.426948</td>\n      <td>159.327370</td>\n      <td>122.515234</td>\n      <td>38.167046</td>\n      <td>-178.031783</td>\n      <td>45.241533</td>\n      <td>140.410049</td>\n      <td>135.559496</td>\n      <td>25.559999</td>\n      <td>19.085405</td>\n    </tr>\n    <tr>\n      <th>103423</th>\n      <td>2022-09-01</td>\n      <td>MRK</td>\n      <td>85.639999</td>\n      <td>87.459999</td>\n      <td>85.360001</td>\n      <td>87.150002</td>\n      <td>7528600.0</td>\n      <td>3.0</td>\n      <td>-0.788663</td>\n      <td>92.970933</td>\n      <td>85.844066</td>\n      <td>45.543693</td>\n      <td>-132.959618</td>\n      <td>30.784489</td>\n      <td>89.372333</td>\n      <td>89.965193</td>\n      <td>25.559999</td>\n      <td>19.085405</td>\n    </tr>\n    <tr>\n      <th>103424</th>\n      <td>2022-09-01</td>\n      <td>MSFT</td>\n      <td>258.869995</td>\n      <td>260.890015</td>\n      <td>255.410004</td>\n      <td>260.399994</td>\n      <td>23263400.0</td>\n      <td>3.0</td>\n      <td>-2.529663</td>\n      <td>301.191415</td>\n      <td>257.764463</td>\n      <td>44.671480</td>\n      <td>-133.392896</td>\n      <td>38.001442</td>\n      <td>276.657870</td>\n      <td>267.030751</td>\n      <td>25.559999</td>\n      <td>19.085405</td>\n    </tr>\n    <tr>\n      <th>103425</th>\n      <td>2022-09-01</td>\n      <td>NKE</td>\n      <td>105.800003</td>\n      <td>106.550003</td>\n      <td>103.800003</td>\n      <td>106.184998</td>\n      <td>5590800.0</td>\n      <td>3.0</td>\n      <td>-1.064436</td>\n      <td>119.078931</td>\n      <td>104.727220</td>\n      <td>44.873613</td>\n      <td>-149.542838</td>\n      <td>23.767189</td>\n      <td>111.610416</td>\n      <td>109.676804</td>\n      <td>25.559999</td>\n      <td>19.085405</td>\n    </tr>\n    <tr>\n      <th>103426</th>\n      <td>2022-09-01</td>\n      <td>PG</td>\n      <td>137.830002</td>\n      <td>139.759995</td>\n      <td>136.759995</td>\n      <td>139.639999</td>\n      <td>7446500.0</td>\n      <td>3.0</td>\n      <td>-1.117110</td>\n      <td>152.615632</td>\n      <td>138.326367</td>\n      <td>44.134509</td>\n      <td>-162.223431</td>\n      <td>36.873491</td>\n      <td>144.923000</td>\n      <td>142.948968</td>\n      <td>25.559999</td>\n      <td>19.085405</td>\n    </tr>\n    <tr>\n      <th>103427</th>\n      <td>2022-09-01</td>\n      <td>TRV</td>\n      <td>161.220001</td>\n      <td>164.300003</td>\n      <td>160.410004</td>\n      <td>163.300003</td>\n      <td>1041300.0</td>\n      <td>3.0</td>\n      <td>0.206828</td>\n      <td>176.909100</td>\n      <td>158.003900</td>\n      <td>47.305033</td>\n      <td>-20.030217</td>\n      <td>25.437729</td>\n      <td>164.286334</td>\n      <td>164.561667</td>\n      <td>25.559999</td>\n      <td>19.085405</td>\n    </tr>\n    <tr>\n      <th>103428</th>\n      <td>2022-09-01</td>\n      <td>UNH</td>\n      <td>519.330017</td>\n      <td>524.260010</td>\n      <td>515.090027</td>\n      <td>524.000000</td>\n      <td>2085300.0</td>\n      <td>3.0</td>\n      <td>-0.631159</td>\n      <td>553.606879</td>\n      <td>520.002123</td>\n      <td>50.184096</td>\n      <td>-180.303526</td>\n      <td>27.147932</td>\n      <td>536.074668</td>\n      <td>518.049251</td>\n      <td>25.559999</td>\n      <td>19.085405</td>\n    </tr>\n    <tr>\n      <th>103429</th>\n      <td>2022-09-01</td>\n      <td>VZ</td>\n      <td>41.639999</td>\n      <td>42.049999</td>\n      <td>41.639999</td>\n      <td>41.810001</td>\n      <td>21641700.0</td>\n      <td>3.0</td>\n      <td>-1.194271</td>\n      <td>46.395921</td>\n      <td>41.795080</td>\n      <td>33.014860</td>\n      <td>-213.257726</td>\n      <td>54.553258</td>\n      <td>44.468333</td>\n      <td>47.255278</td>\n      <td>25.559999</td>\n      <td>19.085405</td>\n    </tr>\n    <tr>\n      <th>103430</th>\n      <td>2022-09-01</td>\n      <td>WBA</td>\n      <td>34.959999</td>\n      <td>35.290001</td>\n      <td>34.529999</td>\n      <td>35.259998</td>\n      <td>7461500.0</td>\n      <td>3.0</td>\n      <td>-0.974131</td>\n      <td>41.897910</td>\n      <td>34.114773</td>\n      <td>37.902893</td>\n      <td>-174.652468</td>\n      <td>45.906852</td>\n      <td>38.239236</td>\n      <td>38.613121</td>\n      <td>25.559999</td>\n      <td>19.085405</td>\n    </tr>\n    <tr>\n      <th>103431</th>\n      <td>2022-09-01</td>\n      <td>WMT</td>\n      <td>132.539993</td>\n      <td>135.139999</td>\n      <td>132.399994</td>\n      <td>134.479996</td>\n      <td>7247300.0</td>\n      <td>3.0</td>\n      <td>1.213510</td>\n      <td>140.992539</td>\n      <td>125.307356</td>\n      <td>53.247225</td>\n      <td>43.326981</td>\n      <td>7.826256</td>\n      <td>131.775651</td>\n      <td>127.609015</td>\n      <td>25.559999</td>\n      <td>19.085405</td>\n    </tr>\n    <tr>\n      <th>103432</th>\n      <td>2022-09-02</td>\n      <td>AAPL</td>\n      <td>159.750000</td>\n      <td>160.360001</td>\n      <td>154.970001</td>\n      <td>155.809998</td>\n      <td>76905200.0</td>\n      <td>4.0</td>\n      <td>-0.138878</td>\n      <td>178.489215</td>\n      <td>154.842787</td>\n      <td>47.956452</td>\n      <td>-93.991312</td>\n      <td>14.109419</td>\n      <td>164.378000</td>\n      <td>153.088350</td>\n      <td>25.469999</td>\n      <td>11.930238</td>\n    </tr>\n    <tr>\n      <th>103433</th>\n      <td>2022-09-02</td>\n      <td>AMGN</td>\n      <td>246.479996</td>\n      <td>247.779999</td>\n      <td>241.339996</td>\n      <td>242.369995</td>\n      <td>2325100.0</td>\n      <td>4.0</td>\n      <td>-1.051434</td>\n      <td>253.495382</td>\n      <td>238.035503</td>\n      <td>48.550657</td>\n      <td>-67.095419</td>\n      <td>4.904384</td>\n      <td>245.834446</td>\n      <td>243.625208</td>\n      <td>25.469999</td>\n      <td>11.930238</td>\n    </tr>\n    <tr>\n      <th>103434</th>\n      <td>2022-09-02</td>\n      <td>AXP</td>\n      <td>153.479996</td>\n      <td>153.979996</td>\n      <td>148.929993</td>\n      <td>149.789993</td>\n      <td>2028500.0</td>\n      <td>4.0</td>\n      <td>-0.520946</td>\n      <td>169.252785</td>\n      <td>149.216213</td>\n      <td>45.178582</td>\n      <td>-101.376840</td>\n      <td>13.101089</td>\n      <td>157.361333</td>\n      <td>150.504914</td>\n      <td>25.469999</td>\n      <td>11.930238</td>\n    </tr>\n    <tr>\n      <th>103435</th>\n      <td>2022-09-02</td>\n      <td>BA</td>\n      <td>155.190002</td>\n      <td>156.990005</td>\n      <td>151.479996</td>\n      <td>151.820007</td>\n      <td>5256200.0</td>\n      <td>4.0</td>\n      <td>-0.189982</td>\n      <td>175.318854</td>\n      <td>153.572151</td>\n      <td>46.945757</td>\n      <td>-159.257318</td>\n      <td>3.809514</td>\n      <td>163.549668</td>\n      <td>151.813168</td>\n      <td>25.469999</td>\n      <td>11.930238</td>\n    </tr>\n    <tr>\n      <th>103436</th>\n      <td>2022-09-02</td>\n      <td>CAT</td>\n      <td>184.850006</td>\n      <td>185.740005</td>\n      <td>179.850006</td>\n      <td>180.830002</td>\n      <td>2185400.0</td>\n      <td>4.0</td>\n      <td>-0.743283</td>\n      <td>202.865628</td>\n      <td>180.772374</td>\n      <td>44.298366</td>\n      <td>-99.440839</td>\n      <td>12.469696</td>\n      <td>190.034333</td>\n      <td>187.365433</td>\n      <td>25.469999</td>\n      <td>11.930238</td>\n    </tr>\n    <tr>\n      <th>103437</th>\n      <td>2022-09-02</td>\n      <td>CRM</td>\n      <td>156.460007</td>\n      <td>158.669998</td>\n      <td>152.960007</td>\n      <td>153.690002</td>\n      <td>7310300.0</td>\n      <td>4.0</td>\n      <td>-6.781225</td>\n      <td>203.770446</td>\n      <td>149.517553</td>\n      <td>39.588426</td>\n      <td>-177.321824</td>\n      <td>31.294965</td>\n      <td>178.803333</td>\n      <td>175.388499</td>\n      <td>25.469999</td>\n      <td>11.930238</td>\n    </tr>\n    <tr>\n      <th>103438</th>\n      <td>2022-09-02</td>\n      <td>CSCO</td>\n      <td>45.709999</td>\n      <td>45.919998</td>\n      <td>44.279999</td>\n      <td>44.590000</td>\n      <td>14720400.0</td>\n      <td>4.0</td>\n      <td>0.025884</td>\n      <td>48.977636</td>\n      <td>43.768364</td>\n      <td>46.470281</td>\n      <td>-65.573725</td>\n      <td>5.582186</td>\n      <td>45.918667</td>\n      <td>44.512308</td>\n      <td>25.469999</td>\n      <td>11.930238</td>\n    </tr>\n    <tr>\n      <th>103439</th>\n      <td>2022-09-02</td>\n      <td>CVX</td>\n      <td>158.240005</td>\n      <td>159.130005</td>\n      <td>156.720001</td>\n      <td>157.850006</td>\n      <td>7525300.0</td>\n      <td>4.0</td>\n      <td>2.011143</td>\n      <td>165.702306</td>\n      <td>151.022613</td>\n      <td>51.753396</td>\n      <td>19.382318</td>\n      <td>4.669912</td>\n      <td>156.413707</td>\n      <td>151.927015</td>\n      <td>25.469999</td>\n      <td>11.930238</td>\n    </tr>\n    <tr>\n      <th>103440</th>\n      <td>2022-09-02</td>\n      <td>DIS</td>\n      <td>113.050003</td>\n      <td>113.889999</td>\n      <td>110.839996</td>\n      <td>111.199997</td>\n      <td>8454500.0</td>\n      <td>4.0</td>\n      <td>1.369656</td>\n      <td>126.352553</td>\n      <td>106.075447</td>\n      <td>50.853660</td>\n      <td>-6.608962</td>\n      <td>3.709512</td>\n      <td>112.531667</td>\n      <td>104.500000</td>\n      <td>25.469999</td>\n      <td>11.930238</td>\n    </tr>\n    <tr>\n      <th>103441</th>\n      <td>2022-09-02</td>\n      <td>GS</td>\n      <td>334.679993</td>\n      <td>340.320007</td>\n      <td>329.970001</td>\n      <td>331.480011</td>\n      <td>2215400.0</td>\n      <td>4.0</td>\n      <td>2.132005</td>\n      <td>357.756495</td>\n      <td>324.415395</td>\n      <td>52.686086</td>\n      <td>-29.322863</td>\n      <td>1.023345</td>\n      <td>336.215018</td>\n      <td>315.306010</td>\n      <td>25.469999</td>\n      <td>11.930238</td>\n    </tr>\n    <tr>\n      <th>103442</th>\n      <td>2022-09-02</td>\n      <td>HD</td>\n      <td>296.109985</td>\n      <td>296.799988</td>\n      <td>290.119995</td>\n      <td>291.899994</td>\n      <td>2753000.0</td>\n      <td>4.0</td>\n      <td>-2.422877</td>\n      <td>329.173543</td>\n      <td>284.078221</td>\n      <td>46.453176</td>\n      <td>-115.526577</td>\n      <td>20.941613</td>\n      <td>304.880760</td>\n      <td>293.839953</td>\n      <td>25.469999</td>\n      <td>11.930238</td>\n    </tr>\n    <tr>\n      <th>103443</th>\n      <td>2022-09-02</td>\n      <td>HON</td>\n      <td>193.089996</td>\n      <td>193.429993</td>\n      <td>186.229996</td>\n      <td>186.889999</td>\n      <td>2748400.0</td>\n      <td>4.0</td>\n      <td>0.500551</td>\n      <td>206.956604</td>\n      <td>186.293571</td>\n      <td>47.629803</td>\n      <td>-66.385053</td>\n      <td>22.300098</td>\n      <td>193.656260</td>\n      <td>185.049749</td>\n      <td>25.469999</td>\n      <td>11.930238</td>\n    </tr>\n    <tr>\n      <th>103444</th>\n      <td>2022-09-02</td>\n      <td>IBM</td>\n      <td>130.300003</td>\n      <td>130.559998</td>\n      <td>127.239998</td>\n      <td>127.790001</td>\n      <td>3040600.0</td>\n      <td>4.0</td>\n      <td>-0.971211</td>\n      <td>139.755364</td>\n      <td>126.131633</td>\n      <td>43.953554</td>\n      <td>-92.486558</td>\n      <td>27.158076</td>\n      <td>131.622641</td>\n      <td>133.669193</td>\n      <td>25.469999</td>\n      <td>11.930238</td>\n    </tr>\n    <tr>\n      <th>103445</th>\n      <td>2022-09-02</td>\n      <td>INTC</td>\n      <td>32.209999</td>\n      <td>32.380001</td>\n      <td>31.059999</td>\n      <td>31.219999</td>\n      <td>34871100.0</td>\n      <td>4.0</td>\n      <td>-1.387004</td>\n      <td>37.630502</td>\n      <td>31.055498</td>\n      <td>35.030688</td>\n      <td>-163.650831</td>\n      <td>30.934452</td>\n      <td>35.289452</td>\n      <td>36.512416</td>\n      <td>25.469999</td>\n      <td>11.930238</td>\n    </tr>\n    <tr>\n      <th>103446</th>\n      <td>2022-09-02</td>\n      <td>JNJ</td>\n      <td>165.860001</td>\n      <td>166.199997</td>\n      <td>162.009995</td>\n      <td>162.740005</td>\n      <td>5803200.0</td>\n      <td>4.0</td>\n      <td>-2.115407</td>\n      <td>170.369086</td>\n      <td>161.145112</td>\n      <td>41.790252</td>\n      <td>-99.154200</td>\n      <td>15.584440</td>\n      <td>167.865326</td>\n      <td>170.938073</td>\n      <td>25.469999</td>\n      <td>11.930238</td>\n    </tr>\n    <tr>\n      <th>103447</th>\n      <td>2022-09-02</td>\n      <td>JPM</td>\n      <td>115.870003</td>\n      <td>117.449997</td>\n      <td>113.190002</td>\n      <td>113.709999</td>\n      <td>10664600.0</td>\n      <td>4.0</td>\n      <td>-0.579928</td>\n      <td>124.422680</td>\n      <td>110.707319</td>\n      <td>45.737512</td>\n      <td>-44.250081</td>\n      <td>13.649924</td>\n      <td>116.457333</td>\n      <td>115.231851</td>\n      <td>25.469999</td>\n      <td>11.930238</td>\n    </tr>\n    <tr>\n      <th>103448</th>\n      <td>2022-09-02</td>\n      <td>KO</td>\n      <td>62.389999</td>\n      <td>62.770000</td>\n      <td>60.900002</td>\n      <td>61.150002</td>\n      <td>11808900.0</td>\n      <td>4.0</td>\n      <td>-0.363930</td>\n      <td>66.023606</td>\n      <td>61.150393</td>\n      <td>43.780370</td>\n      <td>-165.461305</td>\n      <td>16.277837</td>\n      <td>63.583666</td>\n      <td>62.735936</td>\n      <td>25.469999</td>\n      <td>11.930238</td>\n    </tr>\n    <tr>\n      <th>103449</th>\n      <td>2022-09-02</td>\n      <td>MCD</td>\n      <td>257.410004</td>\n      <td>258.579987</td>\n      <td>253.360001</td>\n      <td>254.509995</td>\n      <td>1791300.0</td>\n      <td>4.0</td>\n      <td>-0.481870</td>\n      <td>267.834817</td>\n      <td>250.507677</td>\n      <td>50.192742</td>\n      <td>-86.694514</td>\n      <td>14.224022</td>\n      <td>258.989942</td>\n      <td>252.533817</td>\n      <td>25.469999</td>\n      <td>11.930238</td>\n    </tr>\n    <tr>\n      <th>103450</th>\n      <td>2022-09-02</td>\n      <td>MMM</td>\n      <td>126.029999</td>\n      <td>126.370003</td>\n      <td>121.150002</td>\n      <td>121.650002</td>\n      <td>12320600.0</td>\n      <td>4.0</td>\n      <td>-4.129309</td>\n      <td>159.845895</td>\n      <td>119.570450</td>\n      <td>35.524685</td>\n      <td>-183.735519</td>\n      <td>49.835010</td>\n      <td>140.039797</td>\n      <td>135.187949</td>\n      <td>25.469999</td>\n      <td>11.930238</td>\n    </tr>\n    <tr>\n      <th>103451</th>\n      <td>2022-09-02</td>\n      <td>MRK</td>\n      <td>87.239998</td>\n      <td>87.779999</td>\n      <td>85.879997</td>\n      <td>86.230003</td>\n      <td>6997500.0</td>\n      <td>4.0</td>\n      <td>-0.911427</td>\n      <td>93.086009</td>\n      <td>85.610990</td>\n      <td>43.908245</td>\n      <td>-121.874718</td>\n      <td>27.089064</td>\n      <td>89.243000</td>\n      <td>89.923132</td>\n      <td>25.469999</td>\n      <td>11.930238</td>\n    </tr>\n    <tr>\n      <th>103452</th>\n      <td>2022-09-02</td>\n      <td>MSFT</td>\n      <td>261.700012</td>\n      <td>264.739990</td>\n      <td>254.470001</td>\n      <td>256.059998</td>\n      <td>22841600.0</td>\n      <td>4.0</td>\n      <td>-3.545958</td>\n      <td>302.206709</td>\n      <td>254.124092</td>\n      <td>43.006267</td>\n      <td>-134.410956</td>\n      <td>27.147048</td>\n      <td>276.532920</td>\n      <td>266.801130</td>\n      <td>25.469999</td>\n      <td>11.930238</td>\n    </tr>\n    <tr>\n      <th>103453</th>\n      <td>2022-09-02</td>\n      <td>NKE</td>\n      <td>107.459999</td>\n      <td>108.150002</td>\n      <td>105.050003</td>\n      <td>105.739998</td>\n      <td>7762700.0</td>\n      <td>4.0</td>\n      <td>-1.283199</td>\n      <td>119.147122</td>\n      <td>103.878643</td>\n      <td>44.514150</td>\n      <td>-122.366553</td>\n      <td>16.063972</td>\n      <td>111.508167</td>\n      <td>109.404980</td>\n      <td>25.469999</td>\n      <td>11.930238</td>\n    </tr>\n    <tr>\n      <th>103454</th>\n      <td>2022-09-02</td>\n      <td>PG</td>\n      <td>140.419998</td>\n      <td>141.149994</td>\n      <td>136.550003</td>\n      <td>137.160004</td>\n      <td>7076500.0</td>\n      <td>4.0</td>\n      <td>-1.508190</td>\n      <td>153.147006</td>\n      <td>137.038992</td>\n      <td>41.801711</td>\n      <td>-160.528403</td>\n      <td>27.151825</td>\n      <td>144.727666</td>\n      <td>142.832068</td>\n      <td>25.469999</td>\n      <td>11.930238</td>\n    </tr>\n    <tr>\n      <th>103455</th>\n      <td>2022-09-02</td>\n      <td>TRV</td>\n      <td>164.820007</td>\n      <td>166.130005</td>\n      <td>161.779999</td>\n      <td>162.699997</td>\n      <td>1244400.0</td>\n      <td>4.0</td>\n      <td>-0.068210</td>\n      <td>176.518715</td>\n      <td>158.768285</td>\n      <td>46.759337</td>\n      <td>-12.389790</td>\n      <td>15.714211</td>\n      <td>164.495667</td>\n      <td>164.356001</td>\n      <td>25.469999</td>\n      <td>11.930238</td>\n    </tr>\n    <tr>\n      <th>103456</th>\n      <td>2022-09-02</td>\n      <td>UNH</td>\n      <td>529.619995</td>\n      <td>529.789978</td>\n      <td>513.809998</td>\n      <td>516.349976</td>\n      <td>1944200.0</td>\n      <td>4.0</td>\n      <td>-1.784990</td>\n      <td>555.002111</td>\n      <td>516.735890</td>\n      <td>47.772845</td>\n      <td>-189.701104</td>\n      <td>15.392235</td>\n      <td>535.906002</td>\n      <td>518.458813</td>\n      <td>25.469999</td>\n      <td>11.930238</td>\n    </tr>\n    <tr>\n      <th>103457</th>\n      <td>2022-09-02</td>\n      <td>VZ</td>\n      <td>42.000000</td>\n      <td>42.209999</td>\n      <td>41.150002</td>\n      <td>41.299999</td>\n      <td>21149600.0</td>\n      <td>4.0</td>\n      <td>-1.263585</td>\n      <td>46.490441</td>\n      <td>41.335559</td>\n      <td>31.794177</td>\n      <td>-200.655677</td>\n      <td>58.312234</td>\n      <td>44.363333</td>\n      <td>47.095119</td>\n      <td>25.469999</td>\n      <td>11.930238</td>\n    </tr>\n    <tr>\n      <th>103458</th>\n      <td>2022-09-02</td>\n      <td>WBA</td>\n      <td>35.470001</td>\n      <td>35.980000</td>\n      <td>35.110001</td>\n      <td>35.270000</td>\n      <td>7258800.0</td>\n      <td>4.0</td>\n      <td>-1.010466</td>\n      <td>41.911460</td>\n      <td>33.775015</td>\n      <td>37.944933</td>\n      <td>-135.026972</td>\n      <td>32.846011</td>\n      <td>38.141370</td>\n      <td>38.499293</td>\n      <td>25.469999</td>\n      <td>11.930238</td>\n    </tr>\n    <tr>\n      <th>103459</th>\n      <td>2022-09-02</td>\n      <td>WMT</td>\n      <td>134.850006</td>\n      <td>135.669998</td>\n      <td>132.429993</td>\n      <td>133.000000</td>\n      <td>5741200.0</td>\n      <td>4.0</td>\n      <td>1.074200</td>\n      <td>140.592807</td>\n      <td>126.403977</td>\n      <td>51.650757</td>\n      <td>35.329721</td>\n      <td>9.997078</td>\n      <td>131.821095</td>\n      <td>127.796187</td>\n      <td>25.469999</td>\n      <td>11.930238</td>\n    </tr>\n  </tbody>\n</table>\n</div>"
     },
     "execution_count": 56,
     "metadata": {},
     "output_type": "execute_result"
    }
   ],
   "source": [
    "processed_full.sort_values(['date','tic'],ignore_index=True).tail(40)"
   ]
  },
  {
   "cell_type": "markdown",
   "metadata": {
    "id": "-QsYaY0Dh1iw",
    "pycharm": {
     "name": "#%% md\n"
    }
   },
   "source": [
    "<a id='4'></a>\n",
    "# Part 5. Design Environment\n",
    "Considering the stochastic and interactive nature of the automated stock trading tasks, a financial task is modeled as a **Markov Decision Process (MDP)** problem. The training process involves observing stock price change, taking an action and reward's calculation to have the agent adjusting its strategy accordingly. By interacting with the environment, the trading agent will derive a trading strategy with the maximized rewards as time proceeds.\n",
    "\n",
    "Our trading environments, based on OpenAI Gym framework, simulate live stock markets with real market data according to the principle of time-driven simulation.\n",
    "\n",
    "The action space describes the allowed actions that the agent interacts with the environment. Normally, action a includes three actions: {-1, 0, 1}, where -1, 0, 1 represent selling, holding, and buying one share. Also, an action can be carried upon multiple shares. We use an action space {-k,…,-1, 0, 1, …, k}, where k denotes the number of shares to buy and -k denotes the number of shares to sell. For example, \"Buy 10 shares of AAPL\" or \"Sell 10 shares of AAPL\" are 10 or -10, respectively. The continuous action space needs to be normalized to [-1, 1], since the policy is defined on a Gaussian distribution, which needs to be normalized and symmetric."
   ]
  },
  {
   "cell_type": "markdown",
   "metadata": {
    "id": "5TOhcryx44bb",
    "pycharm": {
     "name": "#%% md\n"
    }
   },
   "source": [
    "## Training data split: 2009-01-01 to 2021-12-31\n",
    "## Trade data split: 2022-01-01 to 2022-08-31"
   ]
  },
  {
   "cell_type": "code",
   "execution_count": 57,
   "metadata": {
    "colab": {
     "base_uri": "https://localhost:8080/"
    },
    "id": "W0qaVGjLtgbI",
    "outputId": "ca8d1a43-ffc3-4fc3-efa9-4de9a9065842",
    "pycharm": {
     "name": "#%%\n"
    }
   },
   "outputs": [
    {
     "name": "stdout",
     "output_type": "stream",
     "text": [
      "98700\n",
      "4648\n"
     ]
    }
   ],
   "source": [
    "train = data_split(processed_full, '2008-01-01','2021-12-31')\n",
    "trade = data_split(processed_full, '2022-01-01','2022-08-31')\n",
    "print(len(train))\n",
    "print(len(trade))"
   ]
  },
  {
   "cell_type": "code",
   "execution_count": 58,
   "metadata": {
    "colab": {
     "base_uri": "https://localhost:8080/",
     "height": 357
    },
    "id": "p52zNCOhTtLR",
    "outputId": "b3ad3e10-376f-4186-f875-0331708c5e14",
    "pycharm": {
     "name": "#%%\n"
    }
   },
   "outputs": [
    {
     "data": {
      "text/plain": "            date   tic        open        high         low       close  \\\n3523  2021-12-29    KO   58.950001   59.099998   58.660000   58.082535   \n3523  2021-12-29   MCD  268.450012  269.720001  267.950012  264.087463   \n3523  2021-12-29   MMM  177.479996  178.889999  177.229996  173.157043   \n3523  2021-12-29   MRK   76.800003   77.180000   76.470001   75.652397   \n3523  2021-12-29  MSFT  341.299988  344.299988  339.679993  339.730377   \n3523  2021-12-29   NKE  167.070007  169.800003  166.600006  167.498444   \n3523  2021-12-29    PG  163.210007  164.979996  163.080002  161.349686   \n3523  2021-12-29   TRV  157.649994  158.000000  157.119995  155.849167   \n3523  2021-12-29   UNH  504.779999  507.220001  502.000000  502.296997   \n3523  2021-12-29    VZ   52.770000   52.880001   52.340000   50.479187   \n3523  2021-12-29   WBA   51.450001   52.310001   51.279999   50.527309   \n3523  2021-12-29   WMT  142.660004  143.529999  142.320007  141.031067   \n3524  2021-12-30  AAPL  179.470001  180.570007  178.089996  177.465637   \n3524  2021-12-30  AMGN  227.600006  229.550003  226.139999  221.047943   \n3524  2021-12-30   AXP  164.619995  165.800003  164.000000  162.676743   \n3524  2021-12-30    BA  203.000000  206.000000  202.600006  202.710007   \n3524  2021-12-30   CAT  207.330002  208.910004  205.929993  202.694290   \n3524  2021-12-30   CRM  255.300003  257.899994  254.460007  255.330002   \n3524  2021-12-30  CSCO   64.040001   64.139999   63.470001   62.256790   \n3524  2021-12-30   CVX  118.129997  118.690002  117.339996  114.223816   \n3524  2021-12-30   DIS  155.710007  157.070007  155.509995  155.929993   \n3524  2021-12-30    GS  387.750000  389.779999  385.200012  378.073578   \n3524  2021-12-30    HD  411.850006  413.440002  408.399994  402.298767   \n3524  2021-12-30   HON  208.100006  208.899994  206.910004  203.906387   \n3524  2021-12-30   IBM  133.750000  134.369995  133.330002  129.103745   \n3524  2021-12-30  INTC   51.919998   52.139999   51.650002   50.436947   \n3524  2021-12-30   JNJ  172.119995  172.880005  171.750000  168.982407   \n3524  2021-12-30   JPM  159.110001  160.240005  158.369995  155.005463   \n3524  2021-12-30    KO   59.060001   59.230000   58.759998   57.915035   \n3524  2021-12-30   MCD  269.000000  269.260010  266.700012  262.828461   \n3524  2021-12-30   MMM  178.869995  179.179993  177.580002  172.409714   \n3524  2021-12-30   MRK   77.120003   77.610001   76.970001   75.839195   \n3524  2021-12-30  MSFT  341.910004  343.130005  338.820007  337.117432   \n3524  2021-12-30   NKE  168.309998  170.119995  167.199997  166.218262   \n3524  2021-12-30    PG  164.399994  164.589996  162.610001  159.954254   \n3524  2021-12-30   TRV  157.860001  158.419998  156.710007  155.166397   \n3524  2021-12-30   UNH  507.929993  509.230011  503.649994  501.154449   \n3524  2021-12-30    VZ   52.380001   52.570000   52.080002   50.373138   \n3524  2021-12-30   WBA   52.360001   52.919998   51.939999   50.275887   \n3524  2021-12-30   WMT  143.259995  143.699997  142.479996  141.485657   \n\n          volume  day       macd     boll_ub     boll_lb     rsi_30  \\\n3523   9996000.0  2.0   1.010698   59.962508   51.705720  62.256096   \n3523   1318500.0  2.0   4.317660  270.172024  243.652174  64.086558   \n3523   1221900.0  2.0  -0.233469  174.518508  165.221992  50.377038   \n3523   5926100.0  2.0  -0.391396   76.794348   69.502571  49.598712   \n3523  15042000.0  2.0   2.300337  343.945749  316.353131  57.987215   \n3523   3830900.0  2.0  -0.423074  172.127651  158.509196  52.949171   \n3523   5346100.0  2.0   3.812722  163.532644  143.663631  70.537056   \n3523    683400.0  2.0   0.596577  160.347799  144.769947  52.274621   \n3523   1573900.0  2.0  13.522901  513.735318  438.288840  68.767862   \n3523  15109500.0  2.0   0.290739   52.002026   47.404181  50.642500   \n3523   5117300.0  2.0   0.949172   51.298182   43.363406  61.200655   \n3523   4348400.0  2.0  -0.334936  144.311963  132.569095  50.433054   \n3524  59773000.0  3.0   4.923006  183.794603  162.355005  62.864031   \n3524   1507400.0  3.0   4.884209  227.233563  196.513394  60.964424   \n3524   1632900.0  3.0  -1.246853  168.625737  154.029329  47.859245   \n3524   7012600.0  3.0  -1.718755  213.277832  188.778169  47.158624   \n3524   1465900.0  3.0   1.112239  206.227476  192.477738  52.411439   \n3524   2950600.0  3.0  -7.545217  269.241224  246.626777  42.847419   \n3524   9076700.0  3.0   1.856673   63.661144   53.576748  65.417780   \n3524   6016000.0  3.0   0.959374  116.509545  110.215453  57.128341   \n3524   7228400.0  3.0  -0.641641  156.804079  145.481919  47.031677   \n3524   1160100.0  3.0  -2.340110  393.415313  366.984056  47.980526   \n3524   1804400.0  3.0   3.718161  414.141479  379.963340  61.302322   \n3524   1273100.0  3.0  -1.771702  208.197829  197.282589  45.465601   \n3524   3158100.0  3.0   3.167800  131.037946  111.783321  63.773266   \n3524  18359400.0  3.0   0.340706   51.355951   47.770096  51.864763   \n3524   4231800.0  3.0   2.265151  172.219555  155.785381  59.895529   \n3524   6948200.0  3.0  -1.399803  159.091810  151.272204  46.863493   \n3524   7703900.0  3.0   1.005796   59.844796   52.461897  61.424908   \n3524   1714600.0  3.0   4.199811  268.945465  247.143970  62.576216   \n3524   1067300.0  3.0  -0.076718  174.545487  165.865668  49.461100   \n3524   5859100.0  3.0  -0.262742   77.137846   69.493299  49.963255   \n3524  15994500.0  3.0   2.474491  344.702504  316.514381  56.610917   \n3524   2666800.0  3.0  -0.287325  172.192791  158.552139  51.809346   \n3524   5911500.0  3.0   3.790645  163.597132  145.207826  67.668350   \n3524    420400.0  3.0   0.626612  159.630637  146.690666  51.591454   \n3524   1309800.0  3.0  13.594181  514.339963  443.797689  68.152057   \n3524  15615500.0  3.0   0.268798   51.989658   47.655641  50.091008   \n3524   3653600.0  3.0   1.018954   51.124660   44.336663  60.253164   \n3524   4983000.0  3.0  -0.153435  144.550486  132.980825  51.028351   \n\n          cci_30      dx_30  close_30_sma  close_60_sma        vix  turbulence  \n3523  114.141185  33.529540     55.167394     54.572205  16.950001    6.343448  \n3523  111.625714  34.956619    253.542452    247.283945  16.950001    6.343448  \n3523   54.113182   5.331517    170.842579    172.253203  16.950001    6.343448  \n3523    8.317534   5.372070     74.935568     77.703552  16.950001    6.343448  \n3523  101.276461  19.847553    331.859765    322.619931  16.950001    6.343448  \n3523   -0.830063  14.420131    166.854654    163.991513  16.950001    6.343448  \n3523  139.657284  62.214721    150.721444    145.551958  16.950001    6.343448  \n3523   69.404607   2.941862    152.639299    154.066289  16.950001    6.343448  \n3523  127.760571  45.467053    464.529503    449.138637  16.950001    6.343448  \n3523   80.875877   2.883501     49.671611     50.209250  16.950001    6.343448  \n3523  157.281137  36.986792     46.681112     46.556429  16.950001    6.343448  \n3523   43.243050   3.068503    139.405883    141.299569  16.950001    6.343448  \n3524   91.899686  48.097640    168.609616    157.833292  17.330000    7.314622  \n3524  126.781034  51.332649    207.340825    204.917308  17.330000    7.314622  \n3524    8.324961   3.222567    162.377129    168.930706  17.330000    7.314622  \n3524    3.511795   7.085330    203.398001    210.768334  17.330000    7.314622  \n3524  109.274668  11.636225    198.443295    198.144556  17.330000    7.314622  \n3524  -55.358854  15.164891    268.856667    281.851000  17.330000    7.314622  \n3524  138.574386  42.446836     56.999571     55.926893  17.330000    7.314622  \n3524   85.762039   5.020043    112.651297    110.224803  17.330000    7.314622  \n3524  123.947860   9.960553    150.975666    160.951667  17.330000    7.314622  \n3524  -22.639804   8.295442    380.526415    387.899765  17.330000    7.314622  \n3524   67.320917  20.899620    396.667768    374.616504  17.330000    7.314622  \n3524   -8.238853  17.819683    204.850555    210.540891  17.330000    7.314622  \n3524  152.952023  49.094802    118.511399    119.568845  17.330000    7.314622  \n3524  111.835725  19.265569     49.116720     49.580964  17.330000    7.314622  \n3524  122.620904  35.273301    161.605033    160.054721  17.330000    7.314622  \n3524  -34.454167   0.338797    156.528651    160.554086  17.330000    7.314622  \n3524  105.220712  34.976608     55.265680     54.672514  17.330000    7.314622  \n3524   94.886374  28.722315    254.071692    247.666599  17.330000    7.314622  \n3524   61.934078   6.777908    170.705091    172.272548  17.330000    7.314622  \n3524   24.538567   9.066208     74.733057     77.643038  17.330000    7.314622  \n3524   79.693573  17.764937    331.874004    323.465859  17.330000    7.314622  \n3524   -1.110727  15.409472    166.721285    164.294166  17.330000    7.314622  \n3524  118.945783  57.435959    151.231793    145.949927  17.330000    7.314622  \n3524   66.518443   0.948162    152.597422    154.133733  17.330000    7.314622  \n3524  119.873795  47.180930    466.393046    450.997802  17.330000    7.314622  \n3524   62.239333   2.129279     49.677717     50.183216  17.330000    7.314622  \n3524  156.937210  41.478245     46.791353     46.642667  17.330000    7.314622  \n3524   51.442951   4.010760    139.424796    141.416475  17.330000    7.314622  ",
      "text/html": "<div>\n<style scoped>\n    .dataframe tbody tr th:only-of-type {\n        vertical-align: middle;\n    }\n\n    .dataframe tbody tr th {\n        vertical-align: top;\n    }\n\n    .dataframe thead th {\n        text-align: right;\n    }\n</style>\n<table border=\"1\" class=\"dataframe\">\n  <thead>\n    <tr style=\"text-align: right;\">\n      <th></th>\n      <th>date</th>\n      <th>tic</th>\n      <th>open</th>\n      <th>high</th>\n      <th>low</th>\n      <th>close</th>\n      <th>volume</th>\n      <th>day</th>\n      <th>macd</th>\n      <th>boll_ub</th>\n      <th>boll_lb</th>\n      <th>rsi_30</th>\n      <th>cci_30</th>\n      <th>dx_30</th>\n      <th>close_30_sma</th>\n      <th>close_60_sma</th>\n      <th>vix</th>\n      <th>turbulence</th>\n    </tr>\n  </thead>\n  <tbody>\n    <tr>\n      <th>3523</th>\n      <td>2021-12-29</td>\n      <td>KO</td>\n      <td>58.950001</td>\n      <td>59.099998</td>\n      <td>58.660000</td>\n      <td>58.082535</td>\n      <td>9996000.0</td>\n      <td>2.0</td>\n      <td>1.010698</td>\n      <td>59.962508</td>\n      <td>51.705720</td>\n      <td>62.256096</td>\n      <td>114.141185</td>\n      <td>33.529540</td>\n      <td>55.167394</td>\n      <td>54.572205</td>\n      <td>16.950001</td>\n      <td>6.343448</td>\n    </tr>\n    <tr>\n      <th>3523</th>\n      <td>2021-12-29</td>\n      <td>MCD</td>\n      <td>268.450012</td>\n      <td>269.720001</td>\n      <td>267.950012</td>\n      <td>264.087463</td>\n      <td>1318500.0</td>\n      <td>2.0</td>\n      <td>4.317660</td>\n      <td>270.172024</td>\n      <td>243.652174</td>\n      <td>64.086558</td>\n      <td>111.625714</td>\n      <td>34.956619</td>\n      <td>253.542452</td>\n      <td>247.283945</td>\n      <td>16.950001</td>\n      <td>6.343448</td>\n    </tr>\n    <tr>\n      <th>3523</th>\n      <td>2021-12-29</td>\n      <td>MMM</td>\n      <td>177.479996</td>\n      <td>178.889999</td>\n      <td>177.229996</td>\n      <td>173.157043</td>\n      <td>1221900.0</td>\n      <td>2.0</td>\n      <td>-0.233469</td>\n      <td>174.518508</td>\n      <td>165.221992</td>\n      <td>50.377038</td>\n      <td>54.113182</td>\n      <td>5.331517</td>\n      <td>170.842579</td>\n      <td>172.253203</td>\n      <td>16.950001</td>\n      <td>6.343448</td>\n    </tr>\n    <tr>\n      <th>3523</th>\n      <td>2021-12-29</td>\n      <td>MRK</td>\n      <td>76.800003</td>\n      <td>77.180000</td>\n      <td>76.470001</td>\n      <td>75.652397</td>\n      <td>5926100.0</td>\n      <td>2.0</td>\n      <td>-0.391396</td>\n      <td>76.794348</td>\n      <td>69.502571</td>\n      <td>49.598712</td>\n      <td>8.317534</td>\n      <td>5.372070</td>\n      <td>74.935568</td>\n      <td>77.703552</td>\n      <td>16.950001</td>\n      <td>6.343448</td>\n    </tr>\n    <tr>\n      <th>3523</th>\n      <td>2021-12-29</td>\n      <td>MSFT</td>\n      <td>341.299988</td>\n      <td>344.299988</td>\n      <td>339.679993</td>\n      <td>339.730377</td>\n      <td>15042000.0</td>\n      <td>2.0</td>\n      <td>2.300337</td>\n      <td>343.945749</td>\n      <td>316.353131</td>\n      <td>57.987215</td>\n      <td>101.276461</td>\n      <td>19.847553</td>\n      <td>331.859765</td>\n      <td>322.619931</td>\n      <td>16.950001</td>\n      <td>6.343448</td>\n    </tr>\n    <tr>\n      <th>3523</th>\n      <td>2021-12-29</td>\n      <td>NKE</td>\n      <td>167.070007</td>\n      <td>169.800003</td>\n      <td>166.600006</td>\n      <td>167.498444</td>\n      <td>3830900.0</td>\n      <td>2.0</td>\n      <td>-0.423074</td>\n      <td>172.127651</td>\n      <td>158.509196</td>\n      <td>52.949171</td>\n      <td>-0.830063</td>\n      <td>14.420131</td>\n      <td>166.854654</td>\n      <td>163.991513</td>\n      <td>16.950001</td>\n      <td>6.343448</td>\n    </tr>\n    <tr>\n      <th>3523</th>\n      <td>2021-12-29</td>\n      <td>PG</td>\n      <td>163.210007</td>\n      <td>164.979996</td>\n      <td>163.080002</td>\n      <td>161.349686</td>\n      <td>5346100.0</td>\n      <td>2.0</td>\n      <td>3.812722</td>\n      <td>163.532644</td>\n      <td>143.663631</td>\n      <td>70.537056</td>\n      <td>139.657284</td>\n      <td>62.214721</td>\n      <td>150.721444</td>\n      <td>145.551958</td>\n      <td>16.950001</td>\n      <td>6.343448</td>\n    </tr>\n    <tr>\n      <th>3523</th>\n      <td>2021-12-29</td>\n      <td>TRV</td>\n      <td>157.649994</td>\n      <td>158.000000</td>\n      <td>157.119995</td>\n      <td>155.849167</td>\n      <td>683400.0</td>\n      <td>2.0</td>\n      <td>0.596577</td>\n      <td>160.347799</td>\n      <td>144.769947</td>\n      <td>52.274621</td>\n      <td>69.404607</td>\n      <td>2.941862</td>\n      <td>152.639299</td>\n      <td>154.066289</td>\n      <td>16.950001</td>\n      <td>6.343448</td>\n    </tr>\n    <tr>\n      <th>3523</th>\n      <td>2021-12-29</td>\n      <td>UNH</td>\n      <td>504.779999</td>\n      <td>507.220001</td>\n      <td>502.000000</td>\n      <td>502.296997</td>\n      <td>1573900.0</td>\n      <td>2.0</td>\n      <td>13.522901</td>\n      <td>513.735318</td>\n      <td>438.288840</td>\n      <td>68.767862</td>\n      <td>127.760571</td>\n      <td>45.467053</td>\n      <td>464.529503</td>\n      <td>449.138637</td>\n      <td>16.950001</td>\n      <td>6.343448</td>\n    </tr>\n    <tr>\n      <th>3523</th>\n      <td>2021-12-29</td>\n      <td>VZ</td>\n      <td>52.770000</td>\n      <td>52.880001</td>\n      <td>52.340000</td>\n      <td>50.479187</td>\n      <td>15109500.0</td>\n      <td>2.0</td>\n      <td>0.290739</td>\n      <td>52.002026</td>\n      <td>47.404181</td>\n      <td>50.642500</td>\n      <td>80.875877</td>\n      <td>2.883501</td>\n      <td>49.671611</td>\n      <td>50.209250</td>\n      <td>16.950001</td>\n      <td>6.343448</td>\n    </tr>\n    <tr>\n      <th>3523</th>\n      <td>2021-12-29</td>\n      <td>WBA</td>\n      <td>51.450001</td>\n      <td>52.310001</td>\n      <td>51.279999</td>\n      <td>50.527309</td>\n      <td>5117300.0</td>\n      <td>2.0</td>\n      <td>0.949172</td>\n      <td>51.298182</td>\n      <td>43.363406</td>\n      <td>61.200655</td>\n      <td>157.281137</td>\n      <td>36.986792</td>\n      <td>46.681112</td>\n      <td>46.556429</td>\n      <td>16.950001</td>\n      <td>6.343448</td>\n    </tr>\n    <tr>\n      <th>3523</th>\n      <td>2021-12-29</td>\n      <td>WMT</td>\n      <td>142.660004</td>\n      <td>143.529999</td>\n      <td>142.320007</td>\n      <td>141.031067</td>\n      <td>4348400.0</td>\n      <td>2.0</td>\n      <td>-0.334936</td>\n      <td>144.311963</td>\n      <td>132.569095</td>\n      <td>50.433054</td>\n      <td>43.243050</td>\n      <td>3.068503</td>\n      <td>139.405883</td>\n      <td>141.299569</td>\n      <td>16.950001</td>\n      <td>6.343448</td>\n    </tr>\n    <tr>\n      <th>3524</th>\n      <td>2021-12-30</td>\n      <td>AAPL</td>\n      <td>179.470001</td>\n      <td>180.570007</td>\n      <td>178.089996</td>\n      <td>177.465637</td>\n      <td>59773000.0</td>\n      <td>3.0</td>\n      <td>4.923006</td>\n      <td>183.794603</td>\n      <td>162.355005</td>\n      <td>62.864031</td>\n      <td>91.899686</td>\n      <td>48.097640</td>\n      <td>168.609616</td>\n      <td>157.833292</td>\n      <td>17.330000</td>\n      <td>7.314622</td>\n    </tr>\n    <tr>\n      <th>3524</th>\n      <td>2021-12-30</td>\n      <td>AMGN</td>\n      <td>227.600006</td>\n      <td>229.550003</td>\n      <td>226.139999</td>\n      <td>221.047943</td>\n      <td>1507400.0</td>\n      <td>3.0</td>\n      <td>4.884209</td>\n      <td>227.233563</td>\n      <td>196.513394</td>\n      <td>60.964424</td>\n      <td>126.781034</td>\n      <td>51.332649</td>\n      <td>207.340825</td>\n      <td>204.917308</td>\n      <td>17.330000</td>\n      <td>7.314622</td>\n    </tr>\n    <tr>\n      <th>3524</th>\n      <td>2021-12-30</td>\n      <td>AXP</td>\n      <td>164.619995</td>\n      <td>165.800003</td>\n      <td>164.000000</td>\n      <td>162.676743</td>\n      <td>1632900.0</td>\n      <td>3.0</td>\n      <td>-1.246853</td>\n      <td>168.625737</td>\n      <td>154.029329</td>\n      <td>47.859245</td>\n      <td>8.324961</td>\n      <td>3.222567</td>\n      <td>162.377129</td>\n      <td>168.930706</td>\n      <td>17.330000</td>\n      <td>7.314622</td>\n    </tr>\n    <tr>\n      <th>3524</th>\n      <td>2021-12-30</td>\n      <td>BA</td>\n      <td>203.000000</td>\n      <td>206.000000</td>\n      <td>202.600006</td>\n      <td>202.710007</td>\n      <td>7012600.0</td>\n      <td>3.0</td>\n      <td>-1.718755</td>\n      <td>213.277832</td>\n      <td>188.778169</td>\n      <td>47.158624</td>\n      <td>3.511795</td>\n      <td>7.085330</td>\n      <td>203.398001</td>\n      <td>210.768334</td>\n      <td>17.330000</td>\n      <td>7.314622</td>\n    </tr>\n    <tr>\n      <th>3524</th>\n      <td>2021-12-30</td>\n      <td>CAT</td>\n      <td>207.330002</td>\n      <td>208.910004</td>\n      <td>205.929993</td>\n      <td>202.694290</td>\n      <td>1465900.0</td>\n      <td>3.0</td>\n      <td>1.112239</td>\n      <td>206.227476</td>\n      <td>192.477738</td>\n      <td>52.411439</td>\n      <td>109.274668</td>\n      <td>11.636225</td>\n      <td>198.443295</td>\n      <td>198.144556</td>\n      <td>17.330000</td>\n      <td>7.314622</td>\n    </tr>\n    <tr>\n      <th>3524</th>\n      <td>2021-12-30</td>\n      <td>CRM</td>\n      <td>255.300003</td>\n      <td>257.899994</td>\n      <td>254.460007</td>\n      <td>255.330002</td>\n      <td>2950600.0</td>\n      <td>3.0</td>\n      <td>-7.545217</td>\n      <td>269.241224</td>\n      <td>246.626777</td>\n      <td>42.847419</td>\n      <td>-55.358854</td>\n      <td>15.164891</td>\n      <td>268.856667</td>\n      <td>281.851000</td>\n      <td>17.330000</td>\n      <td>7.314622</td>\n    </tr>\n    <tr>\n      <th>3524</th>\n      <td>2021-12-30</td>\n      <td>CSCO</td>\n      <td>64.040001</td>\n      <td>64.139999</td>\n      <td>63.470001</td>\n      <td>62.256790</td>\n      <td>9076700.0</td>\n      <td>3.0</td>\n      <td>1.856673</td>\n      <td>63.661144</td>\n      <td>53.576748</td>\n      <td>65.417780</td>\n      <td>138.574386</td>\n      <td>42.446836</td>\n      <td>56.999571</td>\n      <td>55.926893</td>\n      <td>17.330000</td>\n      <td>7.314622</td>\n    </tr>\n    <tr>\n      <th>3524</th>\n      <td>2021-12-30</td>\n      <td>CVX</td>\n      <td>118.129997</td>\n      <td>118.690002</td>\n      <td>117.339996</td>\n      <td>114.223816</td>\n      <td>6016000.0</td>\n      <td>3.0</td>\n      <td>0.959374</td>\n      <td>116.509545</td>\n      <td>110.215453</td>\n      <td>57.128341</td>\n      <td>85.762039</td>\n      <td>5.020043</td>\n      <td>112.651297</td>\n      <td>110.224803</td>\n      <td>17.330000</td>\n      <td>7.314622</td>\n    </tr>\n    <tr>\n      <th>3524</th>\n      <td>2021-12-30</td>\n      <td>DIS</td>\n      <td>155.710007</td>\n      <td>157.070007</td>\n      <td>155.509995</td>\n      <td>155.929993</td>\n      <td>7228400.0</td>\n      <td>3.0</td>\n      <td>-0.641641</td>\n      <td>156.804079</td>\n      <td>145.481919</td>\n      <td>47.031677</td>\n      <td>123.947860</td>\n      <td>9.960553</td>\n      <td>150.975666</td>\n      <td>160.951667</td>\n      <td>17.330000</td>\n      <td>7.314622</td>\n    </tr>\n    <tr>\n      <th>3524</th>\n      <td>2021-12-30</td>\n      <td>GS</td>\n      <td>387.750000</td>\n      <td>389.779999</td>\n      <td>385.200012</td>\n      <td>378.073578</td>\n      <td>1160100.0</td>\n      <td>3.0</td>\n      <td>-2.340110</td>\n      <td>393.415313</td>\n      <td>366.984056</td>\n      <td>47.980526</td>\n      <td>-22.639804</td>\n      <td>8.295442</td>\n      <td>380.526415</td>\n      <td>387.899765</td>\n      <td>17.330000</td>\n      <td>7.314622</td>\n    </tr>\n    <tr>\n      <th>3524</th>\n      <td>2021-12-30</td>\n      <td>HD</td>\n      <td>411.850006</td>\n      <td>413.440002</td>\n      <td>408.399994</td>\n      <td>402.298767</td>\n      <td>1804400.0</td>\n      <td>3.0</td>\n      <td>3.718161</td>\n      <td>414.141479</td>\n      <td>379.963340</td>\n      <td>61.302322</td>\n      <td>67.320917</td>\n      <td>20.899620</td>\n      <td>396.667768</td>\n      <td>374.616504</td>\n      <td>17.330000</td>\n      <td>7.314622</td>\n    </tr>\n    <tr>\n      <th>3524</th>\n      <td>2021-12-30</td>\n      <td>HON</td>\n      <td>208.100006</td>\n      <td>208.899994</td>\n      <td>206.910004</td>\n      <td>203.906387</td>\n      <td>1273100.0</td>\n      <td>3.0</td>\n      <td>-1.771702</td>\n      <td>208.197829</td>\n      <td>197.282589</td>\n      <td>45.465601</td>\n      <td>-8.238853</td>\n      <td>17.819683</td>\n      <td>204.850555</td>\n      <td>210.540891</td>\n      <td>17.330000</td>\n      <td>7.314622</td>\n    </tr>\n    <tr>\n      <th>3524</th>\n      <td>2021-12-30</td>\n      <td>IBM</td>\n      <td>133.750000</td>\n      <td>134.369995</td>\n      <td>133.330002</td>\n      <td>129.103745</td>\n      <td>3158100.0</td>\n      <td>3.0</td>\n      <td>3.167800</td>\n      <td>131.037946</td>\n      <td>111.783321</td>\n      <td>63.773266</td>\n      <td>152.952023</td>\n      <td>49.094802</td>\n      <td>118.511399</td>\n      <td>119.568845</td>\n      <td>17.330000</td>\n      <td>7.314622</td>\n    </tr>\n    <tr>\n      <th>3524</th>\n      <td>2021-12-30</td>\n      <td>INTC</td>\n      <td>51.919998</td>\n      <td>52.139999</td>\n      <td>51.650002</td>\n      <td>50.436947</td>\n      <td>18359400.0</td>\n      <td>3.0</td>\n      <td>0.340706</td>\n      <td>51.355951</td>\n      <td>47.770096</td>\n      <td>51.864763</td>\n      <td>111.835725</td>\n      <td>19.265569</td>\n      <td>49.116720</td>\n      <td>49.580964</td>\n      <td>17.330000</td>\n      <td>7.314622</td>\n    </tr>\n    <tr>\n      <th>3524</th>\n      <td>2021-12-30</td>\n      <td>JNJ</td>\n      <td>172.119995</td>\n      <td>172.880005</td>\n      <td>171.750000</td>\n      <td>168.982407</td>\n      <td>4231800.0</td>\n      <td>3.0</td>\n      <td>2.265151</td>\n      <td>172.219555</td>\n      <td>155.785381</td>\n      <td>59.895529</td>\n      <td>122.620904</td>\n      <td>35.273301</td>\n      <td>161.605033</td>\n      <td>160.054721</td>\n      <td>17.330000</td>\n      <td>7.314622</td>\n    </tr>\n    <tr>\n      <th>3524</th>\n      <td>2021-12-30</td>\n      <td>JPM</td>\n      <td>159.110001</td>\n      <td>160.240005</td>\n      <td>158.369995</td>\n      <td>155.005463</td>\n      <td>6948200.0</td>\n      <td>3.0</td>\n      <td>-1.399803</td>\n      <td>159.091810</td>\n      <td>151.272204</td>\n      <td>46.863493</td>\n      <td>-34.454167</td>\n      <td>0.338797</td>\n      <td>156.528651</td>\n      <td>160.554086</td>\n      <td>17.330000</td>\n      <td>7.314622</td>\n    </tr>\n    <tr>\n      <th>3524</th>\n      <td>2021-12-30</td>\n      <td>KO</td>\n      <td>59.060001</td>\n      <td>59.230000</td>\n      <td>58.759998</td>\n      <td>57.915035</td>\n      <td>7703900.0</td>\n      <td>3.0</td>\n      <td>1.005796</td>\n      <td>59.844796</td>\n      <td>52.461897</td>\n      <td>61.424908</td>\n      <td>105.220712</td>\n      <td>34.976608</td>\n      <td>55.265680</td>\n      <td>54.672514</td>\n      <td>17.330000</td>\n      <td>7.314622</td>\n    </tr>\n    <tr>\n      <th>3524</th>\n      <td>2021-12-30</td>\n      <td>MCD</td>\n      <td>269.000000</td>\n      <td>269.260010</td>\n      <td>266.700012</td>\n      <td>262.828461</td>\n      <td>1714600.0</td>\n      <td>3.0</td>\n      <td>4.199811</td>\n      <td>268.945465</td>\n      <td>247.143970</td>\n      <td>62.576216</td>\n      <td>94.886374</td>\n      <td>28.722315</td>\n      <td>254.071692</td>\n      <td>247.666599</td>\n      <td>17.330000</td>\n      <td>7.314622</td>\n    </tr>\n    <tr>\n      <th>3524</th>\n      <td>2021-12-30</td>\n      <td>MMM</td>\n      <td>178.869995</td>\n      <td>179.179993</td>\n      <td>177.580002</td>\n      <td>172.409714</td>\n      <td>1067300.0</td>\n      <td>3.0</td>\n      <td>-0.076718</td>\n      <td>174.545487</td>\n      <td>165.865668</td>\n      <td>49.461100</td>\n      <td>61.934078</td>\n      <td>6.777908</td>\n      <td>170.705091</td>\n      <td>172.272548</td>\n      <td>17.330000</td>\n      <td>7.314622</td>\n    </tr>\n    <tr>\n      <th>3524</th>\n      <td>2021-12-30</td>\n      <td>MRK</td>\n      <td>77.120003</td>\n      <td>77.610001</td>\n      <td>76.970001</td>\n      <td>75.839195</td>\n      <td>5859100.0</td>\n      <td>3.0</td>\n      <td>-0.262742</td>\n      <td>77.137846</td>\n      <td>69.493299</td>\n      <td>49.963255</td>\n      <td>24.538567</td>\n      <td>9.066208</td>\n      <td>74.733057</td>\n      <td>77.643038</td>\n      <td>17.330000</td>\n      <td>7.314622</td>\n    </tr>\n    <tr>\n      <th>3524</th>\n      <td>2021-12-30</td>\n      <td>MSFT</td>\n      <td>341.910004</td>\n      <td>343.130005</td>\n      <td>338.820007</td>\n      <td>337.117432</td>\n      <td>15994500.0</td>\n      <td>3.0</td>\n      <td>2.474491</td>\n      <td>344.702504</td>\n      <td>316.514381</td>\n      <td>56.610917</td>\n      <td>79.693573</td>\n      <td>17.764937</td>\n      <td>331.874004</td>\n      <td>323.465859</td>\n      <td>17.330000</td>\n      <td>7.314622</td>\n    </tr>\n    <tr>\n      <th>3524</th>\n      <td>2021-12-30</td>\n      <td>NKE</td>\n      <td>168.309998</td>\n      <td>170.119995</td>\n      <td>167.199997</td>\n      <td>166.218262</td>\n      <td>2666800.0</td>\n      <td>3.0</td>\n      <td>-0.287325</td>\n      <td>172.192791</td>\n      <td>158.552139</td>\n      <td>51.809346</td>\n      <td>-1.110727</td>\n      <td>15.409472</td>\n      <td>166.721285</td>\n      <td>164.294166</td>\n      <td>17.330000</td>\n      <td>7.314622</td>\n    </tr>\n    <tr>\n      <th>3524</th>\n      <td>2021-12-30</td>\n      <td>PG</td>\n      <td>164.399994</td>\n      <td>164.589996</td>\n      <td>162.610001</td>\n      <td>159.954254</td>\n      <td>5911500.0</td>\n      <td>3.0</td>\n      <td>3.790645</td>\n      <td>163.597132</td>\n      <td>145.207826</td>\n      <td>67.668350</td>\n      <td>118.945783</td>\n      <td>57.435959</td>\n      <td>151.231793</td>\n      <td>145.949927</td>\n      <td>17.330000</td>\n      <td>7.314622</td>\n    </tr>\n    <tr>\n      <th>3524</th>\n      <td>2021-12-30</td>\n      <td>TRV</td>\n      <td>157.860001</td>\n      <td>158.419998</td>\n      <td>156.710007</td>\n      <td>155.166397</td>\n      <td>420400.0</td>\n      <td>3.0</td>\n      <td>0.626612</td>\n      <td>159.630637</td>\n      <td>146.690666</td>\n      <td>51.591454</td>\n      <td>66.518443</td>\n      <td>0.948162</td>\n      <td>152.597422</td>\n      <td>154.133733</td>\n      <td>17.330000</td>\n      <td>7.314622</td>\n    </tr>\n    <tr>\n      <th>3524</th>\n      <td>2021-12-30</td>\n      <td>UNH</td>\n      <td>507.929993</td>\n      <td>509.230011</td>\n      <td>503.649994</td>\n      <td>501.154449</td>\n      <td>1309800.0</td>\n      <td>3.0</td>\n      <td>13.594181</td>\n      <td>514.339963</td>\n      <td>443.797689</td>\n      <td>68.152057</td>\n      <td>119.873795</td>\n      <td>47.180930</td>\n      <td>466.393046</td>\n      <td>450.997802</td>\n      <td>17.330000</td>\n      <td>7.314622</td>\n    </tr>\n    <tr>\n      <th>3524</th>\n      <td>2021-12-30</td>\n      <td>VZ</td>\n      <td>52.380001</td>\n      <td>52.570000</td>\n      <td>52.080002</td>\n      <td>50.373138</td>\n      <td>15615500.0</td>\n      <td>3.0</td>\n      <td>0.268798</td>\n      <td>51.989658</td>\n      <td>47.655641</td>\n      <td>50.091008</td>\n      <td>62.239333</td>\n      <td>2.129279</td>\n      <td>49.677717</td>\n      <td>50.183216</td>\n      <td>17.330000</td>\n      <td>7.314622</td>\n    </tr>\n    <tr>\n      <th>3524</th>\n      <td>2021-12-30</td>\n      <td>WBA</td>\n      <td>52.360001</td>\n      <td>52.919998</td>\n      <td>51.939999</td>\n      <td>50.275887</td>\n      <td>3653600.0</td>\n      <td>3.0</td>\n      <td>1.018954</td>\n      <td>51.124660</td>\n      <td>44.336663</td>\n      <td>60.253164</td>\n      <td>156.937210</td>\n      <td>41.478245</td>\n      <td>46.791353</td>\n      <td>46.642667</td>\n      <td>17.330000</td>\n      <td>7.314622</td>\n    </tr>\n    <tr>\n      <th>3524</th>\n      <td>2021-12-30</td>\n      <td>WMT</td>\n      <td>143.259995</td>\n      <td>143.699997</td>\n      <td>142.479996</td>\n      <td>141.485657</td>\n      <td>4983000.0</td>\n      <td>3.0</td>\n      <td>-0.153435</td>\n      <td>144.550486</td>\n      <td>132.980825</td>\n      <td>51.028351</td>\n      <td>51.442951</td>\n      <td>4.010760</td>\n      <td>139.424796</td>\n      <td>141.416475</td>\n      <td>17.330000</td>\n      <td>7.314622</td>\n    </tr>\n  </tbody>\n</table>\n</div>"
     },
     "execution_count": 58,
     "metadata": {},
     "output_type": "execute_result"
    }
   ],
   "source": [
    "train.tail(40)"
   ]
  },
  {
   "cell_type": "code",
   "execution_count": 59,
   "metadata": {
    "colab": {
     "base_uri": "https://localhost:8080/",
     "height": 357
    },
    "id": "k9zU9YaTTvFq",
    "outputId": "72213585-39a3-4bff-c031-874ec0ca06f9",
    "pycharm": {
     "name": "#%%\n"
    }
   },
   "outputs": [
    {
     "data": {
      "text/plain": "         date   tic        open        high         low       close  \\\n0  2022-01-03  AAPL  177.830002  182.880005  177.710007  181.259933   \n0  2022-01-03  AMGN  223.630005  226.970001  222.029999  221.262680   \n0  2022-01-03   AXP  164.509995  168.399994  164.399994  166.690140   \n0  2022-01-03    BA  204.000000  210.550003  203.339996  207.860001   \n0  2022-01-03   CAT  207.330002  208.600006  205.800003  203.599182   \n\n        volume  day      macd     boll_ub     boll_lb     rsi_30      cci_30  \\\n0  104487900.0  0.0  4.808605  183.080385  166.453220  64.844827  102.707255   \n0    2742800.0  0.0  4.729835  226.474642  201.962276  60.592155   90.863766   \n0    3236400.0  0.0 -0.654658  168.474023  156.073788  50.972520   59.472744   \n0    9060200.0  0.0 -0.982440  213.990814  188.896187  49.747896   65.232126   \n0    2055600.0  0.0  1.337452  206.519498  194.069257  53.031053   98.501540   \n\n       dx_30  close_30_sma  close_60_sma   vix  turbulence  \n0  50.480448    170.210325    159.073256  16.6   39.438443  \n0  30.885704    208.701451    205.503746  16.6   39.438443  \n0   4.683067    161.584028    168.675533  16.6   39.438443  \n0  14.369636    201.908335    210.063501  16.6   39.438443  \n0  13.202355    198.749514    198.607793  16.6   39.438443  ",
      "text/html": "<div>\n<style scoped>\n    .dataframe tbody tr th:only-of-type {\n        vertical-align: middle;\n    }\n\n    .dataframe tbody tr th {\n        vertical-align: top;\n    }\n\n    .dataframe thead th {\n        text-align: right;\n    }\n</style>\n<table border=\"1\" class=\"dataframe\">\n  <thead>\n    <tr style=\"text-align: right;\">\n      <th></th>\n      <th>date</th>\n      <th>tic</th>\n      <th>open</th>\n      <th>high</th>\n      <th>low</th>\n      <th>close</th>\n      <th>volume</th>\n      <th>day</th>\n      <th>macd</th>\n      <th>boll_ub</th>\n      <th>boll_lb</th>\n      <th>rsi_30</th>\n      <th>cci_30</th>\n      <th>dx_30</th>\n      <th>close_30_sma</th>\n      <th>close_60_sma</th>\n      <th>vix</th>\n      <th>turbulence</th>\n    </tr>\n  </thead>\n  <tbody>\n    <tr>\n      <th>0</th>\n      <td>2022-01-03</td>\n      <td>AAPL</td>\n      <td>177.830002</td>\n      <td>182.880005</td>\n      <td>177.710007</td>\n      <td>181.259933</td>\n      <td>104487900.0</td>\n      <td>0.0</td>\n      <td>4.808605</td>\n      <td>183.080385</td>\n      <td>166.453220</td>\n      <td>64.844827</td>\n      <td>102.707255</td>\n      <td>50.480448</td>\n      <td>170.210325</td>\n      <td>159.073256</td>\n      <td>16.6</td>\n      <td>39.438443</td>\n    </tr>\n    <tr>\n      <th>0</th>\n      <td>2022-01-03</td>\n      <td>AMGN</td>\n      <td>223.630005</td>\n      <td>226.970001</td>\n      <td>222.029999</td>\n      <td>221.262680</td>\n      <td>2742800.0</td>\n      <td>0.0</td>\n      <td>4.729835</td>\n      <td>226.474642</td>\n      <td>201.962276</td>\n      <td>60.592155</td>\n      <td>90.863766</td>\n      <td>30.885704</td>\n      <td>208.701451</td>\n      <td>205.503746</td>\n      <td>16.6</td>\n      <td>39.438443</td>\n    </tr>\n    <tr>\n      <th>0</th>\n      <td>2022-01-03</td>\n      <td>AXP</td>\n      <td>164.509995</td>\n      <td>168.399994</td>\n      <td>164.399994</td>\n      <td>166.690140</td>\n      <td>3236400.0</td>\n      <td>0.0</td>\n      <td>-0.654658</td>\n      <td>168.474023</td>\n      <td>156.073788</td>\n      <td>50.972520</td>\n      <td>59.472744</td>\n      <td>4.683067</td>\n      <td>161.584028</td>\n      <td>168.675533</td>\n      <td>16.6</td>\n      <td>39.438443</td>\n    </tr>\n    <tr>\n      <th>0</th>\n      <td>2022-01-03</td>\n      <td>BA</td>\n      <td>204.000000</td>\n      <td>210.550003</td>\n      <td>203.339996</td>\n      <td>207.860001</td>\n      <td>9060200.0</td>\n      <td>0.0</td>\n      <td>-0.982440</td>\n      <td>213.990814</td>\n      <td>188.896187</td>\n      <td>49.747896</td>\n      <td>65.232126</td>\n      <td>14.369636</td>\n      <td>201.908335</td>\n      <td>210.063501</td>\n      <td>16.6</td>\n      <td>39.438443</td>\n    </tr>\n    <tr>\n      <th>0</th>\n      <td>2022-01-03</td>\n      <td>CAT</td>\n      <td>207.330002</td>\n      <td>208.600006</td>\n      <td>205.800003</td>\n      <td>203.599182</td>\n      <td>2055600.0</td>\n      <td>0.0</td>\n      <td>1.337452</td>\n      <td>206.519498</td>\n      <td>194.069257</td>\n      <td>53.031053</td>\n      <td>98.501540</td>\n      <td>13.202355</td>\n      <td>198.749514</td>\n      <td>198.607793</td>\n      <td>16.6</td>\n      <td>39.438443</td>\n    </tr>\n  </tbody>\n</table>\n</div>"
     },
     "execution_count": 59,
     "metadata": {},
     "output_type": "execute_result"
    }
   ],
   "source": [
    "trade.head()"
   ]
  },
  {
   "cell_type": "code",
   "execution_count": 60,
   "metadata": {
    "colab": {
     "base_uri": "https://localhost:8080/"
    },
    "id": "zYN573SOHhxG",
    "outputId": "7f228183-abe3-4477-f574-3c9b25c62cd8",
    "pycharm": {
     "name": "#%%\n"
    }
   },
   "outputs": [
    {
     "data": {
      "text/plain": "['macd',\n 'boll_ub',\n 'boll_lb',\n 'rsi_30',\n 'cci_30',\n 'dx_30',\n 'close_30_sma',\n 'close_60_sma']"
     },
     "execution_count": 60,
     "metadata": {},
     "output_type": "execute_result"
    }
   ],
   "source": [
    "config.INDICATORS"
   ]
  },
  {
   "cell_type": "code",
   "execution_count": 61,
   "metadata": {
    "colab": {
     "base_uri": "https://localhost:8080/"
    },
    "id": "Q2zqII8rMIqn",
    "outputId": "1f54d044-e2d3-4a34-c041-e913d686654e",
    "pycharm": {
     "name": "#%%\n"
    }
   },
   "outputs": [
    {
     "name": "stdout",
     "output_type": "stream",
     "text": [
      "Stock Dimension: 28, State Space: 281\n"
     ]
    }
   ],
   "source": [
    "stock_dimension = len(train.tic.unique())\n",
    "state_space = 1 + 2*stock_dimension + len(config.INDICATORS)*stock_dimension\n",
    "print(f\"Stock Dimension: {stock_dimension}, State Space: {state_space}\")\n"
   ]
  },
  {
   "cell_type": "code",
   "execution_count": 62,
   "metadata": {
    "id": "AWyp84Ltto19",
    "pycharm": {
     "name": "#%%\n"
    }
   },
   "outputs": [],
   "source": [
    "env_kwargs = {\n",
    "    \"hmax\": 100, \n",
    "    \"initial_amount\": 100_000, #and hold no shares at beginning.\n",
    "    #\"initial_list\": [1000000] + [0 for i in range(stock_dimension)],\n",
    "    # buy and sell cost for each stock\n",
    "    \"num_stock_shares\": [0] * stock_dimension,\n",
    "    \"buy_cost_pct\": [0.001] * stock_dimension,\n",
    "    \"sell_cost_pct\": [0.001] * stock_dimension,\n",
    "    \"state_space\": state_space, \n",
    "    \"stock_dim\": stock_dimension, \n",
    "    \"tech_indicator_list\": config.INDICATORS, \n",
    "    \"action_space\": stock_dimension, \n",
    "    \"reward_scaling\": 1e-4\n",
    "    \n",
    "}\n",
    "\n",
    "e_train_gym = StockTradingEnv(df = train, **env_kwargs)\n"
   ]
  },
  {
   "cell_type": "code",
   "execution_count": 63,
   "outputs": [
    {
     "data": {
      "text/plain": "(98700, 18)"
     },
     "execution_count": 63,
     "metadata": {},
     "output_type": "execute_result"
    }
   ],
   "source": [
    "train.shape"
   ],
   "metadata": {
    "collapsed": false,
    "pycharm": {
     "name": "#%%\n"
    }
   }
  },
  {
   "cell_type": "markdown",
   "metadata": {
    "id": "64EoqOrQjiVf",
    "pycharm": {
     "name": "#%% md\n"
    }
   },
   "source": [
    "## Environment for Training\n",
    "\n"
   ]
  },
  {
   "cell_type": "code",
   "execution_count": 64,
   "metadata": {
    "colab": {
     "base_uri": "https://localhost:8080/"
    },
    "id": "xwSvvPjutpqS",
    "outputId": "deeaef07-afda-4ca1-fea8-99384224c7cf",
    "pycharm": {
     "name": "#%%\n"
    }
   },
   "outputs": [
    {
     "name": "stdout",
     "output_type": "stream",
     "text": [
      "<class 'stable_baselines3.common.vec_env.dummy_vec_env.DummyVecEnv'>\n"
     ]
    }
   ],
   "source": [
    "env_train, _ = e_train_gym.get_sb_env()\n",
    "print(type(env_train))"
   ]
  },
  {
   "cell_type": "markdown",
   "metadata": {
    "id": "HMNR5nHjh1iz",
    "pycharm": {
     "name": "#%% md\n"
    }
   },
   "source": [
    "<a id='5'></a>\n",
    "# Part 6: Implement DRL Algorithms\n",
    "* The implementation of the DRL algorithms are based on **OpenAI Baselines** and **Stable Baselines**. Stable Baselines is a fork of OpenAI Baselines, with a major structural refactoring, and code cleanups.\n",
    "* FinRL library includes fine-tuned standard DRL algorithms, such as DQN, DDPG,\n",
    "Multi-Agent DDPG, PPO, SAC, A2C and TD3. We also allow users to\n",
    "design their own DRL algorithms by adapting these DRL algorithms."
   ]
  },
  {
   "cell_type": "code",
   "execution_count": 65,
   "metadata": {
    "id": "364PsqckttcQ",
    "pycharm": {
     "name": "#%%\n"
    }
   },
   "outputs": [],
   "source": [
    "agent = DRLAgent(env = env_train)"
   ]
  },
  {
   "cell_type": "markdown",
   "metadata": {
    "id": "YDmqOyF9h1iz",
    "pycharm": {
     "name": "#%% md\n"
    }
   },
   "source": [
    "### Model Training: 5 models, A2C DDPG, PPO, TD3, SAC\n"
   ]
  },
  {
   "cell_type": "code",
   "execution_count": 66,
   "outputs": [],
   "source": [
    "tensorboard_log_dir = \".\" + os.sep + config.TENSORBOARD_LOG_DIR + os.sep + \"{}\".format(time.strftime(\"%Y%m%d-%H%M\"))"
   ],
   "metadata": {
    "collapsed": false,
    "pycharm": {
     "name": "#%%\n"
    }
   }
  },
  {
   "cell_type": "markdown",
   "metadata": {
    "id": "uijiWgkuh1jB",
    "pycharm": {
     "name": "#%% md\n"
    }
   },
   "source": [
    "### Model 1: A2C\n"
   ]
  },
  {
   "cell_type": "code",
   "execution_count": 67,
   "metadata": {
    "colab": {
     "base_uri": "https://localhost:8080/"
    },
    "id": "GUCnkn-HIbmj",
    "outputId": "a90a7a60-21a5-47e1-b683-1f7cbb4b8bc0",
    "pycharm": {
     "name": "#%%\n"
    }
   },
   "outputs": [
    {
     "name": "stdout",
     "output_type": "stream",
     "text": [
      "{'n_steps': 5, 'ent_coef': 0.01, 'learning_rate': 0.0007}\n",
      "Using cuda device\n"
     ]
    }
   ],
   "source": [
    "agent = DRLAgent(env = env_train)\n",
    "model_a2c = agent.get_model(\"a2c\", verbose=1, tensorboard_log=tensorboard_log_dir)"
   ]
  },
  {
   "cell_type": "code",
   "execution_count": 68,
   "outputs": [
    {
     "name": "stdout",
     "output_type": "stream",
     "text": [
      "Logging to .\\tensorboard_log\\20220907-0759\\a2c_1\n",
      "---------------------------------------\n",
      "| time/                 |             |\n",
      "|    fps                | 81          |\n",
      "|    iterations         | 100         |\n",
      "|    time_elapsed       | 6           |\n",
      "|    total_timesteps    | 500         |\n",
      "| train/                |             |\n",
      "|    entropy_loss       | -39.9       |\n",
      "|    explained_variance | -12.2       |\n",
      "|    learning_rate      | 0.0007      |\n",
      "|    n_updates          | 99          |\n",
      "|    policy_loss        | 14.2        |\n",
      "|    reward             | 0.015655594 |\n",
      "|    std                | 1.01        |\n",
      "|    value_loss         | 0.145       |\n",
      "---------------------------------------\n",
      "---------------------------------------\n",
      "| time/                 |             |\n",
      "|    fps                | 70          |\n",
      "|    iterations         | 200         |\n",
      "|    time_elapsed       | 14          |\n",
      "|    total_timesteps    | 1000        |\n",
      "| train/                |             |\n",
      "|    entropy_loss       | -40.1       |\n",
      "|    explained_variance | 0.255       |\n",
      "|    learning_rate      | 0.0007      |\n",
      "|    n_updates          | 199         |\n",
      "|    policy_loss        | -1.22       |\n",
      "|    reward             | -0.23760965 |\n",
      "|    std                | 1.01        |\n",
      "|    value_loss         | 0.00241     |\n",
      "---------------------------------------\n",
      "----------------------------------------\n",
      "| time/                 |              |\n",
      "|    fps                | 72           |\n",
      "|    iterations         | 300          |\n",
      "|    time_elapsed       | 20           |\n",
      "|    total_timesteps    | 1500         |\n",
      "| train/                |              |\n",
      "|    entropy_loss       | -40.4        |\n",
      "|    explained_variance | 0.574        |\n",
      "|    learning_rate      | 0.0007       |\n",
      "|    n_updates          | 299          |\n",
      "|    policy_loss        | -2.29        |\n",
      "|    reward             | -0.018102197 |\n",
      "|    std                | 1.03         |\n",
      "|    value_loss         | 0.0232       |\n",
      "----------------------------------------\n",
      "---------------------------------------\n",
      "| time/                 |             |\n",
      "|    fps                | 73          |\n",
      "|    iterations         | 400         |\n",
      "|    time_elapsed       | 27          |\n",
      "|    total_timesteps    | 2000        |\n",
      "| train/                |             |\n",
      "|    entropy_loss       | -40.6       |\n",
      "|    explained_variance | -0.019      |\n",
      "|    learning_rate      | 0.0007      |\n",
      "|    n_updates          | 399         |\n",
      "|    policy_loss        | -15.2       |\n",
      "|    reward             | 0.015421408 |\n",
      "|    std                | 1.03        |\n",
      "|    value_loss         | 0.156       |\n",
      "---------------------------------------\n",
      "---------------------------------------\n",
      "| time/                 |             |\n",
      "|    fps                | 75          |\n",
      "|    iterations         | 500         |\n",
      "|    time_elapsed       | 33          |\n",
      "|    total_timesteps    | 2500        |\n",
      "| train/                |             |\n",
      "|    entropy_loss       | -40.8       |\n",
      "|    explained_variance | 5.96e-08    |\n",
      "|    learning_rate      | 0.0007      |\n",
      "|    n_updates          | 499         |\n",
      "|    policy_loss        | 15.2        |\n",
      "|    reward             | -0.32309508 |\n",
      "|    std                | 1.04        |\n",
      "|    value_loss         | 0.169       |\n",
      "---------------------------------------\n",
      "---------------------------------------\n",
      "| time/                 |             |\n",
      "|    fps                | 76          |\n",
      "|    iterations         | 600         |\n",
      "|    time_elapsed       | 39          |\n",
      "|    total_timesteps    | 3000        |\n",
      "| train/                |             |\n",
      "|    entropy_loss       | -41         |\n",
      "|    explained_variance | 0.192       |\n",
      "|    learning_rate      | 0.0007      |\n",
      "|    n_updates          | 599         |\n",
      "|    policy_loss        | -9.05       |\n",
      "|    reward             | -0.10408114 |\n",
      "|    std                | 1.05        |\n",
      "|    value_loss         | 0.0698      |\n",
      "---------------------------------------\n",
      "---------------------------------------\n",
      "| time/                 |             |\n",
      "|    fps                | 76          |\n",
      "|    iterations         | 700         |\n",
      "|    time_elapsed       | 45          |\n",
      "|    total_timesteps    | 3500        |\n",
      "| train/                |             |\n",
      "|    entropy_loss       | -41.1       |\n",
      "|    explained_variance | 0.00188     |\n",
      "|    learning_rate      | 0.0007      |\n",
      "|    n_updates          | 699         |\n",
      "|    policy_loss        | -9.27       |\n",
      "|    reward             | -0.25436795 |\n",
      "|    std                | 1.05        |\n",
      "|    value_loss         | 0.061       |\n",
      "---------------------------------------\n",
      "----------------------------------------\n",
      "| time/                 |              |\n",
      "|    fps                | 77           |\n",
      "|    iterations         | 800          |\n",
      "|    time_elapsed       | 51           |\n",
      "|    total_timesteps    | 4000         |\n",
      "| train/                |              |\n",
      "|    entropy_loss       | -41.4        |\n",
      "|    explained_variance | -0.532       |\n",
      "|    learning_rate      | 0.0007       |\n",
      "|    n_updates          | 799          |\n",
      "|    policy_loss        | 0.188        |\n",
      "|    reward             | -0.010438796 |\n",
      "|    std                | 1.06         |\n",
      "|    value_loss         | 0.00248      |\n",
      "----------------------------------------\n",
      "---------------------------------------\n",
      "| time/                 |             |\n",
      "|    fps                | 77          |\n",
      "|    iterations         | 900         |\n",
      "|    time_elapsed       | 58          |\n",
      "|    total_timesteps    | 4500        |\n",
      "| train/                |             |\n",
      "|    entropy_loss       | -41.7       |\n",
      "|    explained_variance | 0.541       |\n",
      "|    learning_rate      | 0.0007      |\n",
      "|    n_updates          | 899         |\n",
      "|    policy_loss        | 1.35        |\n",
      "|    reward             | 0.019624617 |\n",
      "|    std                | 1.07        |\n",
      "|    value_loss         | 0.0026      |\n",
      "---------------------------------------\n",
      "--------------------------------------\n",
      "| time/                 |            |\n",
      "|    fps                | 77         |\n",
      "|    iterations         | 1000       |\n",
      "|    time_elapsed       | 64         |\n",
      "|    total_timesteps    | 5000       |\n",
      "| train/                |            |\n",
      "|    entropy_loss       | -42        |\n",
      "|    explained_variance | 0          |\n",
      "|    learning_rate      | 0.0007     |\n",
      "|    n_updates          | 999        |\n",
      "|    policy_loss        | -1.19      |\n",
      "|    reward             | 0.10433316 |\n",
      "|    std                | 1.09       |\n",
      "|    value_loss         | 0.00193    |\n",
      "--------------------------------------\n",
      "---------------------------------------\n",
      "| time/                 |             |\n",
      "|    fps                | 77          |\n",
      "|    iterations         | 1100        |\n",
      "|    time_elapsed       | 70          |\n",
      "|    total_timesteps    | 5500        |\n",
      "| train/                |             |\n",
      "|    entropy_loss       | -42.4       |\n",
      "|    explained_variance | 0.504       |\n",
      "|    learning_rate      | 0.0007      |\n",
      "|    n_updates          | 1099        |\n",
      "|    policy_loss        | 17.9        |\n",
      "|    reward             | 0.030852307 |\n",
      "|    std                | 1.1         |\n",
      "|    value_loss         | 0.177       |\n",
      "---------------------------------------\n",
      "---------------------------------------\n",
      "| time/                 |             |\n",
      "|    fps                | 78          |\n",
      "|    iterations         | 1200        |\n",
      "|    time_elapsed       | 76          |\n",
      "|    total_timesteps    | 6000        |\n",
      "| train/                |             |\n",
      "|    entropy_loss       | -42.8       |\n",
      "|    explained_variance | -0.333      |\n",
      "|    learning_rate      | 0.0007      |\n",
      "|    n_updates          | 1199        |\n",
      "|    policy_loss        | -3.92       |\n",
      "|    reward             | -0.22888067 |\n",
      "|    std                | 1.12        |\n",
      "|    value_loss         | 0.00933     |\n",
      "---------------------------------------\n",
      "---------------------------------------\n",
      "| time/                 |             |\n",
      "|    fps                | 78          |\n",
      "|    iterations         | 1300        |\n",
      "|    time_elapsed       | 83          |\n",
      "|    total_timesteps    | 6500        |\n",
      "| train/                |             |\n",
      "|    entropy_loss       | -43         |\n",
      "|    explained_variance | -4.3        |\n",
      "|    learning_rate      | 0.0007      |\n",
      "|    n_updates          | 1299        |\n",
      "|    policy_loss        | -4.07       |\n",
      "|    reward             | 0.013632474 |\n",
      "|    std                | 1.12        |\n",
      "|    value_loss         | 0.0349      |\n",
      "---------------------------------------\n",
      "--------------------------------------\n",
      "| time/                 |            |\n",
      "|    fps                | 78         |\n",
      "|    iterations         | 1400       |\n",
      "|    time_elapsed       | 89         |\n",
      "|    total_timesteps    | 7000       |\n",
      "| train/                |            |\n",
      "|    entropy_loss       | -43.2      |\n",
      "|    explained_variance | -8.7e-06   |\n",
      "|    learning_rate      | 0.0007     |\n",
      "|    n_updates          | 1399       |\n",
      "|    policy_loss        | -15.4      |\n",
      "|    reward             | 0.32294616 |\n",
      "|    std                | 1.13       |\n",
      "|    value_loss         | 0.145      |\n",
      "--------------------------------------\n",
      "---------------------------------------\n",
      "| time/                 |             |\n",
      "|    fps                | 78          |\n",
      "|    iterations         | 1500        |\n",
      "|    time_elapsed       | 95          |\n",
      "|    total_timesteps    | 7500        |\n",
      "| train/                |             |\n",
      "|    entropy_loss       | -43.4       |\n",
      "|    explained_variance | -63.2       |\n",
      "|    learning_rate      | 0.0007      |\n",
      "|    n_updates          | 1499        |\n",
      "|    policy_loss        | 5.57        |\n",
      "|    reward             | 0.008934158 |\n",
      "|    std                | 1.14        |\n",
      "|    value_loss         | 0.0216      |\n",
      "---------------------------------------\n",
      "---------------------------------------\n",
      "| time/                 |             |\n",
      "|    fps                | 78          |\n",
      "|    iterations         | 1600        |\n",
      "|    time_elapsed       | 101         |\n",
      "|    total_timesteps    | 8000        |\n",
      "| train/                |             |\n",
      "|    entropy_loss       | -44.1       |\n",
      "|    explained_variance | -13         |\n",
      "|    learning_rate      | 0.0007      |\n",
      "|    n_updates          | 1599        |\n",
      "|    policy_loss        | 0.45        |\n",
      "|    reward             | 0.001582281 |\n",
      "|    std                | 1.17        |\n",
      "|    value_loss         | 0.00173     |\n",
      "---------------------------------------\n",
      "------------------------------------------\n",
      "| time/                 |                |\n",
      "|    fps                | 78             |\n",
      "|    iterations         | 1700           |\n",
      "|    time_elapsed       | 108            |\n",
      "|    total_timesteps    | 8500           |\n",
      "| train/                |                |\n",
      "|    entropy_loss       | -44.8          |\n",
      "|    explained_variance | 0              |\n",
      "|    learning_rate      | 0.0007         |\n",
      "|    n_updates          | 1699           |\n",
      "|    policy_loss        | 0.976          |\n",
      "|    reward             | 0.000121200275 |\n",
      "|    std                | 1.2            |\n",
      "|    value_loss         | 0.000483       |\n",
      "------------------------------------------\n",
      "---------------------------------------\n",
      "| time/                 |             |\n",
      "|    fps                | 78          |\n",
      "|    iterations         | 1800        |\n",
      "|    time_elapsed       | 114         |\n",
      "|    total_timesteps    | 9000        |\n",
      "| train/                |             |\n",
      "|    entropy_loss       | -45.8       |\n",
      "|    explained_variance | -0.264      |\n",
      "|    learning_rate      | 0.0007      |\n",
      "|    n_updates          | 1799        |\n",
      "|    policy_loss        | -1.46       |\n",
      "|    reward             | 0.018076483 |\n",
      "|    std                | 1.24        |\n",
      "|    value_loss         | 0.00197     |\n",
      "---------------------------------------\n",
      "----------------------------------------\n",
      "| time/                 |              |\n",
      "|    fps                | 78           |\n",
      "|    iterations         | 1900         |\n",
      "|    time_elapsed       | 120          |\n",
      "|    total_timesteps    | 9500         |\n",
      "| train/                |              |\n",
      "|    entropy_loss       | -46.9        |\n",
      "|    explained_variance | 0            |\n",
      "|    learning_rate      | 0.0007       |\n",
      "|    n_updates          | 1899         |\n",
      "|    policy_loss        | 0.61         |\n",
      "|    reward             | -0.004817984 |\n",
      "|    std                | 1.29         |\n",
      "|    value_loss         | 0.000286     |\n",
      "----------------------------------------\n",
      "----------------------------------------\n",
      "| time/                 |              |\n",
      "|    fps                | 78           |\n",
      "|    iterations         | 2000         |\n",
      "|    time_elapsed       | 126          |\n",
      "|    total_timesteps    | 10000        |\n",
      "| train/                |              |\n",
      "|    entropy_loss       | -47.9        |\n",
      "|    explained_variance | 0            |\n",
      "|    learning_rate      | 0.0007       |\n",
      "|    n_updates          | 1999         |\n",
      "|    policy_loss        | 0.386        |\n",
      "|    reward             | -0.008814437 |\n",
      "|    std                | 1.34         |\n",
      "|    value_loss         | 0.00025      |\n",
      "----------------------------------------\n",
      "---------------------------------------\n",
      "| time/                 |             |\n",
      "|    fps                | 78          |\n",
      "|    iterations         | 2100        |\n",
      "|    time_elapsed       | 133         |\n",
      "|    total_timesteps    | 10500       |\n",
      "| train/                |             |\n",
      "|    entropy_loss       | -48.7       |\n",
      "|    explained_variance | 0           |\n",
      "|    learning_rate      | 0.0007      |\n",
      "|    n_updates          | 2099        |\n",
      "|    policy_loss        | -0.946      |\n",
      "|    reward             | 0.024005897 |\n",
      "|    std                | 1.38        |\n",
      "|    value_loss         | 0.000422    |\n",
      "---------------------------------------\n",
      "---------------------------------------\n",
      "| time/                 |             |\n",
      "|    fps                | 78          |\n",
      "|    iterations         | 2200        |\n",
      "|    time_elapsed       | 139         |\n",
      "|    total_timesteps    | 11000       |\n",
      "| train/                |             |\n",
      "|    entropy_loss       | -49.2       |\n",
      "|    explained_variance | -0.475      |\n",
      "|    learning_rate      | 0.0007      |\n",
      "|    n_updates          | 2199        |\n",
      "|    policy_loss        | 2.16        |\n",
      "|    reward             | 0.016219305 |\n",
      "|    std                | 1.4         |\n",
      "|    value_loss         | 0.00583     |\n",
      "---------------------------------------\n",
      "----------------------------------------\n",
      "| time/                 |              |\n",
      "|    fps                | 78           |\n",
      "|    iterations         | 2300         |\n",
      "|    time_elapsed       | 145          |\n",
      "|    total_timesteps    | 11500        |\n",
      "| train/                |              |\n",
      "|    entropy_loss       | -49.8        |\n",
      "|    explained_variance | 0.448        |\n",
      "|    learning_rate      | 0.0007       |\n",
      "|    n_updates          | 2299         |\n",
      "|    policy_loss        | -0.817       |\n",
      "|    reward             | -0.019355249 |\n",
      "|    std                | 1.43         |\n",
      "|    value_loss         | 0.000798     |\n",
      "----------------------------------------\n",
      "---------------------------------------\n",
      "| time/                 |             |\n",
      "|    fps                | 78          |\n",
      "|    iterations         | 2400        |\n",
      "|    time_elapsed       | 152         |\n",
      "|    total_timesteps    | 12000       |\n",
      "| train/                |             |\n",
      "|    entropy_loss       | -50.4       |\n",
      "|    explained_variance | -0.607      |\n",
      "|    learning_rate      | 0.0007      |\n",
      "|    n_updates          | 2399        |\n",
      "|    policy_loss        | -0.778      |\n",
      "|    reward             | 0.004492154 |\n",
      "|    std                | 1.47        |\n",
      "|    value_loss         | 0.000482    |\n",
      "---------------------------------------\n",
      "----------------------------------------\n",
      "| time/                 |              |\n",
      "|    fps                | 78           |\n",
      "|    iterations         | 2500         |\n",
      "|    time_elapsed       | 158          |\n",
      "|    total_timesteps    | 12500        |\n",
      "| train/                |              |\n",
      "|    entropy_loss       | -51          |\n",
      "|    explained_variance | 0            |\n",
      "|    learning_rate      | 0.0007       |\n",
      "|    n_updates          | 2499         |\n",
      "|    policy_loss        | 1.81         |\n",
      "|    reward             | -0.070748426 |\n",
      "|    std                | 1.5          |\n",
      "|    value_loss         | 0.00288      |\n",
      "----------------------------------------\n",
      "----------------------------------------\n",
      "| time/                 |              |\n",
      "|    fps                | 78           |\n",
      "|    iterations         | 2600         |\n",
      "|    time_elapsed       | 164          |\n",
      "|    total_timesteps    | 13000        |\n",
      "| train/                |              |\n",
      "|    entropy_loss       | -51.5        |\n",
      "|    explained_variance | 0.12         |\n",
      "|    learning_rate      | 0.0007       |\n",
      "|    n_updates          | 2599         |\n",
      "|    policy_loss        | -1.68        |\n",
      "|    reward             | -0.026692381 |\n",
      "|    std                | 1.52         |\n",
      "|    value_loss         | 0.00417      |\n",
      "----------------------------------------\n",
      "---------------------------------------\n",
      "| time/                 |             |\n",
      "|    fps                | 78          |\n",
      "|    iterations         | 2700        |\n",
      "|    time_elapsed       | 171         |\n",
      "|    total_timesteps    | 13500       |\n",
      "| train/                |             |\n",
      "|    entropy_loss       | -51.8       |\n",
      "|    explained_variance | 0.036       |\n",
      "|    learning_rate      | 0.0007      |\n",
      "|    n_updates          | 2699        |\n",
      "|    policy_loss        | 0.676       |\n",
      "|    reward             | -0.02565529 |\n",
      "|    std                | 1.54        |\n",
      "|    value_loss         | 0.0335      |\n",
      "---------------------------------------\n",
      "--------------------------------------\n",
      "| time/                 |            |\n",
      "|    fps                | 78         |\n",
      "|    iterations         | 2800       |\n",
      "|    time_elapsed       | 177        |\n",
      "|    total_timesteps    | 14000      |\n",
      "| train/                |            |\n",
      "|    entropy_loss       | -52        |\n",
      "|    explained_variance | 4.41e-05   |\n",
      "|    learning_rate      | 0.0007     |\n",
      "|    n_updates          | 2799       |\n",
      "|    policy_loss        | 3.15       |\n",
      "|    reward             | 0.01600971 |\n",
      "|    std                | 1.55       |\n",
      "|    value_loss         | 0.0179     |\n",
      "--------------------------------------\n",
      "---------------------------------------\n",
      "| time/                 |             |\n",
      "|    fps                | 78          |\n",
      "|    iterations         | 2900        |\n",
      "|    time_elapsed       | 183         |\n",
      "|    total_timesteps    | 14500       |\n",
      "| train/                |             |\n",
      "|    entropy_loss       | -52.5       |\n",
      "|    explained_variance | -5.39       |\n",
      "|    learning_rate      | 0.0007      |\n",
      "|    n_updates          | 2899        |\n",
      "|    policy_loss        | 3.09        |\n",
      "|    reward             | 0.004122665 |\n",
      "|    std                | 1.58        |\n",
      "|    value_loss         | 0.00567     |\n",
      "---------------------------------------\n",
      "-----------------------------------------\n",
      "| time/                 |               |\n",
      "|    fps                | 78            |\n",
      "|    iterations         | 3000          |\n",
      "|    time_elapsed       | 190           |\n",
      "|    total_timesteps    | 15000         |\n",
      "| train/                |               |\n",
      "|    entropy_loss       | -53.4         |\n",
      "|    explained_variance | 2.38e-07      |\n",
      "|    learning_rate      | 0.0007        |\n",
      "|    n_updates          | 2999          |\n",
      "|    policy_loss        | 1.53          |\n",
      "|    reward             | -0.0064770468 |\n",
      "|    std                | 1.63          |\n",
      "|    value_loss         | 0.00104       |\n",
      "-----------------------------------------\n",
      "--------------------------------------\n",
      "| time/                 |            |\n",
      "|    fps                | 78         |\n",
      "|    iterations         | 3100       |\n",
      "|    time_elapsed       | 196        |\n",
      "|    total_timesteps    | 15500      |\n",
      "| train/                |            |\n",
      "|    entropy_loss       | -54.3      |\n",
      "|    explained_variance | -0.788     |\n",
      "|    learning_rate      | 0.0007     |\n",
      "|    n_updates          | 3099       |\n",
      "|    policy_loss        | 1.63       |\n",
      "|    reward             | 0.04646469 |\n",
      "|    std                | 1.69       |\n",
      "|    value_loss         | 0.000861   |\n",
      "--------------------------------------\n",
      "----------------------------------------\n",
      "| time/                 |              |\n",
      "|    fps                | 78           |\n",
      "|    iterations         | 3200         |\n",
      "|    time_elapsed       | 202          |\n",
      "|    total_timesteps    | 16000        |\n",
      "| train/                |              |\n",
      "|    entropy_loss       | -55.1        |\n",
      "|    explained_variance | -0.0635      |\n",
      "|    learning_rate      | 0.0007       |\n",
      "|    n_updates          | 3199         |\n",
      "|    policy_loss        | 4.85         |\n",
      "|    reward             | -0.018452462 |\n",
      "|    std                | 1.73         |\n",
      "|    value_loss         | 0.00876      |\n",
      "----------------------------------------\n",
      "---------------------------------------\n",
      "| time/                 |             |\n",
      "|    fps                | 78          |\n",
      "|    iterations         | 3300        |\n",
      "|    time_elapsed       | 208         |\n",
      "|    total_timesteps    | 16500       |\n",
      "| train/                |             |\n",
      "|    entropy_loss       | -55.6       |\n",
      "|    explained_variance | -0.791      |\n",
      "|    learning_rate      | 0.0007      |\n",
      "|    n_updates          | 3299        |\n",
      "|    policy_loss        | 0.325       |\n",
      "|    reward             | 0.043223117 |\n",
      "|    std                | 1.77        |\n",
      "|    value_loss         | 0.000629    |\n",
      "---------------------------------------\n",
      "----------------------------------------\n",
      "| time/                 |              |\n",
      "|    fps                | 79           |\n",
      "|    iterations         | 3400         |\n",
      "|    time_elapsed       | 215          |\n",
      "|    total_timesteps    | 17000        |\n",
      "| train/                |              |\n",
      "|    entropy_loss       | -56.1        |\n",
      "|    explained_variance | -0.0132      |\n",
      "|    learning_rate      | 0.0007       |\n",
      "|    n_updates          | 3399         |\n",
      "|    policy_loss        | 5.19         |\n",
      "|    reward             | -0.059452847 |\n",
      "|    std                | 1.79         |\n",
      "|    value_loss         | 0.0113       |\n",
      "----------------------------------------\n",
      "----------------------------------------\n",
      "| time/                 |              |\n",
      "|    fps                | 79           |\n",
      "|    iterations         | 3500         |\n",
      "|    time_elapsed       | 221          |\n",
      "|    total_timesteps    | 17500        |\n",
      "| train/                |              |\n",
      "|    entropy_loss       | -56.4        |\n",
      "|    explained_variance | 0            |\n",
      "|    learning_rate      | 0.0007       |\n",
      "|    n_updates          | 3499         |\n",
      "|    policy_loss        | -2.39        |\n",
      "|    reward             | -0.042008042 |\n",
      "|    std                | 1.82         |\n",
      "|    value_loss         | 0.00273      |\n",
      "----------------------------------------\n",
      "---------------------------------------\n",
      "| time/                 |             |\n",
      "|    fps                | 79          |\n",
      "|    iterations         | 3600        |\n",
      "|    time_elapsed       | 227         |\n",
      "|    total_timesteps    | 18000       |\n",
      "| train/                |             |\n",
      "|    entropy_loss       | -57         |\n",
      "|    explained_variance | 0.601       |\n",
      "|    learning_rate      | 0.0007      |\n",
      "|    n_updates          | 3599        |\n",
      "|    policy_loss        | -2          |\n",
      "|    reward             | 0.011466575 |\n",
      "|    std                | 1.86        |\n",
      "|    value_loss         | 0.00154     |\n",
      "---------------------------------------\n",
      "----------------------------------------\n",
      "| time/                 |              |\n",
      "|    fps                | 79           |\n",
      "|    iterations         | 3700         |\n",
      "|    time_elapsed       | 233          |\n",
      "|    total_timesteps    | 18500        |\n",
      "| train/                |              |\n",
      "|    entropy_loss       | -57.7        |\n",
      "|    explained_variance | 0.435        |\n",
      "|    learning_rate      | 0.0007       |\n",
      "|    n_updates          | 3699         |\n",
      "|    policy_loss        | 0.499        |\n",
      "|    reward             | -0.034776185 |\n",
      "|    std                | 1.91         |\n",
      "|    value_loss         | 0.000305     |\n",
      "----------------------------------------\n",
      "----------------------------------------\n",
      "| time/                 |              |\n",
      "|    fps                | 79           |\n",
      "|    iterations         | 3800         |\n",
      "|    time_elapsed       | 240          |\n",
      "|    total_timesteps    | 19000        |\n",
      "| train/                |              |\n",
      "|    entropy_loss       | -58.5        |\n",
      "|    explained_variance | -3.06        |\n",
      "|    learning_rate      | 0.0007       |\n",
      "|    n_updates          | 3799         |\n",
      "|    policy_loss        | -1.39        |\n",
      "|    reward             | -0.046905655 |\n",
      "|    std                | 1.96         |\n",
      "|    value_loss         | 0.00292      |\n",
      "----------------------------------------\n",
      "----------------------------------------\n",
      "| time/                 |              |\n",
      "|    fps                | 79           |\n",
      "|    iterations         | 3900         |\n",
      "|    time_elapsed       | 246          |\n",
      "|    total_timesteps    | 19500        |\n",
      "| train/                |              |\n",
      "|    entropy_loss       | -59.1        |\n",
      "|    explained_variance | 0.659        |\n",
      "|    learning_rate      | 0.0007       |\n",
      "|    n_updates          | 3899         |\n",
      "|    policy_loss        | -4.79        |\n",
      "|    reward             | -0.030112164 |\n",
      "|    std                | 2            |\n",
      "|    value_loss         | 0.00712      |\n",
      "----------------------------------------\n",
      "---------------------------------------\n",
      "| time/                 |             |\n",
      "|    fps                | 79          |\n",
      "|    iterations         | 4000        |\n",
      "|    time_elapsed       | 252         |\n",
      "|    total_timesteps    | 20000       |\n",
      "| train/                |             |\n",
      "|    entropy_loss       | -59.8       |\n",
      "|    explained_variance | -0.0314     |\n",
      "|    learning_rate      | 0.0007      |\n",
      "|    n_updates          | 3999        |\n",
      "|    policy_loss        | 4.08        |\n",
      "|    reward             | 0.009970772 |\n",
      "|    std                | 2.05        |\n",
      "|    value_loss         | 0.0051      |\n",
      "---------------------------------------\n",
      "-----------------------------------------\n",
      "| time/                 |               |\n",
      "|    fps                | 79            |\n",
      "|    iterations         | 4100          |\n",
      "|    time_elapsed       | 258           |\n",
      "|    total_timesteps    | 20500         |\n",
      "| train/                |               |\n",
      "|    entropy_loss       | -60.2         |\n",
      "|    explained_variance | 0             |\n",
      "|    learning_rate      | 0.0007        |\n",
      "|    n_updates          | 4099          |\n",
      "|    policy_loss        | -6.39         |\n",
      "|    reward             | -0.0012921685 |\n",
      "|    std                | 2.08          |\n",
      "|    value_loss         | 0.0135        |\n",
      "-----------------------------------------\n",
      "---------------------------------------\n",
      "| time/                 |             |\n",
      "|    fps                | 79          |\n",
      "|    iterations         | 4200        |\n",
      "|    time_elapsed       | 264         |\n",
      "|    total_timesteps    | 21000       |\n",
      "| train/                |             |\n",
      "|    entropy_loss       | -60.7       |\n",
      "|    explained_variance | -1.19e-07   |\n",
      "|    learning_rate      | 0.0007      |\n",
      "|    n_updates          | 4199        |\n",
      "|    policy_loss        | -0.925      |\n",
      "|    reward             | 0.018917393 |\n",
      "|    std                | 2.11        |\n",
      "|    value_loss         | 0.0016      |\n",
      "---------------------------------------\n",
      "-----------------------------------------\n",
      "| time/                 |               |\n",
      "|    fps                | 79            |\n",
      "|    iterations         | 4300          |\n",
      "|    time_elapsed       | 271           |\n",
      "|    total_timesteps    | 21500         |\n",
      "| train/                |               |\n",
      "|    entropy_loss       | -61.1         |\n",
      "|    explained_variance | -5.66         |\n",
      "|    learning_rate      | 0.0007        |\n",
      "|    n_updates          | 4299          |\n",
      "|    policy_loss        | -4.29         |\n",
      "|    reward             | -0.0035988619 |\n",
      "|    std                | 2.15          |\n",
      "|    value_loss         | 0.00663       |\n",
      "-----------------------------------------\n",
      "-----------------------------------------\n",
      "| time/                 |               |\n",
      "|    fps                | 79            |\n",
      "|    iterations         | 4400          |\n",
      "|    time_elapsed       | 277           |\n",
      "|    total_timesteps    | 22000         |\n",
      "| train/                |               |\n",
      "|    entropy_loss       | -61.8         |\n",
      "|    explained_variance | 0.000331      |\n",
      "|    learning_rate      | 0.0007        |\n",
      "|    n_updates          | 4399          |\n",
      "|    policy_loss        | 1.18          |\n",
      "|    reward             | -0.0039929547 |\n",
      "|    std                | 2.2           |\n",
      "|    value_loss         | 0.00045       |\n",
      "-----------------------------------------\n",
      "--------------------------------------\n",
      "| time/                 |            |\n",
      "|    fps                | 79         |\n",
      "|    iterations         | 4500       |\n",
      "|    time_elapsed       | 283        |\n",
      "|    total_timesteps    | 22500      |\n",
      "| train/                |            |\n",
      "|    entropy_loss       | -62.6      |\n",
      "|    explained_variance | -0.185     |\n",
      "|    learning_rate      | 0.0007     |\n",
      "|    n_updates          | 4499       |\n",
      "|    policy_loss        | 1.23       |\n",
      "|    reward             | 0.03052581 |\n",
      "|    std                | 2.27       |\n",
      "|    value_loss         | 0.000553   |\n",
      "--------------------------------------\n",
      "--------------------------------------\n",
      "| time/                 |            |\n",
      "|    fps                | 79         |\n",
      "|    iterations         | 4600       |\n",
      "|    time_elapsed       | 289        |\n",
      "|    total_timesteps    | 23000      |\n",
      "| train/                |            |\n",
      "|    entropy_loss       | -63.3      |\n",
      "|    explained_variance | 0.483      |\n",
      "|    learning_rate      | 0.0007     |\n",
      "|    n_updates          | 4599       |\n",
      "|    policy_loss        | 0.269      |\n",
      "|    reward             | 0.09705682 |\n",
      "|    std                | 2.32       |\n",
      "|    value_loss         | 0.00395    |\n",
      "--------------------------------------\n",
      "----------------------------------------\n",
      "| time/                 |              |\n",
      "|    fps                | 79           |\n",
      "|    iterations         | 4700         |\n",
      "|    time_elapsed       | 295          |\n",
      "|    total_timesteps    | 23500        |\n",
      "| train/                |              |\n",
      "|    entropy_loss       | -63.9        |\n",
      "|    explained_variance | 0.0186       |\n",
      "|    learning_rate      | 0.0007       |\n",
      "|    n_updates          | 4699         |\n",
      "|    policy_loss        | 10.2         |\n",
      "|    reward             | 0.0030289975 |\n",
      "|    std                | 2.37         |\n",
      "|    value_loss         | 0.0329       |\n",
      "----------------------------------------\n",
      "----------------------------------------\n",
      "| time/                 |              |\n",
      "|    fps                | 79           |\n",
      "|    iterations         | 4800         |\n",
      "|    time_elapsed       | 302          |\n",
      "|    total_timesteps    | 24000        |\n",
      "| train/                |              |\n",
      "|    entropy_loss       | -64.3        |\n",
      "|    explained_variance | 0            |\n",
      "|    learning_rate      | 0.0007       |\n",
      "|    n_updates          | 4799         |\n",
      "|    policy_loss        | -7.75        |\n",
      "|    reward             | -0.019986767 |\n",
      "|    std                | 2.4          |\n",
      "|    value_loss         | 0.0412       |\n",
      "----------------------------------------\n",
      "--------------------------------------\n",
      "| time/                 |            |\n",
      "|    fps                | 79         |\n",
      "|    iterations         | 4900       |\n",
      "|    time_elapsed       | 308        |\n",
      "|    total_timesteps    | 24500      |\n",
      "| train/                |            |\n",
      "|    entropy_loss       | -64.6      |\n",
      "|    explained_variance | 0          |\n",
      "|    learning_rate      | 0.0007     |\n",
      "|    n_updates          | 4899       |\n",
      "|    policy_loss        | 2.83       |\n",
      "|    reward             | 0.01855068 |\n",
      "|    std                | 2.43       |\n",
      "|    value_loss         | 0.0021     |\n",
      "--------------------------------------\n",
      "----------------------------------------\n",
      "| time/                 |              |\n",
      "|    fps                | 79           |\n",
      "|    iterations         | 5000         |\n",
      "|    time_elapsed       | 314          |\n",
      "|    total_timesteps    | 25000        |\n",
      "| train/                |              |\n",
      "|    entropy_loss       | -65.1        |\n",
      "|    explained_variance | 0.237        |\n",
      "|    learning_rate      | 0.0007       |\n",
      "|    n_updates          | 4999         |\n",
      "|    policy_loss        | -0.869       |\n",
      "|    reward             | 0.0009421427 |\n",
      "|    std                | 2.48         |\n",
      "|    value_loss         | 0.000256     |\n",
      "----------------------------------------\n",
      "---------------------------------------\n",
      "| time/                 |             |\n",
      "|    fps                | 79          |\n",
      "|    iterations         | 5100        |\n",
      "|    time_elapsed       | 320         |\n",
      "|    total_timesteps    | 25500       |\n",
      "| train/                |             |\n",
      "|    entropy_loss       | -66         |\n",
      "|    explained_variance | 0.352       |\n",
      "|    learning_rate      | 0.0007      |\n",
      "|    n_updates          | 5099        |\n",
      "|    policy_loss        | -0.225      |\n",
      "|    reward             | 0.004934181 |\n",
      "|    std                | 2.56        |\n",
      "|    value_loss         | 1.95e-05    |\n",
      "---------------------------------------\n",
      "----------------------------------------\n",
      "| time/                 |              |\n",
      "|    fps                | 79           |\n",
      "|    iterations         | 5200         |\n",
      "|    time_elapsed       | 327          |\n",
      "|    total_timesteps    | 26000        |\n",
      "| train/                |              |\n",
      "|    entropy_loss       | -67.2        |\n",
      "|    explained_variance | 0            |\n",
      "|    learning_rate      | 0.0007       |\n",
      "|    n_updates          | 5199         |\n",
      "|    policy_loss        | 0.0119       |\n",
      "|    reward             | 0.0038421624 |\n",
      "|    std                | 2.67         |\n",
      "|    value_loss         | 1.82e-05     |\n",
      "----------------------------------------\n",
      "------------------------------------------\n",
      "| time/                 |                |\n",
      "|    fps                | 79             |\n",
      "|    iterations         | 5300           |\n",
      "|    time_elapsed       | 333            |\n",
      "|    total_timesteps    | 26500          |\n",
      "| train/                |                |\n",
      "|    entropy_loss       | -68.5          |\n",
      "|    explained_variance | 0.425          |\n",
      "|    learning_rate      | 0.0007         |\n",
      "|    n_updates          | 5299           |\n",
      "|    policy_loss        | -1.02          |\n",
      "|    reward             | -6.0719412e-05 |\n",
      "|    std                | 2.8            |\n",
      "|    value_loss         | 0.000292       |\n",
      "------------------------------------------\n",
      "---------------------------------------\n",
      "| time/                 |             |\n",
      "|    fps                | 79          |\n",
      "|    iterations         | 5400        |\n",
      "|    time_elapsed       | 339         |\n",
      "|    total_timesteps    | 27000       |\n",
      "| train/                |             |\n",
      "|    entropy_loss       | -69.8       |\n",
      "|    explained_variance | 0           |\n",
      "|    learning_rate      | 0.0007      |\n",
      "|    n_updates          | 5399        |\n",
      "|    policy_loss        | -0.823      |\n",
      "|    reward             | 0.007157466 |\n",
      "|    std                | 2.93        |\n",
      "|    value_loss         | 0.000137    |\n",
      "---------------------------------------\n",
      "----------------------------------------\n",
      "| time/                 |              |\n",
      "|    fps                | 79           |\n",
      "|    iterations         | 5500         |\n",
      "|    time_elapsed       | 345          |\n",
      "|    total_timesteps    | 27500        |\n",
      "| train/                |              |\n",
      "|    entropy_loss       | -71.1        |\n",
      "|    explained_variance | -1.19e-07    |\n",
      "|    learning_rate      | 0.0007       |\n",
      "|    n_updates          | 5499         |\n",
      "|    policy_loss        | 0.201        |\n",
      "|    reward             | 0.0061492897 |\n",
      "|    std                | 3.07         |\n",
      "|    value_loss         | 2.26e-05     |\n",
      "----------------------------------------\n",
      "----------------------------------------\n",
      "| time/                 |              |\n",
      "|    fps                | 79           |\n",
      "|    iterations         | 5600         |\n",
      "|    time_elapsed       | 352          |\n",
      "|    total_timesteps    | 28000        |\n",
      "| train/                |              |\n",
      "|    entropy_loss       | -72.1        |\n",
      "|    explained_variance | -1.19e-07    |\n",
      "|    learning_rate      | 0.0007       |\n",
      "|    n_updates          | 5599         |\n",
      "|    policy_loss        | 4.43         |\n",
      "|    reward             | -0.063752346 |\n",
      "|    std                | 3.19         |\n",
      "|    value_loss         | 0.00537      |\n",
      "----------------------------------------\n",
      "---------------------------------------\n",
      "| time/                 |             |\n",
      "|    fps                | 79          |\n",
      "|    iterations         | 5700        |\n",
      "|    time_elapsed       | 358         |\n",
      "|    total_timesteps    | 28500       |\n",
      "| train/                |             |\n",
      "|    entropy_loss       | -73.1       |\n",
      "|    explained_variance | 0           |\n",
      "|    learning_rate      | 0.0007      |\n",
      "|    n_updates          | 5699        |\n",
      "|    policy_loss        | -1.3        |\n",
      "|    reward             | 0.015842158 |\n",
      "|    std                | 3.3         |\n",
      "|    value_loss         | 0.000342    |\n",
      "---------------------------------------\n",
      "-----------------------------------------\n",
      "| time/                 |               |\n",
      "|    fps                | 79            |\n",
      "|    iterations         | 5800          |\n",
      "|    time_elapsed       | 364           |\n",
      "|    total_timesteps    | 29000         |\n",
      "| train/                |               |\n",
      "|    entropy_loss       | -74.2         |\n",
      "|    explained_variance | 0.0406        |\n",
      "|    learning_rate      | 0.0007        |\n",
      "|    n_updates          | 5799          |\n",
      "|    policy_loss        | -0.732        |\n",
      "|    reward             | 0.00086694374 |\n",
      "|    std                | 3.44          |\n",
      "|    value_loss         | 0.000184      |\n",
      "-----------------------------------------\n",
      "----------------------------------------\n",
      "| time/                 |              |\n",
      "|    fps                | 79           |\n",
      "|    iterations         | 5900         |\n",
      "|    time_elapsed       | 370          |\n",
      "|    total_timesteps    | 29500        |\n",
      "| train/                |              |\n",
      "|    entropy_loss       | -75.7        |\n",
      "|    explained_variance | 0.000103     |\n",
      "|    learning_rate      | 0.0007       |\n",
      "|    n_updates          | 5899         |\n",
      "|    policy_loss        | -0.427       |\n",
      "|    reward             | 0.0038896445 |\n",
      "|    std                | 3.62         |\n",
      "|    value_loss         | 3.63e-05     |\n",
      "----------------------------------------\n",
      "----------------------------------------\n",
      "| time/                 |              |\n",
      "|    fps                | 79           |\n",
      "|    iterations         | 6000         |\n",
      "|    time_elapsed       | 376          |\n",
      "|    total_timesteps    | 30000        |\n",
      "| train/                |              |\n",
      "|    entropy_loss       | -77.3        |\n",
      "|    explained_variance | -0.0272      |\n",
      "|    learning_rate      | 0.0007       |\n",
      "|    n_updates          | 5999         |\n",
      "|    policy_loss        | 0.063        |\n",
      "|    reward             | 0.0005034723 |\n",
      "|    std                | 3.84         |\n",
      "|    value_loss         | 1.91e-06     |\n",
      "----------------------------------------\n",
      "---------------------------------------\n",
      "| time/                 |             |\n",
      "|    fps                | 79          |\n",
      "|    iterations         | 6100        |\n",
      "|    time_elapsed       | 383         |\n",
      "|    total_timesteps    | 30500       |\n",
      "| train/                |             |\n",
      "|    entropy_loss       | -79.1       |\n",
      "|    explained_variance | -1.19e-07   |\n",
      "|    learning_rate      | 0.0007      |\n",
      "|    n_updates          | 6099        |\n",
      "|    policy_loss        | 0.338       |\n",
      "|    reward             | 0.007939105 |\n",
      "|    std                | 4.08        |\n",
      "|    value_loss         | 2.97e-05    |\n",
      "---------------------------------------\n",
      "----------------------------------------\n",
      "| time/                 |              |\n",
      "|    fps                | 79           |\n",
      "|    iterations         | 6200         |\n",
      "|    time_elapsed       | 389          |\n",
      "|    total_timesteps    | 31000        |\n",
      "| train/                |              |\n",
      "|    entropy_loss       | -80.9        |\n",
      "|    explained_variance | 0            |\n",
      "|    learning_rate      | 0.0007       |\n",
      "|    n_updates          | 6199         |\n",
      "|    policy_loss        | -0.288       |\n",
      "|    reward             | 0.0040273666 |\n",
      "|    std                | 4.35         |\n",
      "|    value_loss         | 1.46e-05     |\n",
      "----------------------------------------\n",
      "------------------------------------------\n",
      "| time/                 |                |\n",
      "|    fps                | 79             |\n",
      "|    iterations         | 6300           |\n",
      "|    time_elapsed       | 395            |\n",
      "|    total_timesteps    | 31500          |\n",
      "| train/                |                |\n",
      "|    entropy_loss       | -82.6          |\n",
      "|    explained_variance | 0              |\n",
      "|    learning_rate      | 0.0007         |\n",
      "|    n_updates          | 6299           |\n",
      "|    policy_loss        | -0.00523       |\n",
      "|    reward             | -0.00044890406 |\n",
      "|    std                | 4.63           |\n",
      "|    value_loss         | 5.82e-05       |\n",
      "------------------------------------------\n",
      "day: 3524, episode: 10\n",
      "begin_total_asset: 100000.00\n",
      "end_total_asset: 3077.47\n",
      "total_reward: -96922.53\n",
      "total_cost: 9779.13\n",
      "total_trades: 44693\n",
      "Sharpe: -0.265\n",
      "=================================\n",
      "---------------------------------------\n",
      "| time/                 |             |\n",
      "|    fps                | 79          |\n",
      "|    iterations         | 6400        |\n",
      "|    time_elapsed       | 401         |\n",
      "|    total_timesteps    | 32000       |\n",
      "| train/                |             |\n",
      "|    entropy_loss       | -83.9       |\n",
      "|    explained_variance | -1.65       |\n",
      "|    learning_rate      | 0.0007      |\n",
      "|    n_updates          | 6399        |\n",
      "|    policy_loss        | -3.54       |\n",
      "|    reward             | 0.008428601 |\n",
      "|    std                | 4.85        |\n",
      "|    value_loss         | 0.00311     |\n",
      "---------------------------------------\n",
      "----------------------------------------\n",
      "| time/                 |              |\n",
      "|    fps                | 79           |\n",
      "|    iterations         | 6500         |\n",
      "|    time_elapsed       | 408          |\n",
      "|    total_timesteps    | 32500        |\n",
      "| train/                |              |\n",
      "|    entropy_loss       | -84.8        |\n",
      "|    explained_variance | 0            |\n",
      "|    learning_rate      | 0.0007       |\n",
      "|    n_updates          | 6499         |\n",
      "|    policy_loss        | -1.14        |\n",
      "|    reward             | -0.037422135 |\n",
      "|    std                | 5.01         |\n",
      "|    value_loss         | 0.0002       |\n",
      "----------------------------------------\n",
      "----------------------------------------\n",
      "| time/                 |              |\n",
      "|    fps                | 79           |\n",
      "|    iterations         | 6600         |\n",
      "|    time_elapsed       | 414          |\n",
      "|    total_timesteps    | 33000        |\n",
      "| train/                |              |\n",
      "|    entropy_loss       | -85.7        |\n",
      "|    explained_variance | 5.96e-08     |\n",
      "|    learning_rate      | 0.0007       |\n",
      "|    n_updates          | 6599         |\n",
      "|    policy_loss        | -0.494       |\n",
      "|    reward             | 0.0060933423 |\n",
      "|    std                | 5.17         |\n",
      "|    value_loss         | 0.000114     |\n",
      "----------------------------------------\n",
      "-----------------------------------------\n",
      "| time/                 |               |\n",
      "|    fps                | 79            |\n",
      "|    iterations         | 6700          |\n",
      "|    time_elapsed       | 420           |\n",
      "|    total_timesteps    | 33500         |\n",
      "| train/                |               |\n",
      "|    entropy_loss       | -86.5         |\n",
      "|    explained_variance | 0             |\n",
      "|    learning_rate      | 0.0007        |\n",
      "|    n_updates          | 6699          |\n",
      "|    policy_loss        | -1.87         |\n",
      "|    reward             | -0.0028265016 |\n",
      "|    std                | 5.33          |\n",
      "|    value_loss         | 0.000923      |\n",
      "-----------------------------------------\n",
      "----------------------------------------\n",
      "| time/                 |              |\n",
      "|    fps                | 79           |\n",
      "|    iterations         | 6800         |\n",
      "|    time_elapsed       | 426          |\n",
      "|    total_timesteps    | 34000        |\n",
      "| train/                |              |\n",
      "|    entropy_loss       | -87.3        |\n",
      "|    explained_variance | 0            |\n",
      "|    learning_rate      | 0.0007       |\n",
      "|    n_updates          | 6799         |\n",
      "|    policy_loss        | 1.09         |\n",
      "|    reward             | -0.009271822 |\n",
      "|    std                | 5.48         |\n",
      "|    value_loss         | 0.000341     |\n",
      "----------------------------------------\n",
      "----------------------------------------\n",
      "| time/                 |              |\n",
      "|    fps                | 79           |\n",
      "|    iterations         | 6900         |\n",
      "|    time_elapsed       | 432          |\n",
      "|    total_timesteps    | 34500        |\n",
      "| train/                |              |\n",
      "|    entropy_loss       | -88.2        |\n",
      "|    explained_variance | 0.457        |\n",
      "|    learning_rate      | 0.0007       |\n",
      "|    n_updates          | 6899         |\n",
      "|    policy_loss        | -0.171       |\n",
      "|    reward             | 0.0044444264 |\n",
      "|    std                | 5.65         |\n",
      "|    value_loss         | 0.00016      |\n",
      "----------------------------------------\n",
      "----------------------------------------\n",
      "| time/                 |              |\n",
      "|    fps                | 79           |\n",
      "|    iterations         | 7000         |\n",
      "|    time_elapsed       | 439          |\n",
      "|    total_timesteps    | 35000        |\n",
      "| train/                |              |\n",
      "|    entropy_loss       | -89          |\n",
      "|    explained_variance | -1.19e-07    |\n",
      "|    learning_rate      | 0.0007       |\n",
      "|    n_updates          | 6999         |\n",
      "|    policy_loss        | 3.48         |\n",
      "|    reward             | -0.004326771 |\n",
      "|    std                | 5.82         |\n",
      "|    value_loss         | 0.00162      |\n",
      "----------------------------------------\n",
      "----------------------------------------\n",
      "| time/                 |              |\n",
      "|    fps                | 79           |\n",
      "|    iterations         | 7100         |\n",
      "|    time_elapsed       | 445          |\n",
      "|    total_timesteps    | 35500        |\n",
      "| train/                |              |\n",
      "|    entropy_loss       | -89.8        |\n",
      "|    explained_variance | 0.126        |\n",
      "|    learning_rate      | 0.0007       |\n",
      "|    n_updates          | 7099         |\n",
      "|    policy_loss        | -0.208       |\n",
      "|    reward             | -0.015218225 |\n",
      "|    std                | 5.99         |\n",
      "|    value_loss         | 0.000691     |\n",
      "----------------------------------------\n",
      "----------------------------------------\n",
      "| time/                 |              |\n",
      "|    fps                | 79           |\n",
      "|    iterations         | 7200         |\n",
      "|    time_elapsed       | 451          |\n",
      "|    total_timesteps    | 36000        |\n",
      "| train/                |              |\n",
      "|    entropy_loss       | -90.6        |\n",
      "|    explained_variance | 0.0372       |\n",
      "|    learning_rate      | 0.0007       |\n",
      "|    n_updates          | 7199         |\n",
      "|    policy_loss        | 0.233        |\n",
      "|    reward             | -0.033630945 |\n",
      "|    std                | 6.17         |\n",
      "|    value_loss         | 3.42e-05     |\n",
      "----------------------------------------\n",
      "---------------------------------------\n",
      "| time/                 |             |\n",
      "|    fps                | 79          |\n",
      "|    iterations         | 7300        |\n",
      "|    time_elapsed       | 457         |\n",
      "|    total_timesteps    | 36500       |\n",
      "| train/                |             |\n",
      "|    entropy_loss       | -91.7       |\n",
      "|    explained_variance | 0.246       |\n",
      "|    learning_rate      | 0.0007      |\n",
      "|    n_updates          | 7299        |\n",
      "|    policy_loss        | 2.01        |\n",
      "|    reward             | 0.019275375 |\n",
      "|    std                | 6.4         |\n",
      "|    value_loss         | 0.000489    |\n",
      "---------------------------------------\n",
      "----------------------------------------\n",
      "| time/                 |              |\n",
      "|    fps                | 79           |\n",
      "|    iterations         | 7400         |\n",
      "|    time_elapsed       | 464          |\n",
      "|    total_timesteps    | 37000        |\n",
      "| train/                |              |\n",
      "|    entropy_loss       | -92.7        |\n",
      "|    explained_variance | 0            |\n",
      "|    learning_rate      | 0.0007       |\n",
      "|    n_updates          | 7399         |\n",
      "|    policy_loss        | -0.00538     |\n",
      "|    reward             | -0.016834756 |\n",
      "|    std                | 6.65         |\n",
      "|    value_loss         | 5.12e-05     |\n",
      "----------------------------------------\n",
      "---------------------------------------\n",
      "| time/                 |             |\n",
      "|    fps                | 79          |\n",
      "|    iterations         | 7500        |\n",
      "|    time_elapsed       | 470         |\n",
      "|    total_timesteps    | 37500       |\n",
      "| train/                |             |\n",
      "|    entropy_loss       | -93.8       |\n",
      "|    explained_variance | 0           |\n",
      "|    learning_rate      | 0.0007      |\n",
      "|    n_updates          | 7499        |\n",
      "|    policy_loss        | -0.546      |\n",
      "|    reward             | 0.014455127 |\n",
      "|    std                | 6.91        |\n",
      "|    value_loss         | 6.3e-05     |\n",
      "---------------------------------------\n",
      "---------------------------------------\n",
      "| time/                 |             |\n",
      "|    fps                | 79          |\n",
      "|    iterations         | 7600        |\n",
      "|    time_elapsed       | 476         |\n",
      "|    total_timesteps    | 38000       |\n",
      "| train/                |             |\n",
      "|    entropy_loss       | -95.1       |\n",
      "|    explained_variance | 0.211       |\n",
      "|    learning_rate      | 0.0007      |\n",
      "|    n_updates          | 7599        |\n",
      "|    policy_loss        | -0.485      |\n",
      "|    reward             | 0.015207272 |\n",
      "|    std                | 7.23        |\n",
      "|    value_loss         | 0.000221    |\n",
      "---------------------------------------\n",
      "----------------------------------------\n",
      "| time/                 |              |\n",
      "|    fps                | 79           |\n",
      "|    iterations         | 7700         |\n",
      "|    time_elapsed       | 483          |\n",
      "|    total_timesteps    | 38500        |\n",
      "| train/                |              |\n",
      "|    entropy_loss       | -96.4        |\n",
      "|    explained_variance | 1.19e-07     |\n",
      "|    learning_rate      | 0.0007       |\n",
      "|    n_updates          | 7699         |\n",
      "|    policy_loss        | 0.0351       |\n",
      "|    reward             | 0.0035716938 |\n",
      "|    std                | 7.57         |\n",
      "|    value_loss         | 3.55e-05     |\n",
      "----------------------------------------\n",
      "-----------------------------------------\n",
      "| time/                 |               |\n",
      "|    fps                | 79            |\n",
      "|    iterations         | 7800          |\n",
      "|    time_elapsed       | 489           |\n",
      "|    total_timesteps    | 39000         |\n",
      "| train/                |               |\n",
      "|    entropy_loss       | -97.6         |\n",
      "|    explained_variance | 4.77e-07      |\n",
      "|    learning_rate      | 0.0007        |\n",
      "|    n_updates          | 7799          |\n",
      "|    policy_loss        | 2.02          |\n",
      "|    reward             | -0.0116200335 |\n",
      "|    std                | 7.9           |\n",
      "|    value_loss         | 0.00278       |\n",
      "-----------------------------------------\n",
      "----------------------------------------\n",
      "| time/                 |              |\n",
      "|    fps                | 79           |\n",
      "|    iterations         | 7900         |\n",
      "|    time_elapsed       | 495          |\n",
      "|    total_timesteps    | 39500        |\n",
      "| train/                |              |\n",
      "|    entropy_loss       | -98.4        |\n",
      "|    explained_variance | -0.618       |\n",
      "|    learning_rate      | 0.0007       |\n",
      "|    n_updates          | 7899         |\n",
      "|    policy_loss        | 0.537        |\n",
      "|    reward             | 0.0084974095 |\n",
      "|    std                | 8.15         |\n",
      "|    value_loss         | 0.000106     |\n",
      "----------------------------------------\n",
      "------------------------------------------\n",
      "| time/                 |                |\n",
      "|    fps                | 79             |\n",
      "|    iterations         | 8000           |\n",
      "|    time_elapsed       | 501            |\n",
      "|    total_timesteps    | 40000          |\n",
      "| train/                |                |\n",
      "|    entropy_loss       | -99.4          |\n",
      "|    explained_variance | -0.324         |\n",
      "|    learning_rate      | 0.0007         |\n",
      "|    n_updates          | 7999           |\n",
      "|    policy_loss        | 0.199          |\n",
      "|    reward             | -0.00012793182 |\n",
      "|    std                | 8.45           |\n",
      "|    value_loss         | 4.73e-05       |\n",
      "------------------------------------------\n",
      "----------------------------------------\n",
      "| time/                 |              |\n",
      "|    fps                | 79           |\n",
      "|    iterations         | 8100         |\n",
      "|    time_elapsed       | 507          |\n",
      "|    total_timesteps    | 40500        |\n",
      "| train/                |              |\n",
      "|    entropy_loss       | -101         |\n",
      "|    explained_variance | -0.884       |\n",
      "|    learning_rate      | 0.0007       |\n",
      "|    n_updates          | 8099         |\n",
      "|    policy_loss        | -0.0515      |\n",
      "|    reward             | 0.0019551618 |\n",
      "|    std                | 8.81         |\n",
      "|    value_loss         | 7.14e-06     |\n",
      "----------------------------------------\n",
      "----------------------------------------\n",
      "| time/                 |              |\n",
      "|    fps                | 79           |\n",
      "|    iterations         | 8200         |\n",
      "|    time_elapsed       | 514          |\n",
      "|    total_timesteps    | 41000        |\n",
      "| train/                |              |\n",
      "|    entropy_loss       | -102         |\n",
      "|    explained_variance | 1.19e-07     |\n",
      "|    learning_rate      | 0.0007       |\n",
      "|    n_updates          | 8199         |\n",
      "|    policy_loss        | 0.234        |\n",
      "|    reward             | -0.011489288 |\n",
      "|    std                | 9.2          |\n",
      "|    value_loss         | 0.000163     |\n",
      "----------------------------------------\n",
      "----------------------------------------\n",
      "| time/                 |              |\n",
      "|    fps                | 79           |\n",
      "|    iterations         | 8300         |\n",
      "|    time_elapsed       | 520          |\n",
      "|    total_timesteps    | 41500        |\n",
      "| train/                |              |\n",
      "|    entropy_loss       | -103         |\n",
      "|    explained_variance | 0.272        |\n",
      "|    learning_rate      | 0.0007       |\n",
      "|    n_updates          | 8299         |\n",
      "|    policy_loss        | -1.42        |\n",
      "|    reward             | 0.0022825038 |\n",
      "|    std                | 9.65         |\n",
      "|    value_loss         | 0.00026      |\n",
      "----------------------------------------\n",
      "----------------------------------------\n",
      "| time/                 |              |\n",
      "|    fps                | 79           |\n",
      "|    iterations         | 8400         |\n",
      "|    time_elapsed       | 526          |\n",
      "|    total_timesteps    | 42000        |\n",
      "| train/                |              |\n",
      "|    entropy_loss       | -104         |\n",
      "|    explained_variance | 0            |\n",
      "|    learning_rate      | 0.0007       |\n",
      "|    n_updates          | 8399         |\n",
      "|    policy_loss        | 0.795        |\n",
      "|    reward             | -0.012113038 |\n",
      "|    std                | 10           |\n",
      "|    value_loss         | 0.000322     |\n",
      "----------------------------------------\n",
      "-------------------------------------\n",
      "| time/                 |           |\n",
      "|    fps                | 79        |\n",
      "|    iterations         | 8500      |\n",
      "|    time_elapsed       | 533       |\n",
      "|    total_timesteps    | 42500     |\n",
      "| train/                |           |\n",
      "|    entropy_loss       | -105      |\n",
      "|    explained_variance | 0.0497    |\n",
      "|    learning_rate      | 0.0007    |\n",
      "|    n_updates          | 8499      |\n",
      "|    policy_loss        | -18.1     |\n",
      "|    reward             | 0.0726554 |\n",
      "|    std                | 10.3      |\n",
      "|    value_loss         | 0.0315    |\n",
      "-------------------------------------\n",
      "-----------------------------------------\n",
      "| time/                 |               |\n",
      "|    fps                | 79            |\n",
      "|    iterations         | 8600          |\n",
      "|    time_elapsed       | 539           |\n",
      "|    total_timesteps    | 43000         |\n",
      "| train/                |               |\n",
      "|    entropy_loss       | -106          |\n",
      "|    explained_variance | 0.089         |\n",
      "|    learning_rate      | 0.0007        |\n",
      "|    n_updates          | 8599          |\n",
      "|    policy_loss        | 1.44          |\n",
      "|    reward             | -0.0040910067 |\n",
      "|    std                | 10.6          |\n",
      "|    value_loss         | 0.000209      |\n",
      "-----------------------------------------\n",
      "----------------------------------------\n",
      "| time/                 |              |\n",
      "|    fps                | 79           |\n",
      "|    iterations         | 8700         |\n",
      "|    time_elapsed       | 545          |\n",
      "|    total_timesteps    | 43500        |\n",
      "| train/                |              |\n",
      "|    entropy_loss       | -107         |\n",
      "|    explained_variance | -1.04e-05    |\n",
      "|    learning_rate      | 0.0007       |\n",
      "|    n_updates          | 8699         |\n",
      "|    policy_loss        | 0.0107       |\n",
      "|    reward             | 0.0041778614 |\n",
      "|    std                | 11.1         |\n",
      "|    value_loss         | 1.8e-05      |\n",
      "----------------------------------------\n",
      "----------------------------------------\n",
      "| time/                 |              |\n",
      "|    fps                | 79           |\n",
      "|    iterations         | 8800         |\n",
      "|    time_elapsed       | 551          |\n",
      "|    total_timesteps    | 44000        |\n",
      "| train/                |              |\n",
      "|    entropy_loss       | -108         |\n",
      "|    explained_variance | 0            |\n",
      "|    learning_rate      | 0.0007       |\n",
      "|    n_updates          | 8799         |\n",
      "|    policy_loss        | -1.12        |\n",
      "|    reward             | -0.011371214 |\n",
      "|    std                | 11.6         |\n",
      "|    value_loss         | 0.000127     |\n",
      "----------------------------------------\n",
      "---------------------------------------\n",
      "| time/                 |             |\n",
      "|    fps                | 79          |\n",
      "|    iterations         | 8900        |\n",
      "|    time_elapsed       | 557         |\n",
      "|    total_timesteps    | 44500       |\n",
      "| train/                |             |\n",
      "|    entropy_loss       | -110        |\n",
      "|    explained_variance | 0           |\n",
      "|    learning_rate      | 0.0007      |\n",
      "|    n_updates          | 8899        |\n",
      "|    policy_loss        | -0.00177    |\n",
      "|    reward             | 0.006409971 |\n",
      "|    std                | 12.2        |\n",
      "|    value_loss         | 5.45e-05    |\n",
      "---------------------------------------\n",
      "-----------------------------------------\n",
      "| time/                 |               |\n",
      "|    fps                | 79            |\n",
      "|    iterations         | 9000          |\n",
      "|    time_elapsed       | 563           |\n",
      "|    total_timesteps    | 45000         |\n",
      "| train/                |               |\n",
      "|    entropy_loss       | -111          |\n",
      "|    explained_variance | 0             |\n",
      "|    learning_rate      | 0.0007        |\n",
      "|    n_updates          | 8999          |\n",
      "|    policy_loss        | -0.728        |\n",
      "|    reward             | 0.00086141075 |\n",
      "|    std                | 12.8          |\n",
      "|    value_loss         | 5.36e-05      |\n",
      "-----------------------------------------\n",
      "----------------------------------------\n",
      "| time/                 |              |\n",
      "|    fps                | 79           |\n",
      "|    iterations         | 9100         |\n",
      "|    time_elapsed       | 569          |\n",
      "|    total_timesteps    | 45500        |\n",
      "| train/                |              |\n",
      "|    entropy_loss       | -113         |\n",
      "|    explained_variance | 1.19e-07     |\n",
      "|    learning_rate      | 0.0007       |\n",
      "|    n_updates          | 9099         |\n",
      "|    policy_loss        | -2.28        |\n",
      "|    reward             | 0.0010066517 |\n",
      "|    std                | 13.5         |\n",
      "|    value_loss         | 0.000808     |\n",
      "----------------------------------------\n",
      "---------------------------------------\n",
      "| time/                 |             |\n",
      "|    fps                | 79          |\n",
      "|    iterations         | 9200        |\n",
      "|    time_elapsed       | 576         |\n",
      "|    total_timesteps    | 46000       |\n",
      "| train/                |             |\n",
      "|    entropy_loss       | -114        |\n",
      "|    explained_variance | -1.31       |\n",
      "|    learning_rate      | 0.0007      |\n",
      "|    n_updates          | 9199        |\n",
      "|    policy_loss        | -3.89       |\n",
      "|    reward             | 0.025180245 |\n",
      "|    std                | 14.2        |\n",
      "|    value_loss         | 0.00183     |\n",
      "---------------------------------------\n",
      "---------------------------------------\n",
      "| time/                 |             |\n",
      "|    fps                | 79          |\n",
      "|    iterations         | 9300        |\n",
      "|    time_elapsed       | 582         |\n",
      "|    total_timesteps    | 46500       |\n",
      "| train/                |             |\n",
      "|    entropy_loss       | -115        |\n",
      "|    explained_variance | 0.599       |\n",
      "|    learning_rate      | 0.0007      |\n",
      "|    n_updates          | 9299        |\n",
      "|    policy_loss        | -2.27       |\n",
      "|    reward             | -0.01232147 |\n",
      "|    std                | 14.7        |\n",
      "|    value_loss         | 0.000371    |\n",
      "---------------------------------------\n",
      "----------------------------------------\n",
      "| time/                 |              |\n",
      "|    fps                | 79           |\n",
      "|    iterations         | 9400         |\n",
      "|    time_elapsed       | 588          |\n",
      "|    total_timesteps    | 47000        |\n",
      "| train/                |              |\n",
      "|    entropy_loss       | -116         |\n",
      "|    explained_variance | -0.683       |\n",
      "|    learning_rate      | 0.0007       |\n",
      "|    n_updates          | 9399         |\n",
      "|    policy_loss        | -1.69        |\n",
      "|    reward             | 0.0073481756 |\n",
      "|    std                | 15.2         |\n",
      "|    value_loss         | 0.00037      |\n",
      "----------------------------------------\n",
      "-----------------------------------------\n",
      "| time/                 |               |\n",
      "|    fps                | 79            |\n",
      "|    iterations         | 9500          |\n",
      "|    time_elapsed       | 594           |\n",
      "|    total_timesteps    | 47500         |\n",
      "| train/                |               |\n",
      "|    entropy_loss       | -117          |\n",
      "|    explained_variance | 0             |\n",
      "|    learning_rate      | 0.0007        |\n",
      "|    n_updates          | 9499          |\n",
      "|    policy_loss        | 6.4           |\n",
      "|    reward             | 0.00030058384 |\n",
      "|    std                | 15.8          |\n",
      "|    value_loss         | 0.00341       |\n",
      "-----------------------------------------\n",
      "----------------------------------------\n",
      "| time/                 |              |\n",
      "|    fps                | 79           |\n",
      "|    iterations         | 9600         |\n",
      "|    time_elapsed       | 601          |\n",
      "|    total_timesteps    | 48000        |\n",
      "| train/                |              |\n",
      "|    entropy_loss       | -118         |\n",
      "|    explained_variance | 0.363        |\n",
      "|    learning_rate      | 0.0007       |\n",
      "|    n_updates          | 9599         |\n",
      "|    policy_loss        | 1.31         |\n",
      "|    reward             | -0.004001928 |\n",
      "|    std                | 16.4         |\n",
      "|    value_loss         | 0.000139     |\n",
      "----------------------------------------\n",
      "----------------------------------------\n",
      "| time/                 |              |\n",
      "|    fps                | 79           |\n",
      "|    iterations         | 9700         |\n",
      "|    time_elapsed       | 607          |\n",
      "|    total_timesteps    | 48500        |\n",
      "| train/                |              |\n",
      "|    entropy_loss       | -119         |\n",
      "|    explained_variance | 0            |\n",
      "|    learning_rate      | 0.0007       |\n",
      "|    n_updates          | 9699         |\n",
      "|    policy_loss        | 0.0978       |\n",
      "|    reward             | 0.0033593143 |\n",
      "|    std                | 17.1         |\n",
      "|    value_loss         | 2.08e-05     |\n",
      "----------------------------------------\n",
      "--------------------------------------\n",
      "| time/                 |            |\n",
      "|    fps                | 79         |\n",
      "|    iterations         | 9800       |\n",
      "|    time_elapsed       | 613        |\n",
      "|    total_timesteps    | 49000      |\n",
      "| train/                |            |\n",
      "|    entropy_loss       | -120       |\n",
      "|    explained_variance | -1.19e-07  |\n",
      "|    learning_rate      | 0.0007     |\n",
      "|    n_updates          | 9799       |\n",
      "|    policy_loss        | -0.404     |\n",
      "|    reward             | 0.01245751 |\n",
      "|    std                | 17.8       |\n",
      "|    value_loss         | 5.07e-05   |\n",
      "--------------------------------------\n",
      "-----------------------------------------\n",
      "| time/                 |               |\n",
      "|    fps                | 79            |\n",
      "|    iterations         | 9900          |\n",
      "|    time_elapsed       | 619           |\n",
      "|    total_timesteps    | 49500         |\n",
      "| train/                |               |\n",
      "|    entropy_loss       | -121          |\n",
      "|    explained_variance | -1.19e-07     |\n",
      "|    learning_rate      | 0.0007        |\n",
      "|    n_updates          | 9899          |\n",
      "|    policy_loss        | 4.14          |\n",
      "|    reward             | -0.0034523273 |\n",
      "|    std                | 18.5          |\n",
      "|    value_loss         | 0.00133       |\n",
      "-----------------------------------------\n",
      "---------------------------------------\n",
      "| time/                 |             |\n",
      "|    fps                | 79          |\n",
      "|    iterations         | 10000       |\n",
      "|    time_elapsed       | 625         |\n",
      "|    total_timesteps    | 50000       |\n",
      "| train/                |             |\n",
      "|    entropy_loss       | -122        |\n",
      "|    explained_variance | -5.96e-07   |\n",
      "|    learning_rate      | 0.0007      |\n",
      "|    n_updates          | 9999        |\n",
      "|    policy_loss        | 2.47        |\n",
      "|    reward             | 0.018618058 |\n",
      "|    std                | 19.1        |\n",
      "|    value_loss         | 0.000624    |\n",
      "---------------------------------------\n"
     ]
    }
   ],
   "source": [
    "model_a2c.reset_num_timesteps=False\n",
    "TIME_STEPS = 50_000\n",
    "trained_a2c = agent.train_model(model=model_a2c,\n",
    "                                tb_log_name='a2c',\n",
    "                                total_timesteps=TIME_STEPS)"
   ],
   "metadata": {
    "collapsed": false,
    "pycharm": {
     "name": "#%%\n"
    }
   }
  },
  {
   "cell_type": "code",
   "execution_count": 69,
   "metadata": {
    "colab": {
     "base_uri": "https://localhost:8080/",
     "height": 1000
    },
    "id": "0GVpkWGqH4-D",
    "outputId": "570d540f-abe9-402b-e0cc-f9b007228e8e",
    "pycharm": {
     "name": "#%%\n"
    }
   },
   "outputs": [],
   "source": [
    "# trained_a2c = agent.train_model(model=model_a2c,\n",
    "#                                 tb_log_name='a2c',\n",
    "#                                 total_timesteps=50000)"
   ]
  },
  {
   "cell_type": "code",
   "execution_count": 70,
   "outputs": [],
   "source": [
    "trained_a2c.save(\".\" + os.sep + config.TRAINED_MODEL_DIR + os.sep + \"a2c.pkl\")"
   ],
   "metadata": {
    "collapsed": false,
    "pycharm": {
     "name": "#%%\n"
    }
   }
  },
  {
   "cell_type": "markdown",
   "metadata": {
    "id": "MRiOtrywfAo1",
    "pycharm": {
     "name": "#%% md\n"
    }
   },
   "source": [
    "### Model 2: DDPG"
   ]
  },
  {
   "cell_type": "code",
   "execution_count": 71,
   "metadata": {
    "id": "M2YadjfnLwgt",
    "pycharm": {
     "name": "#%%\n"
    }
   },
   "outputs": [
    {
     "name": "stdout",
     "output_type": "stream",
     "text": [
      "{'batch_size': 128, 'buffer_size': 50000, 'learning_rate': 0.001}\n",
      "Using cuda device\n"
     ]
    }
   ],
   "source": [
    "agent = DRLAgent(env = env_train)\n",
    "model_ddpg = agent.get_model(\"ddpg\", verbose=1, tensorboard_log=tensorboard_log_dir)"
   ]
  },
  {
   "cell_type": "code",
   "execution_count": 72,
   "metadata": {
    "id": "tCDa78rqfO_a",
    "jupyter": {
     "outputs_hidden": true
    },
    "pycharm": {
     "name": "#%%\n"
    }
   },
   "outputs": [
    {
     "name": "stdout",
     "output_type": "stream",
     "text": [
      "Logging to .\\tensorboard_log\\20220907-0759\\ddpg_1\n",
      "day: 3524, episode: 20\n",
      "begin_total_asset: 100000.00\n",
      "end_total_asset: 99900.10\n",
      "total_reward: -99.90\n",
      "total_cost: 99.90\n",
      "total_trades: 52860\n",
      "Sharpe: 0.240\n",
      "=================================\n",
      "-------------------------------------\n",
      "| time/              |              |\n",
      "|    episodes        | 4            |\n",
      "|    fps             | 68           |\n",
      "|    time_elapsed    | 206          |\n",
      "|    total_timesteps | 14100        |\n",
      "| train/             |              |\n",
      "|    actor_loss      | -2.36        |\n",
      "|    critic_loss     | 0.0345       |\n",
      "|    learning_rate   | 0.001        |\n",
      "|    n_updates       | 10575        |\n",
      "|    reward          | -0.011452495 |\n",
      "-------------------------------------\n",
      "-------------------------------------\n",
      "| time/              |              |\n",
      "|    episodes        | 8            |\n",
      "|    fps             | 63           |\n",
      "|    time_elapsed    | 442          |\n",
      "|    total_timesteps | 28200        |\n",
      "| train/             |              |\n",
      "|    actor_loss      | -1.03        |\n",
      "|    critic_loss     | 0.011        |\n",
      "|    learning_rate   | 0.001        |\n",
      "|    n_updates       | 24675        |\n",
      "|    reward          | -0.011452495 |\n",
      "-------------------------------------\n",
      "-------------------------------------\n",
      "| time/              |              |\n",
      "|    episodes        | 12           |\n",
      "|    fps             | 62           |\n",
      "|    time_elapsed    | 676          |\n",
      "|    total_timesteps | 42300        |\n",
      "| train/             |              |\n",
      "|    actor_loss      | -0.62        |\n",
      "|    critic_loss     | 0.00613      |\n",
      "|    learning_rate   | 0.001        |\n",
      "|    n_updates       | 38775        |\n",
      "|    reward          | -0.011452495 |\n",
      "-------------------------------------\n",
      "day: 3524, episode: 30\n",
      "begin_total_asset: 100000.00\n",
      "end_total_asset: 99900.10\n",
      "total_reward: -99.90\n",
      "total_cost: 99.90\n",
      "total_trades: 52860\n",
      "Sharpe: 0.240\n",
      "=================================\n",
      "-------------------------------------\n",
      "| time/              |              |\n",
      "|    episodes        | 16           |\n",
      "|    fps             | 61           |\n",
      "|    time_elapsed    | 910          |\n",
      "|    total_timesteps | 56400        |\n",
      "| train/             |              |\n",
      "|    actor_loss      | -0.425       |\n",
      "|    critic_loss     | 0.00392      |\n",
      "|    learning_rate   | 0.001        |\n",
      "|    n_updates       | 52875        |\n",
      "|    reward          | -0.011452495 |\n",
      "-------------------------------------\n",
      "-------------------------------------\n",
      "| time/              |              |\n",
      "|    episodes        | 20           |\n",
      "|    fps             | 61           |\n",
      "|    time_elapsed    | 1145         |\n",
      "|    total_timesteps | 70500        |\n",
      "| train/             |              |\n",
      "|    actor_loss      | -0.299       |\n",
      "|    critic_loss     | 0.00207      |\n",
      "|    learning_rate   | 0.001        |\n",
      "|    n_updates       | 66975        |\n",
      "|    reward          | -0.011452495 |\n",
      "-------------------------------------\n",
      "day: 3524, episode: 40\n",
      "begin_total_asset: 100000.00\n",
      "end_total_asset: 99900.10\n",
      "total_reward: -99.90\n",
      "total_cost: 99.90\n",
      "total_trades: 52860\n",
      "Sharpe: 0.240\n",
      "=================================\n",
      "-------------------------------------\n",
      "| time/              |              |\n",
      "|    episodes        | 24           |\n",
      "|    fps             | 60           |\n",
      "|    time_elapsed    | 1390         |\n",
      "|    total_timesteps | 84600        |\n",
      "| train/             |              |\n",
      "|    actor_loss      | -0.261       |\n",
      "|    critic_loss     | 0.00185      |\n",
      "|    learning_rate   | 0.001        |\n",
      "|    n_updates       | 81075        |\n",
      "|    reward          | -0.011452495 |\n",
      "-------------------------------------\n",
      "-------------------------------------\n",
      "| time/              |              |\n",
      "|    episodes        | 28           |\n",
      "|    fps             | 60           |\n",
      "|    time_elapsed    | 1634         |\n",
      "|    total_timesteps | 98700        |\n",
      "| train/             |              |\n",
      "|    actor_loss      | -0.242       |\n",
      "|    critic_loss     | 0.00132      |\n",
      "|    learning_rate   | 0.001        |\n",
      "|    n_updates       | 95175        |\n",
      "|    reward          | -0.011452495 |\n",
      "-------------------------------------\n"
     ]
    }
   ],
   "source": [
    "TIME_STEPS = 100_000\n",
    "model_ddpg.reset_num_timesteps=False\n",
    "trained_ddpg = agent.train_model(model=model_ddpg,\n",
    "                            tb_log_name='ddpg',\n",
    "                            total_timesteps=TIME_STEPS)\n",
    "# trained_ddpg = agent.train_model(model=model_ddpg,\n",
    "#                                 tb_log_name='ddpg',\n",
    "#                                 total_timesteps=50000)"
   ]
  },
  {
   "cell_type": "code",
   "execution_count": 73,
   "outputs": [],
   "source": [
    "trained_ddpg.save(\".\" + os.sep + config.TRAINED_MODEL_DIR + os.sep + \"ddpg.pkl\")"
   ],
   "metadata": {
    "collapsed": false,
    "pycharm": {
     "name": "#%%\n"
    }
   }
  },
  {
   "cell_type": "markdown",
   "metadata": {
    "id": "_gDkU-j-fCmZ",
    "pycharm": {
     "name": "#%% md\n"
    }
   },
   "source": [
    "### Model 3: PPO"
   ]
  },
  {
   "cell_type": "code",
   "execution_count": 74,
   "metadata": {
    "id": "y5D5PFUhMzSV",
    "pycharm": {
     "name": "#%%\n"
    }
   },
   "outputs": [
    {
     "name": "stdout",
     "output_type": "stream",
     "text": [
      "{'n_steps': 2048, 'ent_coef': 0.01, 'learning_rate': 0.00025, 'batch_size': 128}\n",
      "Using cuda device\n"
     ]
    }
   ],
   "source": [
    "agent = DRLAgent(env = env_train)\n",
    "PPO_PARAMS = {\n",
    "    \"n_steps\": 2048,\n",
    "    \"ent_coef\": 0.01,\n",
    "    \"learning_rate\": 0.00025,\n",
    "    \"batch_size\": 128,\n",
    "}\n",
    "model_ppo = agent.get_model(\"ppo\",model_kwargs = PPO_PARAMS,\n",
    "                            verbose=1, tensorboard_log=tensorboard_log_dir)"
   ]
  },
  {
   "cell_type": "code",
   "execution_count": 75,
   "metadata": {
    "id": "Gt8eIQKYM4G3",
    "jupyter": {
     "outputs_hidden": true
    },
    "pycharm": {
     "name": "#%%\n"
    }
   },
   "outputs": [
    {
     "name": "stdout",
     "output_type": "stream",
     "text": [
      "Logging to .\\tensorboard_log\\20220907-0759\\ppo_1\n",
      "-----------------------------------\n",
      "| time/              |            |\n",
      "|    fps             | 87         |\n",
      "|    iterations      | 1          |\n",
      "|    time_elapsed    | 23         |\n",
      "|    total_timesteps | 2048       |\n",
      "| train/             |            |\n",
      "|    reward          | 0.04141144 |\n",
      "-----------------------------------\n",
      "-----------------------------------------\n",
      "| time/                   |             |\n",
      "|    fps                  | 85          |\n",
      "|    iterations           | 2           |\n",
      "|    time_elapsed         | 47          |\n",
      "|    total_timesteps      | 4096        |\n",
      "| train/                  |             |\n",
      "|    approx_kl            | 0.020700984 |\n",
      "|    clip_fraction        | 0.218       |\n",
      "|    clip_range           | 0.2         |\n",
      "|    entropy_loss         | -39.8       |\n",
      "|    explained_variance   | -1.51       |\n",
      "|    learning_rate        | 0.00025     |\n",
      "|    loss                 | -0.455      |\n",
      "|    n_updates            | 10          |\n",
      "|    policy_gradient_loss | -0.064      |\n",
      "|    reward               | 0.009733261 |\n",
      "|    std                  | 1           |\n",
      "|    value_loss           | 0.141       |\n",
      "-----------------------------------------\n",
      "-------------------------------------------\n",
      "| time/                   |               |\n",
      "|    fps                  | 85            |\n",
      "|    iterations           | 3             |\n",
      "|    time_elapsed         | 72            |\n",
      "|    total_timesteps      | 6144          |\n",
      "| train/                  |               |\n",
      "|    approx_kl            | 0.022666276   |\n",
      "|    clip_fraction        | 0.243         |\n",
      "|    clip_range           | 0.2           |\n",
      "|    entropy_loss         | -39.8         |\n",
      "|    explained_variance   | -0.288        |\n",
      "|    learning_rate        | 0.00025       |\n",
      "|    loss                 | -0.417        |\n",
      "|    n_updates            | 20            |\n",
      "|    policy_gradient_loss | -0.0393       |\n",
      "|    reward               | -0.0030891015 |\n",
      "|    std                  | 1             |\n",
      "|    value_loss           | 0.0851        |\n",
      "-------------------------------------------\n",
      "-----------------------------------------\n",
      "| time/                   |             |\n",
      "|    fps                  | 84          |\n",
      "|    iterations           | 4           |\n",
      "|    time_elapsed         | 96          |\n",
      "|    total_timesteps      | 8192        |\n",
      "| train/                  |             |\n",
      "|    approx_kl            | 0.024115223 |\n",
      "|    clip_fraction        | 0.269       |\n",
      "|    clip_range           | 0.2         |\n",
      "|    entropy_loss         | -39.9       |\n",
      "|    explained_variance   | -3.9        |\n",
      "|    learning_rate        | 0.00025     |\n",
      "|    loss                 | -0.477      |\n",
      "|    n_updates            | 30          |\n",
      "|    policy_gradient_loss | -0.0583     |\n",
      "|    reward               | 0.047320414 |\n",
      "|    std                  | 1.01        |\n",
      "|    value_loss           | 0.0179      |\n",
      "-----------------------------------------\n",
      "-----------------------------------------\n",
      "| time/                   |             |\n",
      "|    fps                  | 84          |\n",
      "|    iterations           | 5           |\n",
      "|    time_elapsed         | 120         |\n",
      "|    total_timesteps      | 10240       |\n",
      "| train/                  |             |\n",
      "|    approx_kl            | 0.028812386 |\n",
      "|    clip_fraction        | 0.303       |\n",
      "|    clip_range           | 0.2         |\n",
      "|    entropy_loss         | -39.9       |\n",
      "|    explained_variance   | -0.198      |\n",
      "|    learning_rate        | 0.00025     |\n",
      "|    loss                 | -0.475      |\n",
      "|    n_updates            | 40          |\n",
      "|    policy_gradient_loss | -0.0556     |\n",
      "|    reward               | 0.05018305  |\n",
      "|    std                  | 1.01        |\n",
      "|    value_loss           | 0.0339      |\n",
      "-----------------------------------------\n",
      "-----------------------------------------\n",
      "| time/                   |             |\n",
      "|    fps                  | 84          |\n",
      "|    iterations           | 6           |\n",
      "|    time_elapsed         | 145         |\n",
      "|    total_timesteps      | 12288       |\n",
      "| train/                  |             |\n",
      "|    approx_kl            | 0.026516568 |\n",
      "|    clip_fraction        | 0.303       |\n",
      "|    clip_range           | 0.2         |\n",
      "|    entropy_loss         | -40         |\n",
      "|    explained_variance   | -1.32       |\n",
      "|    learning_rate        | 0.00025     |\n",
      "|    loss                 | -0.464      |\n",
      "|    n_updates            | 50          |\n",
      "|    policy_gradient_loss | -0.0394     |\n",
      "|    reward               | 0.0260522   |\n",
      "|    std                  | 1.01        |\n",
      "|    value_loss           | 0.0108      |\n",
      "-----------------------------------------\n",
      "day: 3524, episode: 50\n",
      "begin_total_asset: 100000.00\n",
      "end_total_asset: 15395.19\n",
      "total_reward: -84604.81\n",
      "total_cost: 38158.62\n",
      "total_trades: 58417\n",
      "Sharpe: -0.200\n",
      "=================================\n",
      "-----------------------------------------\n",
      "| time/                   |             |\n",
      "|    fps                  | 84          |\n",
      "|    iterations           | 7           |\n",
      "|    time_elapsed         | 169         |\n",
      "|    total_timesteps      | 14336       |\n",
      "| train/                  |             |\n",
      "|    approx_kl            | 0.027337044 |\n",
      "|    clip_fraction        | 0.296       |\n",
      "|    clip_range           | 0.2         |\n",
      "|    entropy_loss         | -40.1       |\n",
      "|    explained_variance   | 0.11        |\n",
      "|    learning_rate        | 0.00025     |\n",
      "|    loss                 | -0.487      |\n",
      "|    n_updates            | 60          |\n",
      "|    policy_gradient_loss | -0.0543     |\n",
      "|    reward               | 0.05476036  |\n",
      "|    std                  | 1.01        |\n",
      "|    value_loss           | 0.0248      |\n",
      "-----------------------------------------\n",
      "-----------------------------------------\n",
      "| time/                   |             |\n",
      "|    fps                  | 84          |\n",
      "|    iterations           | 8           |\n",
      "|    time_elapsed         | 193         |\n",
      "|    total_timesteps      | 16384       |\n",
      "| train/                  |             |\n",
      "|    approx_kl            | 0.030247219 |\n",
      "|    clip_fraction        | 0.337       |\n",
      "|    clip_range           | 0.2         |\n",
      "|    entropy_loss         | -40.1       |\n",
      "|    explained_variance   | 0.454       |\n",
      "|    learning_rate        | 0.00025     |\n",
      "|    loss                 | -0.466      |\n",
      "|    n_updates            | 70          |\n",
      "|    policy_gradient_loss | -0.0314     |\n",
      "|    reward               | 0.005485197 |\n",
      "|    std                  | 1.01        |\n",
      "|    value_loss           | 0.0173      |\n",
      "-----------------------------------------\n",
      "-----------------------------------------\n",
      "| time/                   |             |\n",
      "|    fps                  | 84          |\n",
      "|    iterations           | 9           |\n",
      "|    time_elapsed         | 218         |\n",
      "|    total_timesteps      | 18432       |\n",
      "| train/                  |             |\n",
      "|    approx_kl            | 0.035691056 |\n",
      "|    clip_fraction        | 0.36        |\n",
      "|    clip_range           | 0.2         |\n",
      "|    entropy_loss         | -40.2       |\n",
      "|    explained_variance   | -4.83       |\n",
      "|    learning_rate        | 0.00025     |\n",
      "|    loss                 | -0.482      |\n",
      "|    n_updates            | 80          |\n",
      "|    policy_gradient_loss | -0.0491     |\n",
      "|    reward               | -0.04977177 |\n",
      "|    std                  | 1.02        |\n",
      "|    value_loss           | 0.0083      |\n",
      "-----------------------------------------\n",
      "------------------------------------------\n",
      "| time/                   |              |\n",
      "|    fps                  | 84           |\n",
      "|    iterations           | 10           |\n",
      "|    time_elapsed         | 242          |\n",
      "|    total_timesteps      | 20480        |\n",
      "| train/                  |              |\n",
      "|    approx_kl            | 0.03985151   |\n",
      "|    clip_fraction        | 0.351        |\n",
      "|    clip_range           | 0.2          |\n",
      "|    entropy_loss         | -40.3        |\n",
      "|    explained_variance   | 0.415        |\n",
      "|    learning_rate        | 0.00025      |\n",
      "|    loss                 | -0.505       |\n",
      "|    n_updates            | 90           |\n",
      "|    policy_gradient_loss | -0.0517      |\n",
      "|    reward               | -0.046539344 |\n",
      "|    std                  | 1.02         |\n",
      "|    value_loss           | 0.0153       |\n",
      "------------------------------------------\n",
      "------------------------------------------\n",
      "| time/                   |              |\n",
      "|    fps                  | 84           |\n",
      "|    iterations           | 11           |\n",
      "|    time_elapsed         | 267          |\n",
      "|    total_timesteps      | 22528        |\n",
      "| train/                  |              |\n",
      "|    approx_kl            | 0.03977524   |\n",
      "|    clip_fraction        | 0.38         |\n",
      "|    clip_range           | 0.2          |\n",
      "|    entropy_loss         | -40.4        |\n",
      "|    explained_variance   | -1.41        |\n",
      "|    learning_rate        | 0.00025      |\n",
      "|    loss                 | -0.472       |\n",
      "|    n_updates            | 100          |\n",
      "|    policy_gradient_loss | -0.0372      |\n",
      "|    reward               | -0.034432735 |\n",
      "|    std                  | 1.02         |\n",
      "|    value_loss           | 0.00633      |\n",
      "------------------------------------------\n",
      "-----------------------------------------\n",
      "| time/                   |             |\n",
      "|    fps                  | 84          |\n",
      "|    iterations           | 12          |\n",
      "|    time_elapsed         | 291         |\n",
      "|    total_timesteps      | 24576       |\n",
      "| train/                  |             |\n",
      "|    approx_kl            | 0.033551034 |\n",
      "|    clip_fraction        | 0.33        |\n",
      "|    clip_range           | 0.2         |\n",
      "|    entropy_loss         | -40.4       |\n",
      "|    explained_variance   | 0.0876      |\n",
      "|    learning_rate        | 0.00025     |\n",
      "|    loss                 | -0.479      |\n",
      "|    n_updates            | 110         |\n",
      "|    policy_gradient_loss | -0.0517     |\n",
      "|    reward               | 0.03570841  |\n",
      "|    std                  | 1.03        |\n",
      "|    value_loss           | 0.022       |\n",
      "-----------------------------------------\n",
      "-------------------------------------------\n",
      "| time/                   |               |\n",
      "|    fps                  | 84            |\n",
      "|    iterations           | 13            |\n",
      "|    time_elapsed         | 316           |\n",
      "|    total_timesteps      | 26624         |\n",
      "| train/                  |               |\n",
      "|    approx_kl            | 0.04564297    |\n",
      "|    clip_fraction        | 0.391         |\n",
      "|    clip_range           | 0.2           |\n",
      "|    entropy_loss         | -40.5         |\n",
      "|    explained_variance   | -0.0378       |\n",
      "|    learning_rate        | 0.00025       |\n",
      "|    loss                 | -0.455        |\n",
      "|    n_updates            | 120           |\n",
      "|    policy_gradient_loss | -0.0157       |\n",
      "|    reward               | -0.0073515484 |\n",
      "|    std                  | 1.03          |\n",
      "|    value_loss           | 0.00974       |\n",
      "-------------------------------------------\n",
      "-----------------------------------------\n",
      "| time/                   |             |\n",
      "|    fps                  | 84          |\n",
      "|    iterations           | 14          |\n",
      "|    time_elapsed         | 340         |\n",
      "|    total_timesteps      | 28672       |\n",
      "| train/                  |             |\n",
      "|    approx_kl            | 0.034806274 |\n",
      "|    clip_fraction        | 0.331       |\n",
      "|    clip_range           | 0.2         |\n",
      "|    entropy_loss         | -40.5       |\n",
      "|    explained_variance   | 0.51        |\n",
      "|    learning_rate        | 0.00025     |\n",
      "|    loss                 | -0.484      |\n",
      "|    n_updates            | 130         |\n",
      "|    policy_gradient_loss | -0.0536     |\n",
      "|    reward               | 0.032853816 |\n",
      "|    std                  | 1.03        |\n",
      "|    value_loss           | 0.0144      |\n",
      "-----------------------------------------\n",
      "-----------------------------------------\n",
      "| time/                   |             |\n",
      "|    fps                  | 84          |\n",
      "|    iterations           | 15          |\n",
      "|    time_elapsed         | 365         |\n",
      "|    total_timesteps      | 30720       |\n",
      "| train/                  |             |\n",
      "|    approx_kl            | 0.040174842 |\n",
      "|    clip_fraction        | 0.389       |\n",
      "|    clip_range           | 0.2         |\n",
      "|    entropy_loss         | -40.6       |\n",
      "|    explained_variance   | 0.61        |\n",
      "|    learning_rate        | 0.00025     |\n",
      "|    loss                 | -0.445      |\n",
      "|    n_updates            | 140         |\n",
      "|    policy_gradient_loss | -0.0288     |\n",
      "|    reward               | 0.014931403 |\n",
      "|    std                  | 1.03        |\n",
      "|    value_loss           | 0.011       |\n",
      "-----------------------------------------\n",
      "-------------------------------------------\n",
      "| time/                   |               |\n",
      "|    fps                  | 84            |\n",
      "|    iterations           | 16            |\n",
      "|    time_elapsed         | 389           |\n",
      "|    total_timesteps      | 32768         |\n",
      "| train/                  |               |\n",
      "|    approx_kl            | 0.04220534    |\n",
      "|    clip_fraction        | 0.387         |\n",
      "|    clip_range           | 0.2           |\n",
      "|    entropy_loss         | -40.7         |\n",
      "|    explained_variance   | -2.16         |\n",
      "|    learning_rate        | 0.00025       |\n",
      "|    loss                 | -0.485        |\n",
      "|    n_updates            | 150           |\n",
      "|    policy_gradient_loss | -0.0434       |\n",
      "|    reward               | -0.0023911893 |\n",
      "|    std                  | 1.04          |\n",
      "|    value_loss           | 0.0049        |\n",
      "-------------------------------------------\n",
      "------------------------------------------\n",
      "| time/                   |              |\n",
      "|    fps                  | 83           |\n",
      "|    iterations           | 17           |\n",
      "|    time_elapsed         | 414          |\n",
      "|    total_timesteps      | 34816        |\n",
      "| train/                  |              |\n",
      "|    approx_kl            | 0.03687828   |\n",
      "|    clip_fraction        | 0.348        |\n",
      "|    clip_range           | 0.2          |\n",
      "|    entropy_loss         | -40.7        |\n",
      "|    explained_variance   | 0.65         |\n",
      "|    learning_rate        | 0.00025      |\n",
      "|    loss                 | -0.464       |\n",
      "|    n_updates            | 160          |\n",
      "|    policy_gradient_loss | -0.0422      |\n",
      "|    reward               | 0.0048224158 |\n",
      "|    std                  | 1.04         |\n",
      "|    value_loss           | 0.0107       |\n",
      "------------------------------------------\n",
      "-----------------------------------------\n",
      "| time/                   |             |\n",
      "|    fps                  | 83          |\n",
      "|    iterations           | 18          |\n",
      "|    time_elapsed         | 440         |\n",
      "|    total_timesteps      | 36864       |\n",
      "| train/                  |             |\n",
      "|    approx_kl            | 0.035497    |\n",
      "|    clip_fraction        | 0.345       |\n",
      "|    clip_range           | 0.2         |\n",
      "|    entropy_loss         | -40.8       |\n",
      "|    explained_variance   | -1.3        |\n",
      "|    learning_rate        | 0.00025     |\n",
      "|    loss                 | -0.49       |\n",
      "|    n_updates            | 170         |\n",
      "|    policy_gradient_loss | -0.0368     |\n",
      "|    reward               | 0.013652254 |\n",
      "|    std                  | 1.04        |\n",
      "|    value_loss           | 0.00184     |\n",
      "-----------------------------------------\n",
      "-----------------------------------------\n",
      "| time/                   |             |\n",
      "|    fps                  | 83          |\n",
      "|    iterations           | 19          |\n",
      "|    time_elapsed         | 465         |\n",
      "|    total_timesteps      | 38912       |\n",
      "| train/                  |             |\n",
      "|    approx_kl            | 0.042787075 |\n",
      "|    clip_fraction        | 0.361       |\n",
      "|    clip_range           | 0.2         |\n",
      "|    entropy_loss         | -40.9       |\n",
      "|    explained_variance   | 0.459       |\n",
      "|    learning_rate        | 0.00025     |\n",
      "|    loss                 | -0.493      |\n",
      "|    n_updates            | 180         |\n",
      "|    policy_gradient_loss | -0.0511     |\n",
      "|    reward               | 0.009939163 |\n",
      "|    std                  | 1.04        |\n",
      "|    value_loss           | 0.0128      |\n",
      "-----------------------------------------\n",
      "------------------------------------------\n",
      "| time/                   |              |\n",
      "|    fps                  | 83           |\n",
      "|    iterations           | 20           |\n",
      "|    time_elapsed         | 490          |\n",
      "|    total_timesteps      | 40960        |\n",
      "| train/                  |              |\n",
      "|    approx_kl            | 0.04393273   |\n",
      "|    clip_fraction        | 0.397        |\n",
      "|    clip_range           | 0.2          |\n",
      "|    entropy_loss         | -41          |\n",
      "|    explained_variance   | 0.7          |\n",
      "|    learning_rate        | 0.00025      |\n",
      "|    loss                 | -0.465       |\n",
      "|    n_updates            | 190          |\n",
      "|    policy_gradient_loss | -0.0185      |\n",
      "|    reward               | 0.0147304945 |\n",
      "|    std                  | 1.05         |\n",
      "|    value_loss           | 0.00951      |\n",
      "------------------------------------------\n",
      "------------------------------------------\n",
      "| time/                   |              |\n",
      "|    fps                  | 83           |\n",
      "|    iterations           | 21           |\n",
      "|    time_elapsed         | 514          |\n",
      "|    total_timesteps      | 43008        |\n",
      "| train/                  |              |\n",
      "|    approx_kl            | 0.0443957    |\n",
      "|    clip_fraction        | 0.372        |\n",
      "|    clip_range           | 0.2          |\n",
      "|    entropy_loss         | -41.1        |\n",
      "|    explained_variance   | -0.65        |\n",
      "|    learning_rate        | 0.00025      |\n",
      "|    loss                 | -0.493       |\n",
      "|    n_updates            | 200          |\n",
      "|    policy_gradient_loss | -0.0511      |\n",
      "|    reward               | 0.0034985838 |\n",
      "|    std                  | 1.05         |\n",
      "|    value_loss           | 0.00548      |\n",
      "------------------------------------------\n",
      "-----------------------------------------\n",
      "| time/                   |             |\n",
      "|    fps                  | 83          |\n",
      "|    iterations           | 22          |\n",
      "|    time_elapsed         | 539         |\n",
      "|    total_timesteps      | 45056       |\n",
      "| train/                  |             |\n",
      "|    approx_kl            | 0.041035213 |\n",
      "|    clip_fraction        | 0.381       |\n",
      "|    clip_range           | 0.2         |\n",
      "|    entropy_loss         | -41.2       |\n",
      "|    explained_variance   | 0.712       |\n",
      "|    learning_rate        | 0.00025     |\n",
      "|    loss                 | -0.464      |\n",
      "|    n_updates            | 210         |\n",
      "|    policy_gradient_loss | -0.0311     |\n",
      "|    reward               | 0.004744943 |\n",
      "|    std                  | 1.06        |\n",
      "|    value_loss           | 0.0105      |\n",
      "-----------------------------------------\n",
      "-----------------------------------------\n",
      "| time/                   |             |\n",
      "|    fps                  | 83          |\n",
      "|    iterations           | 23          |\n",
      "|    time_elapsed         | 564         |\n",
      "|    total_timesteps      | 47104       |\n",
      "| train/                  |             |\n",
      "|    approx_kl            | 0.044999167 |\n",
      "|    clip_fraction        | 0.382       |\n",
      "|    clip_range           | 0.2         |\n",
      "|    entropy_loss         | -41.3       |\n",
      "|    explained_variance   | -0.932      |\n",
      "|    learning_rate        | 0.00025     |\n",
      "|    loss                 | -0.459      |\n",
      "|    n_updates            | 220         |\n",
      "|    policy_gradient_loss | -0.0354     |\n",
      "|    reward               | 0.001335213 |\n",
      "|    std                  | 1.06        |\n",
      "|    value_loss           | 0.00183     |\n",
      "-----------------------------------------\n",
      "------------------------------------------\n",
      "| time/                   |              |\n",
      "|    fps                  | 83           |\n",
      "|    iterations           | 24           |\n",
      "|    time_elapsed         | 588          |\n",
      "|    total_timesteps      | 49152        |\n",
      "| train/                  |              |\n",
      "|    approx_kl            | 0.034292974  |\n",
      "|    clip_fraction        | 0.324        |\n",
      "|    clip_range           | 0.2          |\n",
      "|    entropy_loss         | -41.4        |\n",
      "|    explained_variance   | 0.825        |\n",
      "|    learning_rate        | 0.00025      |\n",
      "|    loss                 | -0.472       |\n",
      "|    n_updates            | 230          |\n",
      "|    policy_gradient_loss | -0.0466      |\n",
      "|    reward               | 0.0043020803 |\n",
      "|    std                  | 1.06         |\n",
      "|    value_loss           | 0.00516      |\n",
      "------------------------------------------\n",
      "day: 3524, episode: 60\n",
      "begin_total_asset: 100000.00\n",
      "end_total_asset: 6967.04\n",
      "total_reward: -93032.96\n",
      "total_cost: 32181.15\n",
      "total_trades: 58386\n",
      "Sharpe: -0.362\n",
      "=================================\n",
      "-----------------------------------------\n",
      "| time/                   |             |\n",
      "|    fps                  | 83          |\n",
      "|    iterations           | 25          |\n",
      "|    time_elapsed         | 613         |\n",
      "|    total_timesteps      | 51200       |\n",
      "| train/                  |             |\n",
      "|    approx_kl            | 0.0537141   |\n",
      "|    clip_fraction        | 0.419       |\n",
      "|    clip_range           | 0.2         |\n",
      "|    entropy_loss         | -41.5       |\n",
      "|    explained_variance   | 0.0431      |\n",
      "|    learning_rate        | 0.00025     |\n",
      "|    loss                 | -0.439      |\n",
      "|    n_updates            | 240         |\n",
      "|    policy_gradient_loss | -0.0181     |\n",
      "|    reward               | 0.016843788 |\n",
      "|    std                  | 1.07        |\n",
      "|    value_loss           | 0.002       |\n",
      "-----------------------------------------\n"
     ]
    }
   ],
   "source": [
    "TIME_STEPS = 50_000\n",
    "model_ppo.reset_num_timesteps=False\n",
    "trained_ppo = agent.train_model(model=model_ppo,\n",
    "                                 tb_log_name='ppo',\n",
    "                                 total_timesteps=TIME_STEPS)\n",
    "# trained_ppo = agent.train_model(model=model_ppo,\n",
    "#                             tb_log_name='ppo',\n",
    "#                             total_timesteps=50000)"
   ]
  },
  {
   "cell_type": "code",
   "execution_count": 76,
   "outputs": [],
   "source": [
    "trained_ppo.save(\".\" + os.sep + config.TRAINED_MODEL_DIR + os.sep + \"ppo.pkl\")"
   ],
   "metadata": {
    "collapsed": false,
    "pycharm": {
     "name": "#%%\n"
    }
   }
  },
  {
   "cell_type": "markdown",
   "metadata": {
    "id": "3Zpv4S0-fDBv",
    "pycharm": {
     "name": "#%% md\n"
    }
   },
   "source": [
    "### Model 4: TD3"
   ]
  },
  {
   "cell_type": "code",
   "execution_count": 77,
   "metadata": {
    "id": "JSAHhV4Xc-bh",
    "pycharm": {
     "name": "#%%\n"
    }
   },
   "outputs": [
    {
     "name": "stdout",
     "output_type": "stream",
     "text": [
      "{'batch_size': 100, 'buffer_size': 1000000, 'learning_rate': 0.001}\n",
      "Using cuda device\n"
     ]
    }
   ],
   "source": [
    "agent = DRLAgent(env = env_train)\n",
    "TD3_PARAMS = {\"batch_size\": 100, \n",
    "              \"buffer_size\": 1000000, \n",
    "              \"learning_rate\": 0.001}\n",
    "\n",
    "model_td3 = agent.get_model(\"td3\",model_kwargs = TD3_PARAMS,\n",
    "                            verbose=1, tensorboard_log=tensorboard_log_dir)"
   ]
  },
  {
   "cell_type": "code",
   "execution_count": 78,
   "metadata": {
    "id": "OSRxNYAxdKpU",
    "pycharm": {
     "name": "#%%\n"
    }
   },
   "outputs": [
    {
     "name": "stdout",
     "output_type": "stream",
     "text": [
      "Logging to .\\tensorboard_log\\20220907-0759\\td3_1\n",
      "-------------------------------------\n",
      "| time/              |              |\n",
      "|    episodes        | 4            |\n",
      "|    fps             | 68           |\n",
      "|    time_elapsed    | 206          |\n",
      "|    total_timesteps | 14100        |\n",
      "| train/             |              |\n",
      "|    actor_loss      | 1.12         |\n",
      "|    critic_loss     | 0.0949       |\n",
      "|    learning_rate   | 0.001        |\n",
      "|    n_updates       | 10575        |\n",
      "|    reward          | -0.011865147 |\n",
      "-------------------------------------\n",
      "-------------------------------------\n",
      "| time/              |              |\n",
      "|    episodes        | 8            |\n",
      "|    fps             | 64           |\n",
      "|    time_elapsed    | 435          |\n",
      "|    total_timesteps | 28200        |\n",
      "| train/             |              |\n",
      "|    actor_loss      | 1.2          |\n",
      "|    critic_loss     | 0.0163       |\n",
      "|    learning_rate   | 0.001        |\n",
      "|    n_updates       | 24675        |\n",
      "|    reward          | -0.011865147 |\n",
      "-------------------------------------\n",
      "day: 3524, episode: 70\n",
      "begin_total_asset: 100000.00\n",
      "end_total_asset: 99900.10\n",
      "total_reward: -99.90\n",
      "total_cost: 99.90\n",
      "total_trades: 45812\n",
      "Sharpe: 0.281\n",
      "=================================\n",
      "-------------------------------------\n",
      "| time/              |              |\n",
      "|    episodes        | 12           |\n",
      "|    fps             | 61           |\n",
      "|    time_elapsed    | 692          |\n",
      "|    total_timesteps | 42300        |\n",
      "| train/             |              |\n",
      "|    actor_loss      | 0.958        |\n",
      "|    critic_loss     | 0.0112       |\n",
      "|    learning_rate   | 0.001        |\n",
      "|    n_updates       | 38775        |\n",
      "|    reward          | -0.011865147 |\n",
      "-------------------------------------\n"
     ]
    }
   ],
   "source": [
    "TIME_STEPS = 50_000\n",
    "model_td3.reset_num_timesteps=False\n",
    "trained_td3 = agent.train_model(model=model_td3,\n",
    "                                tb_log_name='td3',\n",
    "                                total_timesteps=TIME_STEPS)\n",
    "# trained_td3 = agent.train_model(model=model_td3,\n",
    "#                                 tb_log_name='td3',\n",
    "#                                 total_timesteps=30000)"
   ]
  },
  {
   "cell_type": "code",
   "execution_count": 79,
   "outputs": [],
   "source": [
    "trained_td3.save(\".\" + os.sep + config.TRAINED_MODEL_DIR + os.sep + \"td3.pkl\")"
   ],
   "metadata": {
    "collapsed": false,
    "pycharm": {
     "name": "#%%\n"
    }
   }
  },
  {
   "cell_type": "markdown",
   "metadata": {
    "id": "Dr49PotrfG01",
    "pycharm": {
     "name": "#%% md\n"
    }
   },
   "source": [
    "### Model 5: SAC"
   ]
  },
  {
   "cell_type": "code",
   "execution_count": 80,
   "metadata": {
    "id": "xwOhVjqRkCdM",
    "pycharm": {
     "name": "#%%\n"
    }
   },
   "outputs": [
    {
     "name": "stdout",
     "output_type": "stream",
     "text": [
      "{'batch_size': 128, 'buffer_size': 1000000, 'learning_rate': 0.0001, 'learning_starts': 100, 'ent_coef': 'auto_0.1'}\n",
      "Using cuda device\n"
     ]
    }
   ],
   "source": [
    "agent = DRLAgent(env = env_train)\n",
    "SAC_PARAMS = {\n",
    "    \"batch_size\": 128,\n",
    "    \"buffer_size\": 1000000,\n",
    "    \"learning_rate\": 0.0001,\n",
    "    \"learning_starts\": 100,\n",
    "    \"ent_coef\": \"auto_0.1\",\n",
    "}\n",
    "\n",
    "model_sac = agent.get_model(\"sac\",model_kwargs = SAC_PARAMS,\n",
    "                            verbose=1, tensorboard_log=tensorboard_log_dir)"
   ]
  },
  {
   "cell_type": "code",
   "execution_count": 81,
   "metadata": {
    "id": "K8RSdKCckJyH",
    "pycharm": {
     "name": "#%%\n"
    }
   },
   "outputs": [
    {
     "name": "stdout",
     "output_type": "stream",
     "text": [
      "Logging to .\\tensorboard_log\\20220907-0759\\sac_1\n",
      "day: 3524, episode: 80\n",
      "begin_total_asset: 100000.00\n",
      "end_total_asset: 38943.06\n",
      "total_reward: -61056.94\n",
      "total_cost: 44084.60\n",
      "total_trades: 63687\n",
      "Sharpe: 0.029\n",
      "=================================\n",
      "-------------------------------------\n",
      "| time/              |              |\n",
      "|    episodes        | 4            |\n",
      "|    fps             | 35           |\n",
      "|    time_elapsed    | 400          |\n",
      "|    total_timesteps | 14100        |\n",
      "| train/             |              |\n",
      "|    actor_loss      | -15.5        |\n",
      "|    critic_loss     | 4.2          |\n",
      "|    ent_coef        | 0.0256       |\n",
      "|    ent_coef_loss   | -170         |\n",
      "|    learning_rate   | 0.0001       |\n",
      "|    n_updates       | 13999        |\n",
      "|    reward          | -0.010065694 |\n",
      "-------------------------------------\n",
      "-------------------------------------\n",
      "| time/              |              |\n",
      "|    episodes        | 8            |\n",
      "|    fps             | 34           |\n",
      "|    time_elapsed    | 805          |\n",
      "|    total_timesteps | 28200        |\n",
      "| train/             |              |\n",
      "|    actor_loss      | -14.2        |\n",
      "|    critic_loss     | 0.0193       |\n",
      "|    ent_coef        | 0.00624      |\n",
      "|    ent_coef_loss   | -235         |\n",
      "|    learning_rate   | 0.0001       |\n",
      "|    n_updates       | 28099        |\n",
      "|    reward          | -0.016820727 |\n",
      "-------------------------------------\n",
      "------------------------------------\n",
      "| time/              |             |\n",
      "|    episodes        | 12          |\n",
      "|    fps             | 35          |\n",
      "|    time_elapsed    | 1207        |\n",
      "|    total_timesteps | 42300       |\n",
      "| train/             |             |\n",
      "|    actor_loss      | -7.77       |\n",
      "|    critic_loss     | 0.00646     |\n",
      "|    ent_coef        | 0.00153     |\n",
      "|    ent_coef_loss   | -293        |\n",
      "|    learning_rate   | 0.0001      |\n",
      "|    n_updates       | 42199       |\n",
      "|    reward          | -0.05597569 |\n",
      "------------------------------------\n",
      "day: 3524, episode: 90\n",
      "begin_total_asset: 100000.00\n",
      "end_total_asset: 62171.08\n",
      "total_reward: -37828.92\n",
      "total_cost: 17446.15\n",
      "total_trades: 59200\n",
      "Sharpe: 0.239\n",
      "=================================\n"
     ]
    }
   ],
   "source": [
    "TIME_STEPS = 50_000\n",
    "model_sac.reset_num_timesteps=False\n",
    "trained_sac = agent.train_model(model=model_sac,\n",
    "                                tb_log_name='sac',\n",
    "                                total_timesteps=TIME_STEPS)\n",
    "# trained_sac = agent.train_model(model=model_sac,\n",
    "#                                 tb_log_name='sac',\n",
    "#                                 total_timesteps=60000)"
   ]
  },
  {
   "cell_type": "code",
   "execution_count": 82,
   "outputs": [],
   "source": [
    "trained_sac.save(\".\" + os.sep + config.TRAINED_MODEL_DIR + os.sep + \"sac.pkl\")"
   ],
   "metadata": {
    "collapsed": false,
    "pycharm": {
     "name": "#%%\n"
    }
   }
  },
  {
   "cell_type": "markdown",
   "metadata": {
    "id": "f2wZgkQXh1jE",
    "pycharm": {
     "name": "#%% md\n"
    }
   },
   "source": [
    "## Trading\n",
    "Assume that we have $1,000,000 initial capital at 2020-07-01. We use the DDPG model to trade Dow jones 30 stocks."
   ]
  },
  {
   "cell_type": "markdown",
   "metadata": {
    "id": "bEv5KGC8h1jE",
    "pycharm": {
     "name": "#%% md\n"
    }
   },
   "source": [
    "### Set turbulence threshold\n",
    "Set the turbulence threshold to be greater than the maximum of insample turbulence data, if current turbulence index is greater than the threshold, then we assume that the current market is volatile"
   ]
  },
  {
   "cell_type": "code",
   "execution_count": 83,
   "metadata": {
    "id": "efwBi84ch1jE",
    "pycharm": {
     "name": "#%%\n"
    }
   },
   "outputs": [],
   "source": [
    "data_risk_indicator = processed_full[(processed_full.date<'2021-01-01') & (processed_full.date>='2009-01-01')]\n",
    "insample_risk_indicator = data_risk_indicator.drop_duplicates(subset=['date'])"
   ]
  },
  {
   "cell_type": "code",
   "execution_count": 84,
   "metadata": {
    "id": "VHZMBpSqh1jG",
    "pycharm": {
     "name": "#%%\n"
    }
   },
   "outputs": [
    {
     "data": {
      "text/plain": "count    3021.000000\nmean       19.116220\nstd         8.458954\nmin         9.140000\n25%        13.410000\n50%        16.440001\n75%        22.219999\nmax        82.690002\nName: vix, dtype: float64"
     },
     "execution_count": 84,
     "metadata": {},
     "output_type": "execute_result"
    }
   ],
   "source": [
    "insample_risk_indicator.vix.describe()"
   ]
  },
  {
   "cell_type": "code",
   "execution_count": 85,
   "metadata": {
    "id": "BDkszkMloRWT",
    "pycharm": {
     "name": "#%%\n"
    }
   },
   "outputs": [
    {
     "data": {
      "text/plain": "57.078401794433596"
     },
     "execution_count": 85,
     "metadata": {},
     "output_type": "execute_result"
    }
   ],
   "source": [
    "insample_risk_indicator.vix.quantile(0.996)"
   ]
  },
  {
   "cell_type": "code",
   "execution_count": 86,
   "metadata": {
    "id": "AL7hs7svnNWT",
    "pycharm": {
     "name": "#%%\n"
    }
   },
   "outputs": [
    {
     "data": {
      "text/plain": "count    3021.000000\nmean       35.089819\nstd        42.031465\nmin         0.000000\n25%        15.881325\n50%        24.025809\n75%        38.396066\nmax       639.326079\nName: turbulence, dtype: float64"
     },
     "execution_count": 86,
     "metadata": {},
     "output_type": "execute_result"
    }
   ],
   "source": [
    "insample_risk_indicator.turbulence.describe()"
   ]
  },
  {
   "cell_type": "code",
   "execution_count": 87,
   "metadata": {
    "id": "N78hfHckoqJ9",
    "pycharm": {
     "name": "#%%\n"
    }
   },
   "outputs": [
    {
     "data": {
      "text/plain": "272.7496549014026"
     },
     "execution_count": 87,
     "metadata": {},
     "output_type": "execute_result"
    }
   ],
   "source": [
    "insample_risk_indicator.turbulence.quantile(0.996)"
   ]
  },
  {
   "cell_type": "markdown",
   "metadata": {
    "id": "U5mmgQF_h1jQ",
    "pycharm": {
     "name": "#%% md\n"
    }
   },
   "source": [
    "### Trade\n",
    "\n",
    "DRL model needs to update periodically in order to take full advantage of the data, ideally we need to retrain our model yearly, quarterly, or monthly. We also need to tune the parameters along the way, in this notebook I only use the in-sample data from 2009-01 to 2020-12 to tune the parameters once, so there is some alpha decay here as the length of trade date extends.\n",
    "\n",
    "Numerous hyperparameters – e.g. the learning rate, the total number of samples to train on – influence the learning process and are usually determined by testing some variations."
   ]
  },
  {
   "cell_type": "code",
   "execution_count": 88,
   "metadata": {
    "id": "cIqoV0GSI52v",
    "pycharm": {
     "name": "#%%\n"
    }
   },
   "outputs": [],
   "source": [
    "#trade = data_split(processed_full, '2020-07-01','2021-10-31')\n",
    "e_trade_gym = StockTradingEnv(df = trade, turbulence_threshold = 70,risk_indicator_col='vix', **env_kwargs)\n",
    "# env_trade, obs_trade = e_trade_gym.get_sb_env()"
   ]
  },
  {
   "cell_type": "code",
   "execution_count": 89,
   "metadata": {
    "id": "W_XNgGsBMeVw",
    "pycharm": {
     "name": "#%%\n"
    }
   },
   "outputs": [
    {
     "data": {
      "text/plain": "         date   tic        open        high         low       close  \\\n0  2022-01-03  AAPL  177.830002  182.880005  177.710007  181.259933   \n0  2022-01-03  AMGN  223.630005  226.970001  222.029999  221.262680   \n0  2022-01-03   AXP  164.509995  168.399994  164.399994  166.690140   \n0  2022-01-03    BA  204.000000  210.550003  203.339996  207.860001   \n0  2022-01-03   CAT  207.330002  208.600006  205.800003  203.599182   \n\n        volume  day      macd     boll_ub     boll_lb     rsi_30      cci_30  \\\n0  104487900.0  0.0  4.808605  183.080385  166.453220  64.844827  102.707255   \n0    2742800.0  0.0  4.729835  226.474642  201.962276  60.592155   90.863766   \n0    3236400.0  0.0 -0.654658  168.474023  156.073788  50.972520   59.472744   \n0    9060200.0  0.0 -0.982440  213.990814  188.896187  49.747896   65.232126   \n0    2055600.0  0.0  1.337452  206.519498  194.069257  53.031053   98.501540   \n\n       dx_30  close_30_sma  close_60_sma   vix  turbulence  \n0  50.480448    170.210325    159.073256  16.6   39.438443  \n0  30.885704    208.701451    205.503746  16.6   39.438443  \n0   4.683067    161.584028    168.675533  16.6   39.438443  \n0  14.369636    201.908335    210.063501  16.6   39.438443  \n0  13.202355    198.749514    198.607793  16.6   39.438443  ",
      "text/html": "<div>\n<style scoped>\n    .dataframe tbody tr th:only-of-type {\n        vertical-align: middle;\n    }\n\n    .dataframe tbody tr th {\n        vertical-align: top;\n    }\n\n    .dataframe thead th {\n        text-align: right;\n    }\n</style>\n<table border=\"1\" class=\"dataframe\">\n  <thead>\n    <tr style=\"text-align: right;\">\n      <th></th>\n      <th>date</th>\n      <th>tic</th>\n      <th>open</th>\n      <th>high</th>\n      <th>low</th>\n      <th>close</th>\n      <th>volume</th>\n      <th>day</th>\n      <th>macd</th>\n      <th>boll_ub</th>\n      <th>boll_lb</th>\n      <th>rsi_30</th>\n      <th>cci_30</th>\n      <th>dx_30</th>\n      <th>close_30_sma</th>\n      <th>close_60_sma</th>\n      <th>vix</th>\n      <th>turbulence</th>\n    </tr>\n  </thead>\n  <tbody>\n    <tr>\n      <th>0</th>\n      <td>2022-01-03</td>\n      <td>AAPL</td>\n      <td>177.830002</td>\n      <td>182.880005</td>\n      <td>177.710007</td>\n      <td>181.259933</td>\n      <td>104487900.0</td>\n      <td>0.0</td>\n      <td>4.808605</td>\n      <td>183.080385</td>\n      <td>166.453220</td>\n      <td>64.844827</td>\n      <td>102.707255</td>\n      <td>50.480448</td>\n      <td>170.210325</td>\n      <td>159.073256</td>\n      <td>16.6</td>\n      <td>39.438443</td>\n    </tr>\n    <tr>\n      <th>0</th>\n      <td>2022-01-03</td>\n      <td>AMGN</td>\n      <td>223.630005</td>\n      <td>226.970001</td>\n      <td>222.029999</td>\n      <td>221.262680</td>\n      <td>2742800.0</td>\n      <td>0.0</td>\n      <td>4.729835</td>\n      <td>226.474642</td>\n      <td>201.962276</td>\n      <td>60.592155</td>\n      <td>90.863766</td>\n      <td>30.885704</td>\n      <td>208.701451</td>\n      <td>205.503746</td>\n      <td>16.6</td>\n      <td>39.438443</td>\n    </tr>\n    <tr>\n      <th>0</th>\n      <td>2022-01-03</td>\n      <td>AXP</td>\n      <td>164.509995</td>\n      <td>168.399994</td>\n      <td>164.399994</td>\n      <td>166.690140</td>\n      <td>3236400.0</td>\n      <td>0.0</td>\n      <td>-0.654658</td>\n      <td>168.474023</td>\n      <td>156.073788</td>\n      <td>50.972520</td>\n      <td>59.472744</td>\n      <td>4.683067</td>\n      <td>161.584028</td>\n      <td>168.675533</td>\n      <td>16.6</td>\n      <td>39.438443</td>\n    </tr>\n    <tr>\n      <th>0</th>\n      <td>2022-01-03</td>\n      <td>BA</td>\n      <td>204.000000</td>\n      <td>210.550003</td>\n      <td>203.339996</td>\n      <td>207.860001</td>\n      <td>9060200.0</td>\n      <td>0.0</td>\n      <td>-0.982440</td>\n      <td>213.990814</td>\n      <td>188.896187</td>\n      <td>49.747896</td>\n      <td>65.232126</td>\n      <td>14.369636</td>\n      <td>201.908335</td>\n      <td>210.063501</td>\n      <td>16.6</td>\n      <td>39.438443</td>\n    </tr>\n    <tr>\n      <th>0</th>\n      <td>2022-01-03</td>\n      <td>CAT</td>\n      <td>207.330002</td>\n      <td>208.600006</td>\n      <td>205.800003</td>\n      <td>203.599182</td>\n      <td>2055600.0</td>\n      <td>0.0</td>\n      <td>1.337452</td>\n      <td>206.519498</td>\n      <td>194.069257</td>\n      <td>53.031053</td>\n      <td>98.501540</td>\n      <td>13.202355</td>\n      <td>198.749514</td>\n      <td>198.607793</td>\n      <td>16.6</td>\n      <td>39.438443</td>\n    </tr>\n  </tbody>\n</table>\n</div>"
     },
     "execution_count": 89,
     "metadata": {},
     "output_type": "execute_result"
    }
   ],
   "source": [
    "trade.head()"
   ]
  },
  {
   "cell_type": "code",
   "execution_count": 90,
   "metadata": {
    "id": "eLOnL5eYh1jR",
    "pycharm": {
     "name": "#%%\n"
    }
   },
   "outputs": [
    {
     "name": "stdout",
     "output_type": "stream",
     "text": [
      "hit end!\n"
     ]
    }
   ],
   "source": [
    "df_account_value, df_actions = DRLAgent.DRL_prediction(\n",
    "    model=trained_sac, \n",
    "    environment = e_trade_gym)"
   ]
  },
  {
   "cell_type": "code",
   "execution_count": 91,
   "metadata": {
    "id": "ERxw3KqLkcP4",
    "pycharm": {
     "name": "#%%\n"
    }
   },
   "outputs": [
    {
     "data": {
      "text/plain": "(166, 2)"
     },
     "execution_count": 91,
     "metadata": {},
     "output_type": "execute_result"
    }
   ],
   "source": [
    "df_account_value.shape"
   ]
  },
  {
   "cell_type": "code",
   "execution_count": 92,
   "metadata": {
    "id": "2yRkNguY5yvp",
    "pycharm": {
     "name": "#%%\n"
    }
   },
   "outputs": [
    {
     "data": {
      "text/plain": "           date  account_value\n161  2022-08-24   92758.138510\n162  2022-08-25   93515.852631\n163  2022-08-26   91118.279554\n164  2022-08-29   90861.016118\n165  2022-08-30   89924.890643",
      "text/html": "<div>\n<style scoped>\n    .dataframe tbody tr th:only-of-type {\n        vertical-align: middle;\n    }\n\n    .dataframe tbody tr th {\n        vertical-align: top;\n    }\n\n    .dataframe thead th {\n        text-align: right;\n    }\n</style>\n<table border=\"1\" class=\"dataframe\">\n  <thead>\n    <tr style=\"text-align: right;\">\n      <th></th>\n      <th>date</th>\n      <th>account_value</th>\n    </tr>\n  </thead>\n  <tbody>\n    <tr>\n      <th>161</th>\n      <td>2022-08-24</td>\n      <td>92758.138510</td>\n    </tr>\n    <tr>\n      <th>162</th>\n      <td>2022-08-25</td>\n      <td>93515.852631</td>\n    </tr>\n    <tr>\n      <th>163</th>\n      <td>2022-08-26</td>\n      <td>91118.279554</td>\n    </tr>\n    <tr>\n      <th>164</th>\n      <td>2022-08-29</td>\n      <td>90861.016118</td>\n    </tr>\n    <tr>\n      <th>165</th>\n      <td>2022-08-30</td>\n      <td>89924.890643</td>\n    </tr>\n  </tbody>\n</table>\n</div>"
     },
     "execution_count": 92,
     "metadata": {},
     "output_type": "execute_result"
    }
   ],
   "source": [
    "df_account_value.tail()"
   ]
  },
  {
   "cell_type": "code",
   "execution_count": 93,
   "metadata": {
    "id": "nFlK5hNbWVFk",
    "pycharm": {
     "name": "#%%\n"
    }
   },
   "outputs": [
    {
     "data": {
      "text/plain": "            AAPL  AMGN  AXP  BA  CAT  CRM  CSCO  CVX  DIS  GS  HD  HON  IBM  \\\ndate                                                                          \n2022-01-03     0    61    0  46    0    0     0    0    0   0  61    0    0   \n2022-01-04     0     0    0   0    0    0     0    0    0   0   0    0    0   \n2022-01-05     0     0    0   0    0    0     0    0    0   0   0    0    0   \n2022-01-06     0     0    0   0    0    0     0    0    0   0   0    0    0   \n2022-01-07     0     0    0   0    0    0     0    0    0   0   0    0    0   \n\n            INTC  JNJ  JPM  KO  MCD  MMM  MRK  MSFT  NKE  PG  TRV  UNH  VZ  \\\ndate                                                                         \n2022-01-03     0    0    0   0   72    0    0     0    0  64    0   39   0   \n2022-01-04     0    0    0   0    0    0    0     0    0   0    0    0   0   \n2022-01-05     0    0    0   0    0    0    0     0    0   0    0    0   0   \n2022-01-06     0    0    0   0    0    0    0     0    0   0    0    0   0   \n2022-01-07     0    0    0   0    0    0    0     0    0   0    0    0   0   \n\n            WBA  WMT  \ndate                  \n2022-01-03   66    0  \n2022-01-04    0    0  \n2022-01-05    0    0  \n2022-01-06    0    0  \n2022-01-07    0    0  ",
      "text/html": "<div>\n<style scoped>\n    .dataframe tbody tr th:only-of-type {\n        vertical-align: middle;\n    }\n\n    .dataframe tbody tr th {\n        vertical-align: top;\n    }\n\n    .dataframe thead th {\n        text-align: right;\n    }\n</style>\n<table border=\"1\" class=\"dataframe\">\n  <thead>\n    <tr style=\"text-align: right;\">\n      <th></th>\n      <th>AAPL</th>\n      <th>AMGN</th>\n      <th>AXP</th>\n      <th>BA</th>\n      <th>CAT</th>\n      <th>CRM</th>\n      <th>CSCO</th>\n      <th>CVX</th>\n      <th>DIS</th>\n      <th>GS</th>\n      <th>HD</th>\n      <th>HON</th>\n      <th>IBM</th>\n      <th>INTC</th>\n      <th>JNJ</th>\n      <th>JPM</th>\n      <th>KO</th>\n      <th>MCD</th>\n      <th>MMM</th>\n      <th>MRK</th>\n      <th>MSFT</th>\n      <th>NKE</th>\n      <th>PG</th>\n      <th>TRV</th>\n      <th>UNH</th>\n      <th>VZ</th>\n      <th>WBA</th>\n      <th>WMT</th>\n    </tr>\n    <tr>\n      <th>date</th>\n      <th></th>\n      <th></th>\n      <th></th>\n      <th></th>\n      <th></th>\n      <th></th>\n      <th></th>\n      <th></th>\n      <th></th>\n      <th></th>\n      <th></th>\n      <th></th>\n      <th></th>\n      <th></th>\n      <th></th>\n      <th></th>\n      <th></th>\n      <th></th>\n      <th></th>\n      <th></th>\n      <th></th>\n      <th></th>\n      <th></th>\n      <th></th>\n      <th></th>\n      <th></th>\n      <th></th>\n      <th></th>\n    </tr>\n  </thead>\n  <tbody>\n    <tr>\n      <th>2022-01-03</th>\n      <td>0</td>\n      <td>61</td>\n      <td>0</td>\n      <td>46</td>\n      <td>0</td>\n      <td>0</td>\n      <td>0</td>\n      <td>0</td>\n      <td>0</td>\n      <td>0</td>\n      <td>61</td>\n      <td>0</td>\n      <td>0</td>\n      <td>0</td>\n      <td>0</td>\n      <td>0</td>\n      <td>0</td>\n      <td>72</td>\n      <td>0</td>\n      <td>0</td>\n      <td>0</td>\n      <td>0</td>\n      <td>64</td>\n      <td>0</td>\n      <td>39</td>\n      <td>0</td>\n      <td>66</td>\n      <td>0</td>\n    </tr>\n    <tr>\n      <th>2022-01-04</th>\n      <td>0</td>\n      <td>0</td>\n      <td>0</td>\n      <td>0</td>\n      <td>0</td>\n      <td>0</td>\n      <td>0</td>\n      <td>0</td>\n      <td>0</td>\n      <td>0</td>\n      <td>0</td>\n      <td>0</td>\n      <td>0</td>\n      <td>0</td>\n      <td>0</td>\n      <td>0</td>\n      <td>0</td>\n      <td>0</td>\n      <td>0</td>\n      <td>0</td>\n      <td>0</td>\n      <td>0</td>\n      <td>0</td>\n      <td>0</td>\n      <td>0</td>\n      <td>0</td>\n      <td>0</td>\n      <td>0</td>\n    </tr>\n    <tr>\n      <th>2022-01-05</th>\n      <td>0</td>\n      <td>0</td>\n      <td>0</td>\n      <td>0</td>\n      <td>0</td>\n      <td>0</td>\n      <td>0</td>\n      <td>0</td>\n      <td>0</td>\n      <td>0</td>\n      <td>0</td>\n      <td>0</td>\n      <td>0</td>\n      <td>0</td>\n      <td>0</td>\n      <td>0</td>\n      <td>0</td>\n      <td>0</td>\n      <td>0</td>\n      <td>0</td>\n      <td>0</td>\n      <td>0</td>\n      <td>0</td>\n      <td>0</td>\n      <td>0</td>\n      <td>0</td>\n      <td>0</td>\n      <td>0</td>\n    </tr>\n    <tr>\n      <th>2022-01-06</th>\n      <td>0</td>\n      <td>0</td>\n      <td>0</td>\n      <td>0</td>\n      <td>0</td>\n      <td>0</td>\n      <td>0</td>\n      <td>0</td>\n      <td>0</td>\n      <td>0</td>\n      <td>0</td>\n      <td>0</td>\n      <td>0</td>\n      <td>0</td>\n      <td>0</td>\n      <td>0</td>\n      <td>0</td>\n      <td>0</td>\n      <td>0</td>\n      <td>0</td>\n      <td>0</td>\n      <td>0</td>\n      <td>0</td>\n      <td>0</td>\n      <td>0</td>\n      <td>0</td>\n      <td>0</td>\n      <td>0</td>\n    </tr>\n    <tr>\n      <th>2022-01-07</th>\n      <td>0</td>\n      <td>0</td>\n      <td>0</td>\n      <td>0</td>\n      <td>0</td>\n      <td>0</td>\n      <td>0</td>\n      <td>0</td>\n      <td>0</td>\n      <td>0</td>\n      <td>0</td>\n      <td>0</td>\n      <td>0</td>\n      <td>0</td>\n      <td>0</td>\n      <td>0</td>\n      <td>0</td>\n      <td>0</td>\n      <td>0</td>\n      <td>0</td>\n      <td>0</td>\n      <td>0</td>\n      <td>0</td>\n      <td>0</td>\n      <td>0</td>\n      <td>0</td>\n      <td>0</td>\n      <td>0</td>\n    </tr>\n  </tbody>\n</table>\n</div>"
     },
     "execution_count": 93,
     "metadata": {},
     "output_type": "execute_result"
    }
   ],
   "source": [
    "df_actions.head()"
   ]
  },
  {
   "cell_type": "markdown",
   "metadata": {
    "id": "W6vvNSC6h1jZ",
    "pycharm": {
     "name": "#%% md\n"
    }
   },
   "source": [
    "<a id='6'></a>\n",
    "# Part 7: Backtest Our Strategy\n",
    "Backtesting plays a key role in evaluating the performance of a trading strategy. Automated backtesting tool is preferred because it reduces the human error. We usually use the Quantopian pyfolio package to backtest our trading strategies. It is easy to use and consists of various individual plots that provide a comprehensive image of the performance of a trading strategy."
   ]
  },
  {
   "cell_type": "markdown",
   "metadata": {
    "id": "Lr2zX7ZxNyFQ",
    "pycharm": {
     "name": "#%% md\n"
    }
   },
   "source": [
    "<a id='6.1'></a>\n",
    "## 7.1 BackTestStats\n",
    "pass in df_account_value, this information is stored in env class\n"
   ]
  },
  {
   "cell_type": "code",
   "execution_count": 94,
   "metadata": {
    "id": "Nzkr9yv-AdV_",
    "pycharm": {
     "name": "#%%\n"
    }
   },
   "outputs": [
    {
     "name": "stdout",
     "output_type": "stream",
     "text": [
      "==============Get Backtest Results===========\n",
      "Annual return         -0.148889\n",
      "Cumulative returns    -0.100751\n",
      "Annual volatility      0.181628\n",
      "Sharpe ratio          -0.802130\n",
      "Calmar ratio          -0.849050\n",
      "Stability              0.156652\n",
      "Max drawdown          -0.175359\n",
      "Omega ratio            0.879248\n",
      "Sortino ratio         -1.060835\n",
      "Skew                        NaN\n",
      "Kurtosis                    NaN\n",
      "Tail ratio             0.846785\n",
      "Daily value at risk   -0.023461\n",
      "dtype: float64\n"
     ]
    }
   ],
   "source": [
    "print(\"==============Get Backtest Results===========\")\n",
    "now = datetime.datetime.now().strftime('%Y%m%d-%Hh%M')\n",
    "\n",
    "perf_stats_all = backtest_stats(account_value=df_account_value)\n",
    "perf_stats_all = pd.DataFrame(perf_stats_all)\n",
    "perf_stats_all.to_csv(\"./\"+config.RESULTS_DIR+\"/perf_stats_all_\"+now+'.csv')"
   ]
  },
  {
   "cell_type": "code",
   "execution_count": 95,
   "metadata": {
    "id": "QkV-LB66iwhD",
    "pycharm": {
     "name": "#%%\n"
    }
   },
   "outputs": [
    {
     "name": "stdout",
     "output_type": "stream",
     "text": [
      "==============Get Baseline Stats===========\n",
      "[*********************100%***********************]  1 of 1 completed\n",
      "Shape of DataFrame:  (165, 8)\n",
      "Annual return         -0.181098\n",
      "Cumulative returns    -0.122620\n",
      "Annual volatility      0.193603\n",
      "Sharpe ratio          -0.941352\n",
      "Calmar ratio          -0.964327\n",
      "Stability              0.492524\n",
      "Max drawdown          -0.187797\n",
      "Omega ratio            0.856847\n",
      "Sortino ratio         -1.245503\n",
      "Skew                        NaN\n",
      "Kurtosis                    NaN\n",
      "Tail ratio             0.774852\n",
      "Daily value at risk   -0.025115\n",
      "dtype: float64\n"
     ]
    }
   ],
   "source": [
    "#baseline stats\n",
    "print(\"==============Get Baseline Stats===========\")\n",
    "baseline_df = get_baseline(\n",
    "        ticker=\"^DJI\", \n",
    "        start = df_account_value.loc[0,'date'],\n",
    "        end = df_account_value.loc[len(df_account_value)-1,'date'])\n",
    "\n",
    "stats = backtest_stats(baseline_df, value_col_name = 'close')\n"
   ]
  },
  {
   "cell_type": "code",
   "execution_count": 96,
   "metadata": {
    "id": "qg1kvfemrrQH",
    "pycharm": {
     "name": "#%%\n"
    }
   },
   "outputs": [
    {
     "data": {
      "text/plain": "'2022-01-03'"
     },
     "execution_count": 96,
     "metadata": {},
     "output_type": "execute_result"
    }
   ],
   "source": [
    "df_account_value.loc[0,'date']"
   ]
  },
  {
   "cell_type": "code",
   "execution_count": 97,
   "metadata": {
    "id": "tt1bzL5OrsTa",
    "pycharm": {
     "name": "#%%\n"
    }
   },
   "outputs": [
    {
     "data": {
      "text/plain": "'2022-08-30'"
     },
     "execution_count": 97,
     "metadata": {},
     "output_type": "execute_result"
    }
   ],
   "source": [
    "df_account_value.loc[len(df_account_value)-1,'date']"
   ]
  },
  {
   "cell_type": "markdown",
   "metadata": {
    "id": "9U6Suru3h1jc",
    "pycharm": {
     "name": "#%% md\n"
    }
   },
   "source": [
    "<a id='6.2'></a>\n",
    "## 7.2 BackTestPlot"
   ]
  },
  {
   "cell_type": "code",
   "execution_count": 98,
   "metadata": {
    "id": "lKRGftSS7pNM",
    "pycharm": {
     "name": "#%%\n"
    }
   },
   "outputs": [
    {
     "name": "stdout",
     "output_type": "stream",
     "text": [
      "==============Compare to DJIA===========\n",
      "[*********************100%***********************]  1 of 1 completed\n",
      "Shape of DataFrame:  (165, 8)\n"
     ]
    },
    {
     "data": {
      "text/plain": "<IPython.core.display.HTML object>",
      "text/html": "<table border=\"1\" class=\"dataframe\">\n  <thead>\n    <tr style=\"text-align: right;\"><th>Start date</th><td colspan=2>2022-01-03</td></tr>\n    <tr style=\"text-align: right;\"><th>End date</th><td colspan=2>2022-08-30</td></tr>\n    <tr style=\"text-align: right;\"><th>Total months</th><td colspan=2>7</td></tr>\n    <tr style=\"text-align: right;\">\n      <th></th>\n      <th>Backtest</th>\n    </tr>\n  </thead>\n  <tbody>\n    <tr>\n      <th>Annual return</th>\n      <td>-14.889%</td>\n    </tr>\n    <tr>\n      <th>Cumulative returns</th>\n      <td>-10.075%</td>\n    </tr>\n    <tr>\n      <th>Annual volatility</th>\n      <td>18.163%</td>\n    </tr>\n    <tr>\n      <th>Sharpe ratio</th>\n      <td>-0.80</td>\n    </tr>\n    <tr>\n      <th>Calmar ratio</th>\n      <td>-0.85</td>\n    </tr>\n    <tr>\n      <th>Stability</th>\n      <td>0.16</td>\n    </tr>\n    <tr>\n      <th>Max drawdown</th>\n      <td>-17.536%</td>\n    </tr>\n    <tr>\n      <th>Omega ratio</th>\n      <td>0.88</td>\n    </tr>\n    <tr>\n      <th>Sortino ratio</th>\n      <td>-1.06</td>\n    </tr>\n    <tr>\n      <th>Skew</th>\n      <td>NaN</td>\n    </tr>\n    <tr>\n      <th>Kurtosis</th>\n      <td>NaN</td>\n    </tr>\n    <tr>\n      <th>Tail ratio</th>\n      <td>0.85</td>\n    </tr>\n    <tr>\n      <th>Daily value at risk</th>\n      <td>-2.346%</td>\n    </tr>\n    <tr>\n      <th>Alpha</th>\n      <td>0.01</td>\n    </tr>\n    <tr>\n      <th>Beta</th>\n      <td>0.85</td>\n    </tr>\n  </tbody>\n</table>"
     },
     "metadata": {},
     "output_type": "display_data"
    },
    {
     "data": {
      "text/plain": "<IPython.core.display.HTML object>",
      "text/html": "<table border=\"1\" class=\"dataframe\">\n  <thead>\n    <tr style=\"text-align: right;\">\n      <th>Worst drawdown periods</th>\n      <th>Net drawdown in %</th>\n      <th>Peak date</th>\n      <th>Valley date</th>\n      <th>Recovery date</th>\n      <th>Duration</th>\n    </tr>\n  </thead>\n  <tbody>\n    <tr>\n      <th>0</th>\n      <td>17.54</td>\n      <td>2022-01-04</td>\n      <td>2022-06-17</td>\n      <td>NaT</td>\n      <td>NaN</td>\n    </tr>\n    <tr>\n      <th>1</th>\n      <td>NaN</td>\n      <td>NaT</td>\n      <td>NaT</td>\n      <td>NaT</td>\n      <td>NaN</td>\n    </tr>\n    <tr>\n      <th>2</th>\n      <td>NaN</td>\n      <td>NaT</td>\n      <td>NaT</td>\n      <td>NaT</td>\n      <td>NaN</td>\n    </tr>\n    <tr>\n      <th>3</th>\n      <td>NaN</td>\n      <td>NaT</td>\n      <td>NaT</td>\n      <td>NaT</td>\n      <td>NaN</td>\n    </tr>\n    <tr>\n      <th>4</th>\n      <td>NaN</td>\n      <td>NaT</td>\n      <td>NaT</td>\n      <td>NaT</td>\n      <td>NaN</td>\n    </tr>\n  </tbody>\n</table>"
     },
     "metadata": {},
     "output_type": "display_data"
    },
    {
     "ename": "ConversionError",
     "evalue": "Failed to convert value(s) to axis units: (NaT, Timestamp('2022-08-30 00:00:00+0000', tz='UTC'))",
     "output_type": "error",
     "traceback": [
      "\u001B[1;31m---------------------------------------------------------------------------\u001B[0m",
      "\u001B[1;31mValueError\u001B[0m                                Traceback (most recent call last)",
      "File \u001B[1;32m~\\github.com\\shankar-roy\\venv\\lib\\site-packages\\matplotlib\\axis.py:1506\u001B[0m, in \u001B[0;36mAxis.convert_units\u001B[1;34m(self, x)\u001B[0m\n\u001B[0;32m   1505\u001B[0m \u001B[38;5;28;01mtry\u001B[39;00m:\n\u001B[1;32m-> 1506\u001B[0m     ret \u001B[38;5;241m=\u001B[39m \u001B[38;5;28;43mself\u001B[39;49m\u001B[38;5;241;43m.\u001B[39;49m\u001B[43mconverter\u001B[49m\u001B[38;5;241;43m.\u001B[39;49m\u001B[43mconvert\u001B[49m\u001B[43m(\u001B[49m\u001B[43mx\u001B[49m\u001B[43m,\u001B[49m\u001B[43m \u001B[49m\u001B[38;5;28;43mself\u001B[39;49m\u001B[38;5;241;43m.\u001B[39;49m\u001B[43munits\u001B[49m\u001B[43m,\u001B[49m\u001B[43m \u001B[49m\u001B[38;5;28;43mself\u001B[39;49m\u001B[43m)\u001B[49m\n\u001B[0;32m   1507\u001B[0m \u001B[38;5;28;01mexcept\u001B[39;00m \u001B[38;5;167;01mException\u001B[39;00m \u001B[38;5;28;01mas\u001B[39;00m e:\n",
      "File \u001B[1;32m~\\github.com\\shankar-roy\\venv\\lib\\site-packages\\pandas\\plotting\\_matplotlib\\converter.py:282\u001B[0m, in \u001B[0;36mDatetimeConverter.convert\u001B[1;34m(values, unit, axis)\u001B[0m\n\u001B[0;32m    281\u001B[0m \u001B[38;5;28;01melse\u001B[39;00m:\n\u001B[1;32m--> 282\u001B[0m     values \u001B[38;5;241m=\u001B[39m \u001B[43mDatetimeConverter\u001B[49m\u001B[38;5;241;43m.\u001B[39;49m\u001B[43m_convert_1d\u001B[49m\u001B[43m(\u001B[49m\u001B[43mvalues\u001B[49m\u001B[43m,\u001B[49m\u001B[43m \u001B[49m\u001B[43munit\u001B[49m\u001B[43m,\u001B[49m\u001B[43m \u001B[49m\u001B[43maxis\u001B[49m\u001B[43m)\u001B[49m\n\u001B[0;32m    283\u001B[0m \u001B[38;5;28;01mreturn\u001B[39;00m values\n",
      "File \u001B[1;32m~\\github.com\\shankar-roy\\venv\\lib\\site-packages\\pandas\\plotting\\_matplotlib\\converter.py:317\u001B[0m, in \u001B[0;36mDatetimeConverter._convert_1d\u001B[1;34m(values, unit, axis)\u001B[0m\n\u001B[0;32m    315\u001B[0m         \u001B[38;5;28;01mpass\u001B[39;00m\n\u001B[1;32m--> 317\u001B[0m     values \u001B[38;5;241m=\u001B[39m \u001B[43mdates\u001B[49m\u001B[38;5;241;43m.\u001B[39;49m\u001B[43mdate2num\u001B[49m\u001B[43m(\u001B[49m\u001B[43mvalues\u001B[49m\u001B[43m)\u001B[49m\n\u001B[0;32m    319\u001B[0m \u001B[38;5;28;01mreturn\u001B[39;00m values\n",
      "File \u001B[1;32m~\\github.com\\shankar-roy\\venv\\lib\\site-packages\\matplotlib\\dates.py:447\u001B[0m, in \u001B[0;36mdate2num\u001B[1;34m(d)\u001B[0m\n\u001B[0;32m    446\u001B[0m         d \u001B[38;5;241m=\u001B[39m np\u001B[38;5;241m.\u001B[39masarray(d)\n\u001B[1;32m--> 447\u001B[0m     d \u001B[38;5;241m=\u001B[39m \u001B[43md\u001B[49m\u001B[38;5;241;43m.\u001B[39;49m\u001B[43mastype\u001B[49m\u001B[43m(\u001B[49m\u001B[38;5;124;43m'\u001B[39;49m\u001B[38;5;124;43mdatetime64[us]\u001B[39;49m\u001B[38;5;124;43m'\u001B[39;49m\u001B[43m)\u001B[49m\n\u001B[0;32m    449\u001B[0m d \u001B[38;5;241m=\u001B[39m _dt64_to_ordinalf(d)\n",
      "\u001B[1;31mValueError\u001B[0m: cannot convert float NaN to integer",
      "\nThe above exception was the direct cause of the following exception:\n",
      "\u001B[1;31mConversionError\u001B[0m                           Traceback (most recent call last)",
      "Input \u001B[1;32mIn [98]\u001B[0m, in \u001B[0;36m<cell line: 6>\u001B[1;34m()\u001B[0m\n\u001B[0;32m      2\u001B[0m get_ipython()\u001B[38;5;241m.\u001B[39mrun_line_magic(\u001B[38;5;124m'\u001B[39m\u001B[38;5;124mmatplotlib\u001B[39m\u001B[38;5;124m'\u001B[39m, \u001B[38;5;124m'\u001B[39m\u001B[38;5;124minline\u001B[39m\u001B[38;5;124m'\u001B[39m)\n\u001B[0;32m      3\u001B[0m \u001B[38;5;66;03m# S&P 500: ^GSPC\u001B[39;00m\n\u001B[0;32m      4\u001B[0m \u001B[38;5;66;03m# Dow Jones Index: ^DJI\u001B[39;00m\n\u001B[0;32m      5\u001B[0m \u001B[38;5;66;03m# NASDAQ 100: ^NDX\u001B[39;00m\n\u001B[1;32m----> 6\u001B[0m \u001B[43mbacktest_plot\u001B[49m\u001B[43m(\u001B[49m\u001B[43mdf_account_value\u001B[49m\u001B[43m,\u001B[49m\u001B[43m \u001B[49m\n\u001B[0;32m      7\u001B[0m \u001B[43m             \u001B[49m\u001B[43mbaseline_ticker\u001B[49m\u001B[43m \u001B[49m\u001B[38;5;241;43m=\u001B[39;49m\u001B[43m \u001B[49m\u001B[38;5;124;43m'\u001B[39;49m\u001B[38;5;124;43m^DJI\u001B[39;49m\u001B[38;5;124;43m'\u001B[39;49m\u001B[43m,\u001B[49m\u001B[43m \u001B[49m\n\u001B[0;32m      8\u001B[0m \u001B[43m             \u001B[49m\u001B[43mbaseline_start\u001B[49m\u001B[43m \u001B[49m\u001B[38;5;241;43m=\u001B[39;49m\u001B[43m \u001B[49m\u001B[43mdf_account_value\u001B[49m\u001B[38;5;241;43m.\u001B[39;49m\u001B[43mloc\u001B[49m\u001B[43m[\u001B[49m\u001B[38;5;241;43m0\u001B[39;49m\u001B[43m,\u001B[49m\u001B[38;5;124;43m'\u001B[39;49m\u001B[38;5;124;43mdate\u001B[39;49m\u001B[38;5;124;43m'\u001B[39;49m\u001B[43m]\u001B[49m\u001B[43m,\u001B[49m\n\u001B[0;32m      9\u001B[0m \u001B[43m             \u001B[49m\u001B[43mbaseline_end\u001B[49m\u001B[43m \u001B[49m\u001B[38;5;241;43m=\u001B[39;49m\u001B[43m \u001B[49m\u001B[43mdf_account_value\u001B[49m\u001B[38;5;241;43m.\u001B[39;49m\u001B[43mloc\u001B[49m\u001B[43m[\u001B[49m\u001B[38;5;28;43mlen\u001B[39;49m\u001B[43m(\u001B[49m\u001B[43mdf_account_value\u001B[49m\u001B[43m)\u001B[49m\u001B[38;5;241;43m-\u001B[39;49m\u001B[38;5;241;43m1\u001B[39;49m\u001B[43m,\u001B[49m\u001B[38;5;124;43m'\u001B[39;49m\u001B[38;5;124;43mdate\u001B[39;49m\u001B[38;5;124;43m'\u001B[39;49m\u001B[43m]\u001B[49m\u001B[43m)\u001B[49m\n",
      "File \u001B[1;32m~\\github.com\\shankar-roy\\FinRL\\finrl\\plot.py:65\u001B[0m, in \u001B[0;36mbacktest_plot\u001B[1;34m(account_value, baseline_start, baseline_end, baseline_ticker, value_col_name)\u001B[0m\n\u001B[0;32m     62\u001B[0m baseline_returns \u001B[38;5;241m=\u001B[39m get_daily_return(baseline_df, value_col_name\u001B[38;5;241m=\u001B[39m\u001B[38;5;124m\"\u001B[39m\u001B[38;5;124mclose\u001B[39m\u001B[38;5;124m\"\u001B[39m)\n\u001B[0;32m     64\u001B[0m \u001B[38;5;28;01mwith\u001B[39;00m pyfolio\u001B[38;5;241m.\u001B[39mplotting\u001B[38;5;241m.\u001B[39mplotting_context(font_scale\u001B[38;5;241m=\u001B[39m\u001B[38;5;241m1.1\u001B[39m):\n\u001B[1;32m---> 65\u001B[0m     \u001B[43mpyfolio\u001B[49m\u001B[38;5;241;43m.\u001B[39;49m\u001B[43mcreate_full_tear_sheet\u001B[49m\u001B[43m(\u001B[49m\n\u001B[0;32m     66\u001B[0m \u001B[43m        \u001B[49m\u001B[43mreturns\u001B[49m\u001B[38;5;241;43m=\u001B[39;49m\u001B[43mtest_returns\u001B[49m\u001B[43m,\u001B[49m\u001B[43m \u001B[49m\u001B[43mbenchmark_rets\u001B[49m\u001B[38;5;241;43m=\u001B[39;49m\u001B[43mbaseline_returns\u001B[49m\u001B[43m,\u001B[49m\u001B[43m \u001B[49m\u001B[43mset_context\u001B[49m\u001B[38;5;241;43m=\u001B[39;49m\u001B[38;5;28;43;01mFalse\u001B[39;49;00m\n\u001B[0;32m     67\u001B[0m \u001B[43m    \u001B[49m\u001B[43m)\u001B[49m\n",
      "File \u001B[1;32m~\\github.com\\shankar-roy\\pyfolio\\pyfolio\\tears.py:180\u001B[0m, in \u001B[0;36mcreate_full_tear_sheet\u001B[1;34m(returns, positions, transactions, market_data, benchmark_rets, slippage, live_start_date, sector_mappings, round_trips, estimate_intraday, hide_positions, cone_std, bootstrap, unadjusted_returns, turnover_denom, set_context, factor_returns, factor_loadings, pos_in_dollars, header_rows, factor_partitions)\u001B[0m\n\u001B[0;32m    174\u001B[0m     returns \u001B[38;5;241m=\u001B[39m txn\u001B[38;5;241m.\u001B[39madjust_returns_for_slippage(returns, positions,\n\u001B[0;32m    175\u001B[0m                                               transactions, slippage)\n\u001B[0;32m    177\u001B[0m positions \u001B[38;5;241m=\u001B[39m utils\u001B[38;5;241m.\u001B[39mcheck_intraday(estimate_intraday, returns,\n\u001B[0;32m    178\u001B[0m                                  positions, transactions)\n\u001B[1;32m--> 180\u001B[0m \u001B[43mcreate_returns_tear_sheet\u001B[49m\u001B[43m(\u001B[49m\n\u001B[0;32m    181\u001B[0m \u001B[43m    \u001B[49m\u001B[43mreturns\u001B[49m\u001B[43m,\u001B[49m\n\u001B[0;32m    182\u001B[0m \u001B[43m    \u001B[49m\u001B[43mpositions\u001B[49m\u001B[38;5;241;43m=\u001B[39;49m\u001B[43mpositions\u001B[49m\u001B[43m,\u001B[49m\n\u001B[0;32m    183\u001B[0m \u001B[43m    \u001B[49m\u001B[43mtransactions\u001B[49m\u001B[38;5;241;43m=\u001B[39;49m\u001B[43mtransactions\u001B[49m\u001B[43m,\u001B[49m\n\u001B[0;32m    184\u001B[0m \u001B[43m    \u001B[49m\u001B[43mlive_start_date\u001B[49m\u001B[38;5;241;43m=\u001B[39;49m\u001B[43mlive_start_date\u001B[49m\u001B[43m,\u001B[49m\n\u001B[0;32m    185\u001B[0m \u001B[43m    \u001B[49m\u001B[43mcone_std\u001B[49m\u001B[38;5;241;43m=\u001B[39;49m\u001B[43mcone_std\u001B[49m\u001B[43m,\u001B[49m\n\u001B[0;32m    186\u001B[0m \u001B[43m    \u001B[49m\u001B[43mbenchmark_rets\u001B[49m\u001B[38;5;241;43m=\u001B[39;49m\u001B[43mbenchmark_rets\u001B[49m\u001B[43m,\u001B[49m\n\u001B[0;32m    187\u001B[0m \u001B[43m    \u001B[49m\u001B[43mbootstrap\u001B[49m\u001B[38;5;241;43m=\u001B[39;49m\u001B[43mbootstrap\u001B[49m\u001B[43m,\u001B[49m\n\u001B[0;32m    188\u001B[0m \u001B[43m    \u001B[49m\u001B[43mturnover_denom\u001B[49m\u001B[38;5;241;43m=\u001B[39;49m\u001B[43mturnover_denom\u001B[49m\u001B[43m,\u001B[49m\n\u001B[0;32m    189\u001B[0m \u001B[43m    \u001B[49m\u001B[43mheader_rows\u001B[49m\u001B[38;5;241;43m=\u001B[39;49m\u001B[43mheader_rows\u001B[49m\u001B[43m,\u001B[49m\n\u001B[0;32m    190\u001B[0m \u001B[43m    \u001B[49m\u001B[43mset_context\u001B[49m\u001B[38;5;241;43m=\u001B[39;49m\u001B[43mset_context\u001B[49m\u001B[43m)\u001B[49m\n\u001B[0;32m    192\u001B[0m create_interesting_times_tear_sheet(returns,\n\u001B[0;32m    193\u001B[0m                                     benchmark_rets\u001B[38;5;241m=\u001B[39mbenchmark_rets,\n\u001B[0;32m    194\u001B[0m                                     set_context\u001B[38;5;241m=\u001B[39mset_context)\n\u001B[0;32m    196\u001B[0m \u001B[38;5;28;01mif\u001B[39;00m positions \u001B[38;5;129;01mis\u001B[39;00m \u001B[38;5;129;01mnot\u001B[39;00m \u001B[38;5;28;01mNone\u001B[39;00m:\n",
      "File \u001B[1;32m~\\github.com\\shankar-roy\\pyfolio\\pyfolio\\plotting.py:54\u001B[0m, in \u001B[0;36mcustomize.<locals>.call_w_context\u001B[1;34m(*args, **kwargs)\u001B[0m\n\u001B[0;32m     52\u001B[0m         \u001B[38;5;28;01mreturn\u001B[39;00m func(\u001B[38;5;241m*\u001B[39margs, \u001B[38;5;241m*\u001B[39m\u001B[38;5;241m*\u001B[39mkwargs)\n\u001B[0;32m     53\u001B[0m \u001B[38;5;28;01melse\u001B[39;00m:\n\u001B[1;32m---> 54\u001B[0m     \u001B[38;5;28;01mreturn\u001B[39;00m \u001B[43mfunc\u001B[49m\u001B[43m(\u001B[49m\u001B[38;5;241;43m*\u001B[39;49m\u001B[43margs\u001B[49m\u001B[43m,\u001B[49m\u001B[43m \u001B[49m\u001B[38;5;241;43m*\u001B[39;49m\u001B[38;5;241;43m*\u001B[39;49m\u001B[43mkwargs\u001B[49m\u001B[43m)\u001B[49m\n",
      "File \u001B[1;32m~\\github.com\\shankar-roy\\pyfolio\\pyfolio\\tears.py:569\u001B[0m, in \u001B[0;36mcreate_returns_tear_sheet\u001B[1;34m(returns, positions, transactions, live_start_date, cone_std, benchmark_rets, bootstrap, turnover_denom, header_rows, return_fig)\u001B[0m\n\u001B[0;32m    565\u001B[0m plotting\u001B[38;5;241m.\u001B[39mplot_rolling_sharpe(\n\u001B[0;32m    566\u001B[0m     returns, ax\u001B[38;5;241m=\u001B[39max_rolling_sharpe)\n\u001B[0;32m    568\u001B[0m \u001B[38;5;66;03m# Drawdowns\u001B[39;00m\n\u001B[1;32m--> 569\u001B[0m \u001B[43mplotting\u001B[49m\u001B[38;5;241;43m.\u001B[39;49m\u001B[43mplot_drawdown_periods\u001B[49m\u001B[43m(\u001B[49m\n\u001B[0;32m    570\u001B[0m \u001B[43m    \u001B[49m\u001B[43mreturns\u001B[49m\u001B[43m,\u001B[49m\u001B[43m \u001B[49m\u001B[43mtop\u001B[49m\u001B[38;5;241;43m=\u001B[39;49m\u001B[38;5;241;43m5\u001B[39;49m\u001B[43m,\u001B[49m\u001B[43m \u001B[49m\u001B[43max\u001B[49m\u001B[38;5;241;43m=\u001B[39;49m\u001B[43max_drawdown\u001B[49m\u001B[43m)\u001B[49m\n\u001B[0;32m    572\u001B[0m plotting\u001B[38;5;241m.\u001B[39mplot_drawdown_underwater(\n\u001B[0;32m    573\u001B[0m     returns\u001B[38;5;241m=\u001B[39mreturns, ax\u001B[38;5;241m=\u001B[39max_underwater)\n\u001B[0;32m    575\u001B[0m plotting\u001B[38;5;241m.\u001B[39mplot_monthly_returns_heatmap(returns, ax\u001B[38;5;241m=\u001B[39max_monthly_heatmap)\n",
      "File \u001B[1;32m~\\github.com\\shankar-roy\\pyfolio\\pyfolio\\plotting.py:442\u001B[0m, in \u001B[0;36mplot_drawdown_periods\u001B[1;34m(returns, top, ax, **kwargs)\u001B[0m\n\u001B[0;32m    440\u001B[0m     \u001B[38;5;28;01mif\u001B[39;00m pd\u001B[38;5;241m.\u001B[39misnull(recovery):\n\u001B[0;32m    441\u001B[0m         recovery \u001B[38;5;241m=\u001B[39m returns\u001B[38;5;241m.\u001B[39mindex[\u001B[38;5;241m-\u001B[39m\u001B[38;5;241m1\u001B[39m]\n\u001B[1;32m--> 442\u001B[0m     \u001B[43max\u001B[49m\u001B[38;5;241;43m.\u001B[39;49m\u001B[43mfill_between\u001B[49m\u001B[43m(\u001B[49m\u001B[43m(\u001B[49m\u001B[43mpeak\u001B[49m\u001B[43m,\u001B[49m\u001B[43m \u001B[49m\u001B[43mrecovery\u001B[49m\u001B[43m)\u001B[49m\u001B[43m,\u001B[49m\n\u001B[0;32m    443\u001B[0m \u001B[43m                    \u001B[49m\u001B[43mlim\u001B[49m\u001B[43m[\u001B[49m\u001B[38;5;241;43m0\u001B[39;49m\u001B[43m]\u001B[49m\u001B[43m,\u001B[49m\n\u001B[0;32m    444\u001B[0m \u001B[43m                    \u001B[49m\u001B[43mlim\u001B[49m\u001B[43m[\u001B[49m\u001B[38;5;241;43m1\u001B[39;49m\u001B[43m]\u001B[49m\u001B[43m,\u001B[49m\n\u001B[0;32m    445\u001B[0m \u001B[43m                    \u001B[49m\u001B[43malpha\u001B[49m\u001B[38;5;241;43m=\u001B[39;49m\u001B[38;5;241;43m.4\u001B[39;49m\u001B[43m,\u001B[49m\n\u001B[0;32m    446\u001B[0m \u001B[43m                    \u001B[49m\u001B[43mcolor\u001B[49m\u001B[38;5;241;43m=\u001B[39;49m\u001B[43mcolors\u001B[49m\u001B[43m[\u001B[49m\u001B[43mi\u001B[49m\u001B[43m]\u001B[49m\u001B[43m)\u001B[49m\n\u001B[0;32m    447\u001B[0m ax\u001B[38;5;241m.\u001B[39mset_ylim(lim)\n\u001B[0;32m    448\u001B[0m ax\u001B[38;5;241m.\u001B[39mset_title(\u001B[38;5;124m'\u001B[39m\u001B[38;5;124mTop \u001B[39m\u001B[38;5;132;01m%i\u001B[39;00m\u001B[38;5;124m drawdown periods\u001B[39m\u001B[38;5;124m'\u001B[39m \u001B[38;5;241m%\u001B[39m top)\n",
      "File \u001B[1;32m~\\github.com\\shankar-roy\\venv\\lib\\site-packages\\matplotlib\\__init__.py:1412\u001B[0m, in \u001B[0;36m_preprocess_data.<locals>.inner\u001B[1;34m(ax, data, *args, **kwargs)\u001B[0m\n\u001B[0;32m   1409\u001B[0m \u001B[38;5;129m@functools\u001B[39m\u001B[38;5;241m.\u001B[39mwraps(func)\n\u001B[0;32m   1410\u001B[0m \u001B[38;5;28;01mdef\u001B[39;00m \u001B[38;5;21minner\u001B[39m(ax, \u001B[38;5;241m*\u001B[39margs, data\u001B[38;5;241m=\u001B[39m\u001B[38;5;28;01mNone\u001B[39;00m, \u001B[38;5;241m*\u001B[39m\u001B[38;5;241m*\u001B[39mkwargs):\n\u001B[0;32m   1411\u001B[0m     \u001B[38;5;28;01mif\u001B[39;00m data \u001B[38;5;129;01mis\u001B[39;00m \u001B[38;5;28;01mNone\u001B[39;00m:\n\u001B[1;32m-> 1412\u001B[0m         \u001B[38;5;28;01mreturn\u001B[39;00m \u001B[43mfunc\u001B[49m\u001B[43m(\u001B[49m\u001B[43max\u001B[49m\u001B[43m,\u001B[49m\u001B[43m \u001B[49m\u001B[38;5;241;43m*\u001B[39;49m\u001B[38;5;28;43mmap\u001B[39;49m\u001B[43m(\u001B[49m\u001B[43msanitize_sequence\u001B[49m\u001B[43m,\u001B[49m\u001B[43m \u001B[49m\u001B[43margs\u001B[49m\u001B[43m)\u001B[49m\u001B[43m,\u001B[49m\u001B[43m \u001B[49m\u001B[38;5;241;43m*\u001B[39;49m\u001B[38;5;241;43m*\u001B[39;49m\u001B[43mkwargs\u001B[49m\u001B[43m)\u001B[49m\n\u001B[0;32m   1414\u001B[0m     bound \u001B[38;5;241m=\u001B[39m new_sig\u001B[38;5;241m.\u001B[39mbind(ax, \u001B[38;5;241m*\u001B[39margs, \u001B[38;5;241m*\u001B[39m\u001B[38;5;241m*\u001B[39mkwargs)\n\u001B[0;32m   1415\u001B[0m     auto_label \u001B[38;5;241m=\u001B[39m (bound\u001B[38;5;241m.\u001B[39marguments\u001B[38;5;241m.\u001B[39mget(label_namer)\n\u001B[0;32m   1416\u001B[0m                   \u001B[38;5;129;01mor\u001B[39;00m bound\u001B[38;5;241m.\u001B[39mkwargs\u001B[38;5;241m.\u001B[39mget(label_namer))\n",
      "File \u001B[1;32m~\\github.com\\shankar-roy\\venv\\lib\\site-packages\\matplotlib\\axes\\_axes.py:5245\u001B[0m, in \u001B[0;36mAxes.fill_between\u001B[1;34m(self, x, y1, y2, where, interpolate, step, **kwargs)\u001B[0m\n\u001B[0;32m   5243\u001B[0m \u001B[38;5;28;01mdef\u001B[39;00m \u001B[38;5;21mfill_between\u001B[39m(\u001B[38;5;28mself\u001B[39m, x, y1, y2\u001B[38;5;241m=\u001B[39m\u001B[38;5;241m0\u001B[39m, where\u001B[38;5;241m=\u001B[39m\u001B[38;5;28;01mNone\u001B[39;00m, interpolate\u001B[38;5;241m=\u001B[39m\u001B[38;5;28;01mFalse\u001B[39;00m,\n\u001B[0;32m   5244\u001B[0m                  step\u001B[38;5;241m=\u001B[39m\u001B[38;5;28;01mNone\u001B[39;00m, \u001B[38;5;241m*\u001B[39m\u001B[38;5;241m*\u001B[39mkwargs):\n\u001B[1;32m-> 5245\u001B[0m     \u001B[38;5;28;01mreturn\u001B[39;00m \u001B[38;5;28;43mself\u001B[39;49m\u001B[38;5;241;43m.\u001B[39;49m\u001B[43m_fill_between_x_or_y\u001B[49m\u001B[43m(\u001B[49m\n\u001B[0;32m   5246\u001B[0m \u001B[43m        \u001B[49m\u001B[38;5;124;43m\"\u001B[39;49m\u001B[38;5;124;43mx\u001B[39;49m\u001B[38;5;124;43m\"\u001B[39;49m\u001B[43m,\u001B[49m\u001B[43m \u001B[49m\u001B[43mx\u001B[49m\u001B[43m,\u001B[49m\u001B[43m \u001B[49m\u001B[43my1\u001B[49m\u001B[43m,\u001B[49m\u001B[43m \u001B[49m\u001B[43my2\u001B[49m\u001B[43m,\u001B[49m\n\u001B[0;32m   5247\u001B[0m \u001B[43m        \u001B[49m\u001B[43mwhere\u001B[49m\u001B[38;5;241;43m=\u001B[39;49m\u001B[43mwhere\u001B[49m\u001B[43m,\u001B[49m\u001B[43m \u001B[49m\u001B[43minterpolate\u001B[49m\u001B[38;5;241;43m=\u001B[39;49m\u001B[43minterpolate\u001B[49m\u001B[43m,\u001B[49m\u001B[43m \u001B[49m\u001B[43mstep\u001B[49m\u001B[38;5;241;43m=\u001B[39;49m\u001B[43mstep\u001B[49m\u001B[43m,\u001B[49m\u001B[43m \u001B[49m\u001B[38;5;241;43m*\u001B[39;49m\u001B[38;5;241;43m*\u001B[39;49m\u001B[43mkwargs\u001B[49m\u001B[43m)\u001B[49m\n",
      "File \u001B[1;32m~\\github.com\\shankar-roy\\venv\\lib\\site-packages\\matplotlib\\axes\\_axes.py:5151\u001B[0m, in \u001B[0;36mAxes._fill_between_x_or_y\u001B[1;34m(self, ind_dir, ind, dep1, dep2, where, interpolate, step, **kwargs)\u001B[0m\n\u001B[0;32m   5146\u001B[0m         kwargs[\u001B[38;5;124m\"\u001B[39m\u001B[38;5;124mfacecolor\u001B[39m\u001B[38;5;124m\"\u001B[39m] \u001B[38;5;241m=\u001B[39m \\\n\u001B[0;32m   5147\u001B[0m             \u001B[38;5;28mself\u001B[39m\u001B[38;5;241m.\u001B[39m_get_patches_for_fill\u001B[38;5;241m.\u001B[39mget_next_color()\n\u001B[0;32m   5149\u001B[0m \u001B[38;5;66;03m# Handle united data, such as dates\u001B[39;00m\n\u001B[0;32m   5150\u001B[0m ind, dep1, dep2 \u001B[38;5;241m=\u001B[39m \u001B[38;5;28mmap\u001B[39m(\n\u001B[1;32m-> 5151\u001B[0m     ma\u001B[38;5;241m.\u001B[39mmasked_invalid, \u001B[38;5;28;43mself\u001B[39;49m\u001B[38;5;241;43m.\u001B[39;49m\u001B[43m_process_unit_info\u001B[49m\u001B[43m(\u001B[49m\n\u001B[0;32m   5152\u001B[0m \u001B[43m        \u001B[49m\u001B[43m[\u001B[49m\u001B[43m(\u001B[49m\u001B[43mind_dir\u001B[49m\u001B[43m,\u001B[49m\u001B[43m \u001B[49m\u001B[43mind\u001B[49m\u001B[43m)\u001B[49m\u001B[43m,\u001B[49m\u001B[43m \u001B[49m\u001B[43m(\u001B[49m\u001B[43mdep_dir\u001B[49m\u001B[43m,\u001B[49m\u001B[43m \u001B[49m\u001B[43mdep1\u001B[49m\u001B[43m)\u001B[49m\u001B[43m,\u001B[49m\u001B[43m \u001B[49m\u001B[43m(\u001B[49m\u001B[43mdep_dir\u001B[49m\u001B[43m,\u001B[49m\u001B[43m \u001B[49m\u001B[43mdep2\u001B[49m\u001B[43m)\u001B[49m\u001B[43m]\u001B[49m\u001B[43m,\u001B[49m\u001B[43m \u001B[49m\u001B[43mkwargs\u001B[49m\u001B[43m)\u001B[49m)\n\u001B[0;32m   5154\u001B[0m \u001B[38;5;28;01mfor\u001B[39;00m name, array \u001B[38;5;129;01min\u001B[39;00m [\n\u001B[0;32m   5155\u001B[0m         (ind_dir, ind), (\u001B[38;5;124mf\u001B[39m\u001B[38;5;124m\"\u001B[39m\u001B[38;5;132;01m{\u001B[39;00mdep_dir\u001B[38;5;132;01m}\u001B[39;00m\u001B[38;5;124m1\u001B[39m\u001B[38;5;124m\"\u001B[39m, dep1), (\u001B[38;5;124mf\u001B[39m\u001B[38;5;124m\"\u001B[39m\u001B[38;5;132;01m{\u001B[39;00mdep_dir\u001B[38;5;132;01m}\u001B[39;00m\u001B[38;5;124m2\u001B[39m\u001B[38;5;124m\"\u001B[39m, dep2)]:\n\u001B[0;32m   5156\u001B[0m     \u001B[38;5;28;01mif\u001B[39;00m array\u001B[38;5;241m.\u001B[39mndim \u001B[38;5;241m>\u001B[39m \u001B[38;5;241m1\u001B[39m:\n",
      "File \u001B[1;32m~\\github.com\\shankar-roy\\venv\\lib\\site-packages\\matplotlib\\axes\\_base.py:2544\u001B[0m, in \u001B[0;36m_AxesBase._process_unit_info\u001B[1;34m(self, datasets, kwargs, convert)\u001B[0m\n\u001B[0;32m   2542\u001B[0m             \u001B[38;5;28;01mif\u001B[39;00m dataset_axis_name \u001B[38;5;241m==\u001B[39m axis_name \u001B[38;5;129;01mand\u001B[39;00m data \u001B[38;5;129;01mis\u001B[39;00m \u001B[38;5;129;01mnot\u001B[39;00m \u001B[38;5;28;01mNone\u001B[39;00m:\n\u001B[0;32m   2543\u001B[0m                 axis\u001B[38;5;241m.\u001B[39mupdate_units(data)\n\u001B[1;32m-> 2544\u001B[0m \u001B[38;5;28;01mreturn\u001B[39;00m [axis_map[axis_name]\u001B[38;5;241m.\u001B[39mconvert_units(data)\n\u001B[0;32m   2545\u001B[0m         \u001B[38;5;28;01mif\u001B[39;00m convert \u001B[38;5;129;01mand\u001B[39;00m data \u001B[38;5;129;01mis\u001B[39;00m \u001B[38;5;129;01mnot\u001B[39;00m \u001B[38;5;28;01mNone\u001B[39;00m \u001B[38;5;28;01melse\u001B[39;00m data\n\u001B[0;32m   2546\u001B[0m         \u001B[38;5;28;01mfor\u001B[39;00m axis_name, data \u001B[38;5;129;01min\u001B[39;00m datasets]\n",
      "File \u001B[1;32m~\\github.com\\shankar-roy\\venv\\lib\\site-packages\\matplotlib\\axes\\_base.py:2544\u001B[0m, in \u001B[0;36m<listcomp>\u001B[1;34m(.0)\u001B[0m\n\u001B[0;32m   2542\u001B[0m             \u001B[38;5;28;01mif\u001B[39;00m dataset_axis_name \u001B[38;5;241m==\u001B[39m axis_name \u001B[38;5;129;01mand\u001B[39;00m data \u001B[38;5;129;01mis\u001B[39;00m \u001B[38;5;129;01mnot\u001B[39;00m \u001B[38;5;28;01mNone\u001B[39;00m:\n\u001B[0;32m   2543\u001B[0m                 axis\u001B[38;5;241m.\u001B[39mupdate_units(data)\n\u001B[1;32m-> 2544\u001B[0m \u001B[38;5;28;01mreturn\u001B[39;00m [\u001B[43maxis_map\u001B[49m\u001B[43m[\u001B[49m\u001B[43maxis_name\u001B[49m\u001B[43m]\u001B[49m\u001B[38;5;241;43m.\u001B[39;49m\u001B[43mconvert_units\u001B[49m\u001B[43m(\u001B[49m\u001B[43mdata\u001B[49m\u001B[43m)\u001B[49m\n\u001B[0;32m   2545\u001B[0m         \u001B[38;5;28;01mif\u001B[39;00m convert \u001B[38;5;129;01mand\u001B[39;00m data \u001B[38;5;129;01mis\u001B[39;00m \u001B[38;5;129;01mnot\u001B[39;00m \u001B[38;5;28;01mNone\u001B[39;00m \u001B[38;5;28;01melse\u001B[39;00m data\n\u001B[0;32m   2546\u001B[0m         \u001B[38;5;28;01mfor\u001B[39;00m axis_name, data \u001B[38;5;129;01min\u001B[39;00m datasets]\n",
      "File \u001B[1;32m~\\github.com\\shankar-roy\\venv\\lib\\site-packages\\matplotlib\\axis.py:1508\u001B[0m, in \u001B[0;36mAxis.convert_units\u001B[1;34m(self, x)\u001B[0m\n\u001B[0;32m   1506\u001B[0m     ret \u001B[38;5;241m=\u001B[39m \u001B[38;5;28mself\u001B[39m\u001B[38;5;241m.\u001B[39mconverter\u001B[38;5;241m.\u001B[39mconvert(x, \u001B[38;5;28mself\u001B[39m\u001B[38;5;241m.\u001B[39munits, \u001B[38;5;28mself\u001B[39m)\n\u001B[0;32m   1507\u001B[0m \u001B[38;5;28;01mexcept\u001B[39;00m \u001B[38;5;167;01mException\u001B[39;00m \u001B[38;5;28;01mas\u001B[39;00m e:\n\u001B[1;32m-> 1508\u001B[0m     \u001B[38;5;28;01mraise\u001B[39;00m munits\u001B[38;5;241m.\u001B[39mConversionError(\u001B[38;5;124m'\u001B[39m\u001B[38;5;124mFailed to convert value(s) to axis \u001B[39m\u001B[38;5;124m'\u001B[39m\n\u001B[0;32m   1509\u001B[0m                                  \u001B[38;5;124mf\u001B[39m\u001B[38;5;124m'\u001B[39m\u001B[38;5;124munits: \u001B[39m\u001B[38;5;132;01m{\u001B[39;00mx\u001B[38;5;132;01m!r}\u001B[39;00m\u001B[38;5;124m'\u001B[39m) \u001B[38;5;28;01mfrom\u001B[39;00m \u001B[38;5;21;01me\u001B[39;00m\n\u001B[0;32m   1510\u001B[0m \u001B[38;5;28;01mreturn\u001B[39;00m ret\n",
      "\u001B[1;31mConversionError\u001B[0m: Failed to convert value(s) to axis units: (NaT, Timestamp('2022-08-30 00:00:00+0000', tz='UTC'))"
     ]
    },
    {
     "data": {
      "text/plain": "<Figure size 1008x5184 with 13 Axes>",
      "image/png": "[encoded data removed]"
     },
     "metadata": {
      "needs_background": "light"
     },
     "output_type": "display_data"
    }
   ],
   "source": [
    "print(\"==============Compare to DJIA===========\")\n",
    "%matplotlib inline\n",
    "# S&P 500: ^GSPC\n",
    "# Dow Jones Index: ^DJI\n",
    "# NASDAQ 100: ^NDX\n",
    "backtest_plot(df_account_value, \n",
    "             baseline_ticker = '^DJI', \n",
    "             baseline_start = df_account_value.loc[0,'date'],\n",
    "             baseline_end = df_account_value.loc[len(df_account_value)-1,'date'])"
   ]
  },
  {
   "cell_type": "code",
   "execution_count": null,
   "metadata": {
    "id": "BzBaE63H3RLc",
    "pycharm": {
     "name": "#%%\n"
    }
   },
   "outputs": [],
   "source": []
  },
  {
   "cell_type": "code",
   "execution_count": null,
   "metadata": {
    "id": "ZYeOjax-7H_5",
    "pycharm": {
     "name": "#%%\n"
    }
   },
   "outputs": [],
   "source": []
  }
 ],
 "metadata": {
  "colab": {
   "collapsed_sections": [
    "Uy5_PTmOh1hj",
    "_gDkU-j-fCmZ",
    "3Zpv4S0-fDBv"
   ],
   "include_colab_link": true,
   "name": "FinRL_StockTrading_NeurIPS_2018.ipynb",
   "provenance": []
  },
  "kernelspec": {
   "display_name": "Python 3",
   "language": "python",
   "name": "python3"
  },
  "language_info": {
   "codemirror_mode": {
    "name": "ipython",
    "version": 3
   },
   "file_extension": ".py",
   "mimetype": "text/x-python",
   "name": "python",
   "nbconvert_exporter": "python",
   "pygments_lexer": "ipython3",
   "version": "3.7.11"
  }
 },
 "nbformat": 4,
 "nbformat_minor": 0
}