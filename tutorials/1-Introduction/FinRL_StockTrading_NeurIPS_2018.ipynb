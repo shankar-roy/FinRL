{
 "cells": [
  {
   "cell_type": "markdown",
   "metadata": {
    "colab_type": "text",
    "id": "view-in-github",
    "pycharm": {
     "name": "#%% md\n"
    }
   },
   "source": [
    "<a href=\"https://colab.research.google.com/github/AI4Finance-Foundation/FinRL/blob/master/FinRL_StockTrading_NeurIPS_2018.ipynb\" target=\"_parent\"><img src=\"https://colab.research.google.com/assets/colab-badge.svg\" alt=\"Open In Colab\"/></a>"
   ]
  },
  {
   "cell_type": "markdown",
   "metadata": {
    "id": "gXaoZs2lh1hi",
    "pycharm": {
     "name": "#%% md\n"
    }
   },
   "source": [
    "# Deep Reinforcement Learning for Stock Trading from Scratch: Multiple Stock Trading\n",
    "\n",
    "* **Pytorch Version** \n",
    "\n"
   ]
  },
  {
   "cell_type": "markdown",
   "metadata": {
    "id": "lGunVt8oLCVS",
    "pycharm": {
     "name": "#%% md\n"
    }
   },
   "source": [
    "# Content"
   ]
  },
  {
   "cell_type": "markdown",
   "metadata": {
    "id": "HOzAKQ-SLGX6",
    "pycharm": {
     "name": "#%% md\n"
    }
   },
   "source": [
    "* [1. Problem Definition](#0)\n",
    "* [2. Getting Started - Load Python packages](#1)\n",
    "    * [2.1. Install Packages](#1.1)    \n",
    "    * [2.2. Check Additional Packages](#1.2)\n",
    "    * [2.3. Import Packages](#1.3)\n",
    "    * [2.4. Create Folders](#1.4)\n",
    "* [3. Download Data](#2)\n",
    "* [4. Preprocess Data](#3)        \n",
    "    * [4.1. Technical Indicators](#3.1)\n",
    "    * [4.2. Perform Feature Engineering](#3.2)\n",
    "* [5.Build Environment](#4)  \n",
    "    * [5.1. Training & Trade Data Split](#4.1)\n",
    "    * [5.2. User-defined Environment](#4.2)   \n",
    "    * [5.3. Initialize Environment](#4.3)    \n",
    "* [6.Implement DRL Algorithms](#5)  \n",
    "* [7.Backtesting Performance](#6)  \n",
    "    * [7.1. BackTestStats](#6.1)\n",
    "    * [7.2. BackTestPlot](#6.2)   \n",
    "    * [7.3. Baseline Stats](#6.3)   \n",
    "    * [7.3. Compare to Stock Market Index](#6.4)   \n",
    "* [RLlib Section](#7)            "
   ]
  },
  {
   "cell_type": "markdown",
   "metadata": {
    "id": "sApkDlD9LIZv",
    "pycharm": {
     "name": "#%% md\n"
    }
   },
   "source": [
    "<a id='0'></a>\n",
    "# Part 1. Problem Definition"
   ]
  },
  {
   "cell_type": "markdown",
   "metadata": {
    "id": "HjLD2TZSLKZ-",
    "pycharm": {
     "name": "#%% md\n"
    }
   },
   "source": [
    "This problem is to design an automated trading solution for single stock trading. We model the stock trading process as a Markov Decision Process (MDP). We then formulate our trading goal as a maximization problem.\n",
    "\n",
    "The algorithm is trained using Deep Reinforcement Learning (DRL) algorithms and the components of the reinforcement learning environment are:\n",
    "\n",
    "\n",
    "* Action: The action space describes the allowed actions that the agent interacts with the\n",
    "environment. Normally, a ∈ A includes three actions: a ∈ {−1, 0, 1}, where −1, 0, 1 represent\n",
    "selling, holding, and buying one stock. Also, an action can be carried upon multiple shares. We use\n",
    "an action space {−k, ..., −1, 0, 1, ..., k}, where k denotes the number of shares. For example, \"Buy\n",
    "10 shares of AAPL\" or \"Sell 10 shares of AAPL\" are 10 or −10, respectively\n",
    "\n",
    "* Reward function: r(s, a, s′) is the incentive mechanism for an agent to learn a better action. The change of the portfolio value when action a is taken at state s and arriving at new state s',  i.e., r(s, a, s′) = v′ − v, where v′ and v represent the portfolio\n",
    "values at state s′ and s, respectively\n",
    "\n",
    "* State: The state space describes the observations that the agent receives from the environment. Just as a human trader needs to analyze various information before executing a trade, so\n",
    "our trading agent observes many different features to better learn in an interactive environment.\n",
    "\n",
    "* Environment: Dow 30 consituents\n",
    "\n",
    "\n",
    "The data of the single stock that we will be using for this case study is obtained from Yahoo Finance API. The data contains Open-High-Low-Close price and volume.\n"
   ]
  },
  {
   "cell_type": "markdown",
   "metadata": {
    "id": "Ffsre789LY08",
    "pycharm": {
     "name": "#%% md\n"
    }
   },
   "source": [
    "<a id='1'></a>\n",
    "# Part 2. Getting Started- Load Python Packages"
   ]
  },
  {
   "cell_type": "markdown",
   "metadata": {
    "id": "Uy5_PTmOh1hj",
    "pycharm": {
     "name": "#%% md\n"
    }
   },
   "source": [
    "<a id='1.1'></a>\n",
    "## 2.1. Install all the packages through FinRL library\n"
   ]
  },
  {
   "cell_type": "code",
   "execution_count": 1,
   "metadata": {
    "colab": {
     "base_uri": "https://localhost:8080/"
    },
    "id": "mPT0ipYE28wL",
    "outputId": "ef0ba8d0-f57a-4c74-bb0b-46737762677d",
    "pycharm": {
     "name": "#%%\n"
    }
   },
   "outputs": [
    {
     "name": "stdout",
     "output_type": "stream",
     "text": [
      "Collecting git+https://github.com/AI4Finance-LLC/FinRL-Library.git\n",
      "  Cloning https://github.com/AI4Finance-LLC/FinRL-Library.git to c:\\users\\shank\\appdata\\local\\temp\\pip-req-build-9x6_6b78\n",
      "  Resolved https://github.com/AI4Finance-LLC/FinRL-Library.git to commit 978420563c85b7363f62474a701449226c8be2ea\n",
      "  Preparing metadata (setup.py): started\n",
      "  Preparing metadata (setup.py): finished with status 'done'\n",
      "Collecting pyfolio@ git+https://github.com/quantopian/pyfolio.git#egg=pyfolio-0.9.2\n",
      "  Cloning https://github.com/quantopian/pyfolio.git to c:\\users\\shank\\appdata\\local\\temp\\pip-install-31iupry_\\pyfolio_dd30ee6a16fe4b3e87147b69c419736e\n",
      "  Resolved https://github.com/quantopian/pyfolio.git to commit 4b901f6d73aa02ceb6d04b7d83502e5c6f2e81aa\n",
      "  Preparing metadata (setup.py): started\n",
      "  Preparing metadata (setup.py): finished with status 'done'\n",
      "Collecting elegantrl@ git+https://github.com/AI4Finance-Foundation/ElegantRL.git#egg=elegantrl\n",
      "  Cloning https://github.com/AI4Finance-Foundation/ElegantRL.git to c:\\users\\shank\\appdata\\local\\temp\\pip-install-31iupry_\\elegantrl_4544ed6fc0c947199d5a000ba8044c52\n",
      "  Resolved https://github.com/AI4Finance-Foundation/ElegantRL.git to commit 21632c09690e809a1016b118d016385ee185e73c\n",
      "  Preparing metadata (setup.py): started\n",
      "  Preparing metadata (setup.py): finished with status 'done'\n",
      "Requirement already satisfied: alpaca_trade_api>=2.1.0 in c:\\users\\shank\\github.com\\shankar-roy\\venv\\lib\\site-packages (from finrl==0.3.5) (2.3.0)\n",
      "Requirement already satisfied: ccxt==1.66.32 in c:\\users\\shank\\github.com\\shankar-roy\\venv\\lib\\site-packages (from finrl==0.3.5) (1.66.32)\n",
      "Requirement already satisfied: elegantrl in c:\\users\\shank\\github.com\\shankar-roy\\venv\\lib\\site-packages (from finrl==0.3.5) (0.3.3)\n",
      "Requirement already satisfied: exchange_calendars in c:\\users\\shank\\github.com\\shankar-roy\\venv\\lib\\site-packages (from finrl==0.3.5) (4.1.1)\n",
      "Requirement already satisfied: gputil in c:\\users\\shank\\github.com\\shankar-roy\\venv\\lib\\site-packages (from finrl==0.3.5) (1.4.0)\n",
      "Requirement already satisfied: gym>=0.17 in c:\\users\\shank\\github.com\\shankar-roy\\venv\\lib\\site-packages (from finrl==0.3.5) (0.21.0)\n",
      "Requirement already satisfied: jqdatasdk in c:\\users\\shank\\github.com\\shankar-roy\\venv\\lib\\site-packages (from finrl==0.3.5) (1.8.10)\n",
      "Requirement already satisfied: lz4 in c:\\users\\shank\\github.com\\shankar-roy\\venv\\lib\\site-packages (from finrl==0.3.5) (4.0.1)\n",
      "Requirement already satisfied: matplotlib in c:\\users\\shank\\github.com\\shankar-roy\\venv\\lib\\site-packages (from finrl==0.3.5) (3.5.2)\n",
      "Requirement already satisfied: numpy>=1.17.3 in c:\\users\\shank\\github.com\\shankar-roy\\venv\\lib\\site-packages (from finrl==0.3.5) (1.23.1)\n",
      "Requirement already satisfied: pandas>=1.1.5 in c:\\users\\shank\\github.com\\shankar-roy\\venv\\lib\\site-packages (from finrl==0.3.5) (1.4.3)\n",
      "Requirement already satisfied: pre-commit in c:\\users\\shank\\github.com\\shankar-roy\\venv\\lib\\site-packages (from finrl==0.3.5) (2.20.0)\n",
      "Requirement already satisfied: pytest in c:\\users\\shank\\github.com\\shankar-roy\\venv\\lib\\site-packages (from finrl==0.3.5) (7.1.2)\n",
      "Requirement already satisfied: ray[default] in c:\\users\\shank\\github.com\\shankar-roy\\venv\\lib\\site-packages (from finrl==0.3.5) (1.13.0)\n",
      "Requirement already satisfied: scikit-learn>=0.21.0 in c:\\users\\shank\\github.com\\shankar-roy\\venv\\lib\\site-packages (from finrl==0.3.5) (1.1.1)\n",
      "Requirement already satisfied: setuptools==59.5.0 in c:\\users\\shank\\github.com\\shankar-roy\\venv\\lib\\site-packages (from finrl==0.3.5) (59.5.0)\n",
      "Requirement already satisfied: stable-baselines3[extra] in c:\\users\\shank\\github.com\\shankar-roy\\venv\\lib\\site-packages (from finrl==0.3.5) (1.6.0)\n",
      "Requirement already satisfied: stockstats>=0.4.0 in c:\\users\\shank\\github.com\\shankar-roy\\venv\\lib\\site-packages (from finrl==0.3.5) (0.4.1)\n",
      "Requirement already satisfied: tensorboardX in c:\\users\\shank\\github.com\\shankar-roy\\venv\\lib\\site-packages (from finrl==0.3.5) (2.5.1)\n",
      "Requirement already satisfied: wheel>=0.33.6 in c:\\users\\shank\\github.com\\shankar-roy\\venv\\lib\\site-packages (from finrl==0.3.5) (0.37.1)\n",
      "Requirement already satisfied: wrds in c:\\users\\shank\\github.com\\shankar-roy\\venv\\lib\\site-packages (from finrl==0.3.5) (3.1.2)\n",
      "Requirement already satisfied: yfinance in c:\\users\\shank\\github.com\\shankar-roy\\venv\\lib\\site-packages (from finrl==0.3.5) (0.1.74)\n",
      "Requirement already satisfied: certifi>=2018.1.18 in c:\\users\\shank\\github.com\\shankar-roy\\venv\\lib\\site-packages (from ccxt==1.66.32->finrl==0.3.5) (2022.6.15)\n",
      "Requirement already satisfied: cryptography>=2.6.1 in c:\\users\\shank\\github.com\\shankar-roy\\venv\\lib\\site-packages (from ccxt==1.66.32->finrl==0.3.5) (37.0.4)\n",
      "Requirement already satisfied: aiodns>=1.1.1 in c:\\users\\shank\\github.com\\shankar-roy\\venv\\lib\\site-packages (from ccxt==1.66.32->finrl==0.3.5) (3.0.0)\n",
      "Requirement already satisfied: requests>=2.18.4 in c:\\users\\shank\\github.com\\shankar-roy\\venv\\lib\\site-packages (from ccxt==1.66.32->finrl==0.3.5) (2.28.1)\n",
      "Requirement already satisfied: yarl==1.7.2 in c:\\users\\shank\\github.com\\shankar-roy\\venv\\lib\\site-packages (from ccxt==1.66.32->finrl==0.3.5) (1.7.2)\n",
      "Requirement already satisfied: aiohttp>=3.8 in c:\\users\\shank\\github.com\\shankar-roy\\venv\\lib\\site-packages (from ccxt==1.66.32->finrl==0.3.5) (3.8.1)\n",
      "Requirement already satisfied: multidict>=4.0 in c:\\users\\shank\\github.com\\shankar-roy\\venv\\lib\\site-packages (from yarl==1.7.2->ccxt==1.66.32->finrl==0.3.5) (6.0.2)\n",
      "Requirement already satisfied: idna>=2.0 in c:\\users\\shank\\github.com\\shankar-roy\\venv\\lib\\site-packages (from yarl==1.7.2->ccxt==1.66.32->finrl==0.3.5) (3.3)\n",
      "Requirement already satisfied: deprecation==2.1.0 in c:\\users\\shank\\github.com\\shankar-roy\\venv\\lib\\site-packages (from alpaca_trade_api>=2.1.0->finrl==0.3.5) (2.1.0)\n",
      "Requirement already satisfied: websocket-client<2,>=0.56.0 in c:\\users\\shank\\github.com\\shankar-roy\\venv\\lib\\site-packages (from alpaca_trade_api>=2.1.0->finrl==0.3.5) (1.3.3)\n",
      "Requirement already satisfied: PyYAML==6.0 in c:\\users\\shank\\github.com\\shankar-roy\\venv\\lib\\site-packages (from alpaca_trade_api>=2.1.0->finrl==0.3.5) (6.0)\n",
      "Requirement already satisfied: urllib3<2,>1.24 in c:\\users\\shank\\github.com\\shankar-roy\\venv\\lib\\site-packages (from alpaca_trade_api>=2.1.0->finrl==0.3.5) (1.26.10)\n",
      "Requirement already satisfied: websockets<11,>=9.0 in c:\\users\\shank\\github.com\\shankar-roy\\venv\\lib\\site-packages (from alpaca_trade_api>=2.1.0->finrl==0.3.5) (10.3)\n",
      "Requirement already satisfied: msgpack==1.0.3 in c:\\users\\shank\\github.com\\shankar-roy\\venv\\lib\\site-packages (from alpaca_trade_api>=2.1.0->finrl==0.3.5) (1.0.3)\n",
      "Requirement already satisfied: aiosignal>=1.1.2 in c:\\users\\shank\\github.com\\shankar-roy\\venv\\lib\\site-packages (from aiohttp>=3.8->ccxt==1.66.32->finrl==0.3.5) (1.2.0)\n",
      "Requirement already satisfied: charset-normalizer<3.0,>=2.0 in c:\\users\\shank\\github.com\\shankar-roy\\venv\\lib\\site-packages (from aiohttp>=3.8->ccxt==1.66.32->finrl==0.3.5) (2.1.0)\n",
      "Requirement already satisfied: async-timeout<5.0,>=4.0.0a3 in c:\\users\\shank\\github.com\\shankar-roy\\venv\\lib\\site-packages (from aiohttp>=3.8->ccxt==1.66.32->finrl==0.3.5) (4.0.2)\n",
      "Requirement already satisfied: attrs>=17.3.0 in c:\\users\\shank\\github.com\\shankar-roy\\venv\\lib\\site-packages (from aiohttp>=3.8->ccxt==1.66.32->finrl==0.3.5) (21.4.0)\n",
      "Requirement already satisfied: frozenlist>=1.1.1 in c:\\users\\shank\\github.com\\shankar-roy\\venv\\lib\\site-packages (from aiohttp>=3.8->ccxt==1.66.32->finrl==0.3.5) (1.3.0)\n",
      "Requirement already satisfied: packaging in c:\\users\\shank\\github.com\\shankar-roy\\venv\\lib\\site-packages (from deprecation==2.1.0->alpaca_trade_api>=2.1.0->finrl==0.3.5) (21.3)\n",
      "Requirement already satisfied: cloudpickle>=1.2.0 in c:\\users\\shank\\github.com\\shankar-roy\\venv\\lib\\site-packages (from gym>=0.17->finrl==0.3.5) (2.1.0)\n",
      "Requirement already satisfied: python-dateutil>=2.8.1 in c:\\users\\shank\\github.com\\shankar-roy\\venv\\lib\\site-packages (from pandas>=1.1.5->finrl==0.3.5) (2.8.2)\n",
      "Requirement already satisfied: pytz>=2020.1 in c:\\users\\shank\\github.com\\shankar-roy\\venv\\lib\\site-packages (from pandas>=1.1.5->finrl==0.3.5) (2022.1)\n",
      "Requirement already satisfied: threadpoolctl>=2.0.0 in c:\\users\\shank\\github.com\\shankar-roy\\venv\\lib\\site-packages (from scikit-learn>=0.21.0->finrl==0.3.5) (3.1.0)\n",
      "Requirement already satisfied: scipy>=1.3.2 in c:\\users\\shank\\github.com\\shankar-roy\\venv\\lib\\site-packages (from scikit-learn>=0.21.0->finrl==0.3.5) (1.8.1)\n",
      "Requirement already satisfied: joblib>=1.0.0 in c:\\users\\shank\\github.com\\shankar-roy\\venv\\lib\\site-packages (from scikit-learn>=0.21.0->finrl==0.3.5) (1.1.0)\n",
      "Requirement already satisfied: pybullet in c:\\users\\shank\\github.com\\shankar-roy\\venv\\lib\\site-packages (from elegantrl@ git+https://github.com/AI4Finance-Foundation/ElegantRL.git#egg=elegantrl->finrl==0.3.5) (3.2.5)\n",
      "Requirement already satisfied: torch in c:\\users\\shank\\github.com\\shankar-roy\\venv\\lib\\site-packages (from elegantrl@ git+https://github.com/AI4Finance-Foundation/ElegantRL.git#egg=elegantrl->finrl==0.3.5) (1.12.0)\n",
      "Requirement already satisfied: opencv-python in c:\\users\\shank\\github.com\\shankar-roy\\venv\\lib\\site-packages (from elegantrl@ git+https://github.com/AI4Finance-Foundation/ElegantRL.git#egg=elegantrl->finrl==0.3.5) (4.6.0.66)\n",
      "Requirement already satisfied: box2d-py in c:\\users\\shank\\github.com\\shankar-roy\\venv\\lib\\site-packages (from elegantrl@ git+https://github.com/AI4Finance-Foundation/ElegantRL.git#egg=elegantrl->finrl==0.3.5) (2.3.8)\n",
      "Requirement already satisfied: korean-lunar-calendar in c:\\users\\shank\\github.com\\shankar-roy\\venv\\lib\\site-packages (from exchange_calendars->finrl==0.3.5) (0.2.1)\n",
      "Requirement already satisfied: pyluach in c:\\users\\shank\\github.com\\shankar-roy\\venv\\lib\\site-packages (from exchange_calendars->finrl==0.3.5) (2.0.0)\n",
      "Requirement already satisfied: toolz in c:\\users\\shank\\github.com\\shankar-roy\\venv\\lib\\site-packages (from exchange_calendars->finrl==0.3.5) (0.12.0)\n",
      "Requirement already satisfied: six in c:\\users\\shank\\github.com\\shankar-roy\\venv\\lib\\site-packages (from jqdatasdk->finrl==0.3.5) (1.16.0)\n",
      "Requirement already satisfied: SQLAlchemy>=1.2.8 in c:\\users\\shank\\github.com\\shankar-roy\\venv\\lib\\site-packages (from jqdatasdk->finrl==0.3.5) (1.4.39)\n",
      "Requirement already satisfied: thriftpy2>=0.3.9 in c:\\users\\shank\\github.com\\shankar-roy\\venv\\lib\\site-packages (from jqdatasdk->finrl==0.3.5) (0.4.14)\n",
      "Requirement already satisfied: pymysql>=0.7.6 in c:\\users\\shank\\github.com\\shankar-roy\\venv\\lib\\site-packages (from jqdatasdk->finrl==0.3.5) (1.0.2)\n",
      "Requirement already satisfied: kiwisolver>=1.0.1 in c:\\users\\shank\\github.com\\shankar-roy\\venv\\lib\\site-packages (from matplotlib->finrl==0.3.5) (1.4.4)\n",
      "Requirement already satisfied: pillow>=6.2.0 in c:\\users\\shank\\github.com\\shankar-roy\\venv\\lib\\site-packages (from matplotlib->finrl==0.3.5) (9.2.0)\n",
      "Requirement already satisfied: pyparsing>=2.2.1 in c:\\users\\shank\\github.com\\shankar-roy\\venv\\lib\\site-packages (from matplotlib->finrl==0.3.5) (3.0.9)\n",
      "Requirement already satisfied: fonttools>=4.22.0 in c:\\users\\shank\\github.com\\shankar-roy\\venv\\lib\\site-packages (from matplotlib->finrl==0.3.5) (4.34.4)\n",
      "Requirement already satisfied: cycler>=0.10 in c:\\users\\shank\\github.com\\shankar-roy\\venv\\lib\\site-packages (from matplotlib->finrl==0.3.5) (0.11.0)\n",
      "Requirement already satisfied: virtualenv>=20.0.8 in c:\\users\\shank\\github.com\\shankar-roy\\venv\\lib\\site-packages (from pre-commit->finrl==0.3.5) (20.15.1)\n",
      "Requirement already satisfied: cfgv>=2.0.0 in c:\\users\\shank\\github.com\\shankar-roy\\venv\\lib\\site-packages (from pre-commit->finrl==0.3.5) (3.3.1)\n",
      "Requirement already satisfied: identify>=1.0.0 in c:\\users\\shank\\github.com\\shankar-roy\\venv\\lib\\site-packages (from pre-commit->finrl==0.3.5) (2.5.1)\n",
      "Requirement already satisfied: toml in c:\\users\\shank\\github.com\\shankar-roy\\venv\\lib\\site-packages (from pre-commit->finrl==0.3.5) (0.10.2)\n",
      "Requirement already satisfied: nodeenv>=0.11.1 in c:\\users\\shank\\github.com\\shankar-roy\\venv\\lib\\site-packages (from pre-commit->finrl==0.3.5) (1.7.0)\n",
      "Requirement already satisfied: ipython>=3.2.3 in c:\\users\\shank\\github.com\\shankar-roy\\venv\\lib\\site-packages (from pyfolio@ git+https://github.com/quantopian/pyfolio.git#egg=pyfolio-0.9.2->finrl==0.3.5) (8.4.0)\n",
      "Requirement already satisfied: seaborn>=0.7.1 in c:\\users\\shank\\github.com\\shankar-roy\\venv\\lib\\site-packages (from pyfolio@ git+https://github.com/quantopian/pyfolio.git#egg=pyfolio-0.9.2->finrl==0.3.5) (0.11.2)\n",
      "Requirement already satisfied: empyrical>=0.5.0 in c:\\users\\shank\\github.com\\shankar-roy\\venv\\lib\\site-packages (from pyfolio@ git+https://github.com/quantopian/pyfolio.git#egg=pyfolio-0.9.2->finrl==0.3.5) (0.5.5)\n",
      "Requirement already satisfied: pluggy<2.0,>=0.12 in c:\\users\\shank\\github.com\\shankar-roy\\venv\\lib\\site-packages (from pytest->finrl==0.3.5) (1.0.0)\n",
      "Requirement already satisfied: py>=1.8.2 in c:\\users\\shank\\github.com\\shankar-roy\\venv\\lib\\site-packages (from pytest->finrl==0.3.5) (1.11.0)\n",
      "Requirement already satisfied: tomli>=1.0.0 in c:\\users\\shank\\github.com\\shankar-roy\\venv\\lib\\site-packages (from pytest->finrl==0.3.5) (2.0.1)\n",
      "Requirement already satisfied: iniconfig in c:\\users\\shank\\github.com\\shankar-roy\\venv\\lib\\site-packages (from pytest->finrl==0.3.5) (1.1.1)\n",
      "Requirement already satisfied: atomicwrites>=1.0 in c:\\users\\shank\\github.com\\shankar-roy\\venv\\lib\\site-packages (from pytest->finrl==0.3.5) (1.4.1)\n",
      "Requirement already satisfied: colorama in c:\\users\\shank\\github.com\\shankar-roy\\venv\\lib\\site-packages (from pytest->finrl==0.3.5) (0.4.5)\n",
      "Requirement already satisfied: filelock in c:\\users\\shank\\github.com\\shankar-roy\\venv\\lib\\site-packages (from ray[default]->finrl==0.3.5) (3.7.1)\n",
      "Requirement already satisfied: jsonschema in c:\\users\\shank\\github.com\\shankar-roy\\venv\\lib\\site-packages (from ray[default]->finrl==0.3.5) (4.7.2)\n",
      "Requirement already satisfied: grpcio<=1.43.0,>=1.28.1 in c:\\users\\shank\\github.com\\shankar-roy\\venv\\lib\\site-packages (from ray[default]->finrl==0.3.5) (1.43.0)\n",
      "Requirement already satisfied: protobuf<4.0.0,>=3.15.3 in c:\\users\\shank\\github.com\\shankar-roy\\venv\\lib\\site-packages (from ray[default]->finrl==0.3.5) (3.19.4)\n",
      "Requirement already satisfied: click<=8.0.4,>=7.0 in c:\\users\\shank\\github.com\\shankar-roy\\venv\\lib\\site-packages (from ray[default]->finrl==0.3.5) (8.0.4)\n",
      "Requirement already satisfied: prometheus-client<0.14.0,>=0.7.1 in c:\\users\\shank\\github.com\\shankar-roy\\venv\\lib\\site-packages (from ray[default]->finrl==0.3.5) (0.13.1)\n",
      "Requirement already satisfied: gpustat>=1.0.0b1 in c:\\users\\shank\\github.com\\shankar-roy\\venv\\lib\\site-packages (from ray[default]->finrl==0.3.5) (1.0.0rc1)\n",
      "Requirement already satisfied: smart-open in c:\\users\\shank\\github.com\\shankar-roy\\venv\\lib\\site-packages (from ray[default]->finrl==0.3.5) (6.0.0)\n",
      "Requirement already satisfied: colorful in c:\\users\\shank\\github.com\\shankar-roy\\venv\\lib\\site-packages (from ray[default]->finrl==0.3.5) (0.5.4)\n",
      "Requirement already satisfied: opencensus in c:\\users\\shank\\github.com\\shankar-roy\\venv\\lib\\site-packages (from ray[default]->finrl==0.3.5) (0.10.0)\n",
      "Requirement already satisfied: py-spy>=0.2.0 in c:\\users\\shank\\github.com\\shankar-roy\\venv\\lib\\site-packages (from ray[default]->finrl==0.3.5) (0.3.12)\n",
      "Requirement already satisfied: aiohttp-cors in c:\\users\\shank\\github.com\\shankar-roy\\venv\\lib\\site-packages (from ray[default]->finrl==0.3.5) (0.7.0)\n",
      "Requirement already satisfied: tabulate in c:\\users\\shank\\github.com\\shankar-roy\\venv\\lib\\site-packages (from ray[default]->finrl==0.3.5) (0.8.10)\n",
      "Requirement already satisfied: ale-py==0.7.4 in c:\\users\\shank\\github.com\\shankar-roy\\venv\\lib\\site-packages (from stable-baselines3[extra]->finrl==0.3.5) (0.7.4)\n",
      "Requirement already satisfied: tensorboard>=2.2.0 in c:\\users\\shank\\github.com\\shankar-roy\\venv\\lib\\site-packages (from stable-baselines3[extra]->finrl==0.3.5) (2.9.1)\n",
      "Requirement already satisfied: psutil in c:\\users\\shank\\github.com\\shankar-roy\\venv\\lib\\site-packages (from stable-baselines3[extra]->finrl==0.3.5) (5.9.1)\n",
      "Requirement already satisfied: autorom[accept-rom-license]~=0.4.2 in c:\\users\\shank\\github.com\\shankar-roy\\venv\\lib\\site-packages (from stable-baselines3[extra]->finrl==0.3.5) (0.4.2)\n",
      "Requirement already satisfied: importlib-resources in c:\\users\\shank\\github.com\\shankar-roy\\venv\\lib\\site-packages (from ale-py==0.7.4->stable-baselines3[extra]->finrl==0.3.5) (5.8.0)\n",
      "Requirement already satisfied: importlib-metadata>=4.10.0 in c:\\users\\shank\\github.com\\shankar-roy\\venv\\lib\\site-packages (from ale-py==0.7.4->stable-baselines3[extra]->finrl==0.3.5) (4.12.0)\n",
      "Requirement already satisfied: psycopg2-binary in c:\\users\\shank\\github.com\\shankar-roy\\venv\\lib\\site-packages (from wrds->finrl==0.3.5) (2.9.3)\n",
      "Requirement already satisfied: mock in c:\\users\\shank\\github.com\\shankar-roy\\venv\\lib\\site-packages (from wrds->finrl==0.3.5) (4.0.3)\n",
      "Requirement already satisfied: lxml>=4.5.1 in c:\\users\\shank\\github.com\\shankar-roy\\venv\\lib\\site-packages (from yfinance->finrl==0.3.5) (4.9.1)\n",
      "Requirement already satisfied: multitasking>=0.0.7 in c:\\users\\shank\\github.com\\shankar-roy\\venv\\lib\\site-packages (from yfinance->finrl==0.3.5) (0.0.11)\n",
      "Requirement already satisfied: pycares>=4.0.0 in c:\\users\\shank\\github.com\\shankar-roy\\venv\\lib\\site-packages (from aiodns>=1.1.1->ccxt==1.66.32->finrl==0.3.5) (4.2.1)\n",
      "Requirement already satisfied: tqdm in c:\\users\\shank\\github.com\\shankar-roy\\venv\\lib\\site-packages (from autorom[accept-rom-license]~=0.4.2->stable-baselines3[extra]->finrl==0.3.5) (4.64.0)\n",
      "Requirement already satisfied: AutoROM.accept-rom-license in c:\\users\\shank\\github.com\\shankar-roy\\venv\\lib\\site-packages (from autorom[accept-rom-license]~=0.4.2->stable-baselines3[extra]->finrl==0.3.5) (0.4.2)\n",
      "Requirement already satisfied: cffi>=1.12 in c:\\users\\shank\\github.com\\shankar-roy\\venv\\lib\\site-packages (from cryptography>=2.6.1->ccxt==1.66.32->finrl==0.3.5) (1.15.1)\n",
      "Requirement already satisfied: pandas-datareader>=0.2 in c:\\users\\shank\\github.com\\shankar-roy\\venv\\lib\\site-packages (from empyrical>=0.5.0->pyfolio@ git+https://github.com/quantopian/pyfolio.git#egg=pyfolio-0.9.2->finrl==0.3.5) (0.10.0)\n",
      "Requirement already satisfied: nvidia-ml-py<=11.495.46,>=11.450.129 in c:\\users\\shank\\github.com\\shankar-roy\\venv\\lib\\site-packages (from gpustat>=1.0.0b1->ray[default]->finrl==0.3.5) (11.495.46)\n",
      "Requirement already satisfied: blessed>=1.17.1 in c:\\users\\shank\\github.com\\shankar-roy\\venv\\lib\\site-packages (from gpustat>=1.0.0b1->ray[default]->finrl==0.3.5) (1.19.1)\n",
      "Requirement already satisfied: prompt-toolkit!=3.0.0,!=3.0.1,<3.1.0,>=2.0.0 in c:\\users\\shank\\github.com\\shankar-roy\\venv\\lib\\site-packages (from ipython>=3.2.3->pyfolio@ git+https://github.com/quantopian/pyfolio.git#egg=pyfolio-0.9.2->finrl==0.3.5) (3.0.30)\n",
      "Requirement already satisfied: traitlets>=5 in c:\\users\\shank\\github.com\\shankar-roy\\venv\\lib\\site-packages (from ipython>=3.2.3->pyfolio@ git+https://github.com/quantopian/pyfolio.git#egg=pyfolio-0.9.2->finrl==0.3.5) (5.3.0)\n",
      "Requirement already satisfied: decorator in c:\\users\\shank\\github.com\\shankar-roy\\venv\\lib\\site-packages (from ipython>=3.2.3->pyfolio@ git+https://github.com/quantopian/pyfolio.git#egg=pyfolio-0.9.2->finrl==0.3.5) (5.1.1)\n",
      "Requirement already satisfied: matplotlib-inline in c:\\users\\shank\\github.com\\shankar-roy\\venv\\lib\\site-packages (from ipython>=3.2.3->pyfolio@ git+https://github.com/quantopian/pyfolio.git#egg=pyfolio-0.9.2->finrl==0.3.5) (0.1.3)\n",
      "Requirement already satisfied: stack-data in c:\\users\\shank\\github.com\\shankar-roy\\venv\\lib\\site-packages (from ipython>=3.2.3->pyfolio@ git+https://github.com/quantopian/pyfolio.git#egg=pyfolio-0.9.2->finrl==0.3.5) (0.3.0)\n",
      "Requirement already satisfied: jedi>=0.16 in c:\\users\\shank\\github.com\\shankar-roy\\venv\\lib\\site-packages (from ipython>=3.2.3->pyfolio@ git+https://github.com/quantopian/pyfolio.git#egg=pyfolio-0.9.2->finrl==0.3.5) (0.18.1)\n",
      "Requirement already satisfied: pickleshare in c:\\users\\shank\\github.com\\shankar-roy\\venv\\lib\\site-packages (from ipython>=3.2.3->pyfolio@ git+https://github.com/quantopian/pyfolio.git#egg=pyfolio-0.9.2->finrl==0.3.5) (0.7.5)\n",
      "Requirement already satisfied: pygments>=2.4.0 in c:\\users\\shank\\github.com\\shankar-roy\\venv\\lib\\site-packages (from ipython>=3.2.3->pyfolio@ git+https://github.com/quantopian/pyfolio.git#egg=pyfolio-0.9.2->finrl==0.3.5) (2.12.0)\n",
      "Requirement already satisfied: backcall in c:\\users\\shank\\github.com\\shankar-roy\\venv\\lib\\site-packages (from ipython>=3.2.3->pyfolio@ git+https://github.com/quantopian/pyfolio.git#egg=pyfolio-0.9.2->finrl==0.3.5) (0.2.0)\n",
      "Requirement already satisfied: greenlet!=0.4.17 in c:\\users\\shank\\github.com\\shankar-roy\\venv\\lib\\site-packages (from SQLAlchemy>=1.2.8->jqdatasdk->finrl==0.3.5) (1.1.2)\n",
      "Requirement already satisfied: markdown>=2.6.8 in c:\\users\\shank\\github.com\\shankar-roy\\venv\\lib\\site-packages (from tensorboard>=2.2.0->stable-baselines3[extra]->finrl==0.3.5) (3.4.1)\n",
      "Requirement already satisfied: absl-py>=0.4 in c:\\users\\shank\\github.com\\shankar-roy\\venv\\lib\\site-packages (from tensorboard>=2.2.0->stable-baselines3[extra]->finrl==0.3.5) (1.1.0)\n",
      "Requirement already satisfied: tensorboard-data-server<0.7.0,>=0.6.0 in c:\\users\\shank\\github.com\\shankar-roy\\venv\\lib\\site-packages (from tensorboard>=2.2.0->stable-baselines3[extra]->finrl==0.3.5) (0.6.1)\n",
      "Requirement already satisfied: werkzeug>=1.0.1 in c:\\users\\shank\\github.com\\shankar-roy\\venv\\lib\\site-packages (from tensorboard>=2.2.0->stable-baselines3[extra]->finrl==0.3.5) (2.1.2)\n",
      "Requirement already satisfied: google-auth-oauthlib<0.5,>=0.4.1 in c:\\users\\shank\\github.com\\shankar-roy\\venv\\lib\\site-packages (from tensorboard>=2.2.0->stable-baselines3[extra]->finrl==0.3.5) (0.4.6)\n",
      "Requirement already satisfied: google-auth<3,>=1.6.3 in c:\\users\\shank\\github.com\\shankar-roy\\venv\\lib\\site-packages (from tensorboard>=2.2.0->stable-baselines3[extra]->finrl==0.3.5) (2.9.1)\n",
      "Requirement already satisfied: tensorboard-plugin-wit>=1.6.0 in c:\\users\\shank\\github.com\\shankar-roy\\venv\\lib\\site-packages (from tensorboard>=2.2.0->stable-baselines3[extra]->finrl==0.3.5) (1.8.1)\n",
      "Requirement already satisfied: ply<4.0,>=3.4 in c:\\users\\shank\\github.com\\shankar-roy\\venv\\lib\\site-packages (from thriftpy2>=0.3.9->jqdatasdk->finrl==0.3.5) (3.11)\n",
      "Requirement already satisfied: typing-extensions in c:\\users\\shank\\github.com\\shankar-roy\\venv\\lib\\site-packages (from torch->elegantrl@ git+https://github.com/AI4Finance-Foundation/ElegantRL.git#egg=elegantrl->finrl==0.3.5) (4.3.0)\n",
      "Requirement already satisfied: distlib<1,>=0.3.1 in c:\\users\\shank\\github.com\\shankar-roy\\venv\\lib\\site-packages (from virtualenv>=20.0.8->pre-commit->finrl==0.3.5) (0.3.5)\n",
      "Requirement already satisfied: platformdirs<3,>=2 in c:\\users\\shank\\github.com\\shankar-roy\\venv\\lib\\site-packages (from virtualenv>=20.0.8->pre-commit->finrl==0.3.5) (2.5.2)\n",
      "Requirement already satisfied: pyrsistent!=0.17.0,!=0.17.1,!=0.17.2,>=0.14.0 in c:\\users\\shank\\github.com\\shankar-roy\\venv\\lib\\site-packages (from jsonschema->ray[default]->finrl==0.3.5) (0.18.1)\n",
      "Requirement already satisfied: google-api-core<3.0.0,>=1.0.0 in c:\\users\\shank\\github.com\\shankar-roy\\venv\\lib\\site-packages (from opencensus->ray[default]->finrl==0.3.5) (2.8.2)\n",
      "Requirement already satisfied: opencensus-context>=0.1.2 in c:\\users\\shank\\github.com\\shankar-roy\\venv\\lib\\site-packages (from opencensus->ray[default]->finrl==0.3.5) (0.1.2)\n",
      "Requirement already satisfied: jinxed>=1.1.0 in c:\\users\\shank\\github.com\\shankar-roy\\venv\\lib\\site-packages (from blessed>=1.17.1->gpustat>=1.0.0b1->ray[default]->finrl==0.3.5) (1.2.0)\n",
      "Requirement already satisfied: wcwidth>=0.1.4 in c:\\users\\shank\\github.com\\shankar-roy\\venv\\lib\\site-packages (from blessed>=1.17.1->gpustat>=1.0.0b1->ray[default]->finrl==0.3.5) (0.2.5)\n",
      "Requirement already satisfied: pycparser in c:\\users\\shank\\github.com\\shankar-roy\\venv\\lib\\site-packages (from cffi>=1.12->cryptography>=2.6.1->ccxt==1.66.32->finrl==0.3.5) (2.21)\n",
      "Requirement already satisfied: googleapis-common-protos<2.0dev,>=1.56.2 in c:\\users\\shank\\github.com\\shankar-roy\\venv\\lib\\site-packages (from google-api-core<3.0.0,>=1.0.0->opencensus->ray[default]->finrl==0.3.5) (1.56.4)\n",
      "Requirement already satisfied: rsa<5,>=3.1.4 in c:\\users\\shank\\github.com\\shankar-roy\\venv\\lib\\site-packages (from google-auth<3,>=1.6.3->tensorboard>=2.2.0->stable-baselines3[extra]->finrl==0.3.5) (4.8)\n",
      "Requirement already satisfied: cachetools<6.0,>=2.0.0 in c:\\users\\shank\\github.com\\shankar-roy\\venv\\lib\\site-packages (from google-auth<3,>=1.6.3->tensorboard>=2.2.0->stable-baselines3[extra]->finrl==0.3.5) (5.2.0)\n",
      "Requirement already satisfied: pyasn1-modules>=0.2.1 in c:\\users\\shank\\github.com\\shankar-roy\\venv\\lib\\site-packages (from google-auth<3,>=1.6.3->tensorboard>=2.2.0->stable-baselines3[extra]->finrl==0.3.5) (0.2.8)\n",
      "Requirement already satisfied: requests-oauthlib>=0.7.0 in c:\\users\\shank\\github.com\\shankar-roy\\venv\\lib\\site-packages (from google-auth-oauthlib<0.5,>=0.4.1->tensorboard>=2.2.0->stable-baselines3[extra]->finrl==0.3.5) (1.3.1)\n",
      "Requirement already satisfied: zipp>=0.5 in c:\\users\\shank\\github.com\\shankar-roy\\venv\\lib\\site-packages (from importlib-metadata>=4.10.0->ale-py==0.7.4->stable-baselines3[extra]->finrl==0.3.5) (3.8.1)\n",
      "Requirement already satisfied: parso<0.9.0,>=0.8.0 in c:\\users\\shank\\github.com\\shankar-roy\\venv\\lib\\site-packages (from jedi>=0.16->ipython>=3.2.3->pyfolio@ git+https://github.com/quantopian/pyfolio.git#egg=pyfolio-0.9.2->finrl==0.3.5) (0.8.3)\n",
      "Requirement already satisfied: pure-eval in c:\\users\\shank\\github.com\\shankar-roy\\venv\\lib\\site-packages (from stack-data->ipython>=3.2.3->pyfolio@ git+https://github.com/quantopian/pyfolio.git#egg=pyfolio-0.9.2->finrl==0.3.5) (0.2.2)\n",
      "Requirement already satisfied: executing in c:\\users\\shank\\github.com\\shankar-roy\\venv\\lib\\site-packages (from stack-data->ipython>=3.2.3->pyfolio@ git+https://github.com/quantopian/pyfolio.git#egg=pyfolio-0.9.2->finrl==0.3.5) (0.8.3)\n",
      "Requirement already satisfied: asttokens in c:\\users\\shank\\github.com\\shankar-roy\\venv\\lib\\site-packages (from stack-data->ipython>=3.2.3->pyfolio@ git+https://github.com/quantopian/pyfolio.git#egg=pyfolio-0.9.2->finrl==0.3.5) (2.0.5)\n",
      "Requirement already satisfied: ansicon in c:\\users\\shank\\github.com\\shankar-roy\\venv\\lib\\site-packages (from jinxed>=1.1.0->blessed>=1.17.1->gpustat>=1.0.0b1->ray[default]->finrl==0.3.5) (1.89.0)\n",
      "Requirement already satisfied: pyasn1<0.5.0,>=0.4.6 in c:\\users\\shank\\github.com\\shankar-roy\\venv\\lib\\site-packages (from pyasn1-modules>=0.2.1->google-auth<3,>=1.6.3->tensorboard>=2.2.0->stable-baselines3[extra]->finrl==0.3.5) (0.4.8)\n",
      "Requirement already satisfied: oauthlib>=3.0.0 in c:\\users\\shank\\github.com\\shankar-roy\\venv\\lib\\site-packages (from requests-oauthlib>=0.7.0->google-auth-oauthlib<0.5,>=0.4.1->tensorboard>=2.2.0->stable-baselines3[extra]->finrl==0.3.5) (3.2.0)\n",
      "Note: you may need to restart the kernel to use updated packages.\n"
     ]
    },
    {
     "name": "stderr",
     "output_type": "stream",
     "text": [
      "  Running command git clone --filter=blob:none --quiet https://github.com/AI4Finance-LLC/FinRL-Library.git 'C:\\Users\\shank\\AppData\\Local\\Temp\\pip-req-build-9x6_6b78'\n",
      "  Running command git clone --filter=blob:none --quiet https://github.com/quantopian/pyfolio.git 'C:\\Users\\shank\\AppData\\Local\\Temp\\pip-install-31iupry_\\pyfolio_dd30ee6a16fe4b3e87147b69c419736e'\n",
      "  Running command git clone --filter=blob:none --quiet https://github.com/AI4Finance-Foundation/ElegantRL.git 'C:\\Users\\shank\\AppData\\Local\\Temp\\pip-install-31iupry_\\elegantrl_4544ed6fc0c947199d5a000ba8044c52'\n"
     ]
    }
   ],
   "source": [
    "## install finrl library\n",
    "%pip install git+https://github.com/AI4Finance-LLC/FinRL-Library.git\n",
    "#%pip install git+https://github.com/shankar-roy/FinRL.git\n"
   ]
  },
  {
   "cell_type": "code",
   "execution_count": 2,
   "outputs": [
    {
     "name": "stdout",
     "output_type": "stream",
     "text": [
      "Requirement already satisfied: pip in c:\\users\\shank\\github.com\\shankar-roy\\venv\\lib\\site-packages (22.2.1)\n"
     ]
    }
   ],
   "source": [
    "!python.exe -m pip install --upgrade pip\n"
   ],
   "metadata": {
    "collapsed": false,
    "pycharm": {
     "name": "#%%\n"
    }
   }
  },
  {
   "cell_type": "code",
   "execution_count": 3,
   "metadata": {
    "id": "w9A8CN5R5PuZ",
    "pycharm": {
     "name": "#%%\n"
    }
   },
   "outputs": [],
   "source": [
    "from finrl import config\n",
    "from finrl import config_tickers\n",
    "import os\n",
    "if not os.path.exists(\"./\" + config.DATA_SAVE_DIR):\n",
    "    os.makedirs(\"./\" + config.DATA_SAVE_DIR)\n",
    "if not os.path.exists(\"./\" + config.TRAINED_MODEL_DIR):\n",
    "    os.makedirs(\"./\" + config.TRAINED_MODEL_DIR)\n",
    "if not os.path.exists(\"./\" + config.TENSORBOARD_LOG_DIR):\n",
    "    os.makedirs(\"./\" + config.TENSORBOARD_LOG_DIR)\n",
    "if not os.path.exists(\"./\" + config.RESULTS_DIR):\n",
    "    os.makedirs(\"./\" + config.RESULTS_DIR)"
   ]
  },
  {
   "cell_type": "markdown",
   "metadata": {
    "id": "osBHhVysOEzi",
    "pycharm": {
     "name": "#%% md\n"
    }
   },
   "source": [
    "\n",
    "<a id='1.2'></a>\n",
    "## 2.2. Check if the additional packages needed are present, if not install them. \n",
    "* Yahoo Finance API\n",
    "* pandas\n",
    "* numpy\n",
    "* matplotlib\n",
    "* stockstats\n",
    "* OpenAI gym\n",
    "* stable-baselines\n",
    "* tensorflow\n",
    "* pyfolio"
   ]
  },
  {
   "cell_type": "code",
   "execution_count": 3,
   "outputs": [],
   "source": [],
   "metadata": {
    "collapsed": false,
    "pycharm": {
     "name": "#%%\n"
    }
   }
  },
  {
   "cell_type": "code",
   "execution_count": 4,
   "outputs": [],
   "source": [
    "import os\n",
    "current_path = os.getcwd()"
   ],
   "metadata": {
    "collapsed": false,
    "pycharm": {
     "name": "#%%\n"
    }
   }
  },
  {
   "cell_type": "markdown",
   "metadata": {
    "id": "nGv01K8Sh1hn",
    "pycharm": {
     "name": "#%% md\n"
    }
   },
   "source": [
    "<a id='1.3'></a>\n",
    "## 2.3. Import Packages"
   ]
  },
  {
   "cell_type": "code",
   "execution_count": 5,
   "metadata": {
    "colab": {
     "base_uri": "https://localhost:8080/"
    },
    "id": "lPqeTTwoh1hn",
    "outputId": "10b08480-3a0c-4826-8e51-f94ce97ab84a",
    "pycharm": {
     "name": "#%%\n"
    }
   },
   "outputs": [
    {
     "name": "stderr",
     "output_type": "stream",
     "text": [
      "C:\\Users\\shank\\github.com\\shankar-roy\\venv\\lib\\site-packages\\pyfolio\\pos.py:26: UserWarning: Module \"zipline.assets\" not found; multipliers will not be applied to position notionals.\n",
      "  warnings.warn(\n"
     ]
    }
   ],
   "source": [
    "import pandas as pd\n",
    "import numpy as np\n",
    "import matplotlib\n",
    "import matplotlib.pyplot as plt\n",
    "# matplotlib.use('Agg')\n",
    "import datetime\n",
    "\n",
    "%matplotlib inline\n",
    "from finrl.finrl_meta.preprocessor.yahoodownloader import YahooDownloader\n",
    "from finrl.finrl_meta.preprocessor.preprocessors import FeatureEngineer, data_split\n",
    "from finrl.finrl_meta.env_stock_trading.env_stocktrading import StockTradingEnv\n",
    "from finrl.agents.stablebaselines3.models import DRLAgent\n",
    "from finrl.finrl_meta.data_processor import DataProcessor\n",
    "\n",
    "from finrl.plot import backtest_stats, backtest_plot, get_daily_return, get_baseline\n",
    "from pprint import pprint\n",
    "\n",
    "import sys\n",
    "sys.path.append(\"../FinRL-Library\")\n",
    "\n",
    "import itertools"
   ]
  },
  {
   "cell_type": "markdown",
   "metadata": {
    "id": "T2owTj985RW4",
    "pycharm": {
     "name": "#%% md\n"
    }
   },
   "source": [
    "<a id='1.4'></a>\n",
    "## 2.4. Create Folders"
   ]
  },
  {
   "cell_type": "markdown",
   "metadata": {
    "id": "A289rQWMh1hq",
    "pycharm": {
     "name": "#%% md\n"
    }
   },
   "source": [
    "<a id='2'></a>\n",
    "# Part 3. Download Data\n",
    "Yahoo Finance is a website that provides stock data, financial news, financial reports, etc. All the data provided by Yahoo Finance is free.\n",
    "* FinRL uses a class **YahooDownloader** to fetch data from Yahoo Finance API\n",
    "* Call Limit: Using the Public API (without authentication), you are limited to 2,000 requests per hour per IP (or up to a total of 48,000 requests a day).\n"
   ]
  },
  {
   "cell_type": "markdown",
   "metadata": {
    "id": "NPeQ7iS-LoMm",
    "pycharm": {
     "name": "#%% md\n"
    }
   },
   "source": [
    "\n",
    "\n",
    "-----\n",
    "class YahooDownloader:\n",
    "    Provides methods for retrieving daily stock data from\n",
    "    Yahoo Finance API\n",
    "\n",
    "    Attributes\n",
    "    ----------\n",
    "        start_date : str\n",
    "            start date of the data (modified from config.py)\n",
    "        end_date : str\n",
    "            end date of the data (modified from config.py)\n",
    "        ticker_list : list\n",
    "            a list of stock tickers (modified from config.py)\n",
    "\n",
    "    Methods\n",
    "    -------\n",
    "    fetch_data()\n",
    "        Fetches data from yahoo API\n"
   ]
  },
  {
   "cell_type": "code",
   "execution_count": 6,
   "metadata": {
    "colab": {
     "base_uri": "https://localhost:8080/",
     "height": 35
    },
    "id": "h3XJnvrbLp-C",
    "outputId": "5302d7c0-1c68-4c6e-b30e-b1395bdc109e",
    "pycharm": {
     "name": "#%%\n"
    }
   },
   "outputs": [],
   "source": [
    "# from config.py start_date is a string, not provided now\n",
    "# config.START_DATE"
   ]
  },
  {
   "cell_type": "code",
   "execution_count": 7,
   "metadata": {
    "colab": {
     "base_uri": "https://localhost:8080/",
     "height": 35
    },
    "id": "FUnY8WEfLq3C",
    "outputId": "35dd8c5b-d58f-49b8-e4df-ae7e122448cd",
    "pycharm": {
     "name": "#%%\n"
    }
   },
   "outputs": [],
   "source": [
    "# from config.py end_date is a string, not provided now\n",
    "# config.END_DATE"
   ]
  },
  {
   "cell_type": "code",
   "execution_count": 8,
   "metadata": {
    "colab": {
     "base_uri": "https://localhost:8080/"
    },
    "id": "yCKm4om-s9kE",
    "outputId": "83c7f894-3757-473b-8afb-a904e6caabda",
    "pycharm": {
     "name": "#%%\n"
    }
   },
   "outputs": [
    {
     "name": "stdout",
     "output_type": "stream",
     "text": [
      "[*********************100%***********************]  1 of 1 completed\n",
      "[*********************100%***********************]  1 of 1 completed\n",
      "[*********************100%***********************]  1 of 1 completed\n",
      "[*********************100%***********************]  1 of 1 completed\n",
      "[*********************100%***********************]  1 of 1 completed\n",
      "[*********************100%***********************]  1 of 1 completed\n",
      "[*********************100%***********************]  1 of 1 completed\n",
      "[*********************100%***********************]  1 of 1 completed\n",
      "[*********************100%***********************]  1 of 1 completed\n",
      "[*********************100%***********************]  1 of 1 completed\n",
      "[*********************100%***********************]  1 of 1 completed\n",
      "[*********************100%***********************]  1 of 1 completed\n",
      "[*********************100%***********************]  1 of 1 completed\n",
      "[*********************100%***********************]  1 of 1 completed\n",
      "[*********************100%***********************]  1 of 1 completed\n",
      "[*********************100%***********************]  1 of 1 completed\n",
      "[*********************100%***********************]  1 of 1 completed\n",
      "[*********************100%***********************]  1 of 1 completed\n",
      "[*********************100%***********************]  1 of 1 completed\n",
      "[*********************100%***********************]  1 of 1 completed\n",
      "[*********************100%***********************]  1 of 1 completed\n",
      "[*********************100%***********************]  1 of 1 completed\n",
      "[*********************100%***********************]  1 of 1 completed\n",
      "[*********************100%***********************]  1 of 1 completed\n",
      "[*********************100%***********************]  1 of 1 completed\n",
      "[*********************100%***********************]  1 of 1 completed\n",
      "[*********************100%***********************]  1 of 1 completed\n",
      "[*********************100%***********************]  1 of 1 completed\n",
      "[*********************100%***********************]  1 of 1 completed\n",
      "[*********************100%***********************]  1 of 1 completed\n",
      "Shape of DataFrame:  (94331, 8)\n"
     ]
    }
   ],
   "source": [
    "df = YahooDownloader(start_date = '2009-01-01',\n",
    "                     end_date = '2021-10-31',\n",
    "                     ticker_list = config_tickers.DOW_30_TICKER).fetch_data()"
   ]
  },
  {
   "cell_type": "code",
   "execution_count": 9,
   "metadata": {
    "colab": {
     "base_uri": "https://localhost:8080/"
    },
    "id": "JzqRRTOX6aFu",
    "outputId": "7a991dfe-f39c-40db-ec44-7c416cdce7dc",
    "pycharm": {
     "name": "#%%\n"
    }
   },
   "outputs": [
    {
     "name": "stdout",
     "output_type": "stream",
     "text": [
      "['AXP', 'AMGN', 'AAPL', 'BA', 'CAT', 'CSCO', 'CVX', 'GS', 'HD', 'HON', 'IBM', 'INTC', 'JNJ', 'KO', 'JPM', 'MCD', 'MMM', 'MRK', 'MSFT', 'NKE', 'PG', 'TRV', 'UNH', 'CRM', 'VZ', 'V', 'WBA', 'WMT', 'DIS', 'DOW']\n"
     ]
    }
   ],
   "source": [
    "print(config_tickers.DOW_30_TICKER)"
   ]
  },
  {
   "cell_type": "code",
   "execution_count": 10,
   "metadata": {
    "colab": {
     "base_uri": "https://localhost:8080/"
    },
    "id": "CV3HrZHLh1hy",
    "outputId": "5267773c-399c-4ec9-d4d5-13ab1e4cced0",
    "pycharm": {
     "name": "#%%\n"
    }
   },
   "outputs": [
    {
     "data": {
      "text/plain": "(94331, 8)"
     },
     "execution_count": 10,
     "metadata": {},
     "output_type": "execute_result"
    }
   ],
   "source": [
    "df.shape"
   ]
  },
  {
   "cell_type": "code",
   "execution_count": 11,
   "metadata": {
    "colab": {
     "base_uri": "https://localhost:8080/",
     "height": 206
    },
    "id": "4hYkeaPiICHS",
    "outputId": "210fade5-e912-40df-be99-4ad00bdb9d2f",
    "pycharm": {
     "name": "#%%\n"
    }
   },
   "outputs": [
    {
     "data": {
      "text/plain": "         date       open       high        low      close     volume   tic  \\\n0  2009-01-02   3.067143   3.251429   3.041429   2.771173  746015200  AAPL   \n1  2009-01-02  58.590000  59.080002  57.750000  44.867584    6547900  AMGN   \n2  2009-01-02  18.570000  19.520000  18.400000  15.477421   10955700   AXP   \n3  2009-01-02  42.799999  45.560001  42.779999  33.941097    7010200    BA   \n4  2009-01-02  44.910000  46.980000  44.709999  31.942247    7117200   CAT   \n\n   day  \n0    4  \n1    4  \n2    4  \n3    4  \n4    4  ",
      "text/html": "<div>\n<style scoped>\n    .dataframe tbody tr th:only-of-type {\n        vertical-align: middle;\n    }\n\n    .dataframe tbody tr th {\n        vertical-align: top;\n    }\n\n    .dataframe thead th {\n        text-align: right;\n    }\n</style>\n<table border=\"1\" class=\"dataframe\">\n  <thead>\n    <tr style=\"text-align: right;\">\n      <th></th>\n      <th>date</th>\n      <th>open</th>\n      <th>high</th>\n      <th>low</th>\n      <th>close</th>\n      <th>volume</th>\n      <th>tic</th>\n      <th>day</th>\n    </tr>\n  </thead>\n  <tbody>\n    <tr>\n      <th>0</th>\n      <td>2009-01-02</td>\n      <td>3.067143</td>\n      <td>3.251429</td>\n      <td>3.041429</td>\n      <td>2.771173</td>\n      <td>746015200</td>\n      <td>AAPL</td>\n      <td>4</td>\n    </tr>\n    <tr>\n      <th>1</th>\n      <td>2009-01-02</td>\n      <td>58.590000</td>\n      <td>59.080002</td>\n      <td>57.750000</td>\n      <td>44.867584</td>\n      <td>6547900</td>\n      <td>AMGN</td>\n      <td>4</td>\n    </tr>\n    <tr>\n      <th>2</th>\n      <td>2009-01-02</td>\n      <td>18.570000</td>\n      <td>19.520000</td>\n      <td>18.400000</td>\n      <td>15.477421</td>\n      <td>10955700</td>\n      <td>AXP</td>\n      <td>4</td>\n    </tr>\n    <tr>\n      <th>3</th>\n      <td>2009-01-02</td>\n      <td>42.799999</td>\n      <td>45.560001</td>\n      <td>42.779999</td>\n      <td>33.941097</td>\n      <td>7010200</td>\n      <td>BA</td>\n      <td>4</td>\n    </tr>\n    <tr>\n      <th>4</th>\n      <td>2009-01-02</td>\n      <td>44.910000</td>\n      <td>46.980000</td>\n      <td>44.709999</td>\n      <td>31.942247</td>\n      <td>7117200</td>\n      <td>CAT</td>\n      <td>4</td>\n    </tr>\n  </tbody>\n</table>\n</div>"
     },
     "execution_count": 11,
     "metadata": {},
     "output_type": "execute_result"
    }
   ],
   "source": [
    "df.sort_values(['date','tic'],ignore_index=True).head()"
   ]
  },
  {
   "cell_type": "markdown",
   "metadata": {
    "id": "uqC6c40Zh1iH",
    "pycharm": {
     "name": "#%% md\n"
    }
   },
   "source": [
    "# Part 4: Preprocess Data\n",
    "Data preprocessing is a crucial step for training a high quality machine learning model. We need to check for missing data and do feature engineering in order to convert the data into a model-ready state.\n",
    "* Add technical indicators. In practical trading, various information needs to be taken into account, for example the historical stock prices, current holding shares, technical indicators, etc. In this article, we demonstrate two trend-following technical indicators: MACD and RSI.\n",
    "* Add turbulence index. Risk-aversion reflects whether an investor will choose to preserve the capital. It also influences one's trading strategy when facing different market volatility level. To control the risk in a worst-case scenario, such as financial crisis of 2007–2008, FinRL employs the financial turbulence index that measures extreme asset price fluctuation."
   ]
  },
  {
   "cell_type": "code",
   "execution_count": 12,
   "metadata": {
    "colab": {
     "base_uri": "https://localhost:8080/"
    },
    "id": "PmKP-1ii3RLS",
    "outputId": "0708badb-77ef-4c86-f77c-6525f0e8934d",
    "pycharm": {
     "name": "#%%\n"
    }
   },
   "outputs": [
    {
     "name": "stdout",
     "output_type": "stream",
     "text": [
      "Successfully added technical indicators\n",
      "[*********************100%***********************]  1 of 1 completed\n",
      "Shape of DataFrame:  (3229, 8)\n",
      "Successfully added vix\n",
      "Successfully added turbulence index\n"
     ]
    }
   ],
   "source": [
    "fe = FeatureEngineer(\n",
    "                    use_technical_indicator=True,\n",
    "                    tech_indicator_list = config.INDICATORS,\n",
    "                    use_vix=True,\n",
    "                    use_turbulence=True,\n",
    "                    user_defined_feature = False)\n",
    "\n",
    "processed = fe.preprocess_data(df)"
   ]
  },
  {
   "cell_type": "code",
   "execution_count": 13,
   "metadata": {
    "id": "Kixon2tR3RLT",
    "pycharm": {
     "name": "#%%\n"
    }
   },
   "outputs": [],
   "source": [
    "list_ticker = processed[\"tic\"].unique().tolist()\n",
    "list_date = list(pd.date_range(processed['date'].min(),processed['date'].max()).astype(str))\n",
    "combination = list(itertools.product(list_date,list_ticker))\n",
    "\n",
    "processed_full = pd.DataFrame(combination,columns=[\"date\",\"tic\"]).merge(processed,on=[\"date\",\"tic\"],how=\"left\")\n",
    "processed_full = processed_full[processed_full['date'].isin(processed['date'])]\n",
    "processed_full = processed_full.sort_values(['date','tic'])\n",
    "\n",
    "processed_full = processed_full.fillna(0)"
   ]
  },
  {
   "cell_type": "code",
   "execution_count": 14,
   "metadata": {
    "colab": {
     "base_uri": "https://localhost:8080/",
     "height": 600
    },
    "id": "grvhGJJII3Xn",
    "outputId": "733758c3-3552-4aa5-e1f9-789bd4ce0c92",
    "pycharm": {
     "name": "#%%\n"
    }
   },
   "outputs": [
    {
     "data": {
      "text/plain": "         date   tic       open       high        low      close       volume  \\\n0  2009-01-02  AAPL   3.067143   3.251429   3.041429   2.771173  746015200.0   \n1  2009-01-02  AMGN  58.590000  59.080002  57.750000  44.867584    6547900.0   \n2  2009-01-02   AXP  18.570000  19.520000  18.400000  15.477421   10955700.0   \n3  2009-01-02    BA  42.799999  45.560001  42.779999  33.941097    7010200.0   \n4  2009-01-02   CAT  44.910000  46.980000  44.709999  31.942247    7117200.0   \n5  2009-01-02   CRM   8.025000   8.550000   7.912500   8.505000    4069200.0   \n6  2009-01-02  CSCO  16.410000  17.000000  16.250000  12.155672   40980600.0   \n7  2009-01-02   CVX  74.230003  77.300003  73.580002  44.807610   13695900.0   \n8  2009-01-02   DIS  22.760000  24.030001  22.500000  20.597496    9796600.0   \n9  2009-01-02    GS  84.019997  87.620003  82.190002  70.735062   14088500.0   \n\n   day  macd   boll_ub   boll_lb  rsi_30     cci_30  dx_30  close_30_sma  \\\n0  4.0   0.0  2.995051  2.664251   100.0  66.666667  100.0      2.771173   \n1  4.0   0.0  2.995051  2.664251   100.0  66.666667  100.0     44.867584   \n2  4.0   0.0  2.995051  2.664251   100.0  66.666667  100.0     15.477421   \n3  4.0   0.0  2.995051  2.664251   100.0  66.666667  100.0     33.941097   \n4  4.0   0.0  2.995051  2.664251   100.0  66.666667  100.0     31.942247   \n5  4.0   0.0  2.995051  2.664251   100.0  66.666667  100.0      8.505000   \n6  4.0   0.0  2.995051  2.664251   100.0  66.666667  100.0     12.155672   \n7  4.0   0.0  2.995051  2.664251   100.0  66.666667  100.0     44.807610   \n8  4.0   0.0  2.995051  2.664251   100.0  66.666667  100.0     20.597496   \n9  4.0   0.0  2.995051  2.664251   100.0  66.666667  100.0     70.735062   \n\n   close_60_sma        vix  turbulence  \n0      2.771173  39.189999         0.0  \n1     44.867584  39.189999         0.0  \n2     15.477421  39.189999         0.0  \n3     33.941097  39.189999         0.0  \n4     31.942247  39.189999         0.0  \n5      8.505000  39.189999         0.0  \n6     12.155672  39.189999         0.0  \n7     44.807610  39.189999         0.0  \n8     20.597496  39.189999         0.0  \n9     70.735062  39.189999         0.0  ",
      "text/html": "<div>\n<style scoped>\n    .dataframe tbody tr th:only-of-type {\n        vertical-align: middle;\n    }\n\n    .dataframe tbody tr th {\n        vertical-align: top;\n    }\n\n    .dataframe thead th {\n        text-align: right;\n    }\n</style>\n<table border=\"1\" class=\"dataframe\">\n  <thead>\n    <tr style=\"text-align: right;\">\n      <th></th>\n      <th>date</th>\n      <th>tic</th>\n      <th>open</th>\n      <th>high</th>\n      <th>low</th>\n      <th>close</th>\n      <th>volume</th>\n      <th>day</th>\n      <th>macd</th>\n      <th>boll_ub</th>\n      <th>boll_lb</th>\n      <th>rsi_30</th>\n      <th>cci_30</th>\n      <th>dx_30</th>\n      <th>close_30_sma</th>\n      <th>close_60_sma</th>\n      <th>vix</th>\n      <th>turbulence</th>\n    </tr>\n  </thead>\n  <tbody>\n    <tr>\n      <th>0</th>\n      <td>2009-01-02</td>\n      <td>AAPL</td>\n      <td>3.067143</td>\n      <td>3.251429</td>\n      <td>3.041429</td>\n      <td>2.771173</td>\n      <td>746015200.0</td>\n      <td>4.0</td>\n      <td>0.0</td>\n      <td>2.995051</td>\n      <td>2.664251</td>\n      <td>100.0</td>\n      <td>66.666667</td>\n      <td>100.0</td>\n      <td>2.771173</td>\n      <td>2.771173</td>\n      <td>39.189999</td>\n      <td>0.0</td>\n    </tr>\n    <tr>\n      <th>1</th>\n      <td>2009-01-02</td>\n      <td>AMGN</td>\n      <td>58.590000</td>\n      <td>59.080002</td>\n      <td>57.750000</td>\n      <td>44.867584</td>\n      <td>6547900.0</td>\n      <td>4.0</td>\n      <td>0.0</td>\n      <td>2.995051</td>\n      <td>2.664251</td>\n      <td>100.0</td>\n      <td>66.666667</td>\n      <td>100.0</td>\n      <td>44.867584</td>\n      <td>44.867584</td>\n      <td>39.189999</td>\n      <td>0.0</td>\n    </tr>\n    <tr>\n      <th>2</th>\n      <td>2009-01-02</td>\n      <td>AXP</td>\n      <td>18.570000</td>\n      <td>19.520000</td>\n      <td>18.400000</td>\n      <td>15.477421</td>\n      <td>10955700.0</td>\n      <td>4.0</td>\n      <td>0.0</td>\n      <td>2.995051</td>\n      <td>2.664251</td>\n      <td>100.0</td>\n      <td>66.666667</td>\n      <td>100.0</td>\n      <td>15.477421</td>\n      <td>15.477421</td>\n      <td>39.189999</td>\n      <td>0.0</td>\n    </tr>\n    <tr>\n      <th>3</th>\n      <td>2009-01-02</td>\n      <td>BA</td>\n      <td>42.799999</td>\n      <td>45.560001</td>\n      <td>42.779999</td>\n      <td>33.941097</td>\n      <td>7010200.0</td>\n      <td>4.0</td>\n      <td>0.0</td>\n      <td>2.995051</td>\n      <td>2.664251</td>\n      <td>100.0</td>\n      <td>66.666667</td>\n      <td>100.0</td>\n      <td>33.941097</td>\n      <td>33.941097</td>\n      <td>39.189999</td>\n      <td>0.0</td>\n    </tr>\n    <tr>\n      <th>4</th>\n      <td>2009-01-02</td>\n      <td>CAT</td>\n      <td>44.910000</td>\n      <td>46.980000</td>\n      <td>44.709999</td>\n      <td>31.942247</td>\n      <td>7117200.0</td>\n      <td>4.0</td>\n      <td>0.0</td>\n      <td>2.995051</td>\n      <td>2.664251</td>\n      <td>100.0</td>\n      <td>66.666667</td>\n      <td>100.0</td>\n      <td>31.942247</td>\n      <td>31.942247</td>\n      <td>39.189999</td>\n      <td>0.0</td>\n    </tr>\n    <tr>\n      <th>5</th>\n      <td>2009-01-02</td>\n      <td>CRM</td>\n      <td>8.025000</td>\n      <td>8.550000</td>\n      <td>7.912500</td>\n      <td>8.505000</td>\n      <td>4069200.0</td>\n      <td>4.0</td>\n      <td>0.0</td>\n      <td>2.995051</td>\n      <td>2.664251</td>\n      <td>100.0</td>\n      <td>66.666667</td>\n      <td>100.0</td>\n      <td>8.505000</td>\n      <td>8.505000</td>\n      <td>39.189999</td>\n      <td>0.0</td>\n    </tr>\n    <tr>\n      <th>6</th>\n      <td>2009-01-02</td>\n      <td>CSCO</td>\n      <td>16.410000</td>\n      <td>17.000000</td>\n      <td>16.250000</td>\n      <td>12.155672</td>\n      <td>40980600.0</td>\n      <td>4.0</td>\n      <td>0.0</td>\n      <td>2.995051</td>\n      <td>2.664251</td>\n      <td>100.0</td>\n      <td>66.666667</td>\n      <td>100.0</td>\n      <td>12.155672</td>\n      <td>12.155672</td>\n      <td>39.189999</td>\n      <td>0.0</td>\n    </tr>\n    <tr>\n      <th>7</th>\n      <td>2009-01-02</td>\n      <td>CVX</td>\n      <td>74.230003</td>\n      <td>77.300003</td>\n      <td>73.580002</td>\n      <td>44.807610</td>\n      <td>13695900.0</td>\n      <td>4.0</td>\n      <td>0.0</td>\n      <td>2.995051</td>\n      <td>2.664251</td>\n      <td>100.0</td>\n      <td>66.666667</td>\n      <td>100.0</td>\n      <td>44.807610</td>\n      <td>44.807610</td>\n      <td>39.189999</td>\n      <td>0.0</td>\n    </tr>\n    <tr>\n      <th>8</th>\n      <td>2009-01-02</td>\n      <td>DIS</td>\n      <td>22.760000</td>\n      <td>24.030001</td>\n      <td>22.500000</td>\n      <td>20.597496</td>\n      <td>9796600.0</td>\n      <td>4.0</td>\n      <td>0.0</td>\n      <td>2.995051</td>\n      <td>2.664251</td>\n      <td>100.0</td>\n      <td>66.666667</td>\n      <td>100.0</td>\n      <td>20.597496</td>\n      <td>20.597496</td>\n      <td>39.189999</td>\n      <td>0.0</td>\n    </tr>\n    <tr>\n      <th>9</th>\n      <td>2009-01-02</td>\n      <td>GS</td>\n      <td>84.019997</td>\n      <td>87.620003</td>\n      <td>82.190002</td>\n      <td>70.735062</td>\n      <td>14088500.0</td>\n      <td>4.0</td>\n      <td>0.0</td>\n      <td>2.995051</td>\n      <td>2.664251</td>\n      <td>100.0</td>\n      <td>66.666667</td>\n      <td>100.0</td>\n      <td>70.735062</td>\n      <td>70.735062</td>\n      <td>39.189999</td>\n      <td>0.0</td>\n    </tr>\n  </tbody>\n</table>\n</div>"
     },
     "execution_count": 14,
     "metadata": {},
     "output_type": "execute_result"
    }
   ],
   "source": [
    "processed_full.sort_values(['date','tic'],ignore_index=True).head(10)"
   ]
  },
  {
   "cell_type": "markdown",
   "metadata": {
    "id": "-QsYaY0Dh1iw",
    "pycharm": {
     "name": "#%% md\n"
    }
   },
   "source": [
    "<a id='4'></a>\n",
    "# Part 5. Design Environment\n",
    "Considering the stochastic and interactive nature of the automated stock trading tasks, a financial task is modeled as a **Markov Decision Process (MDP)** problem. The training process involves observing stock price change, taking an action and reward's calculation to have the agent adjusting its strategy accordingly. By interacting with the environment, the trading agent will derive a trading strategy with the maximized rewards as time proceeds.\n",
    "\n",
    "Our trading environments, based on OpenAI Gym framework, simulate live stock markets with real market data according to the principle of time-driven simulation.\n",
    "\n",
    "The action space describes the allowed actions that the agent interacts with the environment. Normally, action a includes three actions: {-1, 0, 1}, where -1, 0, 1 represent selling, holding, and buying one share. Also, an action can be carried upon multiple shares. We use an action space {-k,…,-1, 0, 1, …, k}, where k denotes the number of shares to buy and -k denotes the number of shares to sell. For example, \"Buy 10 shares of AAPL\" or \"Sell 10 shares of AAPL\" are 10 or -10, respectively. The continuous action space needs to be normalized to [-1, 1], since the policy is defined on a Gaussian distribution, which needs to be normalized and symmetric."
   ]
  },
  {
   "cell_type": "markdown",
   "metadata": {
    "id": "5TOhcryx44bb",
    "pycharm": {
     "name": "#%% md\n"
    }
   },
   "source": [
    "## Training data split: 2009-01-01 to 2020-07-01\n",
    "## Trade data split: 2020-07-01 to 2021-10-31"
   ]
  },
  {
   "cell_type": "code",
   "execution_count": 15,
   "metadata": {
    "colab": {
     "base_uri": "https://localhost:8080/"
    },
    "id": "W0qaVGjLtgbI",
    "outputId": "ca8d1a43-ffc3-4fc3-efa9-4de9a9065842",
    "pycharm": {
     "name": "#%%\n"
    }
   },
   "outputs": [
    {
     "name": "stdout",
     "output_type": "stream",
     "text": [
      "83897\n",
      "9744\n"
     ]
    }
   ],
   "source": [
    "train = data_split(processed_full, '2009-01-01','2020-07-01')\n",
    "trade = data_split(processed_full, '2020-07-01','2021-10-31')\n",
    "print(len(train))\n",
    "print(len(trade))"
   ]
  },
  {
   "cell_type": "code",
   "execution_count": 16,
   "metadata": {
    "colab": {
     "base_uri": "https://localhost:8080/",
     "height": 357
    },
    "id": "p52zNCOhTtLR",
    "outputId": "b3ad3e10-376f-4186-f875-0331708c5e14",
    "pycharm": {
     "name": "#%%\n"
    }
   },
   "outputs": [
    {
     "data": {
      "text/plain": "            date  tic        open        high         low       close  \\\n2892  2020-06-30  UNH  288.570007  296.450012  287.660004  286.754181   \n2892  2020-06-30    V  191.490005  193.750000  190.160004  190.737244   \n2892  2020-06-30   VZ   54.919998   55.290001   54.360001   49.750828   \n2892  2020-06-30  WBA   42.119999   42.580002   41.759998   39.035736   \n2892  2020-06-30  WMT  119.220001  120.129997  118.540001  116.121773   \n\n          volume  day      macd     boll_ub     boll_lb     rsi_30     cci_30  \\\n2892   2932900.0  1.0 -0.019410  302.845872  270.287356  52.413048 -25.866295   \n2892   9040100.0  1.0  1.048787  198.750524  185.041393  53.021035 -51.550756   \n2892  17414800.0  1.0 -0.431679   53.248501   48.123875  48.097054 -51.065443   \n2892   4782100.0  1.0 -0.083986   42.609304   36.487098  48.830186 -14.508061   \n2892   6836400.0  1.0 -0.886570  119.473759  113.510454  48.159674 -69.938713   \n\n         dx_30  close_30_sma  close_60_sma    vix  turbulence  \n2892  1.846804    286.997206    280.002892  30.43   12.918715  \n2892  2.013358    191.485034    181.677681  30.43   12.918715  \n2892  8.508886     50.378309     50.825243  30.43   12.918715  \n2892  1.500723     39.135190     38.935130  30.43   12.918715  \n2892  3.847271    117.787626    119.723274  30.43   12.918715  ",
      "text/html": "<div>\n<style scoped>\n    .dataframe tbody tr th:only-of-type {\n        vertical-align: middle;\n    }\n\n    .dataframe tbody tr th {\n        vertical-align: top;\n    }\n\n    .dataframe thead th {\n        text-align: right;\n    }\n</style>\n<table border=\"1\" class=\"dataframe\">\n  <thead>\n    <tr style=\"text-align: right;\">\n      <th></th>\n      <th>date</th>\n      <th>tic</th>\n      <th>open</th>\n      <th>high</th>\n      <th>low</th>\n      <th>close</th>\n      <th>volume</th>\n      <th>day</th>\n      <th>macd</th>\n      <th>boll_ub</th>\n      <th>boll_lb</th>\n      <th>rsi_30</th>\n      <th>cci_30</th>\n      <th>dx_30</th>\n      <th>close_30_sma</th>\n      <th>close_60_sma</th>\n      <th>vix</th>\n      <th>turbulence</th>\n    </tr>\n  </thead>\n  <tbody>\n    <tr>\n      <th>2892</th>\n      <td>2020-06-30</td>\n      <td>UNH</td>\n      <td>288.570007</td>\n      <td>296.450012</td>\n      <td>287.660004</td>\n      <td>286.754181</td>\n      <td>2932900.0</td>\n      <td>1.0</td>\n      <td>-0.019410</td>\n      <td>302.845872</td>\n      <td>270.287356</td>\n      <td>52.413048</td>\n      <td>-25.866295</td>\n      <td>1.846804</td>\n      <td>286.997206</td>\n      <td>280.002892</td>\n      <td>30.43</td>\n      <td>12.918715</td>\n    </tr>\n    <tr>\n      <th>2892</th>\n      <td>2020-06-30</td>\n      <td>V</td>\n      <td>191.490005</td>\n      <td>193.750000</td>\n      <td>190.160004</td>\n      <td>190.737244</td>\n      <td>9040100.0</td>\n      <td>1.0</td>\n      <td>1.048787</td>\n      <td>198.750524</td>\n      <td>185.041393</td>\n      <td>53.021035</td>\n      <td>-51.550756</td>\n      <td>2.013358</td>\n      <td>191.485034</td>\n      <td>181.677681</td>\n      <td>30.43</td>\n      <td>12.918715</td>\n    </tr>\n    <tr>\n      <th>2892</th>\n      <td>2020-06-30</td>\n      <td>VZ</td>\n      <td>54.919998</td>\n      <td>55.290001</td>\n      <td>54.360001</td>\n      <td>49.750828</td>\n      <td>17414800.0</td>\n      <td>1.0</td>\n      <td>-0.431679</td>\n      <td>53.248501</td>\n      <td>48.123875</td>\n      <td>48.097054</td>\n      <td>-51.065443</td>\n      <td>8.508886</td>\n      <td>50.378309</td>\n      <td>50.825243</td>\n      <td>30.43</td>\n      <td>12.918715</td>\n    </tr>\n    <tr>\n      <th>2892</th>\n      <td>2020-06-30</td>\n      <td>WBA</td>\n      <td>42.119999</td>\n      <td>42.580002</td>\n      <td>41.759998</td>\n      <td>39.035736</td>\n      <td>4782100.0</td>\n      <td>1.0</td>\n      <td>-0.083986</td>\n      <td>42.609304</td>\n      <td>36.487098</td>\n      <td>48.830186</td>\n      <td>-14.508061</td>\n      <td>1.500723</td>\n      <td>39.135190</td>\n      <td>38.935130</td>\n      <td>30.43</td>\n      <td>12.918715</td>\n    </tr>\n    <tr>\n      <th>2892</th>\n      <td>2020-06-30</td>\n      <td>WMT</td>\n      <td>119.220001</td>\n      <td>120.129997</td>\n      <td>118.540001</td>\n      <td>116.121773</td>\n      <td>6836400.0</td>\n      <td>1.0</td>\n      <td>-0.886570</td>\n      <td>119.473759</td>\n      <td>113.510454</td>\n      <td>48.159674</td>\n      <td>-69.938713</td>\n      <td>3.847271</td>\n      <td>117.787626</td>\n      <td>119.723274</td>\n      <td>30.43</td>\n      <td>12.918715</td>\n    </tr>\n  </tbody>\n</table>\n</div>"
     },
     "execution_count": 16,
     "metadata": {},
     "output_type": "execute_result"
    }
   ],
   "source": [
    "train.tail()"
   ]
  },
  {
   "cell_type": "code",
   "execution_count": 17,
   "metadata": {
    "colab": {
     "base_uri": "https://localhost:8080/",
     "height": 357
    },
    "id": "k9zU9YaTTvFq",
    "outputId": "72213585-39a3-4bff-c031-874ec0ca06f9",
    "pycharm": {
     "name": "#%%\n"
    }
   },
   "outputs": [
    {
     "data": {
      "text/plain": "         date   tic        open        high         low       close  \\\n0  2020-07-01  AAPL   91.279999   91.839996   90.977501   89.904602   \n0  2020-07-01  AMGN  235.520004  256.230011  232.580002  240.153931   \n0  2020-07-01   AXP   95.250000   96.959999   93.639999   91.743050   \n0  2020-07-01    BA  185.880005  190.610001  180.039993  180.320007   \n0  2020-07-01   CAT  129.380005  129.399994  125.879997  119.817116   \n\n        volume  day      macd     boll_ub     boll_lb     rsi_30      cci_30  \\\n0  110737200.0  2.0  3.014604   92.699319   80.179951  62.807136  107.491866   \n0    6575800.0  2.0  3.636390  232.397410  200.212953  61.279636  271.386086   \n0    3301000.0  2.0 -0.387711  110.012236   87.432136  48.504819  -66.321028   \n0   49036700.0  2.0  5.443193  220.721139  160.932863  50.925771   24.220608   \n0    2807800.0  2.0  1.263827  129.720778  112.569081  52.865424   35.633554   \n\n       dx_30  close_30_sma  close_60_sma        vix  turbulence  \n0  29.730532     83.933766     77.717544  28.620001   53.068087  \n0  46.806139    214.858661    215.931664  28.620001   53.068087  \n0   3.142448     96.882071     90.357377  28.620001   53.068087  \n0  15.932920    176.472335    155.614168  28.620001   53.068087  \n0  14.457404    118.586879    112.860600  28.620001   53.068087  ",
      "text/html": "<div>\n<style scoped>\n    .dataframe tbody tr th:only-of-type {\n        vertical-align: middle;\n    }\n\n    .dataframe tbody tr th {\n        vertical-align: top;\n    }\n\n    .dataframe thead th {\n        text-align: right;\n    }\n</style>\n<table border=\"1\" class=\"dataframe\">\n  <thead>\n    <tr style=\"text-align: right;\">\n      <th></th>\n      <th>date</th>\n      <th>tic</th>\n      <th>open</th>\n      <th>high</th>\n      <th>low</th>\n      <th>close</th>\n      <th>volume</th>\n      <th>day</th>\n      <th>macd</th>\n      <th>boll_ub</th>\n      <th>boll_lb</th>\n      <th>rsi_30</th>\n      <th>cci_30</th>\n      <th>dx_30</th>\n      <th>close_30_sma</th>\n      <th>close_60_sma</th>\n      <th>vix</th>\n      <th>turbulence</th>\n    </tr>\n  </thead>\n  <tbody>\n    <tr>\n      <th>0</th>\n      <td>2020-07-01</td>\n      <td>AAPL</td>\n      <td>91.279999</td>\n      <td>91.839996</td>\n      <td>90.977501</td>\n      <td>89.904602</td>\n      <td>110737200.0</td>\n      <td>2.0</td>\n      <td>3.014604</td>\n      <td>92.699319</td>\n      <td>80.179951</td>\n      <td>62.807136</td>\n      <td>107.491866</td>\n      <td>29.730532</td>\n      <td>83.933766</td>\n      <td>77.717544</td>\n      <td>28.620001</td>\n      <td>53.068087</td>\n    </tr>\n    <tr>\n      <th>0</th>\n      <td>2020-07-01</td>\n      <td>AMGN</td>\n      <td>235.520004</td>\n      <td>256.230011</td>\n      <td>232.580002</td>\n      <td>240.153931</td>\n      <td>6575800.0</td>\n      <td>2.0</td>\n      <td>3.636390</td>\n      <td>232.397410</td>\n      <td>200.212953</td>\n      <td>61.279636</td>\n      <td>271.386086</td>\n      <td>46.806139</td>\n      <td>214.858661</td>\n      <td>215.931664</td>\n      <td>28.620001</td>\n      <td>53.068087</td>\n    </tr>\n    <tr>\n      <th>0</th>\n      <td>2020-07-01</td>\n      <td>AXP</td>\n      <td>95.250000</td>\n      <td>96.959999</td>\n      <td>93.639999</td>\n      <td>91.743050</td>\n      <td>3301000.0</td>\n      <td>2.0</td>\n      <td>-0.387711</td>\n      <td>110.012236</td>\n      <td>87.432136</td>\n      <td>48.504819</td>\n      <td>-66.321028</td>\n      <td>3.142448</td>\n      <td>96.882071</td>\n      <td>90.357377</td>\n      <td>28.620001</td>\n      <td>53.068087</td>\n    </tr>\n    <tr>\n      <th>0</th>\n      <td>2020-07-01</td>\n      <td>BA</td>\n      <td>185.880005</td>\n      <td>190.610001</td>\n      <td>180.039993</td>\n      <td>180.320007</td>\n      <td>49036700.0</td>\n      <td>2.0</td>\n      <td>5.443193</td>\n      <td>220.721139</td>\n      <td>160.932863</td>\n      <td>50.925771</td>\n      <td>24.220608</td>\n      <td>15.932920</td>\n      <td>176.472335</td>\n      <td>155.614168</td>\n      <td>28.620001</td>\n      <td>53.068087</td>\n    </tr>\n    <tr>\n      <th>0</th>\n      <td>2020-07-01</td>\n      <td>CAT</td>\n      <td>129.380005</td>\n      <td>129.399994</td>\n      <td>125.879997</td>\n      <td>119.817116</td>\n      <td>2807800.0</td>\n      <td>2.0</td>\n      <td>1.263827</td>\n      <td>129.720778</td>\n      <td>112.569081</td>\n      <td>52.865424</td>\n      <td>35.633554</td>\n      <td>14.457404</td>\n      <td>118.586879</td>\n      <td>112.860600</td>\n      <td>28.620001</td>\n      <td>53.068087</td>\n    </tr>\n  </tbody>\n</table>\n</div>"
     },
     "execution_count": 17,
     "metadata": {},
     "output_type": "execute_result"
    }
   ],
   "source": [
    "trade.head()"
   ]
  },
  {
   "cell_type": "code",
   "execution_count": 18,
   "metadata": {
    "colab": {
     "base_uri": "https://localhost:8080/"
    },
    "id": "zYN573SOHhxG",
    "outputId": "7f228183-abe3-4477-f574-3c9b25c62cd8",
    "pycharm": {
     "name": "#%%\n"
    }
   },
   "outputs": [
    {
     "data": {
      "text/plain": "['macd',\n 'boll_ub',\n 'boll_lb',\n 'rsi_30',\n 'cci_30',\n 'dx_30',\n 'close_30_sma',\n 'close_60_sma']"
     },
     "execution_count": 18,
     "metadata": {},
     "output_type": "execute_result"
    }
   ],
   "source": [
    "config.INDICATORS"
   ]
  },
  {
   "cell_type": "code",
   "execution_count": 19,
   "metadata": {
    "colab": {
     "base_uri": "https://localhost:8080/"
    },
    "id": "Q2zqII8rMIqn",
    "outputId": "1f54d044-e2d3-4a34-c041-e913d686654e",
    "pycharm": {
     "name": "#%%\n"
    }
   },
   "outputs": [
    {
     "name": "stdout",
     "output_type": "stream",
     "text": [
      "Stock Dimension: 29, State Space: 291\n"
     ]
    }
   ],
   "source": [
    "stock_dimension = len(train.tic.unique())\n",
    "state_space = 1 + 2*stock_dimension + len(config.INDICATORS)*stock_dimension\n",
    "print(f\"Stock Dimension: {stock_dimension}, State Space: {state_space}\")\n"
   ]
  },
  {
   "cell_type": "code",
   "execution_count": 21,
   "metadata": {
    "id": "AWyp84Ltto19",
    "pycharm": {
     "name": "#%%\n"
    }
   },
   "outputs": [],
   "source": [
    "env_kwargs = {\n",
    "    \"hmax\": 100, \n",
    "    # initial_amount = 1000000, and hold no shares at beginning.\n",
    "    #\"initial_list\": [1000000] + [0 for i in range(stock_dimension)],\n",
    "    \"initial_amount\": [1000000] + [0 for i in range(stock_dimension)],\n",
    "    \"num_stock_shares\": [0 for i in range(stock_dimension)],\n",
    "    # buy and sell cost for each stock\n",
    "    \"buy_cost_pct\": [0.001] * stock_dimension,\n",
    "    \"sell_cost_pct\": [0.001] * stock_dimension,\n",
    "    \"state_space\": state_space, \n",
    "    \"stock_dim\": stock_dimension, \n",
    "    \"tech_indicator_list\": config.INDICATORS, \n",
    "    \"action_space\": stock_dimension, \n",
    "    \"reward_scaling\": 1e-4\n",
    "    \n",
    "}\n",
    "\n",
    "e_train_gym = StockTradingEnv(df = train, **env_kwargs)"
   ]
  },
  {
   "cell_type": "markdown",
   "metadata": {
    "id": "64EoqOrQjiVf",
    "pycharm": {
     "name": "#%% md\n"
    }
   },
   "source": [
    "## Environment for Training\n",
    "\n"
   ]
  },
  {
   "cell_type": "code",
   "execution_count": 22,
   "metadata": {
    "colab": {
     "base_uri": "https://localhost:8080/"
    },
    "id": "xwSvvPjutpqS",
    "outputId": "deeaef07-afda-4ca1-fea8-99384224c7cf",
    "pycharm": {
     "name": "#%%\n"
    }
   },
   "outputs": [
    {
     "ename": "ValueError",
     "evalue": "setting an array element with a sequence. The requested array would exceed the maximum number of dimension of 1.",
     "output_type": "error",
     "traceback": [
      "\u001B[1;31m---------------------------------------------------------------------------\u001B[0m",
      "\u001B[1;31mValueError\u001B[0m                                Traceback (most recent call last)",
      "Input \u001B[1;32mIn [22]\u001B[0m, in \u001B[0;36m<cell line: 1>\u001B[1;34m()\u001B[0m\n\u001B[1;32m----> 1\u001B[0m env_train, _ \u001B[38;5;241m=\u001B[39m \u001B[43me_train_gym\u001B[49m\u001B[38;5;241;43m.\u001B[39;49m\u001B[43mget_sb_env\u001B[49m\u001B[43m(\u001B[49m\u001B[43m)\u001B[49m\n\u001B[0;32m      2\u001B[0m \u001B[38;5;28mprint\u001B[39m(\u001B[38;5;28mtype\u001B[39m(env_train))\n",
      "File \u001B[1;32m~\\github.com\\shankar-roy\\venv\\lib\\site-packages\\finrl\\finrl_meta\\env_stock_trading\\env_stocktrading.py:506\u001B[0m, in \u001B[0;36mStockTradingEnv.get_sb_env\u001B[1;34m(self)\u001B[0m\n\u001B[0;32m    504\u001B[0m \u001B[38;5;28;01mdef\u001B[39;00m \u001B[38;5;21mget_sb_env\u001B[39m(\u001B[38;5;28mself\u001B[39m):\n\u001B[0;32m    505\u001B[0m     e \u001B[38;5;241m=\u001B[39m DummyVecEnv([\u001B[38;5;28;01mlambda\u001B[39;00m: \u001B[38;5;28mself\u001B[39m])\n\u001B[1;32m--> 506\u001B[0m     obs \u001B[38;5;241m=\u001B[39m \u001B[43me\u001B[49m\u001B[38;5;241;43m.\u001B[39;49m\u001B[43mreset\u001B[49m\u001B[43m(\u001B[49m\u001B[43m)\u001B[49m\n\u001B[0;32m    507\u001B[0m     \u001B[38;5;28;01mreturn\u001B[39;00m e, obs\n",
      "File \u001B[1;32m~\\github.com\\shankar-roy\\venv\\lib\\site-packages\\stable_baselines3\\common\\vec_env\\dummy_vec_env.py:64\u001B[0m, in \u001B[0;36mDummyVecEnv.reset\u001B[1;34m(self)\u001B[0m\n\u001B[0;32m     62\u001B[0m \u001B[38;5;28;01mfor\u001B[39;00m env_idx \u001B[38;5;129;01min\u001B[39;00m \u001B[38;5;28mrange\u001B[39m(\u001B[38;5;28mself\u001B[39m\u001B[38;5;241m.\u001B[39mnum_envs):\n\u001B[0;32m     63\u001B[0m     obs \u001B[38;5;241m=\u001B[39m \u001B[38;5;28mself\u001B[39m\u001B[38;5;241m.\u001B[39menvs[env_idx]\u001B[38;5;241m.\u001B[39mreset()\n\u001B[1;32m---> 64\u001B[0m     \u001B[38;5;28;43mself\u001B[39;49m\u001B[38;5;241;43m.\u001B[39;49m\u001B[43m_save_obs\u001B[49m\u001B[43m(\u001B[49m\u001B[43menv_idx\u001B[49m\u001B[43m,\u001B[49m\u001B[43m \u001B[49m\u001B[43mobs\u001B[49m\u001B[43m)\u001B[49m\n\u001B[0;32m     65\u001B[0m \u001B[38;5;28;01mreturn\u001B[39;00m \u001B[38;5;28mself\u001B[39m\u001B[38;5;241m.\u001B[39m_obs_from_buf()\n",
      "File \u001B[1;32m~\\github.com\\shankar-roy\\venv\\lib\\site-packages\\stable_baselines3\\common\\vec_env\\dummy_vec_env.py:94\u001B[0m, in \u001B[0;36mDummyVecEnv._save_obs\u001B[1;34m(self, env_idx, obs)\u001B[0m\n\u001B[0;32m     92\u001B[0m \u001B[38;5;28;01mfor\u001B[39;00m key \u001B[38;5;129;01min\u001B[39;00m \u001B[38;5;28mself\u001B[39m\u001B[38;5;241m.\u001B[39mkeys:\n\u001B[0;32m     93\u001B[0m     \u001B[38;5;28;01mif\u001B[39;00m key \u001B[38;5;129;01mis\u001B[39;00m \u001B[38;5;28;01mNone\u001B[39;00m:\n\u001B[1;32m---> 94\u001B[0m         \u001B[38;5;28mself\u001B[39m\u001B[38;5;241m.\u001B[39mbuf_obs[key][env_idx] \u001B[38;5;241m=\u001B[39m obs\n\u001B[0;32m     95\u001B[0m     \u001B[38;5;28;01melse\u001B[39;00m:\n\u001B[0;32m     96\u001B[0m         \u001B[38;5;28mself\u001B[39m\u001B[38;5;241m.\u001B[39mbuf_obs[key][env_idx] \u001B[38;5;241m=\u001B[39m obs[key]\n",
      "\u001B[1;31mValueError\u001B[0m: setting an array element with a sequence. The requested array would exceed the maximum number of dimension of 1."
     ]
    }
   ],
   "source": [
    "env_train, _ = e_train_gym.get_sb_env()\n",
    "print(type(env_train))"
   ]
  },
  {
   "cell_type": "markdown",
   "metadata": {
    "id": "HMNR5nHjh1iz",
    "pycharm": {
     "name": "#%% md\n"
    }
   },
   "source": [
    "<a id='5'></a>\n",
    "# Part 6: Implement DRL Algorithms\n",
    "* The implementation of the DRL algorithms are based on **OpenAI Baselines** and **Stable Baselines**. Stable Baselines is a fork of OpenAI Baselines, with a major structural refactoring, and code cleanups.\n",
    "* FinRL library includes fine-tuned standard DRL algorithms, such as DQN, DDPG,\n",
    "Multi-Agent DDPG, PPO, SAC, A2C and TD3. We also allow users to\n",
    "design their own DRL algorithms by adapting these DRL algorithms."
   ]
  },
  {
   "cell_type": "code",
   "execution_count": null,
   "metadata": {
    "id": "364PsqckttcQ",
    "pycharm": {
     "name": "#%%\n"
    }
   },
   "outputs": [],
   "source": [
    "agent = DRLAgent(env = env_train)"
   ]
  },
  {
   "cell_type": "markdown",
   "metadata": {
    "id": "YDmqOyF9h1iz",
    "pycharm": {
     "name": "#%% md\n"
    }
   },
   "source": [
    "### Model Training: 5 models, A2C DDPG, PPO, TD3, SAC\n"
   ]
  },
  {
   "cell_type": "markdown",
   "metadata": {
    "id": "uijiWgkuh1jB",
    "pycharm": {
     "name": "#%% md\n"
    }
   },
   "source": [
    "### Model 1: A2C\n"
   ]
  },
  {
   "cell_type": "code",
   "execution_count": null,
   "metadata": {
    "colab": {
     "base_uri": "https://localhost:8080/"
    },
    "id": "GUCnkn-HIbmj",
    "outputId": "a90a7a60-21a5-47e1-b683-1f7cbb4b8bc0",
    "pycharm": {
     "name": "#%%\n"
    }
   },
   "outputs": [],
   "source": [
    "agent = DRLAgent(env = env_train)\n",
    "model_a2c = agent.get_model(\"a2c\")"
   ]
  },
  {
   "cell_type": "code",
   "execution_count": null,
   "metadata": {
    "colab": {
     "base_uri": "https://localhost:8080/",
     "height": 1000
    },
    "id": "0GVpkWGqH4-D",
    "outputId": "570d540f-abe9-402b-e0cc-f9b007228e8e",
    "pycharm": {
     "name": "#%%\n"
    }
   },
   "outputs": [],
   "source": [
    "trained_a2c = agent.train_model(model=model_a2c, \n",
    "                             tb_log_name='a2c',\n",
    "                             total_timesteps=50000)"
   ]
  },
  {
   "cell_type": "markdown",
   "metadata": {
    "id": "MRiOtrywfAo1",
    "pycharm": {
     "name": "#%% md\n"
    }
   },
   "source": [
    "### Model 2: DDPG"
   ]
  },
  {
   "cell_type": "code",
   "execution_count": null,
   "metadata": {
    "id": "M2YadjfnLwgt",
    "pycharm": {
     "name": "#%%\n"
    }
   },
   "outputs": [],
   "source": [
    "agent = DRLAgent(env = env_train)\n",
    "model_ddpg = agent.get_model(\"ddpg\")"
   ]
  },
  {
   "cell_type": "code",
   "execution_count": null,
   "metadata": {
    "id": "tCDa78rqfO_a",
    "jupyter": {
     "outputs_hidden": true
    },
    "pycharm": {
     "name": "#%%\n"
    }
   },
   "outputs": [],
   "source": [
    "trained_ddpg = agent.train_model(model=model_ddpg, \n",
    "                             tb_log_name='ddpg',\n",
    "                             total_timesteps=50000)"
   ]
  },
  {
   "cell_type": "markdown",
   "metadata": {
    "id": "_gDkU-j-fCmZ",
    "pycharm": {
     "name": "#%% md\n"
    }
   },
   "source": [
    "### Model 3: PPO"
   ]
  },
  {
   "cell_type": "code",
   "execution_count": null,
   "metadata": {
    "id": "y5D5PFUhMzSV",
    "pycharm": {
     "name": "#%%\n"
    }
   },
   "outputs": [],
   "source": [
    "agent = DRLAgent(env = env_train)\n",
    "PPO_PARAMS = {\n",
    "    \"n_steps\": 2048,\n",
    "    \"ent_coef\": 0.01,\n",
    "    \"learning_rate\": 0.00025,\n",
    "    \"batch_size\": 128,\n",
    "}\n",
    "model_ppo = agent.get_model(\"ppo\",model_kwargs = PPO_PARAMS)"
   ]
  },
  {
   "cell_type": "code",
   "execution_count": null,
   "metadata": {
    "id": "Gt8eIQKYM4G3",
    "jupyter": {
     "outputs_hidden": true
    },
    "pycharm": {
     "name": "#%%\n"
    }
   },
   "outputs": [],
   "source": [
    "trained_ppo = agent.train_model(model=model_ppo, \n",
    "                             tb_log_name='ppo',\n",
    "                             total_timesteps=50000)"
   ]
  },
  {
   "cell_type": "markdown",
   "metadata": {
    "id": "3Zpv4S0-fDBv",
    "pycharm": {
     "name": "#%% md\n"
    }
   },
   "source": [
    "### Model 4: TD3"
   ]
  },
  {
   "cell_type": "code",
   "execution_count": null,
   "metadata": {
    "id": "JSAHhV4Xc-bh",
    "pycharm": {
     "name": "#%%\n"
    }
   },
   "outputs": [],
   "source": [
    "agent = DRLAgent(env = env_train)\n",
    "TD3_PARAMS = {\"batch_size\": 100, \n",
    "              \"buffer_size\": 1000000, \n",
    "              \"learning_rate\": 0.001}\n",
    "\n",
    "model_td3 = agent.get_model(\"td3\",model_kwargs = TD3_PARAMS)"
   ]
  },
  {
   "cell_type": "code",
   "execution_count": null,
   "metadata": {
    "id": "OSRxNYAxdKpU",
    "pycharm": {
     "name": "#%%\n"
    }
   },
   "outputs": [],
   "source": [
    "trained_td3 = agent.train_model(model=model_td3, \n",
    "                             tb_log_name='td3',\n",
    "                             total_timesteps=30000)"
   ]
  },
  {
   "cell_type": "markdown",
   "metadata": {
    "id": "Dr49PotrfG01",
    "pycharm": {
     "name": "#%% md\n"
    }
   },
   "source": [
    "### Model 5: SAC"
   ]
  },
  {
   "cell_type": "code",
   "execution_count": null,
   "metadata": {
    "id": "xwOhVjqRkCdM",
    "pycharm": {
     "name": "#%%\n"
    }
   },
   "outputs": [],
   "source": [
    "agent = DRLAgent(env = env_train)\n",
    "SAC_PARAMS = {\n",
    "    \"batch_size\": 128,\n",
    "    \"buffer_size\": 1000000,\n",
    "    \"learning_rate\": 0.0001,\n",
    "    \"learning_starts\": 100,\n",
    "    \"ent_coef\": \"auto_0.1\",\n",
    "}\n",
    "\n",
    "model_sac = agent.get_model(\"sac\",model_kwargs = SAC_PARAMS)"
   ]
  },
  {
   "cell_type": "code",
   "execution_count": null,
   "metadata": {
    "id": "K8RSdKCckJyH",
    "pycharm": {
     "name": "#%%\n"
    }
   },
   "outputs": [],
   "source": [
    "trained_sac = agent.train_model(model=model_sac, \n",
    "                             tb_log_name='sac',\n",
    "                             total_timesteps=60000)"
   ]
  },
  {
   "cell_type": "markdown",
   "metadata": {
    "id": "f2wZgkQXh1jE",
    "pycharm": {
     "name": "#%% md\n"
    }
   },
   "source": [
    "## Trading\n",
    "Assume that we have $1,000,000 initial capital at 2020-07-01. We use the DDPG model to trade Dow jones 30 stocks."
   ]
  },
  {
   "cell_type": "markdown",
   "metadata": {
    "id": "bEv5KGC8h1jE",
    "pycharm": {
     "name": "#%% md\n"
    }
   },
   "source": [
    "### Set turbulence threshold\n",
    "Set the turbulence threshold to be greater than the maximum of insample turbulence data, if current turbulence index is greater than the threshold, then we assume that the current market is volatile"
   ]
  },
  {
   "cell_type": "code",
   "execution_count": null,
   "metadata": {
    "id": "efwBi84ch1jE",
    "pycharm": {
     "name": "#%%\n"
    }
   },
   "outputs": [],
   "source": [
    "data_risk_indicator = processed_full[(processed_full.date<'2020-07-01') & (processed_full.date>='2009-01-01')]\n",
    "insample_risk_indicator = data_risk_indicator.drop_duplicates(subset=['date'])"
   ]
  },
  {
   "cell_type": "code",
   "execution_count": null,
   "metadata": {
    "id": "VHZMBpSqh1jG",
    "pycharm": {
     "name": "#%%\n"
    }
   },
   "outputs": [],
   "source": [
    "insample_risk_indicator.vix.describe()"
   ]
  },
  {
   "cell_type": "code",
   "execution_count": null,
   "metadata": {
    "id": "BDkszkMloRWT",
    "pycharm": {
     "name": "#%%\n"
    }
   },
   "outputs": [],
   "source": [
    "insample_risk_indicator.vix.quantile(0.996)"
   ]
  },
  {
   "cell_type": "code",
   "execution_count": null,
   "metadata": {
    "id": "AL7hs7svnNWT",
    "pycharm": {
     "name": "#%%\n"
    }
   },
   "outputs": [],
   "source": [
    "insample_risk_indicator.turbulence.describe()"
   ]
  },
  {
   "cell_type": "code",
   "execution_count": null,
   "metadata": {
    "id": "N78hfHckoqJ9",
    "pycharm": {
     "name": "#%%\n"
    }
   },
   "outputs": [],
   "source": [
    "insample_risk_indicator.turbulence.quantile(0.996)"
   ]
  },
  {
   "cell_type": "markdown",
   "metadata": {
    "id": "U5mmgQF_h1jQ",
    "pycharm": {
     "name": "#%% md\n"
    }
   },
   "source": [
    "### Trade\n",
    "\n",
    "DRL model needs to update periodically in order to take full advantage of the data, ideally we need to retrain our model yearly, quarterly, or monthly. We also need to tune the parameters along the way, in this notebook I only use the in-sample data from 2009-01 to 2020-07 to tune the parameters once, so there is some alpha decay here as the length of trade date extends. \n",
    "\n",
    "Numerous hyperparameters – e.g. the learning rate, the total number of samples to train on – influence the learning process and are usually determined by testing some variations."
   ]
  },
  {
   "cell_type": "code",
   "execution_count": null,
   "metadata": {
    "id": "cIqoV0GSI52v",
    "pycharm": {
     "name": "#%%\n"
    }
   },
   "outputs": [],
   "source": [
    "#trade = data_split(processed_full, '2020-07-01','2021-10-31')\n",
    "e_trade_gym = StockTradingEnv(df = trade, turbulence_threshold = 70,risk_indicator_col='vix', **env_kwargs)\n",
    "# env_trade, obs_trade = e_trade_gym.get_sb_env()"
   ]
  },
  {
   "cell_type": "code",
   "execution_count": null,
   "metadata": {
    "id": "W_XNgGsBMeVw",
    "pycharm": {
     "name": "#%%\n"
    }
   },
   "outputs": [],
   "source": [
    "trade.head()"
   ]
  },
  {
   "cell_type": "code",
   "execution_count": null,
   "metadata": {
    "id": "eLOnL5eYh1jR",
    "pycharm": {
     "name": "#%%\n"
    }
   },
   "outputs": [],
   "source": [
    "df_account_value, df_actions = DRLAgent.DRL_prediction(\n",
    "    model=trained_sac, \n",
    "    environment = e_trade_gym)"
   ]
  },
  {
   "cell_type": "code",
   "execution_count": null,
   "metadata": {
    "id": "ERxw3KqLkcP4",
    "pycharm": {
     "name": "#%%\n"
    }
   },
   "outputs": [],
   "source": [
    "df_account_value.shape"
   ]
  },
  {
   "cell_type": "code",
   "execution_count": null,
   "metadata": {
    "id": "2yRkNguY5yvp",
    "pycharm": {
     "name": "#%%\n"
    }
   },
   "outputs": [],
   "source": [
    "df_account_value.tail()"
   ]
  },
  {
   "cell_type": "code",
   "execution_count": null,
   "metadata": {
    "id": "nFlK5hNbWVFk",
    "pycharm": {
     "name": "#%%\n"
    }
   },
   "outputs": [],
   "source": [
    "df_actions.head()"
   ]
  },
  {
   "cell_type": "markdown",
   "metadata": {
    "id": "W6vvNSC6h1jZ",
    "pycharm": {
     "name": "#%% md\n"
    }
   },
   "source": [
    "<a id='6'></a>\n",
    "# Part 7: Backtest Our Strategy\n",
    "Backtesting plays a key role in evaluating the performance of a trading strategy. Automated backtesting tool is preferred because it reduces the human error. We usually use the Quantopian pyfolio package to backtest our trading strategies. It is easy to use and consists of various individual plots that provide a comprehensive image of the performance of a trading strategy."
   ]
  },
  {
   "cell_type": "markdown",
   "metadata": {
    "id": "Lr2zX7ZxNyFQ",
    "pycharm": {
     "name": "#%% md\n"
    }
   },
   "source": [
    "<a id='6.1'></a>\n",
    "## 7.1 BackTestStats\n",
    "pass in df_account_value, this information is stored in env class\n"
   ]
  },
  {
   "cell_type": "code",
   "execution_count": null,
   "metadata": {
    "id": "Nzkr9yv-AdV_",
    "pycharm": {
     "name": "#%%\n"
    }
   },
   "outputs": [],
   "source": [
    "print(\"==============Get Backtest Results===========\")\n",
    "now = datetime.datetime.now().strftime('%Y%m%d-%Hh%M')\n",
    "\n",
    "perf_stats_all = backtest_stats(account_value=df_account_value)\n",
    "perf_stats_all = pd.DataFrame(perf_stats_all)\n",
    "perf_stats_all.to_csv(\"./\"+config.RESULTS_DIR+\"/perf_stats_all_\"+now+'.csv')"
   ]
  },
  {
   "cell_type": "code",
   "execution_count": null,
   "metadata": {
    "id": "QkV-LB66iwhD",
    "pycharm": {
     "name": "#%%\n"
    }
   },
   "outputs": [],
   "source": [
    "#baseline stats\n",
    "print(\"==============Get Baseline Stats===========\")\n",
    "baseline_df = get_baseline(\n",
    "        ticker=\"^DJI\", \n",
    "        start = df_account_value.loc[0,'date'],\n",
    "        end = df_account_value.loc[len(df_account_value)-1,'date'])\n",
    "\n",
    "stats = backtest_stats(baseline_df, value_col_name = 'close')\n"
   ]
  },
  {
   "cell_type": "code",
   "execution_count": null,
   "metadata": {
    "id": "qg1kvfemrrQH",
    "pycharm": {
     "name": "#%%\n"
    }
   },
   "outputs": [],
   "source": [
    "df_account_value.loc[0,'date']"
   ]
  },
  {
   "cell_type": "code",
   "execution_count": null,
   "metadata": {
    "id": "tt1bzL5OrsTa",
    "pycharm": {
     "name": "#%%\n"
    }
   },
   "outputs": [],
   "source": [
    "df_account_value.loc[len(df_account_value)-1,'date']"
   ]
  },
  {
   "cell_type": "markdown",
   "metadata": {
    "id": "9U6Suru3h1jc",
    "pycharm": {
     "name": "#%% md\n"
    }
   },
   "source": [
    "<a id='6.2'></a>\n",
    "## 7.2 BackTestPlot"
   ]
  },
  {
   "cell_type": "code",
   "execution_count": null,
   "metadata": {
    "id": "lKRGftSS7pNM",
    "pycharm": {
     "name": "#%%\n"
    }
   },
   "outputs": [],
   "source": [
    "print(\"==============Compare to DJIA===========\")\n",
    "%matplotlib inline\n",
    "# S&P 500: ^GSPC\n",
    "# Dow Jones Index: ^DJI\n",
    "# NASDAQ 100: ^NDX\n",
    "backtest_plot(df_account_value, \n",
    "             baseline_ticker = '^DJI', \n",
    "             baseline_start = df_account_value.loc[0,'date'],\n",
    "             baseline_end = df_account_value.loc[len(df_account_value)-1,'date'])"
   ]
  },
  {
   "cell_type": "code",
   "execution_count": null,
   "metadata": {
    "id": "BzBaE63H3RLc",
    "pycharm": {
     "name": "#%%\n"
    }
   },
   "outputs": [],
   "source": []
  },
  {
   "cell_type": "code",
   "execution_count": null,
   "metadata": {
    "id": "ZYeOjax-7H_5",
    "pycharm": {
     "name": "#%%\n"
    }
   },
   "outputs": [],
   "source": []
  }
 ],
 "metadata": {
  "colab": {
   "collapsed_sections": [
    "Uy5_PTmOh1hj",
    "_gDkU-j-fCmZ",
    "3Zpv4S0-fDBv"
   ],
   "include_colab_link": true,
   "name": "FinRL_StockTrading_NeurIPS_2018.ipynb",
   "provenance": []
  },
  "kernelspec": {
   "display_name": "Python 3",
   "language": "python",
   "name": "python3"
  },
  "language_info": {
   "codemirror_mode": {
    "name": "ipython",
    "version": 3
   },
   "file_extension": ".py",
   "mimetype": "text/x-python",
   "name": "python",
   "nbconvert_exporter": "python",
   "pygments_lexer": "ipython3",
   "version": "3.7.11"
  }
 },
 "nbformat": 4,
 "nbformat_minor": 0
}